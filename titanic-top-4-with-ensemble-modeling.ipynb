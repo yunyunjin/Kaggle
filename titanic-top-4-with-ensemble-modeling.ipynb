{
 "cells": [
  {
   "cell_type": "markdown",
   "id": "dd22fb6f",
   "metadata": {
    "papermill": {
     "duration": 0.060326,
     "end_time": "2022-05-20T07:38:44.604709",
     "exception": false,
     "start_time": "2022-05-20T07:38:44.544383",
     "status": "completed"
    },
    "tags": []
   },
   "source": [
    "## 1. Main\n",
    "\n",
    "* Feature analysis\n",
    "* Feature engineering\n",
    "* Modeling"
   ]
  },
  {
   "cell_type": "code",
   "execution_count": 1,
   "id": "270c36fe",
   "metadata": {
    "_cell_guid": "b1076dfc-b9ad-4769-8c92-a6c4dae69d19",
    "_uuid": "8f2839f25d086af736a60e9eeb907d3b93b6e0e5",
    "execution": {
     "iopub.execute_input": "2022-05-20T07:38:44.724759Z",
     "iopub.status.busy": "2022-05-20T07:38:44.724211Z",
     "iopub.status.idle": "2022-05-20T07:38:46.615660Z",
     "shell.execute_reply": "2022-05-20T07:38:46.615076Z"
    },
    "papermill": {
     "duration": 1.954524,
     "end_time": "2022-05-20T07:38:46.618249",
     "exception": false,
     "start_time": "2022-05-20T07:38:44.663725",
     "status": "completed"
    },
    "tags": []
   },
   "outputs": [],
   "source": [
    "import pandas as pd\n",
    "import numpy as np\n",
    "import matplotlib.pyplot as plt\n",
    "import seaborn as sns\n",
    "%matplotlib inline\n",
    "\n",
    "from collections import Counter\n",
    "\n",
    "from sklearn.ensemble import RandomForestClassifier, AdaBoostClassifier, GradientBoostingClassifier, ExtraTreesClassifier, VotingClassifier\n",
    "from sklearn.discriminant_analysis import LinearDiscriminantAnalysis\n",
    "from sklearn.linear_model import LogisticRegression\n",
    "from sklearn.neighbors import KNeighborsClassifier\n",
    "from sklearn.tree import DecisionTreeClassifier\n",
    "from sklearn.neural_network import MLPClassifier\n",
    "from sklearn.svm import SVC\n",
    "from sklearn.model_selection import GridSearchCV, cross_val_score, StratifiedKFold, learning_curve\n",
    "\n",
    "sns.set(style='white', context='notebook', palette='deep')"
   ]
  },
  {
   "cell_type": "markdown",
   "id": "1f799dde",
   "metadata": {
    "papermill": {
     "duration": 0.058688,
     "end_time": "2022-05-20T07:38:46.740147",
     "exception": false,
     "start_time": "2022-05-20T07:38:46.681459",
     "status": "completed"
    },
    "tags": []
   },
   "source": [
    "## 2. Load and check data"
   ]
  },
  {
   "cell_type": "markdown",
   "id": "bac76772",
   "metadata": {
    "papermill": {
     "duration": 0.059458,
     "end_time": "2022-05-20T07:38:46.859901",
     "exception": false,
     "start_time": "2022-05-20T07:38:46.800443",
     "status": "completed"
    },
    "tags": []
   },
   "source": [
    "### 2.1 Load data"
   ]
  },
  {
   "cell_type": "code",
   "execution_count": 2,
   "id": "a68d78e4",
   "metadata": {
    "execution": {
     "iopub.execute_input": "2022-05-20T07:38:46.979683Z",
     "iopub.status.busy": "2022-05-20T07:38:46.979242Z",
     "iopub.status.idle": "2022-05-20T07:38:47.018962Z",
     "shell.execute_reply": "2022-05-20T07:38:47.018134Z"
    },
    "papermill": {
     "duration": 0.102508,
     "end_time": "2022-05-20T07:38:47.021634",
     "exception": false,
     "start_time": "2022-05-20T07:38:46.919126",
     "status": "completed"
    },
    "tags": []
   },
   "outputs": [],
   "source": [
    "# Load\n",
    "\n",
    "train = pd.read_csv(\"../input/titanic/train.csv\")\n",
    "test = pd.read_csv(\"../input/titanic/test.csv\")\n",
    "IDtest = test['PassengerId']\n"
   ]
  },
  {
   "cell_type": "markdown",
   "id": "0288c663",
   "metadata": {
    "papermill": {
     "duration": 0.058655,
     "end_time": "2022-05-20T07:38:47.141958",
     "exception": false,
     "start_time": "2022-05-20T07:38:47.083303",
     "status": "completed"
    },
    "tags": []
   },
   "source": [
    "### 2.2 Outlier detection"
   ]
  },
  {
   "cell_type": "code",
   "execution_count": 3,
   "id": "ef0454c8",
   "metadata": {
    "execution": {
     "iopub.execute_input": "2022-05-20T07:38:47.262114Z",
     "iopub.status.busy": "2022-05-20T07:38:47.261570Z",
     "iopub.status.idle": "2022-05-20T07:38:47.279433Z",
     "shell.execute_reply": "2022-05-20T07:38:47.278809Z"
    },
    "papermill": {
     "duration": 0.080752,
     "end_time": "2022-05-20T07:38:47.281735",
     "exception": false,
     "start_time": "2022-05-20T07:38:47.200983",
     "status": "completed"
    },
    "tags": []
   },
   "outputs": [],
   "source": [
    "# Outlier detection \n",
    "\n",
    "def detect_outliers(df,n,features):\n",
    "    \"\"\"\n",
    "    Takes a dataframe df of features and returns a list of the indices\n",
    "    corresponding to the observations containing more than n outliers according\n",
    "    to the Tukey method.\n",
    "    \"\"\"\n",
    "    outlier_indices = []\n",
    "    \n",
    "    # iterate over features(columns)\n",
    "    for col in features:\n",
    "        # 1st quartile (25%)\n",
    "        Q1 = np.percentile(df[col], 25)\n",
    "        # 3rd quartile (75%)\n",
    "        Q3 = np.percentile(df[col],75)\n",
    "        # Interquartile range (IQR)\n",
    "        IQR = Q3 - Q1\n",
    "        \n",
    "        # outlier step\n",
    "        outlier_step = 1.5 * IQR\n",
    "        \n",
    "        # Determine a list of indices of outliers for feature col\n",
    "        outlier_list_col = df[(df[col] < Q1 - outlier_step) | (df[col] > Q3 + outlier_step )].index\n",
    "        \n",
    "        # append the found outlier indices for col to the list of outlier indices \n",
    "        outlier_indices.extend(outlier_list_col)\n",
    "        \n",
    "    # select observations containing more than 2 outliers\n",
    "    outlier_indices = Counter(outlier_indices)        \n",
    "    multiple_outliers = list( k for k, v in outlier_indices.items() if v > n )\n",
    "    \n",
    "    return multiple_outliers   \n",
    "\n",
    "# detect outliers from Age, SibSp , Parch and Fare\n",
    "Outliers_to_drop = detect_outliers(train,2,[\"Age\",\"SibSp\",\"Parch\",\"Fare\"])\n",
    "    \n",
    "    \n",
    "    "
   ]
  },
  {
   "cell_type": "code",
   "execution_count": 4,
   "id": "910e820a",
   "metadata": {
    "execution": {
     "iopub.execute_input": "2022-05-20T07:38:47.402514Z",
     "iopub.status.busy": "2022-05-20T07:38:47.402050Z",
     "iopub.status.idle": "2022-05-20T07:38:47.409258Z",
     "shell.execute_reply": "2022-05-20T07:38:47.408652Z"
    },
    "papermill": {
     "duration": 0.069838,
     "end_time": "2022-05-20T07:38:47.411627",
     "exception": false,
     "start_time": "2022-05-20T07:38:47.341789",
     "status": "completed"
    },
    "tags": []
   },
   "outputs": [
    {
     "data": {
      "text/plain": [
       "Index(['PassengerId', 'Survived', 'Pclass', 'Name', 'Sex', 'Age', 'SibSp',\n",
       "       'Parch', 'Ticket', 'Fare', 'Cabin', 'Embarked'],\n",
       "      dtype='object')"
      ]
     },
     "execution_count": 4,
     "metadata": {},
     "output_type": "execute_result"
    }
   ],
   "source": [
    "train.columns"
   ]
  },
  {
   "cell_type": "markdown",
   "id": "4015c96c",
   "metadata": {
    "papermill": {
     "duration": 0.059272,
     "end_time": "2022-05-20T07:38:47.531961",
     "exception": false,
     "start_time": "2022-05-20T07:38:47.472689",
     "status": "completed"
    },
    "tags": []
   },
   "source": [
    "* 분포 값(IQR)의 첫 번째 사분위수와 세 번째 사분위수 사이에 포함된 사분위간 범위를 정의하는 outlier를 탐지하기 위해 Tukey 방법(Tukey JW., 1977)을 사용.\n",
    "* numerical value features 사용(Age, SibSp, Sarch and Fare)"
   ]
  },
  {
   "cell_type": "code",
   "execution_count": 5,
   "id": "201064ac",
   "metadata": {
    "execution": {
     "iopub.execute_input": "2022-05-20T07:38:47.652588Z",
     "iopub.status.busy": "2022-05-20T07:38:47.652191Z",
     "iopub.status.idle": "2022-05-20T07:38:47.672139Z",
     "shell.execute_reply": "2022-05-20T07:38:47.671505Z"
    },
    "papermill": {
     "duration": 0.082838,
     "end_time": "2022-05-20T07:38:47.674435",
     "exception": false,
     "start_time": "2022-05-20T07:38:47.591597",
     "status": "completed"
    },
    "tags": []
   },
   "outputs": [
    {
     "data": {
      "text/html": [
       "<div>\n",
       "<style scoped>\n",
       "    .dataframe tbody tr th:only-of-type {\n",
       "        vertical-align: middle;\n",
       "    }\n",
       "\n",
       "    .dataframe tbody tr th {\n",
       "        vertical-align: top;\n",
       "    }\n",
       "\n",
       "    .dataframe thead th {\n",
       "        text-align: right;\n",
       "    }\n",
       "</style>\n",
       "<table border=\"1\" class=\"dataframe\">\n",
       "  <thead>\n",
       "    <tr style=\"text-align: right;\">\n",
       "      <th></th>\n",
       "      <th>PassengerId</th>\n",
       "      <th>Survived</th>\n",
       "      <th>Pclass</th>\n",
       "      <th>Name</th>\n",
       "      <th>Sex</th>\n",
       "      <th>Age</th>\n",
       "      <th>SibSp</th>\n",
       "      <th>Parch</th>\n",
       "      <th>Ticket</th>\n",
       "      <th>Fare</th>\n",
       "      <th>Cabin</th>\n",
       "      <th>Embarked</th>\n",
       "    </tr>\n",
       "  </thead>\n",
       "  <tbody>\n",
       "    <tr>\n",
       "      <th>27</th>\n",
       "      <td>28</td>\n",
       "      <td>0</td>\n",
       "      <td>1</td>\n",
       "      <td>Fortune, Mr. Charles Alexander</td>\n",
       "      <td>male</td>\n",
       "      <td>19.0</td>\n",
       "      <td>3</td>\n",
       "      <td>2</td>\n",
       "      <td>19950</td>\n",
       "      <td>263.00</td>\n",
       "      <td>C23 C25 C27</td>\n",
       "      <td>S</td>\n",
       "    </tr>\n",
       "    <tr>\n",
       "      <th>88</th>\n",
       "      <td>89</td>\n",
       "      <td>1</td>\n",
       "      <td>1</td>\n",
       "      <td>Fortune, Miss. Mabel Helen</td>\n",
       "      <td>female</td>\n",
       "      <td>23.0</td>\n",
       "      <td>3</td>\n",
       "      <td>2</td>\n",
       "      <td>19950</td>\n",
       "      <td>263.00</td>\n",
       "      <td>C23 C25 C27</td>\n",
       "      <td>S</td>\n",
       "    </tr>\n",
       "    <tr>\n",
       "      <th>159</th>\n",
       "      <td>160</td>\n",
       "      <td>0</td>\n",
       "      <td>3</td>\n",
       "      <td>Sage, Master. Thomas Henry</td>\n",
       "      <td>male</td>\n",
       "      <td>NaN</td>\n",
       "      <td>8</td>\n",
       "      <td>2</td>\n",
       "      <td>CA. 2343</td>\n",
       "      <td>69.55</td>\n",
       "      <td>NaN</td>\n",
       "      <td>S</td>\n",
       "    </tr>\n",
       "    <tr>\n",
       "      <th>180</th>\n",
       "      <td>181</td>\n",
       "      <td>0</td>\n",
       "      <td>3</td>\n",
       "      <td>Sage, Miss. Constance Gladys</td>\n",
       "      <td>female</td>\n",
       "      <td>NaN</td>\n",
       "      <td>8</td>\n",
       "      <td>2</td>\n",
       "      <td>CA. 2343</td>\n",
       "      <td>69.55</td>\n",
       "      <td>NaN</td>\n",
       "      <td>S</td>\n",
       "    </tr>\n",
       "    <tr>\n",
       "      <th>201</th>\n",
       "      <td>202</td>\n",
       "      <td>0</td>\n",
       "      <td>3</td>\n",
       "      <td>Sage, Mr. Frederick</td>\n",
       "      <td>male</td>\n",
       "      <td>NaN</td>\n",
       "      <td>8</td>\n",
       "      <td>2</td>\n",
       "      <td>CA. 2343</td>\n",
       "      <td>69.55</td>\n",
       "      <td>NaN</td>\n",
       "      <td>S</td>\n",
       "    </tr>\n",
       "    <tr>\n",
       "      <th>324</th>\n",
       "      <td>325</td>\n",
       "      <td>0</td>\n",
       "      <td>3</td>\n",
       "      <td>Sage, Mr. George John Jr</td>\n",
       "      <td>male</td>\n",
       "      <td>NaN</td>\n",
       "      <td>8</td>\n",
       "      <td>2</td>\n",
       "      <td>CA. 2343</td>\n",
       "      <td>69.55</td>\n",
       "      <td>NaN</td>\n",
       "      <td>S</td>\n",
       "    </tr>\n",
       "    <tr>\n",
       "      <th>341</th>\n",
       "      <td>342</td>\n",
       "      <td>1</td>\n",
       "      <td>1</td>\n",
       "      <td>Fortune, Miss. Alice Elizabeth</td>\n",
       "      <td>female</td>\n",
       "      <td>24.0</td>\n",
       "      <td>3</td>\n",
       "      <td>2</td>\n",
       "      <td>19950</td>\n",
       "      <td>263.00</td>\n",
       "      <td>C23 C25 C27</td>\n",
       "      <td>S</td>\n",
       "    </tr>\n",
       "    <tr>\n",
       "      <th>792</th>\n",
       "      <td>793</td>\n",
       "      <td>0</td>\n",
       "      <td>3</td>\n",
       "      <td>Sage, Miss. Stella Anna</td>\n",
       "      <td>female</td>\n",
       "      <td>NaN</td>\n",
       "      <td>8</td>\n",
       "      <td>2</td>\n",
       "      <td>CA. 2343</td>\n",
       "      <td>69.55</td>\n",
       "      <td>NaN</td>\n",
       "      <td>S</td>\n",
       "    </tr>\n",
       "    <tr>\n",
       "      <th>846</th>\n",
       "      <td>847</td>\n",
       "      <td>0</td>\n",
       "      <td>3</td>\n",
       "      <td>Sage, Mr. Douglas Bullen</td>\n",
       "      <td>male</td>\n",
       "      <td>NaN</td>\n",
       "      <td>8</td>\n",
       "      <td>2</td>\n",
       "      <td>CA. 2343</td>\n",
       "      <td>69.55</td>\n",
       "      <td>NaN</td>\n",
       "      <td>S</td>\n",
       "    </tr>\n",
       "    <tr>\n",
       "      <th>863</th>\n",
       "      <td>864</td>\n",
       "      <td>0</td>\n",
       "      <td>3</td>\n",
       "      <td>Sage, Miss. Dorothy Edith \"Dolly\"</td>\n",
       "      <td>female</td>\n",
       "      <td>NaN</td>\n",
       "      <td>8</td>\n",
       "      <td>2</td>\n",
       "      <td>CA. 2343</td>\n",
       "      <td>69.55</td>\n",
       "      <td>NaN</td>\n",
       "      <td>S</td>\n",
       "    </tr>\n",
       "  </tbody>\n",
       "</table>\n",
       "</div>"
      ],
      "text/plain": [
       "     PassengerId  Survived  Pclass                               Name     Sex  \\\n",
       "27            28         0       1     Fortune, Mr. Charles Alexander    male   \n",
       "88            89         1       1         Fortune, Miss. Mabel Helen  female   \n",
       "159          160         0       3         Sage, Master. Thomas Henry    male   \n",
       "180          181         0       3       Sage, Miss. Constance Gladys  female   \n",
       "201          202         0       3                Sage, Mr. Frederick    male   \n",
       "324          325         0       3           Sage, Mr. George John Jr    male   \n",
       "341          342         1       1     Fortune, Miss. Alice Elizabeth  female   \n",
       "792          793         0       3            Sage, Miss. Stella Anna  female   \n",
       "846          847         0       3           Sage, Mr. Douglas Bullen    male   \n",
       "863          864         0       3  Sage, Miss. Dorothy Edith \"Dolly\"  female   \n",
       "\n",
       "      Age  SibSp  Parch    Ticket    Fare        Cabin Embarked  \n",
       "27   19.0      3      2     19950  263.00  C23 C25 C27        S  \n",
       "88   23.0      3      2     19950  263.00  C23 C25 C27        S  \n",
       "159   NaN      8      2  CA. 2343   69.55          NaN        S  \n",
       "180   NaN      8      2  CA. 2343   69.55          NaN        S  \n",
       "201   NaN      8      2  CA. 2343   69.55          NaN        S  \n",
       "324   NaN      8      2  CA. 2343   69.55          NaN        S  \n",
       "341  24.0      3      2     19950  263.00  C23 C25 C27        S  \n",
       "792   NaN      8      2  CA. 2343   69.55          NaN        S  \n",
       "846   NaN      8      2  CA. 2343   69.55          NaN        S  \n",
       "863   NaN      8      2  CA. 2343   69.55          NaN        S  "
      ]
     },
     "execution_count": 5,
     "metadata": {},
     "output_type": "execute_result"
    }
   ],
   "source": [
    "# Show outlier row\n",
    "train.loc[Outliers_to_drop]"
   ]
  },
  {
   "cell_type": "markdown",
   "id": "5a7ccec3",
   "metadata": {
    "papermill": {
     "duration": 0.061369,
     "end_time": "2022-05-20T07:38:47.796331",
     "exception": false,
     "start_time": "2022-05-20T07:38:47.734962",
     "status": "completed"
    },
    "tags": []
   },
   "source": [
    "**10 outliers**\n",
    "* passenger 28, 89, 342 have an high Ticket Fare\n",
    "* othes have very high in SibSP.\n",
    "\n"
   ]
  },
  {
   "cell_type": "code",
   "execution_count": 6,
   "id": "478acce6",
   "metadata": {
    "execution": {
     "iopub.execute_input": "2022-05-20T07:38:47.922817Z",
     "iopub.status.busy": "2022-05-20T07:38:47.922395Z",
     "iopub.status.idle": "2022-05-20T07:38:47.927411Z",
     "shell.execute_reply": "2022-05-20T07:38:47.926599Z"
    },
    "papermill": {
     "duration": 0.070867,
     "end_time": "2022-05-20T07:38:47.929787",
     "exception": false,
     "start_time": "2022-05-20T07:38:47.858920",
     "status": "completed"
    },
    "tags": []
   },
   "outputs": [],
   "source": [
    "# Drop outliers\n",
    "train = train.drop(Outliers_to_drop, axis = 0).reset_index(drop=True)"
   ]
  },
  {
   "cell_type": "markdown",
   "id": "2ecfce46",
   "metadata": {
    "papermill": {
     "duration": 0.060791,
     "end_time": "2022-05-20T07:38:48.051504",
     "exception": false,
     "start_time": "2022-05-20T07:38:47.990713",
     "status": "completed"
    },
    "tags": []
   },
   "source": [
    "**reset_index**\n",
    "\n",
    "인덱스 초기화하고 재배열해주는 함수, 데이터 전처리 하다보면 인덱스 뒤죽박죽됨.\n",
    "\n",
    "* drop = True 기존 인덱스 버리고 재배열\n",
    "* inplace = True "
   ]
  },
  {
   "cell_type": "markdown",
   "id": "9c727ab8",
   "metadata": {
    "papermill": {
     "duration": 0.060789,
     "end_time": "2022-05-20T07:38:48.173550",
     "exception": false,
     "start_time": "2022-05-20T07:38:48.112761",
     "status": "completed"
    },
    "tags": []
   },
   "source": [
    "### 2.3 joining train and test set"
   ]
  },
  {
   "cell_type": "code",
   "execution_count": 7,
   "id": "78800774",
   "metadata": {
    "execution": {
     "iopub.execute_input": "2022-05-20T07:38:48.297174Z",
     "iopub.status.busy": "2022-05-20T07:38:48.296760Z",
     "iopub.status.idle": "2022-05-20T07:38:48.307475Z",
     "shell.execute_reply": "2022-05-20T07:38:48.306612Z"
    },
    "papermill": {
     "duration": 0.075297,
     "end_time": "2022-05-20T07:38:48.309986",
     "exception": false,
     "start_time": "2022-05-20T07:38:48.234689",
     "status": "completed"
    },
    "tags": []
   },
   "outputs": [],
   "source": [
    "# concatenating dataframes\n",
    "# 데이터프레임 합치기\n",
    "\n",
    "train_len = len(train)\n",
    "dataset = pd.concat(objs=[train, test], axis=0).reset_index(drop=True)"
   ]
  },
  {
   "cell_type": "markdown",
   "id": "ae331faf",
   "metadata": {
    "papermill": {
     "duration": 0.060277,
     "end_time": "2022-05-20T07:38:48.431479",
     "exception": false,
     "start_time": "2022-05-20T07:38:48.371202",
     "status": "completed"
    },
    "tags": []
   },
   "source": [
    "### 2.4 check for null and missing values"
   ]
  },
  {
   "cell_type": "code",
   "execution_count": 8,
   "id": "44c68aa6",
   "metadata": {
    "execution": {
     "iopub.execute_input": "2022-05-20T07:38:48.555699Z",
     "iopub.status.busy": "2022-05-20T07:38:48.555263Z",
     "iopub.status.idle": "2022-05-20T07:38:48.563957Z",
     "shell.execute_reply": "2022-05-20T07:38:48.563354Z"
    },
    "papermill": {
     "duration": 0.07245,
     "end_time": "2022-05-20T07:38:48.565834",
     "exception": false,
     "start_time": "2022-05-20T07:38:48.493384",
     "status": "completed"
    },
    "tags": []
   },
   "outputs": [
    {
     "data": {
      "text/plain": [
       "PassengerId       0\n",
       "Survived        418\n",
       "Pclass            0\n",
       "Name              0\n",
       "Sex               0\n",
       "Age             256\n",
       "SibSp             0\n",
       "Parch             0\n",
       "Ticket            0\n",
       "Fare              1\n",
       "Cabin          1007\n",
       "Embarked          2\n",
       "dtype: int64"
      ]
     },
     "execution_count": 8,
     "metadata": {},
     "output_type": "execute_result"
    }
   ],
   "source": [
    "# Fill empty and NaNs values with NaN\n",
    "dataset = dataset.fillna(np.nan)\n",
    "\n",
    "# Check for Null values\n",
    "dataset.isnull().sum()"
   ]
  },
  {
   "cell_type": "markdown",
   "id": "b554c4b9",
   "metadata": {
    "papermill": {
     "duration": 0.060609,
     "end_time": "2022-05-20T07:38:48.687448",
     "exception": false,
     "start_time": "2022-05-20T07:38:48.626839",
     "status": "completed"
    },
    "tags": []
   },
   "source": [
    "결측치에서 Age와 Cabin이 중요한 피처임을 확인"
   ]
  },
  {
   "cell_type": "code",
   "execution_count": 9,
   "id": "c811633d",
   "metadata": {
    "execution": {
     "iopub.execute_input": "2022-05-20T07:38:48.813177Z",
     "iopub.status.busy": "2022-05-20T07:38:48.812705Z",
     "iopub.status.idle": "2022-05-20T07:38:48.834638Z",
     "shell.execute_reply": "2022-05-20T07:38:48.833880Z"
    },
    "papermill": {
     "duration": 0.089618,
     "end_time": "2022-05-20T07:38:48.838317",
     "exception": false,
     "start_time": "2022-05-20T07:38:48.748699",
     "status": "completed"
    },
    "tags": []
   },
   "outputs": [
    {
     "name": "stdout",
     "output_type": "stream",
     "text": [
      "<class 'pandas.core.frame.DataFrame'>\n",
      "RangeIndex: 881 entries, 0 to 880\n",
      "Data columns (total 12 columns):\n",
      " #   Column       Non-Null Count  Dtype  \n",
      "---  ------       --------------  -----  \n",
      " 0   PassengerId  881 non-null    int64  \n",
      " 1   Survived     881 non-null    int64  \n",
      " 2   Pclass       881 non-null    int64  \n",
      " 3   Name         881 non-null    object \n",
      " 4   Sex          881 non-null    object \n",
      " 5   Age          711 non-null    float64\n",
      " 6   SibSp        881 non-null    int64  \n",
      " 7   Parch        881 non-null    int64  \n",
      " 8   Ticket       881 non-null    object \n",
      " 9   Fare         881 non-null    float64\n",
      " 10  Cabin        201 non-null    object \n",
      " 11  Embarked     879 non-null    object \n",
      "dtypes: float64(2), int64(5), object(5)\n",
      "memory usage: 82.7+ KB\n"
     ]
    },
    {
     "data": {
      "text/plain": [
       "PassengerId      0\n",
       "Survived         0\n",
       "Pclass           0\n",
       "Name             0\n",
       "Sex              0\n",
       "Age            170\n",
       "SibSp            0\n",
       "Parch            0\n",
       "Ticket           0\n",
       "Fare             0\n",
       "Cabin          680\n",
       "Embarked         2\n",
       "dtype: int64"
      ]
     },
     "execution_count": 9,
     "metadata": {},
     "output_type": "execute_result"
    }
   ],
   "source": [
    "# Infos\n",
    "train.info()\n",
    "train.isnull().sum()"
   ]
  },
  {
   "cell_type": "code",
   "execution_count": 10,
   "id": "f80d4886",
   "metadata": {
    "execution": {
     "iopub.execute_input": "2022-05-20T07:38:48.966547Z",
     "iopub.status.busy": "2022-05-20T07:38:48.966067Z",
     "iopub.status.idle": "2022-05-20T07:38:48.979673Z",
     "shell.execute_reply": "2022-05-20T07:38:48.979047Z"
    },
    "papermill": {
     "duration": 0.080116,
     "end_time": "2022-05-20T07:38:48.981822",
     "exception": false,
     "start_time": "2022-05-20T07:38:48.901706",
     "status": "completed"
    },
    "tags": []
   },
   "outputs": [
    {
     "data": {
      "text/html": [
       "<div>\n",
       "<style scoped>\n",
       "    .dataframe tbody tr th:only-of-type {\n",
       "        vertical-align: middle;\n",
       "    }\n",
       "\n",
       "    .dataframe tbody tr th {\n",
       "        vertical-align: top;\n",
       "    }\n",
       "\n",
       "    .dataframe thead th {\n",
       "        text-align: right;\n",
       "    }\n",
       "</style>\n",
       "<table border=\"1\" class=\"dataframe\">\n",
       "  <thead>\n",
       "    <tr style=\"text-align: right;\">\n",
       "      <th></th>\n",
       "      <th>PassengerId</th>\n",
       "      <th>Survived</th>\n",
       "      <th>Pclass</th>\n",
       "      <th>Name</th>\n",
       "      <th>Sex</th>\n",
       "      <th>Age</th>\n",
       "      <th>SibSp</th>\n",
       "      <th>Parch</th>\n",
       "      <th>Ticket</th>\n",
       "      <th>Fare</th>\n",
       "      <th>Cabin</th>\n",
       "      <th>Embarked</th>\n",
       "    </tr>\n",
       "  </thead>\n",
       "  <tbody>\n",
       "    <tr>\n",
       "      <th>0</th>\n",
       "      <td>1</td>\n",
       "      <td>0</td>\n",
       "      <td>3</td>\n",
       "      <td>Braund, Mr. Owen Harris</td>\n",
       "      <td>male</td>\n",
       "      <td>22.0</td>\n",
       "      <td>1</td>\n",
       "      <td>0</td>\n",
       "      <td>A/5 21171</td>\n",
       "      <td>7.2500</td>\n",
       "      <td>NaN</td>\n",
       "      <td>S</td>\n",
       "    </tr>\n",
       "    <tr>\n",
       "      <th>1</th>\n",
       "      <td>2</td>\n",
       "      <td>1</td>\n",
       "      <td>1</td>\n",
       "      <td>Cumings, Mrs. John Bradley (Florence Briggs Th...</td>\n",
       "      <td>female</td>\n",
       "      <td>38.0</td>\n",
       "      <td>1</td>\n",
       "      <td>0</td>\n",
       "      <td>PC 17599</td>\n",
       "      <td>71.2833</td>\n",
       "      <td>C85</td>\n",
       "      <td>C</td>\n",
       "    </tr>\n",
       "    <tr>\n",
       "      <th>2</th>\n",
       "      <td>3</td>\n",
       "      <td>1</td>\n",
       "      <td>3</td>\n",
       "      <td>Heikkinen, Miss. Laina</td>\n",
       "      <td>female</td>\n",
       "      <td>26.0</td>\n",
       "      <td>0</td>\n",
       "      <td>0</td>\n",
       "      <td>STON/O2. 3101282</td>\n",
       "      <td>7.9250</td>\n",
       "      <td>NaN</td>\n",
       "      <td>S</td>\n",
       "    </tr>\n",
       "    <tr>\n",
       "      <th>3</th>\n",
       "      <td>4</td>\n",
       "      <td>1</td>\n",
       "      <td>1</td>\n",
       "      <td>Futrelle, Mrs. Jacques Heath (Lily May Peel)</td>\n",
       "      <td>female</td>\n",
       "      <td>35.0</td>\n",
       "      <td>1</td>\n",
       "      <td>0</td>\n",
       "      <td>113803</td>\n",
       "      <td>53.1000</td>\n",
       "      <td>C123</td>\n",
       "      <td>S</td>\n",
       "    </tr>\n",
       "    <tr>\n",
       "      <th>4</th>\n",
       "      <td>5</td>\n",
       "      <td>0</td>\n",
       "      <td>3</td>\n",
       "      <td>Allen, Mr. William Henry</td>\n",
       "      <td>male</td>\n",
       "      <td>35.0</td>\n",
       "      <td>0</td>\n",
       "      <td>0</td>\n",
       "      <td>373450</td>\n",
       "      <td>8.0500</td>\n",
       "      <td>NaN</td>\n",
       "      <td>S</td>\n",
       "    </tr>\n",
       "  </tbody>\n",
       "</table>\n",
       "</div>"
      ],
      "text/plain": [
       "   PassengerId  Survived  Pclass  \\\n",
       "0            1         0       3   \n",
       "1            2         1       1   \n",
       "2            3         1       3   \n",
       "3            4         1       1   \n",
       "4            5         0       3   \n",
       "\n",
       "                                                Name     Sex   Age  SibSp  \\\n",
       "0                            Braund, Mr. Owen Harris    male  22.0      1   \n",
       "1  Cumings, Mrs. John Bradley (Florence Briggs Th...  female  38.0      1   \n",
       "2                             Heikkinen, Miss. Laina  female  26.0      0   \n",
       "3       Futrelle, Mrs. Jacques Heath (Lily May Peel)  female  35.0      1   \n",
       "4                           Allen, Mr. William Henry    male  35.0      0   \n",
       "\n",
       "   Parch            Ticket     Fare Cabin Embarked  \n",
       "0      0         A/5 21171   7.2500   NaN        S  \n",
       "1      0          PC 17599  71.2833   C85        C  \n",
       "2      0  STON/O2. 3101282   7.9250   NaN        S  \n",
       "3      0            113803  53.1000  C123        S  \n",
       "4      0            373450   8.0500   NaN        S  "
      ]
     },
     "execution_count": 10,
     "metadata": {},
     "output_type": "execute_result"
    }
   ],
   "source": [
    "train.head()"
   ]
  },
  {
   "cell_type": "code",
   "execution_count": 11,
   "id": "2e1dd772",
   "metadata": {
    "execution": {
     "iopub.execute_input": "2022-05-20T07:38:49.112431Z",
     "iopub.status.busy": "2022-05-20T07:38:49.111916Z",
     "iopub.status.idle": "2022-05-20T07:38:49.118700Z",
     "shell.execute_reply": "2022-05-20T07:38:49.117715Z"
    },
    "papermill": {
     "duration": 0.076452,
     "end_time": "2022-05-20T07:38:49.121585",
     "exception": false,
     "start_time": "2022-05-20T07:38:49.045133",
     "status": "completed"
    },
    "tags": []
   },
   "outputs": [
    {
     "data": {
      "text/plain": [
       "PassengerId      int64\n",
       "Survived         int64\n",
       "Pclass           int64\n",
       "Name            object\n",
       "Sex             object\n",
       "Age            float64\n",
       "SibSp            int64\n",
       "Parch            int64\n",
       "Ticket          object\n",
       "Fare           float64\n",
       "Cabin           object\n",
       "Embarked        object\n",
       "dtype: object"
      ]
     },
     "execution_count": 11,
     "metadata": {},
     "output_type": "execute_result"
    }
   ],
   "source": [
    "train.dtypes"
   ]
  },
  {
   "cell_type": "code",
   "execution_count": 12,
   "id": "fb3a1bdc",
   "metadata": {
    "execution": {
     "iopub.execute_input": "2022-05-20T07:38:49.262586Z",
     "iopub.status.busy": "2022-05-20T07:38:49.262149Z",
     "iopub.status.idle": "2022-05-20T07:38:49.293290Z",
     "shell.execute_reply": "2022-05-20T07:38:49.292625Z"
    },
    "papermill": {
     "duration": 0.108899,
     "end_time": "2022-05-20T07:38:49.295817",
     "exception": false,
     "start_time": "2022-05-20T07:38:49.186918",
     "status": "completed"
    },
    "tags": []
   },
   "outputs": [
    {
     "data": {
      "text/html": [
       "<div>\n",
       "<style scoped>\n",
       "    .dataframe tbody tr th:only-of-type {\n",
       "        vertical-align: middle;\n",
       "    }\n",
       "\n",
       "    .dataframe tbody tr th {\n",
       "        vertical-align: top;\n",
       "    }\n",
       "\n",
       "    .dataframe thead th {\n",
       "        text-align: right;\n",
       "    }\n",
       "</style>\n",
       "<table border=\"1\" class=\"dataframe\">\n",
       "  <thead>\n",
       "    <tr style=\"text-align: right;\">\n",
       "      <th></th>\n",
       "      <th>PassengerId</th>\n",
       "      <th>Survived</th>\n",
       "      <th>Pclass</th>\n",
       "      <th>Age</th>\n",
       "      <th>SibSp</th>\n",
       "      <th>Parch</th>\n",
       "      <th>Fare</th>\n",
       "    </tr>\n",
       "  </thead>\n",
       "  <tbody>\n",
       "    <tr>\n",
       "      <th>count</th>\n",
       "      <td>881.000000</td>\n",
       "      <td>881.000000</td>\n",
       "      <td>881.000000</td>\n",
       "      <td>711.000000</td>\n",
       "      <td>881.000000</td>\n",
       "      <td>881.000000</td>\n",
       "      <td>881.000000</td>\n",
       "    </tr>\n",
       "    <tr>\n",
       "      <th>mean</th>\n",
       "      <td>446.713961</td>\n",
       "      <td>0.385925</td>\n",
       "      <td>2.307605</td>\n",
       "      <td>29.731603</td>\n",
       "      <td>0.455165</td>\n",
       "      <td>0.363224</td>\n",
       "      <td>31.121566</td>\n",
       "    </tr>\n",
       "    <tr>\n",
       "      <th>std</th>\n",
       "      <td>256.617021</td>\n",
       "      <td>0.487090</td>\n",
       "      <td>0.835055</td>\n",
       "      <td>14.547835</td>\n",
       "      <td>0.871571</td>\n",
       "      <td>0.791839</td>\n",
       "      <td>47.996249</td>\n",
       "    </tr>\n",
       "    <tr>\n",
       "      <th>min</th>\n",
       "      <td>1.000000</td>\n",
       "      <td>0.000000</td>\n",
       "      <td>1.000000</td>\n",
       "      <td>0.420000</td>\n",
       "      <td>0.000000</td>\n",
       "      <td>0.000000</td>\n",
       "      <td>0.000000</td>\n",
       "    </tr>\n",
       "    <tr>\n",
       "      <th>25%</th>\n",
       "      <td>226.000000</td>\n",
       "      <td>0.000000</td>\n",
       "      <td>2.000000</td>\n",
       "      <td>20.250000</td>\n",
       "      <td>0.000000</td>\n",
       "      <td>0.000000</td>\n",
       "      <td>7.895800</td>\n",
       "    </tr>\n",
       "    <tr>\n",
       "      <th>50%</th>\n",
       "      <td>448.000000</td>\n",
       "      <td>0.000000</td>\n",
       "      <td>3.000000</td>\n",
       "      <td>28.000000</td>\n",
       "      <td>0.000000</td>\n",
       "      <td>0.000000</td>\n",
       "      <td>14.454200</td>\n",
       "    </tr>\n",
       "    <tr>\n",
       "      <th>75%</th>\n",
       "      <td>668.000000</td>\n",
       "      <td>1.000000</td>\n",
       "      <td>3.000000</td>\n",
       "      <td>38.000000</td>\n",
       "      <td>1.000000</td>\n",
       "      <td>0.000000</td>\n",
       "      <td>30.500000</td>\n",
       "    </tr>\n",
       "    <tr>\n",
       "      <th>max</th>\n",
       "      <td>891.000000</td>\n",
       "      <td>1.000000</td>\n",
       "      <td>3.000000</td>\n",
       "      <td>80.000000</td>\n",
       "      <td>5.000000</td>\n",
       "      <td>6.000000</td>\n",
       "      <td>512.329200</td>\n",
       "    </tr>\n",
       "  </tbody>\n",
       "</table>\n",
       "</div>"
      ],
      "text/plain": [
       "       PassengerId    Survived      Pclass         Age       SibSp  \\\n",
       "count   881.000000  881.000000  881.000000  711.000000  881.000000   \n",
       "mean    446.713961    0.385925    2.307605   29.731603    0.455165   \n",
       "std     256.617021    0.487090    0.835055   14.547835    0.871571   \n",
       "min       1.000000    0.000000    1.000000    0.420000    0.000000   \n",
       "25%     226.000000    0.000000    2.000000   20.250000    0.000000   \n",
       "50%     448.000000    0.000000    3.000000   28.000000    0.000000   \n",
       "75%     668.000000    1.000000    3.000000   38.000000    1.000000   \n",
       "max     891.000000    1.000000    3.000000   80.000000    5.000000   \n",
       "\n",
       "            Parch        Fare  \n",
       "count  881.000000  881.000000  \n",
       "mean     0.363224   31.121566  \n",
       "std      0.791839   47.996249  \n",
       "min      0.000000    0.000000  \n",
       "25%      0.000000    7.895800  \n",
       "50%      0.000000   14.454200  \n",
       "75%      0.000000   30.500000  \n",
       "max      6.000000  512.329200  "
      ]
     },
     "execution_count": 12,
     "metadata": {},
     "output_type": "execute_result"
    }
   ],
   "source": [
    "## Summarize data\n",
    "# Summarie and statistics\n",
    "train.describe()"
   ]
  },
  {
   "cell_type": "markdown",
   "id": "bf2c12d8",
   "metadata": {
    "papermill": {
     "duration": 0.065767,
     "end_time": "2022-05-20T07:38:49.429952",
     "exception": false,
     "start_time": "2022-05-20T07:38:49.364185",
     "status": "completed"
    },
    "tags": []
   },
   "source": [
    "## 3.Feature analysis\n",
    "\n",
    "\n",
    "### 3.1 Numerical values"
   ]
  },
  {
   "cell_type": "code",
   "execution_count": 13,
   "id": "5443afc7",
   "metadata": {
    "execution": {
     "iopub.execute_input": "2022-05-20T07:38:49.564870Z",
     "iopub.status.busy": "2022-05-20T07:38:49.564437Z",
     "iopub.status.idle": "2022-05-20T07:38:49.843380Z",
     "shell.execute_reply": "2022-05-20T07:38:49.842312Z"
    },
    "papermill": {
     "duration": 0.348806,
     "end_time": "2022-05-20T07:38:49.846194",
     "exception": false,
     "start_time": "2022-05-20T07:38:49.497388",
     "status": "completed"
    },
    "tags": []
   },
   "outputs": [
    {
     "data": {
      "image/png": "[encoded data removed]",
      "text/plain": [
       "<Figure size 432x288 with 2 Axes>"
      ]
     },
     "metadata": {},
     "output_type": "display_data"
    }
   ],
   "source": [
    "# Correlation.matirx between numerical values (SibSp Parch Age and Fare values) and Survived\n",
    "\n",
    "g = sns.heatmap(train[[\"Survived\", \"SibSp\", \"Parch\", \"Age\", \"Fare\"]].corr(),annot=True, fmt = \".2f\", cmap = \"coolwarm\")"
   ]
  },
  {
   "cell_type": "markdown",
   "id": "cba4aff4",
   "metadata": {
    "papermill": {
     "duration": 0.065965,
     "end_time": "2022-05-20T07:38:49.978895",
     "exception": false,
     "start_time": "2022-05-20T07:38:49.912930",
     "status": "completed"
    },
    "tags": []
   },
   "source": [
    "**SibSP**"
   ]
  },
  {
   "cell_type": "code",
   "execution_count": 14,
   "id": "11ac272a",
   "metadata": {
    "execution": {
     "iopub.execute_input": "2022-05-20T07:38:50.111999Z",
     "iopub.status.busy": "2022-05-20T07:38:50.111584Z",
     "iopub.status.idle": "2022-05-20T07:38:50.492412Z",
     "shell.execute_reply": "2022-05-20T07:38:50.491493Z"
    },
    "papermill": {
     "duration": 0.450055,
     "end_time": "2022-05-20T07:38:50.494719",
     "exception": false,
     "start_time": "2022-05-20T07:38:50.044664",
     "status": "completed"
    },
    "tags": []
   },
   "outputs": [
    {
     "name": "stderr",
     "output_type": "stream",
     "text": [
      "/opt/conda/lib/python3.7/site-packages/seaborn/categorical.py:3717: UserWarning: The `factorplot` function has been renamed to `catplot`. The original name will be removed in a future release. Please update your code. Note that the default `kind` in `factorplot` (`'point'`) has changed `'strip'` in `catplot`.\n",
      "  warnings.warn(msg)\n",
      "/opt/conda/lib/python3.7/site-packages/seaborn/categorical.py:3723: UserWarning: The `size` parameter has been renamed to `height`; please update your code.\n",
      "  warnings.warn(msg, UserWarning)\n"
     ]
    },
    {
     "data": {
      "image/png": "[encoded data removed]",
      "text/plain": [
       "<Figure size 432x432 with 1 Axes>"
      ]
     },
     "metadata": {},
     "output_type": "display_data"
    }
   ],
   "source": [
    "# Explore SibSp feature vs Survived\n",
    "g = sns.factorplot(x=\"SibSp\", y=\"Survived\", data=train, kind='bar', size = 6, palette = \"muted\")\n",
    "g.despine(left=True)\n",
    "g = g.set_ylabels(\"survival probability\")"
   ]
  },
  {
   "cell_type": "markdown",
   "id": "233753e4",
   "metadata": {
    "papermill": {
     "duration": 0.06778,
     "end_time": "2022-05-20T07:38:50.631855",
     "exception": false,
     "start_time": "2022-05-20T07:38:50.564075",
     "status": "completed"
    },
    "tags": []
   },
   "source": [
    "passenges having a lot of siblings/spouses have less chance to survive.\n",
    "\n",
    "Single passengers(0 Sib) or with two other persons(1 of 2) have more chance to survive."
   ]
  },
  {
   "cell_type": "markdown",
   "id": "e550d414",
   "metadata": {
    "papermill": {
     "duration": 0.066983,
     "end_time": "2022-05-20T07:38:50.765924",
     "exception": false,
     "start_time": "2022-05-20T07:38:50.698941",
     "status": "completed"
    },
    "tags": []
   },
   "source": [
    "**Parch**"
   ]
  },
  {
   "cell_type": "code",
   "execution_count": 15,
   "id": "0154a1ce",
   "metadata": {
    "execution": {
     "iopub.execute_input": "2022-05-20T07:38:50.903193Z",
     "iopub.status.busy": "2022-05-20T07:38:50.902649Z",
     "iopub.status.idle": "2022-05-20T07:38:51.288222Z",
     "shell.execute_reply": "2022-05-20T07:38:51.287532Z"
    },
    "papermill": {
     "duration": 0.456214,
     "end_time": "2022-05-20T07:38:51.290304",
     "exception": false,
     "start_time": "2022-05-20T07:38:50.834090",
     "status": "completed"
    },
    "tags": []
   },
   "outputs": [
    {
     "name": "stderr",
     "output_type": "stream",
     "text": [
      "/opt/conda/lib/python3.7/site-packages/seaborn/categorical.py:3717: UserWarning: The `factorplot` function has been renamed to `catplot`. The original name will be removed in a future release. Please update your code. Note that the default `kind` in `factorplot` (`'point'`) has changed `'strip'` in `catplot`.\n",
      "  warnings.warn(msg)\n",
      "/opt/conda/lib/python3.7/site-packages/seaborn/categorical.py:3723: UserWarning: The `size` parameter has been renamed to `height`; please update your code.\n",
      "  warnings.warn(msg, UserWarning)\n"
     ]
    },
    {
     "data": {
      "image/png": "[encoded data removed]",
      "text/plain": [
       "<Figure size 432x432 with 1 Axes>"
      ]
     },
     "metadata": {},
     "output_type": "display_data"
    }
   ],
   "source": [
    "# Explore Parch feature vs Survived\n",
    "g = sns.factorplot(x=\"Parch\", y=\"Survived\", data=train, kind=\"bar\", size=6, palette = \"muted\")\n",
    "g.despine(left=True)\n",
    "g = g.set_ylabels(\"survival probability\")"
   ]
  },
  {
   "cell_type": "markdown",
   "id": "a29cb8ce",
   "metadata": {
    "papermill": {
     "duration": 0.068575,
     "end_time": "2022-05-20T07:38:51.430271",
     "exception": false,
     "start_time": "2022-05-20T07:38:51.361696",
     "status": "completed"
    },
    "tags": []
   },
   "source": [
    "Small families have more chance to survive, more than single (Parch 0), medium (Parch 3,4) and large families (Parch 5,6 ).\n",
    "\n",
    "\n",
    "Be carefull there is an important standard deviation in the survival of passengers with 3 parents/children"
   ]
  },
  {
   "cell_type": "markdown",
   "id": "5ed2fdc5",
   "metadata": {
    "papermill": {
     "duration": 0.068178,
     "end_time": "2022-05-20T07:38:51.567423",
     "exception": false,
     "start_time": "2022-05-20T07:38:51.499245",
     "status": "completed"
    },
    "tags": []
   },
   "source": [
    "**Age**"
   ]
  },
  {
   "cell_type": "code",
   "execution_count": 16,
   "id": "6c469ed2",
   "metadata": {
    "execution": {
     "iopub.execute_input": "2022-05-20T07:38:51.709980Z",
     "iopub.status.busy": "2022-05-20T07:38:51.709332Z",
     "iopub.status.idle": "2022-05-20T07:38:52.192298Z",
     "shell.execute_reply": "2022-05-20T07:38:52.191697Z"
    },
    "papermill": {
     "duration": 0.555113,
     "end_time": "2022-05-20T07:38:52.194734",
     "exception": false,
     "start_time": "2022-05-20T07:38:51.639621",
     "status": "completed"
    },
    "tags": []
   },
   "outputs": [
    {
     "name": "stderr",
     "output_type": "stream",
     "text": [
      "/opt/conda/lib/python3.7/site-packages/seaborn/distributions.py:2619: FutureWarning: `distplot` is a deprecated function and will be removed in a future version. Please adapt your code to use either `displot` (a figure-level function with similar flexibility) or `histplot` (an axes-level function for histograms).\n",
      "  warnings.warn(msg, FutureWarning)\n",
      "/opt/conda/lib/python3.7/site-packages/seaborn/distributions.py:2619: FutureWarning: `distplot` is a deprecated function and will be removed in a future version. Please adapt your code to use either `displot` (a figure-level function with similar flexibility) or `histplot` (an axes-level function for histograms).\n",
      "  warnings.warn(msg, FutureWarning)\n"
     ]
    },
    {
     "data": {
      "image/png": "[encoded data removed]",
      "text/plain": [
       "<Figure size 432x216 with 2 Axes>"
      ]
     },
     "metadata": {},
     "output_type": "display_data"
    }
   ],
   "source": [
    "# Age vs Survived\n",
    "g = sns.FacetGrid(train, col='Survived')\n",
    "g = g.map(sns.distplot, \"Age\")"
   ]
  },
  {
   "cell_type": "code",
   "execution_count": 17,
   "id": "3e03e85d",
   "metadata": {
    "execution": {
     "iopub.execute_input": "2022-05-20T07:38:52.339076Z",
     "iopub.status.busy": "2022-05-20T07:38:52.338271Z",
     "iopub.status.idle": "2022-05-20T07:38:52.548810Z",
     "shell.execute_reply": "2022-05-20T07:38:52.547578Z"
    },
    "papermill": {
     "duration": 0.287396,
     "end_time": "2022-05-20T07:38:52.551938",
     "exception": false,
     "start_time": "2022-05-20T07:38:52.264542",
     "status": "completed"
    },
    "tags": []
   },
   "outputs": [
    {
     "data": {
      "image/png": "[encoded data removed]",
      "text/plain": [
       "<Figure size 432x288 with 1 Axes>"
      ]
     },
     "metadata": {},
     "output_type": "display_data"
    }
   ],
   "source": [
    "# Age distibution\n",
    "g = sns.kdeplot(train[\"Age\"][(train[\"Survived\"] == 0) & (train[\"Age\"].notnull())], color=\"Red\", shade = True)\n",
    "g = sns.kdeplot(train[\"Age\"][(train[\"Survived\"] == 1) & (train[\"Age\"].notnull())], ax= g, color=\"Blue\", shade= True)\n",
    "g.set_xlabel(\"Age\")\n",
    "g.set_ylabel(\"Frequency\")\n",
    "g = g.legend([\"Not Survived\", \"Survived\"])"
   ]
  },
  {
   "cell_type": "markdown",
   "id": "81f658ba",
   "metadata": {
    "papermill": {
     "duration": 0.070756,
     "end_time": "2022-05-20T07:38:52.693712",
     "exception": false,
     "start_time": "2022-05-20T07:38:52.622956",
     "status": "completed"
    },
    "tags": []
   },
   "source": [
    "can see a peak between 0 and 5"
   ]
  },
  {
   "cell_type": "markdown",
   "id": "94c4035d",
   "metadata": {
    "papermill": {
     "duration": 0.072416,
     "end_time": "2022-05-20T07:38:52.837109",
     "exception": false,
     "start_time": "2022-05-20T07:38:52.764693",
     "status": "completed"
    },
    "tags": []
   },
   "source": [
    "**Fare**"
   ]
  },
  {
   "cell_type": "code",
   "execution_count": 18,
   "id": "6b5b7a33",
   "metadata": {
    "execution": {
     "iopub.execute_input": "2022-05-20T07:38:52.981843Z",
     "iopub.status.busy": "2022-05-20T07:38:52.981341Z",
     "iopub.status.idle": "2022-05-20T07:38:52.988374Z",
     "shell.execute_reply": "2022-05-20T07:38:52.987125Z"
    },
    "papermill": {
     "duration": 0.082196,
     "end_time": "2022-05-20T07:38:52.990627",
     "exception": false,
     "start_time": "2022-05-20T07:38:52.908431",
     "status": "completed"
    },
    "tags": []
   },
   "outputs": [
    {
     "data": {
      "text/plain": [
       "1"
      ]
     },
     "execution_count": 18,
     "metadata": {},
     "output_type": "execute_result"
    }
   ],
   "source": [
    "dataset[\"Fare\"].isnull().sum()"
   ]
  },
  {
   "cell_type": "code",
   "execution_count": 19,
   "id": "bb4efe12",
   "metadata": {
    "execution": {
     "iopub.execute_input": "2022-05-20T07:38:53.136559Z",
     "iopub.status.busy": "2022-05-20T07:38:53.136059Z",
     "iopub.status.idle": "2022-05-20T07:38:53.140422Z",
     "shell.execute_reply": "2022-05-20T07:38:53.139860Z"
    },
    "papermill": {
     "duration": 0.079174,
     "end_time": "2022-05-20T07:38:53.142411",
     "exception": false,
     "start_time": "2022-05-20T07:38:53.063237",
     "status": "completed"
    },
    "tags": []
   },
   "outputs": [],
   "source": [
    "# Fill Fare missing values with the median value\n",
    "dataset[\"Fare\"] = dataset[\"Fare\"].fillna(dataset[\"Fare\"].median())"
   ]
  },
  {
   "cell_type": "code",
   "execution_count": 20,
   "id": "65e4bd89",
   "metadata": {
    "execution": {
     "iopub.execute_input": "2022-05-20T07:38:53.288164Z",
     "iopub.status.busy": "2022-05-20T07:38:53.287613Z",
     "iopub.status.idle": "2022-05-20T07:38:53.571331Z",
     "shell.execute_reply": "2022-05-20T07:38:53.570722Z"
    },
    "papermill": {
     "duration": 0.359341,
     "end_time": "2022-05-20T07:38:53.574051",
     "exception": false,
     "start_time": "2022-05-20T07:38:53.214710",
     "status": "completed"
    },
    "tags": []
   },
   "outputs": [
    {
     "name": "stderr",
     "output_type": "stream",
     "text": [
      "/opt/conda/lib/python3.7/site-packages/seaborn/distributions.py:2619: FutureWarning: `distplot` is a deprecated function and will be removed in a future version. Please adapt your code to use either `displot` (a figure-level function with similar flexibility) or `histplot` (an axes-level function for histograms).\n",
      "  warnings.warn(msg, FutureWarning)\n"
     ]
    },
    {
     "data": {
      "image/png": "[encoded data removed]",
      "text/plain": [
       "<Figure size 432x288 with 1 Axes>"
      ]
     },
     "metadata": {},
     "output_type": "display_data"
    }
   ],
   "source": [
    "# Explore Fare distribution\n",
    "g = sns.distplot(dataset[\"Fare\"], color=\"m\", label=\"Skewness : %.2f\"%(dataset[\"Fare\"].skew()))\n",
    "g = g.legend(loc=\"best\")"
   ]
  },
  {
   "cell_type": "markdown",
   "id": "e04dc827",
   "metadata": {
    "papermill": {
     "duration": 0.072856,
     "end_time": "2022-05-20T07:38:53.720622",
     "exception": false,
     "start_time": "2022-05-20T07:38:53.647766",
     "status": "completed"
    },
    "tags": []
   },
   "source": [
    "분포가 비대칭적임. This can lead to overweigth very high values in the model, even if it is scaled.\n",
    "\n",
    "better to transform it with the log function to reduce tis skew."
   ]
  },
  {
   "cell_type": "code",
   "execution_count": 21,
   "id": "9691f02e",
   "metadata": {
    "execution": {
     "iopub.execute_input": "2022-05-20T07:38:53.872166Z",
     "iopub.status.busy": "2022-05-20T07:38:53.870636Z",
     "iopub.status.idle": "2022-05-20T07:38:53.877848Z",
     "shell.execute_reply": "2022-05-20T07:38:53.877088Z"
    },
    "papermill": {
     "duration": 0.085761,
     "end_time": "2022-05-20T07:38:53.879743",
     "exception": false,
     "start_time": "2022-05-20T07:38:53.793982",
     "status": "completed"
    },
    "tags": []
   },
   "outputs": [],
   "source": [
    "# Apply log to Fare to reduce skewness distribution\n",
    "dataset[\"Fare\"] = dataset[\"Fare\"].map(lambda i: np.log(i) if i > 0 else 0)"
   ]
  },
  {
   "cell_type": "code",
   "execution_count": 22,
   "id": "012ee866",
   "metadata": {
    "execution": {
     "iopub.execute_input": "2022-05-20T07:38:53.978753Z",
     "iopub.status.busy": "2022-05-20T07:38:53.978476Z",
     "iopub.status.idle": "2022-05-20T07:38:54.463894Z",
     "shell.execute_reply": "2022-05-20T07:38:54.463225Z"
    },
    "papermill": {
     "duration": 0.536555,
     "end_time": "2022-05-20T07:38:54.465458",
     "exception": false,
     "start_time": "2022-05-20T07:38:53.928903",
     "status": "completed"
    },
    "tags": []
   },
   "outputs": [
    {
     "name": "stderr",
     "output_type": "stream",
     "text": [
      "/opt/conda/lib/python3.7/site-packages/seaborn/distributions.py:2619: FutureWarning: `distplot` is a deprecated function and will be removed in a future version. Please adapt your code to use either `displot` (a figure-level function with similar flexibility) or `histplot` (an axes-level function for histograms).\n",
      "  warnings.warn(msg, FutureWarning)\n"
     ]
    },
    {
     "data": {
      "image/png": "[encoded data removed]",
      "text/plain": [
       "<Figure size 432x288 with 1 Axes>"
      ]
     },
     "metadata": {},
     "output_type": "display_data"
    }
   ],
   "source": [
    "g = sns.distplot(dataset[\"Fare\"], color=\"b\", label=\"Skewness : %.2f\"%(dataset[\"Fare\"].skew()))\n",
    "g = g.legend(loc=\"best\")"
   ]
  },
  {
   "cell_type": "code",
   "execution_count": 23,
   "id": "df9a0dc8",
   "metadata": {
    "execution": {
     "iopub.execute_input": "2022-05-20T07:38:54.565696Z",
     "iopub.status.busy": "2022-05-20T07:38:54.565446Z",
     "iopub.status.idle": "2022-05-20T07:38:54.578883Z",
     "shell.execute_reply": "2022-05-20T07:38:54.578277Z"
    },
    "papermill": {
     "duration": 0.065333,
     "end_time": "2022-05-20T07:38:54.580514",
     "exception": false,
     "start_time": "2022-05-20T07:38:54.515181",
     "status": "completed"
    },
    "tags": []
   },
   "outputs": [
    {
     "data": {
      "text/html": [
       "<div>\n",
       "<style scoped>\n",
       "    .dataframe tbody tr th:only-of-type {\n",
       "        vertical-align: middle;\n",
       "    }\n",
       "\n",
       "    .dataframe tbody tr th {\n",
       "        vertical-align: top;\n",
       "    }\n",
       "\n",
       "    .dataframe thead th {\n",
       "        text-align: right;\n",
       "    }\n",
       "</style>\n",
       "<table border=\"1\" class=\"dataframe\">\n",
       "  <thead>\n",
       "    <tr style=\"text-align: right;\">\n",
       "      <th></th>\n",
       "      <th>Survived</th>\n",
       "    </tr>\n",
       "    <tr>\n",
       "      <th>Sex</th>\n",
       "      <th></th>\n",
       "    </tr>\n",
       "  </thead>\n",
       "  <tbody>\n",
       "    <tr>\n",
       "      <th>female</th>\n",
       "      <td>0.747573</td>\n",
       "    </tr>\n",
       "    <tr>\n",
       "      <th>male</th>\n",
       "      <td>0.190559</td>\n",
       "    </tr>\n",
       "  </tbody>\n",
       "</table>\n",
       "</div>"
      ],
      "text/plain": [
       "        Survived\n",
       "Sex             \n",
       "female  0.747573\n",
       "male    0.190559"
      ]
     },
     "execution_count": 23,
     "metadata": {},
     "output_type": "execute_result"
    }
   ],
   "source": [
    "train[[\"Sex\", \"Survived\"]].groupby('Sex').mean()"
   ]
  },
  {
   "cell_type": "markdown",
   "id": "2ebb7955",
   "metadata": {
    "papermill": {
     "duration": 0.048998,
     "end_time": "2022-05-20T07:38:54.678328",
     "exception": false,
     "start_time": "2022-05-20T07:38:54.629330",
     "status": "completed"
    },
    "tags": []
   },
   "source": [
    "**Pclass**"
   ]
  },
  {
   "cell_type": "code",
   "execution_count": 24,
   "id": "f1003b19",
   "metadata": {
    "execution": {
     "iopub.execute_input": "2022-05-20T07:38:54.777366Z",
     "iopub.status.busy": "2022-05-20T07:38:54.776771Z",
     "iopub.status.idle": "2022-05-20T07:38:55.074128Z",
     "shell.execute_reply": "2022-05-20T07:38:55.072907Z"
    },
    "papermill": {
     "duration": 0.349229,
     "end_time": "2022-05-20T07:38:55.076391",
     "exception": false,
     "start_time": "2022-05-20T07:38:54.727162",
     "status": "completed"
    },
    "tags": []
   },
   "outputs": [
    {
     "name": "stderr",
     "output_type": "stream",
     "text": [
      "/opt/conda/lib/python3.7/site-packages/seaborn/categorical.py:3717: UserWarning: The `factorplot` function has been renamed to `catplot`. The original name will be removed in a future release. Please update your code. Note that the default `kind` in `factorplot` (`'point'`) has changed `'strip'` in `catplot`.\n",
      "  warnings.warn(msg)\n",
      "/opt/conda/lib/python3.7/site-packages/seaborn/categorical.py:3723: UserWarning: The `size` parameter has been renamed to `height`; please update your code.\n",
      "  warnings.warn(msg, UserWarning)\n"
     ]
    },
    {
     "data": {
      "image/png": "[encoded data removed]",
      "text/plain": [
       "<Figure size 432x432 with 1 Axes>"
      ]
     },
     "metadata": {},
     "output_type": "display_data"
    }
   ],
   "source": [
    "# Pclass vs Survived\n",
    "g = sns.factorplot(x=\"Pclass\", y=\"Survived\", data=train, kind=\"bar\", size = 6, palette = \"muted\")\n",
    "g.despine(left=True)\n",
    "g = g.set_ylabels(\"survival probablity\")"
   ]
  },
  {
   "cell_type": "code",
   "execution_count": 25,
   "id": "c9754aec",
   "metadata": {
    "execution": {
     "iopub.execute_input": "2022-05-20T07:38:55.178269Z",
     "iopub.status.busy": "2022-05-20T07:38:55.177989Z",
     "iopub.status.idle": "2022-05-20T07:38:55.634518Z",
     "shell.execute_reply": "2022-05-20T07:38:55.633461Z"
    },
    "papermill": {
     "duration": 0.509172,
     "end_time": "2022-05-20T07:38:55.636671",
     "exception": false,
     "start_time": "2022-05-20T07:38:55.127499",
     "status": "completed"
    },
    "tags": []
   },
   "outputs": [
    {
     "name": "stderr",
     "output_type": "stream",
     "text": [
      "/opt/conda/lib/python3.7/site-packages/seaborn/categorical.py:3717: UserWarning: The `factorplot` function has been renamed to `catplot`. The original name will be removed in a future release. Please update your code. Note that the default `kind` in `factorplot` (`'point'`) has changed `'strip'` in `catplot`.\n",
      "  warnings.warn(msg)\n",
      "/opt/conda/lib/python3.7/site-packages/seaborn/categorical.py:3723: UserWarning: The `size` parameter has been renamed to `height`; please update your code.\n",
      "  warnings.warn(msg, UserWarning)\n"
     ]
    },
    {
     "data": {
      "image/png": "[encoded data removed]",
      "text/plain": [
       "<Figure size 509.975x432 with 1 Axes>"
      ]
     },
     "metadata": {},
     "output_type": "display_data"
    }
   ],
   "source": [
    "# Explore Pclass vs Survived by Sex\n",
    "g = sns.factorplot(x=\"Pclass\", y=\"Survived\", hue=\"Sex\", data=train, size=6, kind='bar', palette=\"muted\")\n",
    "g.despine(left=True)\n",
    "g = g.set_ylabels(\"survival probability\")"
   ]
  },
  {
   "cell_type": "markdown",
   "id": "e5650416",
   "metadata": {
    "papermill": {
     "duration": 0.051032,
     "end_time": "2022-05-20T07:38:55.751844",
     "exception": false,
     "start_time": "2022-05-20T07:38:55.700812",
     "status": "completed"
    },
    "tags": []
   },
   "source": [
    "**Embarked**"
   ]
  },
  {
   "cell_type": "code",
   "execution_count": 26,
   "id": "0541f03a",
   "metadata": {
    "execution": {
     "iopub.execute_input": "2022-05-20T07:38:55.857202Z",
     "iopub.status.busy": "2022-05-20T07:38:55.856706Z",
     "iopub.status.idle": "2022-05-20T07:38:55.864840Z",
     "shell.execute_reply": "2022-05-20T07:38:55.863959Z"
    },
    "papermill": {
     "duration": 0.063766,
     "end_time": "2022-05-20T07:38:55.866909",
     "exception": false,
     "start_time": "2022-05-20T07:38:55.803143",
     "status": "completed"
    },
    "tags": []
   },
   "outputs": [
    {
     "data": {
      "text/plain": [
       "2"
      ]
     },
     "execution_count": 26,
     "metadata": {},
     "output_type": "execute_result"
    }
   ],
   "source": [
    "dataset[\"Embarked\"].isnull().sum()"
   ]
  },
  {
   "cell_type": "code",
   "execution_count": 27,
   "id": "9580cd22",
   "metadata": {
    "execution": {
     "iopub.execute_input": "2022-05-20T07:38:55.973104Z",
     "iopub.status.busy": "2022-05-20T07:38:55.972501Z",
     "iopub.status.idle": "2022-05-20T07:38:55.978359Z",
     "shell.execute_reply": "2022-05-20T07:38:55.977314Z"
    },
    "papermill": {
     "duration": 0.061699,
     "end_time": "2022-05-20T07:38:55.980609",
     "exception": false,
     "start_time": "2022-05-20T07:38:55.918910",
     "status": "completed"
    },
    "tags": []
   },
   "outputs": [],
   "source": [
    "# Fill nan values of dataset set with 'S' most frequent value\n",
    "dataset[\"Embarked\"] = dataset[\"Embarked\"].fillna(\"S\")"
   ]
  },
  {
   "cell_type": "code",
   "execution_count": 28,
   "id": "4b371d7e",
   "metadata": {
    "execution": {
     "iopub.execute_input": "2022-05-20T07:38:56.087043Z",
     "iopub.status.busy": "2022-05-20T07:38:56.086528Z",
     "iopub.status.idle": "2022-05-20T07:38:56.442686Z",
     "shell.execute_reply": "2022-05-20T07:38:56.441784Z"
    },
    "papermill": {
     "duration": 0.41247,
     "end_time": "2022-05-20T07:38:56.444965",
     "exception": false,
     "start_time": "2022-05-20T07:38:56.032495",
     "status": "completed"
    },
    "tags": []
   },
   "outputs": [
    {
     "name": "stderr",
     "output_type": "stream",
     "text": [
      "/opt/conda/lib/python3.7/site-packages/seaborn/categorical.py:3717: UserWarning: The `factorplot` function has been renamed to `catplot`. The original name will be removed in a future release. Please update your code. Note that the default `kind` in `factorplot` (`'point'`) has changed `'strip'` in `catplot`.\n",
      "  warnings.warn(msg)\n",
      "/opt/conda/lib/python3.7/site-packages/seaborn/categorical.py:3723: UserWarning: The `size` parameter has been renamed to `height`; please update your code.\n",
      "  warnings.warn(msg, UserWarning)\n"
     ]
    },
    {
     "data": {
      "image/png": "[encoded data removed]",
      "text/plain": [
       "<Figure size 432x432 with 1 Axes>"
      ]
     },
     "metadata": {},
     "output_type": "display_data"
    }
   ],
   "source": [
    "# Explore Embarked vs Survived\n",
    "g = sns.factorplot(x=\"Embarked\", y=\"Survived\", data=train, size=6, kind=\"bar\", palette=\"muted\")\n",
    "g.despine(left=True)\n",
    "g = g.set_ylabels(\"survival probability\")"
   ]
  },
  {
   "cell_type": "markdown",
   "id": "5d55033c",
   "metadata": {
    "papermill": {
     "duration": 0.052569,
     "end_time": "2022-05-20T07:38:56.552915",
     "exception": false,
     "start_time": "2022-05-20T07:38:56.500346",
     "status": "completed"
    },
    "tags": []
   },
   "source": [
    "passenger coming form Cherbourg(C) have more chance to survie than Queenstown(Q) and Southampton(S).\n",
    "\n",
    "hypothesis: proportion of first class passengers is higher for those who came from C > Q > S"
   ]
  },
  {
   "cell_type": "code",
   "execution_count": 29,
   "id": "cc9e473b",
   "metadata": {
    "execution": {
     "iopub.execute_input": "2022-05-20T07:38:56.660709Z",
     "iopub.status.busy": "2022-05-20T07:38:56.660194Z",
     "iopub.status.idle": "2022-05-20T07:38:57.291430Z",
     "shell.execute_reply": "2022-05-20T07:38:57.290862Z"
    },
    "papermill": {
     "duration": 0.687581,
     "end_time": "2022-05-20T07:38:57.293637",
     "exception": false,
     "start_time": "2022-05-20T07:38:56.606056",
     "status": "completed"
    },
    "tags": []
   },
   "outputs": [
    {
     "name": "stderr",
     "output_type": "stream",
     "text": [
      "/opt/conda/lib/python3.7/site-packages/seaborn/categorical.py:3717: UserWarning: The `factorplot` function has been renamed to `catplot`. The original name will be removed in a future release. Please update your code. Note that the default `kind` in `factorplot` (`'point'`) has changed `'strip'` in `catplot`.\n",
      "  warnings.warn(msg)\n",
      "/opt/conda/lib/python3.7/site-packages/seaborn/categorical.py:3723: UserWarning: The `size` parameter has been renamed to `height`; please update your code.\n",
      "  warnings.warn(msg, UserWarning)\n",
      "/opt/conda/lib/python3.7/site-packages/seaborn/_decorators.py:43: FutureWarning: Pass the following variable as a keyword arg: x. From version 0.12, the only valid positional argument will be `data`, and passing other arguments without an explicit keyword will result in an error or misinterpretation.\n",
      "  FutureWarning\n"
     ]
    },
    {
     "data": {
      "image/png": "[encoded data removed]",
      "text/plain": [
       "<Figure size 1296x432 with 3 Axes>"
      ]
     },
     "metadata": {},
     "output_type": "display_data"
    }
   ],
   "source": [
    "# Explore Pclass vs Embarked\n",
    "g = sns.factorplot(\"Pclass\", col=\"Embarked\", data=train, size=6, kind=\"count\", palette=\"muted\")\n",
    "g.despine(left=True)\n",
    "g = g.set_ylabels(\"Count\")"
   ]
  },
  {
   "cell_type": "markdown",
   "id": "7fcff831",
   "metadata": {
    "papermill": {
     "duration": 0.052609,
     "end_time": "2022-05-20T07:38:57.400419",
     "exception": false,
     "start_time": "2022-05-20T07:38:57.347810",
     "status": "completed"
    },
    "tags": []
   },
   "source": [
    "third class is the most frequent for passenger coming from Southhampton(S) and Q. C passengers are mostly in first class which have the highest survival rate."
   ]
  },
  {
   "cell_type": "markdown",
   "id": "bfee2bf6",
   "metadata": {
    "papermill": {
     "duration": 0.053635,
     "end_time": "2022-05-20T07:38:57.507980",
     "exception": false,
     "start_time": "2022-05-20T07:38:57.454345",
     "status": "completed"
    },
    "tags": []
   },
   "source": [
    "## 4. Filling missing Values\n",
    "\n",
    "### 4.1 Age\n",
    "\n",
    "* Age column contains 256 missing values\n",
    "* 생존 가능성 더 높은 집단(어린이)이 있으니 age feature에 결측값 넣어서 사용하는 것이 바람직\n",
    "* 문제 해결을 위해 age와 상관관계가 있는 다른 feature들 확인\n",
    "\n",
    "\n"
   ]
  },
  {
   "cell_type": "code",
   "execution_count": 30,
   "id": "5f840f3f",
   "metadata": {
    "execution": {
     "iopub.execute_input": "2022-05-20T07:38:57.616797Z",
     "iopub.status.busy": "2022-05-20T07:38:57.616500Z",
     "iopub.status.idle": "2022-05-20T07:38:58.977721Z",
     "shell.execute_reply": "2022-05-20T07:38:58.976604Z"
    },
    "papermill": {
     "duration": 1.418865,
     "end_time": "2022-05-20T07:38:58.980459",
     "exception": false,
     "start_time": "2022-05-20T07:38:57.561594",
     "status": "completed"
    },
    "tags": []
   },
   "outputs": [
    {
     "name": "stderr",
     "output_type": "stream",
     "text": [
      "/opt/conda/lib/python3.7/site-packages/seaborn/categorical.py:3717: UserWarning: The `factorplot` function has been renamed to `catplot`. The original name will be removed in a future release. Please update your code. Note that the default `kind` in `factorplot` (`'point'`) has changed `'strip'` in `catplot`.\n",
      "  warnings.warn(msg)\n",
      "/opt/conda/lib/python3.7/site-packages/seaborn/categorical.py:3717: UserWarning: The `factorplot` function has been renamed to `catplot`. The original name will be removed in a future release. Please update your code. Note that the default `kind` in `factorplot` (`'point'`) has changed `'strip'` in `catplot`.\n",
      "  warnings.warn(msg)\n",
      "/opt/conda/lib/python3.7/site-packages/seaborn/categorical.py:3717: UserWarning: The `factorplot` function has been renamed to `catplot`. The original name will be removed in a future release. Please update your code. Note that the default `kind` in `factorplot` (`'point'`) has changed `'strip'` in `catplot`.\n",
      "  warnings.warn(msg)\n",
      "/opt/conda/lib/python3.7/site-packages/seaborn/categorical.py:3717: UserWarning: The `factorplot` function has been renamed to `catplot`. The original name will be removed in a future release. Please update your code. Note that the default `kind` in `factorplot` (`'point'`) has changed `'strip'` in `catplot`.\n",
      "  warnings.warn(msg)\n"
     ]
    },
    {
     "data": {
      "image/png": "[encoded data removed]",
      "text/plain": [
       "<Figure size 360x360 with 1 Axes>"
      ]
     },
     "metadata": {},
     "output_type": "display_data"
    },
    {
     "data": {
      "image/png": "[encoded data removed]",
      "text/plain": [
       "<Figure size 406.6x360 with 1 Axes>"
      ]
     },
     "metadata": {},
     "output_type": "display_data"
    },
    {
     "data": {
      "image/png": "[encoded data removed]",
      "text/plain": [
       "<Figure size 360x360 with 1 Axes>"
      ]
     },
     "metadata": {},
     "output_type": "display_data"
    },
    {
     "data": {
      "image/png": "[encoded data removed]",
      "text/plain": [
       "<Figure size 360x360 with 1 Axes>"
      ]
     },
     "metadata": {},
     "output_type": "display_data"
    }
   ],
   "source": [
    "# Explore Age vs Sex, Parch, Pclass and SibSP\n",
    "g = sns.factorplot(y=\"Age\", x=\"Sex\", data=dataset, kind=\"box\")\n",
    "g = sns.factorplot(y=\"Age\", x=\"Sex\", hue=\"Pclass\", data=dataset, kind=\"box\")\n",
    "g = sns.factorplot(y=\"Age\", x=\"Parch\", data=dataset, kind=\"box\")\n",
    "g = sns.factorplot(y=\"Age\", x=\"SibSp\", data=dataset, kind=\"box\")"
   ]
  },
  {
   "cell_type": "code",
   "execution_count": null,
   "id": "7ad9f3c1",
   "metadata": {
    "papermill": {
     "duration": 0.057765,
     "end_time": "2022-05-20T07:38:59.096493",
     "exception": false,
     "start_time": "2022-05-20T07:38:59.038728",
     "status": "completed"
    },
    "tags": []
   },
   "outputs": [],
   "source": []
  }
 ],
 "metadata": {
  "kernelspec": {
   "display_name": "Python 3",
   "language": "python",
   "name": "python3"
  },
  "language_info": {
   "codemirror_mode": {
    "name": "ipython",
    "version": 3
   },
   "file_extension": ".py",
   "mimetype": "text/x-python",
   "name": "python",
   "nbconvert_exporter": "python",
   "pygments_lexer": "ipython3",
   "version": "3.7.12"
  },
  "papermill": {
   "default_parameters": {},
   "duration": 25.065778,
   "end_time": "2022-05-20T07:39:00.078718",
   "environment_variables": {},
   "exception": null,
   "input_path": "__notebook__.ipynb",
   "output_path": "__notebook__.ipynb",
   "parameters": {},
   "start_time": "2022-05-20T07:38:35.012940",
   "version": "2.3.4"
  }
 },
 "nbformat": 4,
 "nbformat_minor": 5
}
