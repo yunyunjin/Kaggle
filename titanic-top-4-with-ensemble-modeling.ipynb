{
 "cells": [
  {
   "cell_type": "markdown",
   "id": "3f299df9",
   "metadata": {
    "papermill": {
     "duration": 0.091728,
     "end_time": "2022-05-30T12:26:10.907071",
     "exception": false,
     "start_time": "2022-05-30T12:26:10.815343",
     "status": "completed"
    },
    "tags": []
   },
   "source": [
    "## 1. Main\n",
    "\n",
    "* Feature analysis\n",
    "* Feature engineering\n",
    "* Modeling"
   ]
  },
  {
   "cell_type": "code",
   "execution_count": 1,
   "id": "241a8a83",
   "metadata": {
    "_cell_guid": "b1076dfc-b9ad-4769-8c92-a6c4dae69d19",
    "_uuid": "8f2839f25d086af736a60e9eeb907d3b93b6e0e5",
    "execution": {
     "iopub.execute_input": "2022-05-30T12:26:11.087652Z",
     "iopub.status.busy": "2022-05-30T12:26:11.087274Z",
     "iopub.status.idle": "2022-05-30T12:26:12.668793Z",
     "shell.execute_reply": "2022-05-30T12:26:12.667670Z"
    },
    "papermill": {
     "duration": 1.67854,
     "end_time": "2022-05-30T12:26:12.671534",
     "exception": false,
     "start_time": "2022-05-30T12:26:10.992994",
     "status": "completed"
    },
    "tags": []
   },
   "outputs": [],
   "source": [
    "import pandas as pd\n",
    "import numpy as np\n",
    "import matplotlib.pyplot as plt\n",
    "import seaborn as sns\n",
    "%matplotlib inline\n",
    "import warnings\n",
    "warnings.filterwarnings('ignore')\n",
    "\n",
    "from collections import Counter\n",
    "\n",
    "from sklearn.ensemble import RandomForestClassifier, AdaBoostClassifier, GradientBoostingClassifier, ExtraTreesClassifier, VotingClassifier\n",
    "from sklearn.discriminant_analysis import LinearDiscriminantAnalysis\n",
    "from sklearn.linear_model import LogisticRegression\n",
    "from sklearn.neighbors import KNeighborsClassifier\n",
    "from sklearn.tree import DecisionTreeClassifier\n",
    "from sklearn.neural_network import MLPClassifier\n",
    "from sklearn.svm import SVC\n",
    "from sklearn.model_selection import GridSearchCV, cross_val_score, StratifiedKFold, learning_curve\n",
    "\n",
    "sns.set(style='white', context='notebook', palette='deep')"
   ]
  },
  {
   "cell_type": "markdown",
   "id": "5b3d60cb",
   "metadata": {
    "papermill": {
     "duration": 0.087659,
     "end_time": "2022-05-30T12:26:12.847733",
     "exception": false,
     "start_time": "2022-05-30T12:26:12.760074",
     "status": "completed"
    },
    "tags": []
   },
   "source": [
    "## 2. Load and check data"
   ]
  },
  {
   "cell_type": "markdown",
   "id": "aff891d4",
   "metadata": {
    "papermill": {
     "duration": 0.086259,
     "end_time": "2022-05-30T12:26:13.019239",
     "exception": false,
     "start_time": "2022-05-30T12:26:12.932980",
     "status": "completed"
    },
    "tags": []
   },
   "source": [
    "### 2.1 Load data"
   ]
  },
  {
   "cell_type": "code",
   "execution_count": 2,
   "id": "1e8957f6",
   "metadata": {
    "execution": {
     "iopub.execute_input": "2022-05-30T12:26:13.191086Z",
     "iopub.status.busy": "2022-05-30T12:26:13.190756Z",
     "iopub.status.idle": "2022-05-30T12:26:13.240562Z",
     "shell.execute_reply": "2022-05-30T12:26:13.239746Z"
    },
    "papermill": {
     "duration": 0.138185,
     "end_time": "2022-05-30T12:26:13.242893",
     "exception": false,
     "start_time": "2022-05-30T12:26:13.104708",
     "status": "completed"
    },
    "tags": []
   },
   "outputs": [],
   "source": [
    "# Load\n",
    "\n",
    "train = pd.read_csv(\"../input/titanic/train.csv\")\n",
    "test = pd.read_csv(\"../input/titanic/test.csv\")\n",
    "IDtest = test['PassengerId']\n"
   ]
  },
  {
   "cell_type": "markdown",
   "id": "c8a053c6",
   "metadata": {
    "papermill": {
     "duration": 0.084795,
     "end_time": "2022-05-30T12:26:13.413019",
     "exception": false,
     "start_time": "2022-05-30T12:26:13.328224",
     "status": "completed"
    },
    "tags": []
   },
   "source": [
    "### 2.2 Outlier detection"
   ]
  },
  {
   "cell_type": "code",
   "execution_count": 3,
   "id": "5324d731",
   "metadata": {
    "execution": {
     "iopub.execute_input": "2022-05-30T12:26:13.585171Z",
     "iopub.status.busy": "2022-05-30T12:26:13.584672Z",
     "iopub.status.idle": "2022-05-30T12:26:13.603634Z",
     "shell.execute_reply": "2022-05-30T12:26:13.602932Z"
    },
    "papermill": {
     "duration": 0.10738,
     "end_time": "2022-05-30T12:26:13.605711",
     "exception": false,
     "start_time": "2022-05-30T12:26:13.498331",
     "status": "completed"
    },
    "tags": []
   },
   "outputs": [],
   "source": [
    "# Outlier detection \n",
    "\n",
    "def detect_outliers(df,n,features):\n",
    "    \"\"\"\n",
    "    Takes a dataframe df of features and returns a list of the indices\n",
    "    corresponding to the observations containing more than n outliers according\n",
    "    to the Tukey method.\n",
    "    \"\"\"\n",
    "    outlier_indices = []\n",
    "    \n",
    "    # iterate over features(columns)\n",
    "    for col in features:\n",
    "        # 1st quartile (25%)\n",
    "        Q1 = np.percentile(df[col], 25)\n",
    "        # 3rd quartile (75%)\n",
    "        Q3 = np.percentile(df[col],75)\n",
    "        # Interquartile range (IQR)\n",
    "        IQR = Q3 - Q1\n",
    "        \n",
    "        # outlier step\n",
    "        outlier_step = 1.5 * IQR\n",
    "        \n",
    "        # Determine a list of indices of outliers for feature col\n",
    "        outlier_list_col = df[(df[col] < Q1 - outlier_step) | (df[col] > Q3 + outlier_step )].index\n",
    "        \n",
    "        # append the found outlier indices for col to the list of outlier indices \n",
    "        outlier_indices.extend(outlier_list_col)\n",
    "        \n",
    "    # select observations containing more than 2 outliers\n",
    "    outlier_indices = Counter(outlier_indices)        \n",
    "    multiple_outliers = list( k for k, v in outlier_indices.items() if v > n )\n",
    "    \n",
    "    return multiple_outliers   \n",
    "\n",
    "# detect outliers from Age, SibSp , Parch and Fare\n",
    "Outliers_to_drop = detect_outliers(train,2,[\"Age\",\"SibSp\",\"Parch\",\"Fare\"])\n",
    "    \n",
    "    \n",
    "    "
   ]
  },
  {
   "cell_type": "code",
   "execution_count": 4,
   "id": "0f7e1a58",
   "metadata": {
    "execution": {
     "iopub.execute_input": "2022-05-30T12:26:13.778371Z",
     "iopub.status.busy": "2022-05-30T12:26:13.777829Z",
     "iopub.status.idle": "2022-05-30T12:26:13.785364Z",
     "shell.execute_reply": "2022-05-30T12:26:13.784683Z"
    },
    "papermill": {
     "duration": 0.096441,
     "end_time": "2022-05-30T12:26:13.787310",
     "exception": false,
     "start_time": "2022-05-30T12:26:13.690869",
     "status": "completed"
    },
    "tags": []
   },
   "outputs": [
    {
     "data": {
      "text/plain": [
       "Index(['PassengerId', 'Survived', 'Pclass', 'Name', 'Sex', 'Age', 'SibSp',\n",
       "       'Parch', 'Ticket', 'Fare', 'Cabin', 'Embarked'],\n",
       "      dtype='object')"
      ]
     },
     "execution_count": 4,
     "metadata": {},
     "output_type": "execute_result"
    }
   ],
   "source": [
    "train.columns"
   ]
  },
  {
   "cell_type": "markdown",
   "id": "2efb4824",
   "metadata": {
    "papermill": {
     "duration": 0.086804,
     "end_time": "2022-05-30T12:26:13.961788",
     "exception": false,
     "start_time": "2022-05-30T12:26:13.874984",
     "status": "completed"
    },
    "tags": []
   },
   "source": [
    "* 분포 값(IQR)의 첫 번째 사분위수와 세 번째 사분위수 사이에 포함된 사분위간 범위를 정의하는 outlier를 탐지하기 위해 Tukey 방법(Tukey JW., 1977)을 사용.\n",
    "* numerical value features 사용(Age, SibSp, Sarch and Fare)"
   ]
  },
  {
   "cell_type": "code",
   "execution_count": 5,
   "id": "dd740522",
   "metadata": {
    "execution": {
     "iopub.execute_input": "2022-05-30T12:26:14.136942Z",
     "iopub.status.busy": "2022-05-30T12:26:14.136454Z",
     "iopub.status.idle": "2022-05-30T12:26:14.158769Z",
     "shell.execute_reply": "2022-05-30T12:26:14.158070Z"
    },
    "papermill": {
     "duration": 0.112343,
     "end_time": "2022-05-30T12:26:14.161202",
     "exception": false,
     "start_time": "2022-05-30T12:26:14.048859",
     "status": "completed"
    },
    "tags": []
   },
   "outputs": [
    {
     "data": {
      "text/html": [
       "<div>\n",
       "<style scoped>\n",
       "    .dataframe tbody tr th:only-of-type {\n",
       "        vertical-align: middle;\n",
       "    }\n",
       "\n",
       "    .dataframe tbody tr th {\n",
       "        vertical-align: top;\n",
       "    }\n",
       "\n",
       "    .dataframe thead th {\n",
       "        text-align: right;\n",
       "    }\n",
       "</style>\n",
       "<table border=\"1\" class=\"dataframe\">\n",
       "  <thead>\n",
       "    <tr style=\"text-align: right;\">\n",
       "      <th></th>\n",
       "      <th>PassengerId</th>\n",
       "      <th>Survived</th>\n",
       "      <th>Pclass</th>\n",
       "      <th>Name</th>\n",
       "      <th>Sex</th>\n",
       "      <th>Age</th>\n",
       "      <th>SibSp</th>\n",
       "      <th>Parch</th>\n",
       "      <th>Ticket</th>\n",
       "      <th>Fare</th>\n",
       "      <th>Cabin</th>\n",
       "      <th>Embarked</th>\n",
       "    </tr>\n",
       "  </thead>\n",
       "  <tbody>\n",
       "    <tr>\n",
       "      <th>27</th>\n",
       "      <td>28</td>\n",
       "      <td>0</td>\n",
       "      <td>1</td>\n",
       "      <td>Fortune, Mr. Charles Alexander</td>\n",
       "      <td>male</td>\n",
       "      <td>19.0</td>\n",
       "      <td>3</td>\n",
       "      <td>2</td>\n",
       "      <td>19950</td>\n",
       "      <td>263.00</td>\n",
       "      <td>C23 C25 C27</td>\n",
       "      <td>S</td>\n",
       "    </tr>\n",
       "    <tr>\n",
       "      <th>88</th>\n",
       "      <td>89</td>\n",
       "      <td>1</td>\n",
       "      <td>1</td>\n",
       "      <td>Fortune, Miss. Mabel Helen</td>\n",
       "      <td>female</td>\n",
       "      <td>23.0</td>\n",
       "      <td>3</td>\n",
       "      <td>2</td>\n",
       "      <td>19950</td>\n",
       "      <td>263.00</td>\n",
       "      <td>C23 C25 C27</td>\n",
       "      <td>S</td>\n",
       "    </tr>\n",
       "    <tr>\n",
       "      <th>159</th>\n",
       "      <td>160</td>\n",
       "      <td>0</td>\n",
       "      <td>3</td>\n",
       "      <td>Sage, Master. Thomas Henry</td>\n",
       "      <td>male</td>\n",
       "      <td>NaN</td>\n",
       "      <td>8</td>\n",
       "      <td>2</td>\n",
       "      <td>CA. 2343</td>\n",
       "      <td>69.55</td>\n",
       "      <td>NaN</td>\n",
       "      <td>S</td>\n",
       "    </tr>\n",
       "    <tr>\n",
       "      <th>180</th>\n",
       "      <td>181</td>\n",
       "      <td>0</td>\n",
       "      <td>3</td>\n",
       "      <td>Sage, Miss. Constance Gladys</td>\n",
       "      <td>female</td>\n",
       "      <td>NaN</td>\n",
       "      <td>8</td>\n",
       "      <td>2</td>\n",
       "      <td>CA. 2343</td>\n",
       "      <td>69.55</td>\n",
       "      <td>NaN</td>\n",
       "      <td>S</td>\n",
       "    </tr>\n",
       "    <tr>\n",
       "      <th>201</th>\n",
       "      <td>202</td>\n",
       "      <td>0</td>\n",
       "      <td>3</td>\n",
       "      <td>Sage, Mr. Frederick</td>\n",
       "      <td>male</td>\n",
       "      <td>NaN</td>\n",
       "      <td>8</td>\n",
       "      <td>2</td>\n",
       "      <td>CA. 2343</td>\n",
       "      <td>69.55</td>\n",
       "      <td>NaN</td>\n",
       "      <td>S</td>\n",
       "    </tr>\n",
       "    <tr>\n",
       "      <th>324</th>\n",
       "      <td>325</td>\n",
       "      <td>0</td>\n",
       "      <td>3</td>\n",
       "      <td>Sage, Mr. George John Jr</td>\n",
       "      <td>male</td>\n",
       "      <td>NaN</td>\n",
       "      <td>8</td>\n",
       "      <td>2</td>\n",
       "      <td>CA. 2343</td>\n",
       "      <td>69.55</td>\n",
       "      <td>NaN</td>\n",
       "      <td>S</td>\n",
       "    </tr>\n",
       "    <tr>\n",
       "      <th>341</th>\n",
       "      <td>342</td>\n",
       "      <td>1</td>\n",
       "      <td>1</td>\n",
       "      <td>Fortune, Miss. Alice Elizabeth</td>\n",
       "      <td>female</td>\n",
       "      <td>24.0</td>\n",
       "      <td>3</td>\n",
       "      <td>2</td>\n",
       "      <td>19950</td>\n",
       "      <td>263.00</td>\n",
       "      <td>C23 C25 C27</td>\n",
       "      <td>S</td>\n",
       "    </tr>\n",
       "    <tr>\n",
       "      <th>792</th>\n",
       "      <td>793</td>\n",
       "      <td>0</td>\n",
       "      <td>3</td>\n",
       "      <td>Sage, Miss. Stella Anna</td>\n",
       "      <td>female</td>\n",
       "      <td>NaN</td>\n",
       "      <td>8</td>\n",
       "      <td>2</td>\n",
       "      <td>CA. 2343</td>\n",
       "      <td>69.55</td>\n",
       "      <td>NaN</td>\n",
       "      <td>S</td>\n",
       "    </tr>\n",
       "    <tr>\n",
       "      <th>846</th>\n",
       "      <td>847</td>\n",
       "      <td>0</td>\n",
       "      <td>3</td>\n",
       "      <td>Sage, Mr. Douglas Bullen</td>\n",
       "      <td>male</td>\n",
       "      <td>NaN</td>\n",
       "      <td>8</td>\n",
       "      <td>2</td>\n",
       "      <td>CA. 2343</td>\n",
       "      <td>69.55</td>\n",
       "      <td>NaN</td>\n",
       "      <td>S</td>\n",
       "    </tr>\n",
       "    <tr>\n",
       "      <th>863</th>\n",
       "      <td>864</td>\n",
       "      <td>0</td>\n",
       "      <td>3</td>\n",
       "      <td>Sage, Miss. Dorothy Edith \"Dolly\"</td>\n",
       "      <td>female</td>\n",
       "      <td>NaN</td>\n",
       "      <td>8</td>\n",
       "      <td>2</td>\n",
       "      <td>CA. 2343</td>\n",
       "      <td>69.55</td>\n",
       "      <td>NaN</td>\n",
       "      <td>S</td>\n",
       "    </tr>\n",
       "  </tbody>\n",
       "</table>\n",
       "</div>"
      ],
      "text/plain": [
       "     PassengerId  Survived  Pclass                               Name     Sex  \\\n",
       "27            28         0       1     Fortune, Mr. Charles Alexander    male   \n",
       "88            89         1       1         Fortune, Miss. Mabel Helen  female   \n",
       "159          160         0       3         Sage, Master. Thomas Henry    male   \n",
       "180          181         0       3       Sage, Miss. Constance Gladys  female   \n",
       "201          202         0       3                Sage, Mr. Frederick    male   \n",
       "324          325         0       3           Sage, Mr. George John Jr    male   \n",
       "341          342         1       1     Fortune, Miss. Alice Elizabeth  female   \n",
       "792          793         0       3            Sage, Miss. Stella Anna  female   \n",
       "846          847         0       3           Sage, Mr. Douglas Bullen    male   \n",
       "863          864         0       3  Sage, Miss. Dorothy Edith \"Dolly\"  female   \n",
       "\n",
       "      Age  SibSp  Parch    Ticket    Fare        Cabin Embarked  \n",
       "27   19.0      3      2     19950  263.00  C23 C25 C27        S  \n",
       "88   23.0      3      2     19950  263.00  C23 C25 C27        S  \n",
       "159   NaN      8      2  CA. 2343   69.55          NaN        S  \n",
       "180   NaN      8      2  CA. 2343   69.55          NaN        S  \n",
       "201   NaN      8      2  CA. 2343   69.55          NaN        S  \n",
       "324   NaN      8      2  CA. 2343   69.55          NaN        S  \n",
       "341  24.0      3      2     19950  263.00  C23 C25 C27        S  \n",
       "792   NaN      8      2  CA. 2343   69.55          NaN        S  \n",
       "846   NaN      8      2  CA. 2343   69.55          NaN        S  \n",
       "863   NaN      8      2  CA. 2343   69.55          NaN        S  "
      ]
     },
     "execution_count": 5,
     "metadata": {},
     "output_type": "execute_result"
    }
   ],
   "source": [
    "# Show outlier row\n",
    "train.loc[Outliers_to_drop]"
   ]
  },
  {
   "cell_type": "markdown",
   "id": "386b74ae",
   "metadata": {
    "papermill": {
     "duration": 0.089979,
     "end_time": "2022-05-30T12:26:14.343101",
     "exception": false,
     "start_time": "2022-05-30T12:26:14.253122",
     "status": "completed"
    },
    "tags": []
   },
   "source": [
    "**10 outliers**\n",
    "* passenger 28, 89, 342 have an high Ticket Fare\n",
    "* othes have very high in SibSP.\n",
    "\n"
   ]
  },
  {
   "cell_type": "code",
   "execution_count": 6,
   "id": "a3cb5abc",
   "metadata": {
    "execution": {
     "iopub.execute_input": "2022-05-30T12:26:14.518592Z",
     "iopub.status.busy": "2022-05-30T12:26:14.517891Z",
     "iopub.status.idle": "2022-05-30T12:26:14.522626Z",
     "shell.execute_reply": "2022-05-30T12:26:14.522032Z"
    },
    "papermill": {
     "duration": 0.094753,
     "end_time": "2022-05-30T12:26:14.524462",
     "exception": false,
     "start_time": "2022-05-30T12:26:14.429709",
     "status": "completed"
    },
    "tags": []
   },
   "outputs": [],
   "source": [
    "# Drop outliers\n",
    "train = train.drop(Outliers_to_drop, axis = 0).reset_index(drop=True)"
   ]
  },
  {
   "cell_type": "markdown",
   "id": "b4681ab1",
   "metadata": {
    "papermill": {
     "duration": 0.086965,
     "end_time": "2022-05-30T12:26:14.699619",
     "exception": false,
     "start_time": "2022-05-30T12:26:14.612654",
     "status": "completed"
    },
    "tags": []
   },
   "source": [
    "**reset_index**\n",
    "\n",
    "인덱스 초기화하고 재배열해주는 함수, 데이터 전처리 하다보면 인덱스 뒤죽박죽됨.\n",
    "\n",
    "* drop = True 기존 인덱스 버리고 재배열\n",
    "* inplace = True "
   ]
  },
  {
   "cell_type": "markdown",
   "id": "5b34b712",
   "metadata": {
    "papermill": {
     "duration": 0.086921,
     "end_time": "2022-05-30T12:26:14.873550",
     "exception": false,
     "start_time": "2022-05-30T12:26:14.786629",
     "status": "completed"
    },
    "tags": []
   },
   "source": [
    "### 2.3 joining train and test set"
   ]
  },
  {
   "cell_type": "code",
   "execution_count": 7,
   "id": "2330961c",
   "metadata": {
    "execution": {
     "iopub.execute_input": "2022-05-30T12:26:15.050929Z",
     "iopub.status.busy": "2022-05-30T12:26:15.050408Z",
     "iopub.status.idle": "2022-05-30T12:26:15.061104Z",
     "shell.execute_reply": "2022-05-30T12:26:15.060360Z"
    },
    "papermill": {
     "duration": 0.102231,
     "end_time": "2022-05-30T12:26:15.063530",
     "exception": false,
     "start_time": "2022-05-30T12:26:14.961299",
     "status": "completed"
    },
    "tags": []
   },
   "outputs": [],
   "source": [
    "# concatenating dataframes\n",
    "# 데이터프레임 합치기\n",
    "\n",
    "train_len = len(train)\n",
    "dataset = pd.concat(objs=[train, test], axis=0).reset_index(drop=True)"
   ]
  },
  {
   "cell_type": "markdown",
   "id": "1b3e3861",
   "metadata": {
    "papermill": {
     "duration": 0.086489,
     "end_time": "2022-05-30T12:26:15.237784",
     "exception": false,
     "start_time": "2022-05-30T12:26:15.151295",
     "status": "completed"
    },
    "tags": []
   },
   "source": [
    "### 2.4 check for null and missing values"
   ]
  },
  {
   "cell_type": "code",
   "execution_count": 8,
   "id": "95a5822c",
   "metadata": {
    "execution": {
     "iopub.execute_input": "2022-05-30T12:26:15.417775Z",
     "iopub.status.busy": "2022-05-30T12:26:15.417490Z",
     "iopub.status.idle": "2022-05-30T12:26:15.427827Z",
     "shell.execute_reply": "2022-05-30T12:26:15.427249Z"
    },
    "papermill": {
     "duration": 0.1023,
     "end_time": "2022-05-30T12:26:15.429888",
     "exception": false,
     "start_time": "2022-05-30T12:26:15.327588",
     "status": "completed"
    },
    "tags": []
   },
   "outputs": [
    {
     "data": {
      "text/plain": [
       "PassengerId       0\n",
       "Survived        418\n",
       "Pclass            0\n",
       "Name              0\n",
       "Sex               0\n",
       "Age             256\n",
       "SibSp             0\n",
       "Parch             0\n",
       "Ticket            0\n",
       "Fare              1\n",
       "Cabin          1007\n",
       "Embarked          2\n",
       "dtype: int64"
      ]
     },
     "execution_count": 8,
     "metadata": {},
     "output_type": "execute_result"
    }
   ],
   "source": [
    "# Fill empty and NaNs values with NaN\n",
    "dataset = dataset.fillna(np.nan)\n",
    "\n",
    "# Check for Null values\n",
    "dataset.isnull().sum()"
   ]
  },
  {
   "cell_type": "markdown",
   "id": "1271acd3",
   "metadata": {
    "papermill": {
     "duration": 0.086165,
     "end_time": "2022-05-30T12:26:15.604282",
     "exception": false,
     "start_time": "2022-05-30T12:26:15.518117",
     "status": "completed"
    },
    "tags": []
   },
   "source": [
    "결측치에서 Age와 Cabin이 중요한 피처임을 확인"
   ]
  },
  {
   "cell_type": "code",
   "execution_count": 9,
   "id": "145fb0e3",
   "metadata": {
    "execution": {
     "iopub.execute_input": "2022-05-30T12:26:15.782247Z",
     "iopub.status.busy": "2022-05-30T12:26:15.781327Z",
     "iopub.status.idle": "2022-05-30T12:26:15.805913Z",
     "shell.execute_reply": "2022-05-30T12:26:15.805046Z"
    },
    "papermill": {
     "duration": 0.117742,
     "end_time": "2022-05-30T12:26:15.808646",
     "exception": false,
     "start_time": "2022-05-30T12:26:15.690904",
     "status": "completed"
    },
    "tags": []
   },
   "outputs": [
    {
     "name": "stdout",
     "output_type": "stream",
     "text": [
      "<class 'pandas.core.frame.DataFrame'>\n",
      "RangeIndex: 881 entries, 0 to 880\n",
      "Data columns (total 12 columns):\n",
      " #   Column       Non-Null Count  Dtype  \n",
      "---  ------       --------------  -----  \n",
      " 0   PassengerId  881 non-null    int64  \n",
      " 1   Survived     881 non-null    int64  \n",
      " 2   Pclass       881 non-null    int64  \n",
      " 3   Name         881 non-null    object \n",
      " 4   Sex          881 non-null    object \n",
      " 5   Age          711 non-null    float64\n",
      " 6   SibSp        881 non-null    int64  \n",
      " 7   Parch        881 non-null    int64  \n",
      " 8   Ticket       881 non-null    object \n",
      " 9   Fare         881 non-null    float64\n",
      " 10  Cabin        201 non-null    object \n",
      " 11  Embarked     879 non-null    object \n",
      "dtypes: float64(2), int64(5), object(5)\n",
      "memory usage: 82.7+ KB\n"
     ]
    },
    {
     "data": {
      "text/plain": [
       "PassengerId      0\n",
       "Survived         0\n",
       "Pclass           0\n",
       "Name             0\n",
       "Sex              0\n",
       "Age            170\n",
       "SibSp            0\n",
       "Parch            0\n",
       "Ticket           0\n",
       "Fare             0\n",
       "Cabin          680\n",
       "Embarked         2\n",
       "dtype: int64"
      ]
     },
     "execution_count": 9,
     "metadata": {},
     "output_type": "execute_result"
    }
   ],
   "source": [
    "# Infos\n",
    "train.info()\n",
    "train.isnull().sum()"
   ]
  },
  {
   "cell_type": "code",
   "execution_count": 10,
   "id": "433caf23",
   "metadata": {
    "execution": {
     "iopub.execute_input": "2022-05-30T12:26:15.987459Z",
     "iopub.status.busy": "2022-05-30T12:26:15.986653Z",
     "iopub.status.idle": "2022-05-30T12:26:16.003226Z",
     "shell.execute_reply": "2022-05-30T12:26:16.002298Z"
    },
    "papermill": {
     "duration": 0.109062,
     "end_time": "2022-05-30T12:26:16.005636",
     "exception": false,
     "start_time": "2022-05-30T12:26:15.896574",
     "status": "completed"
    },
    "tags": []
   },
   "outputs": [
    {
     "data": {
      "text/html": [
       "<div>\n",
       "<style scoped>\n",
       "    .dataframe tbody tr th:only-of-type {\n",
       "        vertical-align: middle;\n",
       "    }\n",
       "\n",
       "    .dataframe tbody tr th {\n",
       "        vertical-align: top;\n",
       "    }\n",
       "\n",
       "    .dataframe thead th {\n",
       "        text-align: right;\n",
       "    }\n",
       "</style>\n",
       "<table border=\"1\" class=\"dataframe\">\n",
       "  <thead>\n",
       "    <tr style=\"text-align: right;\">\n",
       "      <th></th>\n",
       "      <th>PassengerId</th>\n",
       "      <th>Survived</th>\n",
       "      <th>Pclass</th>\n",
       "      <th>Name</th>\n",
       "      <th>Sex</th>\n",
       "      <th>Age</th>\n",
       "      <th>SibSp</th>\n",
       "      <th>Parch</th>\n",
       "      <th>Ticket</th>\n",
       "      <th>Fare</th>\n",
       "      <th>Cabin</th>\n",
       "      <th>Embarked</th>\n",
       "    </tr>\n",
       "  </thead>\n",
       "  <tbody>\n",
       "    <tr>\n",
       "      <th>0</th>\n",
       "      <td>1</td>\n",
       "      <td>0</td>\n",
       "      <td>3</td>\n",
       "      <td>Braund, Mr. Owen Harris</td>\n",
       "      <td>male</td>\n",
       "      <td>22.0</td>\n",
       "      <td>1</td>\n",
       "      <td>0</td>\n",
       "      <td>A/5 21171</td>\n",
       "      <td>7.2500</td>\n",
       "      <td>NaN</td>\n",
       "      <td>S</td>\n",
       "    </tr>\n",
       "    <tr>\n",
       "      <th>1</th>\n",
       "      <td>2</td>\n",
       "      <td>1</td>\n",
       "      <td>1</td>\n",
       "      <td>Cumings, Mrs. John Bradley (Florence Briggs Th...</td>\n",
       "      <td>female</td>\n",
       "      <td>38.0</td>\n",
       "      <td>1</td>\n",
       "      <td>0</td>\n",
       "      <td>PC 17599</td>\n",
       "      <td>71.2833</td>\n",
       "      <td>C85</td>\n",
       "      <td>C</td>\n",
       "    </tr>\n",
       "    <tr>\n",
       "      <th>2</th>\n",
       "      <td>3</td>\n",
       "      <td>1</td>\n",
       "      <td>3</td>\n",
       "      <td>Heikkinen, Miss. Laina</td>\n",
       "      <td>female</td>\n",
       "      <td>26.0</td>\n",
       "      <td>0</td>\n",
       "      <td>0</td>\n",
       "      <td>STON/O2. 3101282</td>\n",
       "      <td>7.9250</td>\n",
       "      <td>NaN</td>\n",
       "      <td>S</td>\n",
       "    </tr>\n",
       "    <tr>\n",
       "      <th>3</th>\n",
       "      <td>4</td>\n",
       "      <td>1</td>\n",
       "      <td>1</td>\n",
       "      <td>Futrelle, Mrs. Jacques Heath (Lily May Peel)</td>\n",
       "      <td>female</td>\n",
       "      <td>35.0</td>\n",
       "      <td>1</td>\n",
       "      <td>0</td>\n",
       "      <td>113803</td>\n",
       "      <td>53.1000</td>\n",
       "      <td>C123</td>\n",
       "      <td>S</td>\n",
       "    </tr>\n",
       "    <tr>\n",
       "      <th>4</th>\n",
       "      <td>5</td>\n",
       "      <td>0</td>\n",
       "      <td>3</td>\n",
       "      <td>Allen, Mr. William Henry</td>\n",
       "      <td>male</td>\n",
       "      <td>35.0</td>\n",
       "      <td>0</td>\n",
       "      <td>0</td>\n",
       "      <td>373450</td>\n",
       "      <td>8.0500</td>\n",
       "      <td>NaN</td>\n",
       "      <td>S</td>\n",
       "    </tr>\n",
       "  </tbody>\n",
       "</table>\n",
       "</div>"
      ],
      "text/plain": [
       "   PassengerId  Survived  Pclass  \\\n",
       "0            1         0       3   \n",
       "1            2         1       1   \n",
       "2            3         1       3   \n",
       "3            4         1       1   \n",
       "4            5         0       3   \n",
       "\n",
       "                                                Name     Sex   Age  SibSp  \\\n",
       "0                            Braund, Mr. Owen Harris    male  22.0      1   \n",
       "1  Cumings, Mrs. John Bradley (Florence Briggs Th...  female  38.0      1   \n",
       "2                             Heikkinen, Miss. Laina  female  26.0      0   \n",
       "3       Futrelle, Mrs. Jacques Heath (Lily May Peel)  female  35.0      1   \n",
       "4                           Allen, Mr. William Henry    male  35.0      0   \n",
       "\n",
       "   Parch            Ticket     Fare Cabin Embarked  \n",
       "0      0         A/5 21171   7.2500   NaN        S  \n",
       "1      0          PC 17599  71.2833   C85        C  \n",
       "2      0  STON/O2. 3101282   7.9250   NaN        S  \n",
       "3      0            113803  53.1000  C123        S  \n",
       "4      0            373450   8.0500   NaN        S  "
      ]
     },
     "execution_count": 10,
     "metadata": {},
     "output_type": "execute_result"
    }
   ],
   "source": [
    "train.head()"
   ]
  },
  {
   "cell_type": "code",
   "execution_count": 11,
   "id": "407ddbe4",
   "metadata": {
    "execution": {
     "iopub.execute_input": "2022-05-30T12:26:16.187792Z",
     "iopub.status.busy": "2022-05-30T12:26:16.187363Z",
     "iopub.status.idle": "2022-05-30T12:26:16.194439Z",
     "shell.execute_reply": "2022-05-30T12:26:16.193556Z"
    },
    "papermill": {
     "duration": 0.099734,
     "end_time": "2022-05-30T12:26:16.196316",
     "exception": false,
     "start_time": "2022-05-30T12:26:16.096582",
     "status": "completed"
    },
    "tags": []
   },
   "outputs": [
    {
     "data": {
      "text/plain": [
       "PassengerId      int64\n",
       "Survived         int64\n",
       "Pclass           int64\n",
       "Name            object\n",
       "Sex             object\n",
       "Age            float64\n",
       "SibSp            int64\n",
       "Parch            int64\n",
       "Ticket          object\n",
       "Fare           float64\n",
       "Cabin           object\n",
       "Embarked        object\n",
       "dtype: object"
      ]
     },
     "execution_count": 11,
     "metadata": {},
     "output_type": "execute_result"
    }
   ],
   "source": [
    "train.dtypes"
   ]
  },
  {
   "cell_type": "code",
   "execution_count": 12,
   "id": "da81183e",
   "metadata": {
    "execution": {
     "iopub.execute_input": "2022-05-30T12:26:16.377669Z",
     "iopub.status.busy": "2022-05-30T12:26:16.377147Z",
     "iopub.status.idle": "2022-05-30T12:26:16.406519Z",
     "shell.execute_reply": "2022-05-30T12:26:16.405672Z"
    },
    "papermill": {
     "duration": 0.123399,
     "end_time": "2022-05-30T12:26:16.408814",
     "exception": false,
     "start_time": "2022-05-30T12:26:16.285415",
     "status": "completed"
    },
    "tags": []
   },
   "outputs": [
    {
     "data": {
      "text/html": [
       "<div>\n",
       "<style scoped>\n",
       "    .dataframe tbody tr th:only-of-type {\n",
       "        vertical-align: middle;\n",
       "    }\n",
       "\n",
       "    .dataframe tbody tr th {\n",
       "        vertical-align: top;\n",
       "    }\n",
       "\n",
       "    .dataframe thead th {\n",
       "        text-align: right;\n",
       "    }\n",
       "</style>\n",
       "<table border=\"1\" class=\"dataframe\">\n",
       "  <thead>\n",
       "    <tr style=\"text-align: right;\">\n",
       "      <th></th>\n",
       "      <th>PassengerId</th>\n",
       "      <th>Survived</th>\n",
       "      <th>Pclass</th>\n",
       "      <th>Age</th>\n",
       "      <th>SibSp</th>\n",
       "      <th>Parch</th>\n",
       "      <th>Fare</th>\n",
       "    </tr>\n",
       "  </thead>\n",
       "  <tbody>\n",
       "    <tr>\n",
       "      <th>count</th>\n",
       "      <td>881.000000</td>\n",
       "      <td>881.000000</td>\n",
       "      <td>881.000000</td>\n",
       "      <td>711.000000</td>\n",
       "      <td>881.000000</td>\n",
       "      <td>881.000000</td>\n",
       "      <td>881.000000</td>\n",
       "    </tr>\n",
       "    <tr>\n",
       "      <th>mean</th>\n",
       "      <td>446.713961</td>\n",
       "      <td>0.385925</td>\n",
       "      <td>2.307605</td>\n",
       "      <td>29.731603</td>\n",
       "      <td>0.455165</td>\n",
       "      <td>0.363224</td>\n",
       "      <td>31.121566</td>\n",
       "    </tr>\n",
       "    <tr>\n",
       "      <th>std</th>\n",
       "      <td>256.617021</td>\n",
       "      <td>0.487090</td>\n",
       "      <td>0.835055</td>\n",
       "      <td>14.547835</td>\n",
       "      <td>0.871571</td>\n",
       "      <td>0.791839</td>\n",
       "      <td>47.996249</td>\n",
       "    </tr>\n",
       "    <tr>\n",
       "      <th>min</th>\n",
       "      <td>1.000000</td>\n",
       "      <td>0.000000</td>\n",
       "      <td>1.000000</td>\n",
       "      <td>0.420000</td>\n",
       "      <td>0.000000</td>\n",
       "      <td>0.000000</td>\n",
       "      <td>0.000000</td>\n",
       "    </tr>\n",
       "    <tr>\n",
       "      <th>25%</th>\n",
       "      <td>226.000000</td>\n",
       "      <td>0.000000</td>\n",
       "      <td>2.000000</td>\n",
       "      <td>20.250000</td>\n",
       "      <td>0.000000</td>\n",
       "      <td>0.000000</td>\n",
       "      <td>7.895800</td>\n",
       "    </tr>\n",
       "    <tr>\n",
       "      <th>50%</th>\n",
       "      <td>448.000000</td>\n",
       "      <td>0.000000</td>\n",
       "      <td>3.000000</td>\n",
       "      <td>28.000000</td>\n",
       "      <td>0.000000</td>\n",
       "      <td>0.000000</td>\n",
       "      <td>14.454200</td>\n",
       "    </tr>\n",
       "    <tr>\n",
       "      <th>75%</th>\n",
       "      <td>668.000000</td>\n",
       "      <td>1.000000</td>\n",
       "      <td>3.000000</td>\n",
       "      <td>38.000000</td>\n",
       "      <td>1.000000</td>\n",
       "      <td>0.000000</td>\n",
       "      <td>30.500000</td>\n",
       "    </tr>\n",
       "    <tr>\n",
       "      <th>max</th>\n",
       "      <td>891.000000</td>\n",
       "      <td>1.000000</td>\n",
       "      <td>3.000000</td>\n",
       "      <td>80.000000</td>\n",
       "      <td>5.000000</td>\n",
       "      <td>6.000000</td>\n",
       "      <td>512.329200</td>\n",
       "    </tr>\n",
       "  </tbody>\n",
       "</table>\n",
       "</div>"
      ],
      "text/plain": [
       "       PassengerId    Survived      Pclass         Age       SibSp  \\\n",
       "count   881.000000  881.000000  881.000000  711.000000  881.000000   \n",
       "mean    446.713961    0.385925    2.307605   29.731603    0.455165   \n",
       "std     256.617021    0.487090    0.835055   14.547835    0.871571   \n",
       "min       1.000000    0.000000    1.000000    0.420000    0.000000   \n",
       "25%     226.000000    0.000000    2.000000   20.250000    0.000000   \n",
       "50%     448.000000    0.000000    3.000000   28.000000    0.000000   \n",
       "75%     668.000000    1.000000    3.000000   38.000000    1.000000   \n",
       "max     891.000000    1.000000    3.000000   80.000000    5.000000   \n",
       "\n",
       "            Parch        Fare  \n",
       "count  881.000000  881.000000  \n",
       "mean     0.363224   31.121566  \n",
       "std      0.791839   47.996249  \n",
       "min      0.000000    0.000000  \n",
       "25%      0.000000    7.895800  \n",
       "50%      0.000000   14.454200  \n",
       "75%      0.000000   30.500000  \n",
       "max      6.000000  512.329200  "
      ]
     },
     "execution_count": 12,
     "metadata": {},
     "output_type": "execute_result"
    }
   ],
   "source": [
    "## Summarize data\n",
    "# Summarie and statistics\n",
    "train.describe()"
   ]
  },
  {
   "cell_type": "markdown",
   "id": "cee137bd",
   "metadata": {
    "papermill": {
     "duration": 0.089976,
     "end_time": "2022-05-30T12:26:16.589869",
     "exception": false,
     "start_time": "2022-05-30T12:26:16.499893",
     "status": "completed"
    },
    "tags": []
   },
   "source": [
    "## 3.Feature analysis\n",
    "\n",
    "\n",
    "### 3.1 Numerical values"
   ]
  },
  {
   "cell_type": "code",
   "execution_count": 13,
   "id": "35653388",
   "metadata": {
    "execution": {
     "iopub.execute_input": "2022-05-30T12:26:16.770421Z",
     "iopub.status.busy": "2022-05-30T12:26:16.769888Z",
     "iopub.status.idle": "2022-05-30T12:26:17.099716Z",
     "shell.execute_reply": "2022-05-30T12:26:17.098768Z"
    },
    "papermill": {
     "duration": 0.422935,
     "end_time": "2022-05-30T12:26:17.102164",
     "exception": false,
     "start_time": "2022-05-30T12:26:16.679229",
     "status": "completed"
    },
    "tags": []
   },
   "outputs": [
    {
     "data": {
      "image/png": "[encoded data removed]",
      "text/plain": [
       "<Figure size 432x288 with 2 Axes>"
      ]
     },
     "metadata": {},
     "output_type": "display_data"
    }
   ],
   "source": [
    "# Correlation.matirx between numerical values (SibSp Parch Age and Fare values) and Survived\n",
    "\n",
    "g = sns.heatmap(train[[\"Survived\", \"SibSp\", \"Parch\", \"Age\", \"Fare\"]].corr(),annot=True, fmt = \".2f\", cmap = \"coolwarm\")"
   ]
  },
  {
   "cell_type": "markdown",
   "id": "cac56bca",
   "metadata": {
    "papermill": {
     "duration": 0.091696,
     "end_time": "2022-05-30T12:26:17.284530",
     "exception": false,
     "start_time": "2022-05-30T12:26:17.192834",
     "status": "completed"
    },
    "tags": []
   },
   "source": [
    "**SibSP**"
   ]
  },
  {
   "cell_type": "code",
   "execution_count": 14,
   "id": "6fc5cc70",
   "metadata": {
    "execution": {
     "iopub.execute_input": "2022-05-30T12:26:17.469139Z",
     "iopub.status.busy": "2022-05-30T12:26:17.468604Z",
     "iopub.status.idle": "2022-05-30T12:26:17.987266Z",
     "shell.execute_reply": "2022-05-30T12:26:17.986360Z"
    },
    "papermill": {
     "duration": 0.613739,
     "end_time": "2022-05-30T12:26:17.989423",
     "exception": false,
     "start_time": "2022-05-30T12:26:17.375684",
     "status": "completed"
    },
    "tags": []
   },
   "outputs": [
    {
     "data": {
      "image/png": "[encoded data removed]",
      "text/plain": [
       "<Figure size 432x432 with 1 Axes>"
      ]
     },
     "metadata": {},
     "output_type": "display_data"
    }
   ],
   "source": [
    "# Explore SibSp feature vs Survived\n",
    "g = sns.factorplot(x=\"SibSp\", y=\"Survived\", data=train, kind='bar', size = 6, palette = \"muted\")\n",
    "g.despine(left=True)\n",
    "g = g.set_ylabels(\"survival probability\")"
   ]
  },
  {
   "cell_type": "markdown",
   "id": "6a76390f",
   "metadata": {
    "papermill": {
     "duration": 0.090908,
     "end_time": "2022-05-30T12:26:18.174546",
     "exception": false,
     "start_time": "2022-05-30T12:26:18.083638",
     "status": "completed"
    },
    "tags": []
   },
   "source": [
    "passenges having a lot of siblings/spouses have less chance to survive.\n",
    "\n",
    "Single passengers(0 Sib) or with two other persons(1 of 2) have more chance to survive."
   ]
  },
  {
   "cell_type": "markdown",
   "id": "532047cd",
   "metadata": {
    "papermill": {
     "duration": 0.091504,
     "end_time": "2022-05-30T12:26:18.357550",
     "exception": false,
     "start_time": "2022-05-30T12:26:18.266046",
     "status": "completed"
    },
    "tags": []
   },
   "source": [
    "**Parch**"
   ]
  },
  {
   "cell_type": "code",
   "execution_count": 15,
   "id": "3c51bdab",
   "metadata": {
    "execution": {
     "iopub.execute_input": "2022-05-30T12:26:18.543756Z",
     "iopub.status.busy": "2022-05-30T12:26:18.542844Z",
     "iopub.status.idle": "2022-05-30T12:26:19.062661Z",
     "shell.execute_reply": "2022-05-30T12:26:19.061619Z"
    },
    "papermill": {
     "duration": 0.615994,
     "end_time": "2022-05-30T12:26:19.065348",
     "exception": false,
     "start_time": "2022-05-30T12:26:18.449354",
     "status": "completed"
    },
    "tags": []
   },
   "outputs": [
    {
     "data": {
      "image/png": "[encoded data removed]",
      "text/plain": [
       "<Figure size 432x432 with 1 Axes>"
      ]
     },
     "metadata": {},
     "output_type": "display_data"
    }
   ],
   "source": [
    "# Explore Parch feature vs Survived\n",
    "g = sns.factorplot(x=\"Parch\", y=\"Survived\", data=train, kind=\"bar\", size=6, palette = \"muted\")\n",
    "g.despine(left=True)\n",
    "g = g.set_ylabels(\"survival probability\")"
   ]
  },
  {
   "cell_type": "markdown",
   "id": "3a831afc",
   "metadata": {
    "papermill": {
     "duration": 0.092237,
     "end_time": "2022-05-30T12:26:19.249877",
     "exception": false,
     "start_time": "2022-05-30T12:26:19.157640",
     "status": "completed"
    },
    "tags": []
   },
   "source": [
    "Small families have more chance to survive, more than single (Parch 0), medium (Parch 3,4) and large families (Parch 5,6 ).\n",
    "\n",
    "\n",
    "Be carefull there is an important standard deviation in the survival of passengers with 3 parents/children"
   ]
  },
  {
   "cell_type": "markdown",
   "id": "f6420c4f",
   "metadata": {
    "papermill": {
     "duration": 0.094709,
     "end_time": "2022-05-30T12:26:19.438129",
     "exception": false,
     "start_time": "2022-05-30T12:26:19.343420",
     "status": "completed"
    },
    "tags": []
   },
   "source": [
    "**Age**"
   ]
  },
  {
   "cell_type": "code",
   "execution_count": 16,
   "id": "93c478c5",
   "metadata": {
    "execution": {
     "iopub.execute_input": "2022-05-30T12:26:19.629008Z",
     "iopub.status.busy": "2022-05-30T12:26:19.628752Z",
     "iopub.status.idle": "2022-05-30T12:26:20.249663Z",
     "shell.execute_reply": "2022-05-30T12:26:20.248716Z"
    },
    "papermill": {
     "duration": 0.71977,
     "end_time": "2022-05-30T12:26:20.251807",
     "exception": false,
     "start_time": "2022-05-30T12:26:19.532037",
     "status": "completed"
    },
    "tags": []
   },
   "outputs": [
    {
     "data": {
      "image/png": "[encoded data removed]",
      "text/plain": [
       "<Figure size 432x216 with 2 Axes>"
      ]
     },
     "metadata": {},
     "output_type": "display_data"
    }
   ],
   "source": [
    "# Age vs Survived\n",
    "g = sns.FacetGrid(train, col='Survived')\n",
    "g = g.map(sns.distplot, \"Age\")"
   ]
  },
  {
   "cell_type": "code",
   "execution_count": 17,
   "id": "9be3a3da",
   "metadata": {
    "execution": {
     "iopub.execute_input": "2022-05-30T12:26:20.443124Z",
     "iopub.status.busy": "2022-05-30T12:26:20.442817Z",
     "iopub.status.idle": "2022-05-30T12:26:20.708424Z",
     "shell.execute_reply": "2022-05-30T12:26:20.707554Z"
    },
    "papermill": {
     "duration": 0.364144,
     "end_time": "2022-05-30T12:26:20.710818",
     "exception": false,
     "start_time": "2022-05-30T12:26:20.346674",
     "status": "completed"
    },
    "tags": []
   },
   "outputs": [
    {
     "data": {
      "image/png": "[encoded data removed]",
      "text/plain": [
       "<Figure size 432x288 with 1 Axes>"
      ]
     },
     "metadata": {},
     "output_type": "display_data"
    }
   ],
   "source": [
    "# Age distibution\n",
    "g = sns.kdeplot(train[\"Age\"][(train[\"Survived\"] == 0) & (train[\"Age\"].notnull())], color=\"Red\", shade = True)\n",
    "g = sns.kdeplot(train[\"Age\"][(train[\"Survived\"] == 1) & (train[\"Age\"].notnull())], ax= g, color=\"Blue\", shade= True)\n",
    "g.set_xlabel(\"Age\")\n",
    "g.set_ylabel(\"Frequency\")\n",
    "g = g.legend([\"Not Survived\", \"Survived\"])"
   ]
  },
  {
   "cell_type": "markdown",
   "id": "2828f25f",
   "metadata": {
    "papermill": {
     "duration": 0.113456,
     "end_time": "2022-05-30T12:26:20.923931",
     "exception": false,
     "start_time": "2022-05-30T12:26:20.810475",
     "status": "completed"
    },
    "tags": []
   },
   "source": [
    "can see a peak between 0 and 5"
   ]
  },
  {
   "cell_type": "markdown",
   "id": "9324e565",
   "metadata": {
    "papermill": {
     "duration": 0.095333,
     "end_time": "2022-05-30T12:26:21.115480",
     "exception": false,
     "start_time": "2022-05-30T12:26:21.020147",
     "status": "completed"
    },
    "tags": []
   },
   "source": [
    "**Fare**"
   ]
  },
  {
   "cell_type": "code",
   "execution_count": 18,
   "id": "567f67c2",
   "metadata": {
    "execution": {
     "iopub.execute_input": "2022-05-30T12:26:21.308674Z",
     "iopub.status.busy": "2022-05-30T12:26:21.308401Z",
     "iopub.status.idle": "2022-05-30T12:26:21.315786Z",
     "shell.execute_reply": "2022-05-30T12:26:21.314794Z"
    },
    "papermill": {
     "duration": 0.106352,
     "end_time": "2022-05-30T12:26:21.317972",
     "exception": false,
     "start_time": "2022-05-30T12:26:21.211620",
     "status": "completed"
    },
    "tags": []
   },
   "outputs": [
    {
     "data": {
      "text/plain": [
       "1"
      ]
     },
     "execution_count": 18,
     "metadata": {},
     "output_type": "execute_result"
    }
   ],
   "source": [
    "dataset[\"Fare\"].isnull().sum()"
   ]
  },
  {
   "cell_type": "code",
   "execution_count": 19,
   "id": "f344707b",
   "metadata": {
    "execution": {
     "iopub.execute_input": "2022-05-30T12:26:21.514008Z",
     "iopub.status.busy": "2022-05-30T12:26:21.513677Z",
     "iopub.status.idle": "2022-05-30T12:26:21.518849Z",
     "shell.execute_reply": "2022-05-30T12:26:21.518245Z"
    },
    "papermill": {
     "duration": 0.104745,
     "end_time": "2022-05-30T12:26:21.520593",
     "exception": false,
     "start_time": "2022-05-30T12:26:21.415848",
     "status": "completed"
    },
    "tags": []
   },
   "outputs": [],
   "source": [
    "# Fill Fare missing values with the median value\n",
    "dataset[\"Fare\"] = dataset[\"Fare\"].fillna(dataset[\"Fare\"].median())"
   ]
  },
  {
   "cell_type": "code",
   "execution_count": 20,
   "id": "4883b069",
   "metadata": {
    "execution": {
     "iopub.execute_input": "2022-05-30T12:26:21.717080Z",
     "iopub.status.busy": "2022-05-30T12:26:21.716546Z",
     "iopub.status.idle": "2022-05-30T12:26:22.080057Z",
     "shell.execute_reply": "2022-05-30T12:26:22.079308Z"
    },
    "papermill": {
     "duration": 0.463893,
     "end_time": "2022-05-30T12:26:22.082478",
     "exception": false,
     "start_time": "2022-05-30T12:26:21.618585",
     "status": "completed"
    },
    "tags": []
   },
   "outputs": [
    {
     "data": {
      "image/png": "[encoded data removed]",
      "text/plain": [
       "<Figure size 432x288 with 1 Axes>"
      ]
     },
     "metadata": {},
     "output_type": "display_data"
    }
   ],
   "source": [
    "# Explore Fare distribution\n",
    "g = sns.distplot(dataset[\"Fare\"], color=\"m\", label=\"Skewness : %.2f\"%(dataset[\"Fare\"].skew()))\n",
    "g = g.legend(loc=\"best\")"
   ]
  },
  {
   "cell_type": "markdown",
   "id": "214efff4",
   "metadata": {
    "papermill": {
     "duration": 0.095385,
     "end_time": "2022-05-30T12:26:22.274984",
     "exception": false,
     "start_time": "2022-05-30T12:26:22.179599",
     "status": "completed"
    },
    "tags": []
   },
   "source": [
    "분포가 비대칭적임. This can lead to overweigth very high values in the model, even if it is scaled.\n",
    "\n",
    "better to transform it with the log function to reduce tis skew."
   ]
  },
  {
   "cell_type": "code",
   "execution_count": 21,
   "id": "54241db4",
   "metadata": {
    "execution": {
     "iopub.execute_input": "2022-05-30T12:26:22.470548Z",
     "iopub.status.busy": "2022-05-30T12:26:22.469984Z",
     "iopub.status.idle": "2022-05-30T12:26:22.477728Z",
     "shell.execute_reply": "2022-05-30T12:26:22.477164Z"
    },
    "papermill": {
     "duration": 0.107537,
     "end_time": "2022-05-30T12:26:22.479852",
     "exception": false,
     "start_time": "2022-05-30T12:26:22.372315",
     "status": "completed"
    },
    "tags": []
   },
   "outputs": [],
   "source": [
    "# Apply log to Fare to reduce skewness distribution\n",
    "dataset[\"Fare\"] = dataset[\"Fare\"].map(lambda i: np.log(i) if i > 0 else 0)"
   ]
  },
  {
   "cell_type": "code",
   "execution_count": 22,
   "id": "781a1f4b",
   "metadata": {
    "execution": {
     "iopub.execute_input": "2022-05-30T12:26:22.674823Z",
     "iopub.status.busy": "2022-05-30T12:26:22.674302Z",
     "iopub.status.idle": "2022-05-30T12:26:23.125706Z",
     "shell.execute_reply": "2022-05-30T12:26:23.125072Z"
    },
    "papermill": {
     "duration": 0.551224,
     "end_time": "2022-05-30T12:26:23.127781",
     "exception": false,
     "start_time": "2022-05-30T12:26:22.576557",
     "status": "completed"
    },
    "tags": []
   },
   "outputs": [
    {
     "data": {
      "image/png": "[encoded data removed]",
      "text/plain": [
       "<Figure size 432x288 with 1 Axes>"
      ]
     },
     "metadata": {},
     "output_type": "display_data"
    }
   ],
   "source": [
    "g = sns.distplot(dataset[\"Fare\"], color=\"b\", label=\"Skewness : %.2f\"%(dataset[\"Fare\"].skew()))\n",
    "g = g.legend(loc=\"best\")"
   ]
  },
  {
   "cell_type": "code",
   "execution_count": 23,
   "id": "b365d5b8",
   "metadata": {
    "execution": {
     "iopub.execute_input": "2022-05-30T12:26:23.329298Z",
     "iopub.status.busy": "2022-05-30T12:26:23.328723Z",
     "iopub.status.idle": "2022-05-30T12:26:23.342831Z",
     "shell.execute_reply": "2022-05-30T12:26:23.341794Z"
    },
    "papermill": {
     "duration": 0.117255,
     "end_time": "2022-05-30T12:26:23.345049",
     "exception": false,
     "start_time": "2022-05-30T12:26:23.227794",
     "status": "completed"
    },
    "tags": []
   },
   "outputs": [
    {
     "data": {
      "text/html": [
       "<div>\n",
       "<style scoped>\n",
       "    .dataframe tbody tr th:only-of-type {\n",
       "        vertical-align: middle;\n",
       "    }\n",
       "\n",
       "    .dataframe tbody tr th {\n",
       "        vertical-align: top;\n",
       "    }\n",
       "\n",
       "    .dataframe thead th {\n",
       "        text-align: right;\n",
       "    }\n",
       "</style>\n",
       "<table border=\"1\" class=\"dataframe\">\n",
       "  <thead>\n",
       "    <tr style=\"text-align: right;\">\n",
       "      <th></th>\n",
       "      <th>Survived</th>\n",
       "    </tr>\n",
       "    <tr>\n",
       "      <th>Sex</th>\n",
       "      <th></th>\n",
       "    </tr>\n",
       "  </thead>\n",
       "  <tbody>\n",
       "    <tr>\n",
       "      <th>female</th>\n",
       "      <td>0.747573</td>\n",
       "    </tr>\n",
       "    <tr>\n",
       "      <th>male</th>\n",
       "      <td>0.190559</td>\n",
       "    </tr>\n",
       "  </tbody>\n",
       "</table>\n",
       "</div>"
      ],
      "text/plain": [
       "        Survived\n",
       "Sex             \n",
       "female  0.747573\n",
       "male    0.190559"
      ]
     },
     "execution_count": 23,
     "metadata": {},
     "output_type": "execute_result"
    }
   ],
   "source": [
    "train[[\"Sex\", \"Survived\"]].groupby('Sex').mean()"
   ]
  },
  {
   "cell_type": "markdown",
   "id": "fced804e",
   "metadata": {
    "papermill": {
     "duration": 0.099878,
     "end_time": "2022-05-30T12:26:23.544610",
     "exception": false,
     "start_time": "2022-05-30T12:26:23.444732",
     "status": "completed"
    },
    "tags": []
   },
   "source": [
    "**Pclass**"
   ]
  },
  {
   "cell_type": "code",
   "execution_count": 24,
   "id": "07d07504",
   "metadata": {
    "execution": {
     "iopub.execute_input": "2022-05-30T12:26:23.742622Z",
     "iopub.status.busy": "2022-05-30T12:26:23.742320Z",
     "iopub.status.idle": "2022-05-30T12:26:24.136738Z",
     "shell.execute_reply": "2022-05-30T12:26:24.136091Z"
    },
    "papermill": {
     "duration": 0.495923,
     "end_time": "2022-05-30T12:26:24.138952",
     "exception": false,
     "start_time": "2022-05-30T12:26:23.643029",
     "status": "completed"
    },
    "tags": []
   },
   "outputs": [
    {
     "data": {
      "image/png": "[encoded data removed]",
      "text/plain": [
       "<Figure size 432x432 with 1 Axes>"
      ]
     },
     "metadata": {},
     "output_type": "display_data"
    }
   ],
   "source": [
    "# Pclass vs Survived\n",
    "g = sns.factorplot(x=\"Pclass\", y=\"Survived\", data=train, kind=\"bar\", size = 6, palette = \"muted\")\n",
    "g.despine(left=True)\n",
    "g = g.set_ylabels(\"survival probablity\")"
   ]
  },
  {
   "cell_type": "code",
   "execution_count": 25,
   "id": "d5eb0b71",
   "metadata": {
    "execution": {
     "iopub.execute_input": "2022-05-30T12:26:24.339299Z",
     "iopub.status.busy": "2022-05-30T12:26:24.338532Z",
     "iopub.status.idle": "2022-05-30T12:26:24.926113Z",
     "shell.execute_reply": "2022-05-30T12:26:24.925135Z"
    },
    "papermill": {
     "duration": 0.690309,
     "end_time": "2022-05-30T12:26:24.928426",
     "exception": false,
     "start_time": "2022-05-30T12:26:24.238117",
     "status": "completed"
    },
    "tags": []
   },
   "outputs": [
    {
     "data": {
      "image/png": "[encoded data removed]",
      "text/plain": [
       "<Figure size 509.975x432 with 1 Axes>"
      ]
     },
     "metadata": {},
     "output_type": "display_data"
    }
   ],
   "source": [
    "# Explore Pclass vs Survived by Sex\n",
    "g = sns.factorplot(x=\"Pclass\", y=\"Survived\", hue=\"Sex\", data=train, size=6, kind='bar', palette=\"muted\")\n",
    "g.despine(left=True)\n",
    "g = g.set_ylabels(\"survival probability\")"
   ]
  },
  {
   "cell_type": "markdown",
   "id": "840baf2a",
   "metadata": {
    "papermill": {
     "duration": 0.102652,
     "end_time": "2022-05-30T12:26:25.131943",
     "exception": false,
     "start_time": "2022-05-30T12:26:25.029291",
     "status": "completed"
    },
    "tags": []
   },
   "source": [
    "**Embarked**"
   ]
  },
  {
   "cell_type": "code",
   "execution_count": 26,
   "id": "a5b65532",
   "metadata": {
    "execution": {
     "iopub.execute_input": "2022-05-30T12:26:25.339281Z",
     "iopub.status.busy": "2022-05-30T12:26:25.338979Z",
     "iopub.status.idle": "2022-05-30T12:26:25.345474Z",
     "shell.execute_reply": "2022-05-30T12:26:25.344777Z"
    },
    "papermill": {
     "duration": 0.114299,
     "end_time": "2022-05-30T12:26:25.347320",
     "exception": false,
     "start_time": "2022-05-30T12:26:25.233021",
     "status": "completed"
    },
    "tags": []
   },
   "outputs": [
    {
     "data": {
      "text/plain": [
       "2"
      ]
     },
     "execution_count": 26,
     "metadata": {},
     "output_type": "execute_result"
    }
   ],
   "source": [
    "dataset[\"Embarked\"].isnull().sum()"
   ]
  },
  {
   "cell_type": "code",
   "execution_count": 27,
   "id": "4dff61ec",
   "metadata": {
    "execution": {
     "iopub.execute_input": "2022-05-30T12:26:25.559775Z",
     "iopub.status.busy": "2022-05-30T12:26:25.559218Z",
     "iopub.status.idle": "2022-05-30T12:26:25.563916Z",
     "shell.execute_reply": "2022-05-30T12:26:25.563307Z"
    },
    "papermill": {
     "duration": 0.112223,
     "end_time": "2022-05-30T12:26:25.565785",
     "exception": false,
     "start_time": "2022-05-30T12:26:25.453562",
     "status": "completed"
    },
    "tags": []
   },
   "outputs": [],
   "source": [
    "# Fill nan values of dataset set with 'S' most frequent value\n",
    "dataset[\"Embarked\"] = dataset[\"Embarked\"].fillna(\"S\")"
   ]
  },
  {
   "cell_type": "code",
   "execution_count": 28,
   "id": "38b5d6c1",
   "metadata": {
    "execution": {
     "iopub.execute_input": "2022-05-30T12:26:25.769792Z",
     "iopub.status.busy": "2022-05-30T12:26:25.769281Z",
     "iopub.status.idle": "2022-05-30T12:26:26.178003Z",
     "shell.execute_reply": "2022-05-30T12:26:26.177005Z"
    },
    "papermill": {
     "duration": 0.512706,
     "end_time": "2022-05-30T12:26:26.180229",
     "exception": false,
     "start_time": "2022-05-30T12:26:25.667523",
     "status": "completed"
    },
    "tags": []
   },
   "outputs": [
    {
     "data": {
      "image/png": "[encoded data removed]",
      "text/plain": [
       "<Figure size 432x432 with 1 Axes>"
      ]
     },
     "metadata": {},
     "output_type": "display_data"
    }
   ],
   "source": [
    "# Explore Embarked vs Survived\n",
    "g = sns.factorplot(x=\"Embarked\", y=\"Survived\", data=train, size=6, kind=\"bar\", palette=\"muted\")\n",
    "g.despine(left=True)\n",
    "g = g.set_ylabels(\"survival probability\")"
   ]
  },
  {
   "cell_type": "markdown",
   "id": "a39a70e0",
   "metadata": {
    "papermill": {
     "duration": 0.102148,
     "end_time": "2022-05-30T12:26:26.383904",
     "exception": false,
     "start_time": "2022-05-30T12:26:26.281756",
     "status": "completed"
    },
    "tags": []
   },
   "source": [
    "passenger coming form Cherbourg(C) have more chance to survie than Queenstown(Q) and Southampton(S).\n",
    "\n",
    "hypothesis: proportion of first class passengers is higher for those who came from C > Q > S"
   ]
  },
  {
   "cell_type": "code",
   "execution_count": 29,
   "id": "ee8aa756",
   "metadata": {
    "execution": {
     "iopub.execute_input": "2022-05-30T12:26:26.587377Z",
     "iopub.status.busy": "2022-05-30T12:26:26.587041Z",
     "iopub.status.idle": "2022-05-30T12:26:27.250946Z",
     "shell.execute_reply": "2022-05-30T12:26:27.250079Z"
    },
    "papermill": {
     "duration": 0.768118,
     "end_time": "2022-05-30T12:26:27.252954",
     "exception": false,
     "start_time": "2022-05-30T12:26:26.484836",
     "status": "completed"
    },
    "tags": []
   },
   "outputs": [
    {
     "data": {
      "image/png": "[encoded data removed]",
      "text/plain": [
       "<Figure size 1296x432 with 3 Axes>"
      ]
     },
     "metadata": {},
     "output_type": "display_data"
    }
   ],
   "source": [
    "# Explore Pclass vs Embarked\n",
    "g = sns.factorplot(\"Pclass\", col=\"Embarked\", data=train, size=6, kind=\"count\", palette=\"muted\")\n",
    "g.despine(left=True)\n",
    "g = g.set_ylabels(\"Count\")"
   ]
  },
  {
   "cell_type": "markdown",
   "id": "987f5ea9",
   "metadata": {
    "papermill": {
     "duration": 0.101901,
     "end_time": "2022-05-30T12:26:27.457752",
     "exception": false,
     "start_time": "2022-05-30T12:26:27.355851",
     "status": "completed"
    },
    "tags": []
   },
   "source": [
    "third class is the most frequent for passenger coming from Southhampton(S) and Q. C passengers are mostly in first class which have the highest survival rate."
   ]
  },
  {
   "cell_type": "markdown",
   "id": "515f5e0f",
   "metadata": {
    "papermill": {
     "duration": 0.101998,
     "end_time": "2022-05-30T12:26:27.661231",
     "exception": false,
     "start_time": "2022-05-30T12:26:27.559233",
     "status": "completed"
    },
    "tags": []
   },
   "source": [
    "## 4. Filling missing Values\n",
    "\n",
    "### 4.1 Age\n",
    "\n",
    "* Age column contains 256 missing values\n",
    "* 생존 가능성 더 높은 집단(어린이)이 있으니 age feature에 결측값 넣어서 사용하는 것이 바람직\n",
    "* 문제 해결을 위해 age와 상관관계가 있는 다른 feature들 확인\n",
    "\n",
    "\n"
   ]
  },
  {
   "cell_type": "code",
   "execution_count": 30,
   "id": "c985c233",
   "metadata": {
    "execution": {
     "iopub.execute_input": "2022-05-30T12:26:27.876082Z",
     "iopub.status.busy": "2022-05-30T12:26:27.875789Z",
     "iopub.status.idle": "2022-05-30T12:26:29.502920Z",
     "shell.execute_reply": "2022-05-30T12:26:29.501997Z"
    },
    "papermill": {
     "duration": 1.739233,
     "end_time": "2022-05-30T12:26:29.505148",
     "exception": false,
     "start_time": "2022-05-30T12:26:27.765915",
     "status": "completed"
    },
    "tags": []
   },
   "outputs": [
    {
     "data": {
      "image/png": "[encoded data removed]",
      "text/plain": [
       "<Figure size 360x360 with 1 Axes>"
      ]
     },
     "metadata": {},
     "output_type": "display_data"
    },
    {
     "data": {
      "image/png": "[encoded data removed]",
      "text/plain": [
       "<Figure size 406.6x360 with 1 Axes>"
      ]
     },
     "metadata": {},
     "output_type": "display_data"
    },
    {
     "data": {
      "image/png": "[encoded data removed]",
      "text/plain": [
       "<Figure size 360x360 with 1 Axes>"
      ]
     },
     "metadata": {},
     "output_type": "display_data"
    },
    {
     "data": {
      "image/png": "[encoded data removed]",
      "text/plain": [
       "<Figure size 360x360 with 1 Axes>"
      ]
     },
     "metadata": {},
     "output_type": "display_data"
    }
   ],
   "source": [
    "# Explore Age vs Sex, Parch, Pclass and SibSP\n",
    "g = sns.factorplot(y=\"Age\", x=\"Sex\", data=dataset, kind=\"box\")\n",
    "g = sns.factorplot(y=\"Age\", x=\"Sex\", hue=\"Pclass\", data=dataset, kind=\"box\")\n",
    "g = sns.factorplot(y=\"Age\", x=\"Parch\", data=dataset, kind=\"box\")\n",
    "g = sns.factorplot(y=\"Age\", x=\"SibSp\", data=dataset, kind=\"box\")"
   ]
  },
  {
   "cell_type": "markdown",
   "id": "52a85adc",
   "metadata": {
    "papermill": {
     "duration": 0.105817,
     "end_time": "2022-05-30T12:26:29.716877",
     "exception": false,
     "start_time": "2022-05-30T12:26:29.611060",
     "status": "completed"
    },
    "tags": []
   },
   "source": [
    "age는 남성 여성 비슷\n",
    "\n",
    "But 일등석 > 이등석 > 삼등석\n",
    "\n",
    "승객이 부모, 자녀를 더 많이 가질수록 나이가 더 많고 형제/배우자를 더 많이 가질수록 나이가 더 젊음.."
   ]
  },
  {
   "cell_type": "code",
   "execution_count": 31,
   "id": "7fd113d0",
   "metadata": {
    "execution": {
     "iopub.execute_input": "2022-05-30T12:26:29.942114Z",
     "iopub.status.busy": "2022-05-30T12:26:29.941576Z",
     "iopub.status.idle": "2022-05-30T12:26:29.946934Z",
     "shell.execute_reply": "2022-05-30T12:26:29.946273Z"
    },
    "papermill": {
     "duration": 0.123148,
     "end_time": "2022-05-30T12:26:29.949081",
     "exception": false,
     "start_time": "2022-05-30T12:26:29.825933",
     "status": "completed"
    },
    "tags": []
   },
   "outputs": [],
   "source": [
    "# convert sex into categorical value 0 for male and 1 for female\n",
    "dataset[\"Sex\"] = dataset[\"Sex\"].map({\"male\":0, \"female\":1})"
   ]
  },
  {
   "cell_type": "code",
   "execution_count": 32,
   "id": "f9b7bd4e",
   "metadata": {
    "execution": {
     "iopub.execute_input": "2022-05-30T12:26:30.166796Z",
     "iopub.status.busy": "2022-05-30T12:26:30.166257Z",
     "iopub.status.idle": "2022-05-30T12:26:30.482350Z",
     "shell.execute_reply": "2022-05-30T12:26:30.481708Z"
    },
    "papermill": {
     "duration": 0.42807,
     "end_time": "2022-05-30T12:26:30.484506",
     "exception": false,
     "start_time": "2022-05-30T12:26:30.056436",
     "status": "completed"
    },
    "tags": []
   },
   "outputs": [
    {
     "data": {
      "image/png": "[encoded data removed]",
      "text/plain": [
       "<Figure size 432x288 with 2 Axes>"
      ]
     },
     "metadata": {},
     "output_type": "display_data"
    }
   ],
   "source": [
    "g = sns.heatmap(dataset[[\"Age\", \"Sex\", \"SibSp\",\"Parch\",\"Pclass\"]].corr(),cmap=\"BrBG\", annot=True)"
   ]
  },
  {
   "cell_type": "markdown",
   "id": "054f1f8b",
   "metadata": {
    "papermill": {
     "duration": 0.109519,
     "end_time": "2022-05-30T12:26:30.702946",
     "exception": false,
     "start_time": "2022-05-30T12:26:30.593427",
     "status": "completed"
    },
    "tags": []
   },
   "source": [
    "age is negatively correalted with Pclass,Parch and SibSp.\n",
    "\n",
    "now, fill age with the median age of similar rows accroding to Pclass, Parch and SibSp!"
   ]
  },
  {
   "cell_type": "code",
   "execution_count": 33,
   "id": "34e76ce5",
   "metadata": {
    "execution": {
     "iopub.execute_input": "2022-05-30T12:26:30.921899Z",
     "iopub.status.busy": "2022-05-30T12:26:30.921380Z",
     "iopub.status.idle": "2022-05-30T12:26:31.466806Z",
     "shell.execute_reply": "2022-05-30T12:26:31.465815Z"
    },
    "papermill": {
     "duration": 0.657334,
     "end_time": "2022-05-30T12:26:31.469315",
     "exception": false,
     "start_time": "2022-05-30T12:26:30.811981",
     "status": "completed"
    },
    "tags": []
   },
   "outputs": [],
   "source": [
    "# Filling missing value of Age\n",
    "# Fill age with the median age of similar rows according to Pclass, Parch and SibSp\n",
    "# Index of NaN age rows\n",
    "\n",
    "index_NaN_age = list(dataset[\"Age\"][dataset[\"Age\"].isnull()].index)\n",
    "\n",
    "for i in index_NaN_age :\n",
    "    age_med = dataset[\"Age\"].median()\n",
    "    age_pred = dataset[\"Age\"][((dataset['SibSp'] == dataset.iloc[i][\"SibSp\"]) & (dataset['Parch'] == dataset.iloc[i][\"Parch\"]) & (dataset['Pclass'] == dataset.iloc[i][\"Pclass\"]))].median()\n",
    "    if not np.isnan(age_pred) :\n",
    "        dataset['Age'].iloc[i] = age_pred\n",
    "    else :\n",
    "        dataset['Age'].iloc[i] = age_med"
   ]
  },
  {
   "cell_type": "code",
   "execution_count": 34,
   "id": "12b8464a",
   "metadata": {
    "execution": {
     "iopub.execute_input": "2022-05-30T12:26:31.689637Z",
     "iopub.status.busy": "2022-05-30T12:26:31.689321Z",
     "iopub.status.idle": "2022-05-30T12:26:32.323017Z",
     "shell.execute_reply": "2022-05-30T12:26:32.322220Z"
    },
    "papermill": {
     "duration": 0.748502,
     "end_time": "2022-05-30T12:26:32.325460",
     "exception": false,
     "start_time": "2022-05-30T12:26:31.576958",
     "status": "completed"
    },
    "tags": []
   },
   "outputs": [
    {
     "data": {
      "image/png": "[encoded data removed]",
      "text/plain": [
       "<Figure size 360x360 with 1 Axes>"
      ]
     },
     "metadata": {},
     "output_type": "display_data"
    },
    {
     "data": {
      "image/png": "[encoded data removed]",
      "text/plain": [
       "<Figure size 360x360 with 1 Axes>"
      ]
     },
     "metadata": {},
     "output_type": "display_data"
    }
   ],
   "source": [
    "g = sns.factorplot(x=\"Survived\", y = \"Age\", data = train, kind=\"box\")\n",
    "g = sns.factorplot(x=\"Survived\", y = \"Age\", data = train, kind=\"violin\")"
   ]
  },
  {
   "cell_type": "markdown",
   "id": "2c13ac7b",
   "metadata": {
    "papermill": {
     "duration": 0.108562,
     "end_time": "2022-05-30T12:26:32.542724",
     "exception": false,
     "start_time": "2022-05-30T12:26:32.434162",
     "status": "completed"
    },
    "tags": []
   },
   "source": [
    "* no difrrerecne between median value of age in survival and not survived subpopulation.\n",
    "* But in violin plot of survived passengers, young passengers have higher survival rate."
   ]
  },
  {
   "cell_type": "markdown",
   "id": "dc42aeb9",
   "metadata": {
    "papermill": {
     "duration": 0.110529,
     "end_time": "2022-05-30T12:26:32.761951",
     "exception": false,
     "start_time": "2022-05-30T12:26:32.651422",
     "status": "completed"
    },
    "tags": []
   },
   "source": [
    "## 5. Feature engineering\n",
    "\n",
    "\n",
    "### 5.1 Name/Title"
   ]
  },
  {
   "cell_type": "code",
   "execution_count": 35,
   "id": "40b81bd9",
   "metadata": {
    "execution": {
     "iopub.execute_input": "2022-05-30T12:26:32.983729Z",
     "iopub.status.busy": "2022-05-30T12:26:32.983154Z",
     "iopub.status.idle": "2022-05-30T12:26:32.990473Z",
     "shell.execute_reply": "2022-05-30T12:26:32.989619Z"
    },
    "papermill": {
     "duration": 0.120816,
     "end_time": "2022-05-30T12:26:32.992457",
     "exception": false,
     "start_time": "2022-05-30T12:26:32.871641",
     "status": "completed"
    },
    "tags": []
   },
   "outputs": [
    {
     "data": {
      "text/plain": [
       "0                              Braund, Mr. Owen Harris\n",
       "1    Cumings, Mrs. John Bradley (Florence Briggs Th...\n",
       "2                               Heikkinen, Miss. Laina\n",
       "3         Futrelle, Mrs. Jacques Heath (Lily May Peel)\n",
       "4                             Allen, Mr. William Henry\n",
       "Name: Name, dtype: object"
      ]
     },
     "execution_count": 35,
     "metadata": {},
     "output_type": "execute_result"
    }
   ],
   "source": [
    "dataset[\"Name\"].head()"
   ]
  },
  {
   "cell_type": "code",
   "execution_count": 36,
   "id": "d51a3380",
   "metadata": {
    "execution": {
     "iopub.execute_input": "2022-05-30T12:26:33.214646Z",
     "iopub.status.busy": "2022-05-30T12:26:33.214079Z",
     "iopub.status.idle": "2022-05-30T12:26:33.224789Z",
     "shell.execute_reply": "2022-05-30T12:26:33.224026Z"
    },
    "papermill": {
     "duration": 0.123169,
     "end_time": "2022-05-30T12:26:33.226702",
     "exception": false,
     "start_time": "2022-05-30T12:26:33.103533",
     "status": "completed"
    },
    "tags": []
   },
   "outputs": [
    {
     "data": {
      "text/plain": [
       "0      Mr\n",
       "1     Mrs\n",
       "2    Miss\n",
       "3     Mrs\n",
       "4      Mr\n",
       "Name: Title, dtype: object"
      ]
     },
     "execution_count": 36,
     "metadata": {},
     "output_type": "execute_result"
    }
   ],
   "source": [
    "# Get Title from Name\n",
    "\n",
    "dataset_title = [i.split(\",\")[1].split(\".\")[0].strip() for i in dataset[\"Name\"]]\n",
    "dataset[\"Title\"] = pd.Series(dataset_title)\n",
    "dataset[\"Title\"].head()"
   ]
  },
  {
   "cell_type": "code",
   "execution_count": 37,
   "id": "4d5c52a8",
   "metadata": {
    "execution": {
     "iopub.execute_input": "2022-05-30T12:26:33.446351Z",
     "iopub.status.busy": "2022-05-30T12:26:33.445774Z",
     "iopub.status.idle": "2022-05-30T12:26:33.768856Z",
     "shell.execute_reply": "2022-05-30T12:26:33.768030Z"
    },
    "papermill": {
     "duration": 0.435686,
     "end_time": "2022-05-30T12:26:33.771152",
     "exception": false,
     "start_time": "2022-05-30T12:26:33.335466",
     "status": "completed"
    },
    "tags": []
   },
   "outputs": [
    {
     "data": {
      "image/png": "[encoded data removed]",
      "text/plain": [
       "<Figure size 432x288 with 1 Axes>"
      ]
     },
     "metadata": {},
     "output_type": "display_data"
    }
   ],
   "source": [
    "g = sns.countplot(x=\"Title\", data=dataset)\n",
    "g = plt.setp(g.get_xticklabels(), rotation=45)"
   ]
  },
  {
   "cell_type": "code",
   "execution_count": 38,
   "id": "f9457a36",
   "metadata": {
    "execution": {
     "iopub.execute_input": "2022-05-30T12:26:33.997209Z",
     "iopub.status.busy": "2022-05-30T12:26:33.996885Z",
     "iopub.status.idle": "2022-05-30T12:26:34.007254Z",
     "shell.execute_reply": "2022-05-30T12:26:34.006582Z"
    },
    "papermill": {
     "duration": 0.128024,
     "end_time": "2022-05-30T12:26:34.009637",
     "exception": false,
     "start_time": "2022-05-30T12:26:33.881613",
     "status": "completed"
    },
    "tags": []
   },
   "outputs": [],
   "source": [
    "# Convert to categorical values Title\n",
    "# categorical data를 0/1/2 등으로 encoding 해주는 map 함수\n",
    "# very rare한 애들은 Rare로 replace 해주고 3으로 encoding\n",
    "\n",
    "dataset[\"Title\"] = dataset[\"Title\"].replace(['Lady', 'the Countess','Countess','Capt', 'Col','Don', 'Dr', 'Major', 'Rev', 'Sir', 'Jonkheer', 'Dona'], 'Rare')\n",
    "dataset[\"Title\"] = dataset[\"Title\"].map({\"Master\":0, \"Miss\":1, \"Ms\" : 1 , \"Mme\":1, \"Mlle\":1, \"Mrs\":1, \"Mr\":2, \"Rare\":3})"
   ]
  },
  {
   "cell_type": "code",
   "execution_count": 39,
   "id": "c756bf50",
   "metadata": {
    "execution": {
     "iopub.execute_input": "2022-05-30T12:26:34.273305Z",
     "iopub.status.busy": "2022-05-30T12:26:34.272748Z",
     "iopub.status.idle": "2022-05-30T12:26:34.462288Z",
     "shell.execute_reply": "2022-05-30T12:26:34.461412Z"
    },
    "papermill": {
     "duration": 0.336144,
     "end_time": "2022-05-30T12:26:34.464743",
     "exception": false,
     "start_time": "2022-05-30T12:26:34.128599",
     "status": "completed"
    },
    "tags": []
   },
   "outputs": [
    {
     "data": {
      "image/png": "[encoded data removed]",
      "text/plain": [
       "<Figure size 432x288 with 1 Axes>"
      ]
     },
     "metadata": {},
     "output_type": "display_data"
    }
   ],
   "source": [
    "g = sns.countplot(dataset[\"Title\"])\n",
    "g = g.set_xticklabels([\"Master\", \"Miss/Ms/Mme/Mlle/Mrs\", \"Mr\", \"Rare\"])"
   ]
  },
  {
   "cell_type": "code",
   "execution_count": 40,
   "id": "3e294d61",
   "metadata": {
    "execution": {
     "iopub.execute_input": "2022-05-30T12:26:34.701278Z",
     "iopub.status.busy": "2022-05-30T12:26:34.700706Z",
     "iopub.status.idle": "2022-05-30T12:26:35.309122Z",
     "shell.execute_reply": "2022-05-30T12:26:35.308232Z"
    },
    "papermill": {
     "duration": 0.727563,
     "end_time": "2022-05-30T12:26:35.311606",
     "exception": false,
     "start_time": "2022-05-30T12:26:34.584043",
     "status": "completed"
    },
    "tags": []
   },
   "outputs": [
    {
     "data": {
      "image/png": "[encoded data removed]",
      "text/plain": [
       "<Figure size 360x360 with 1 Axes>"
      ]
     },
     "metadata": {},
     "output_type": "display_data"
    }
   ],
   "source": [
    "g = sns.factorplot(x=\"Title\", y=\"Survived\", data=dataset, kind=\"bar\")\n",
    "g = g.set_xticklabels([\"Master\", \"Miss-Mrs\", \"Mr\",\"Rare\"])\n",
    "g = g.set_ylabels(\"survivial probabiliy\")"
   ]
  },
  {
   "cell_type": "code",
   "execution_count": 41,
   "id": "6029d689",
   "metadata": {
    "execution": {
     "iopub.execute_input": "2022-05-30T12:26:35.541281Z",
     "iopub.status.busy": "2022-05-30T12:26:35.540505Z",
     "iopub.status.idle": "2022-05-30T12:26:35.546250Z",
     "shell.execute_reply": "2022-05-30T12:26:35.545571Z"
    },
    "papermill": {
     "duration": 0.123192,
     "end_time": "2022-05-30T12:26:35.548233",
     "exception": false,
     "start_time": "2022-05-30T12:26:35.425041",
     "status": "completed"
    },
    "tags": []
   },
   "outputs": [],
   "source": [
    "# Drop Name variable\n",
    "dataset.drop(labels = [\"Name\"], axis = 1, inplace = True)"
   ]
  },
  {
   "cell_type": "markdown",
   "id": "42b5dc7d",
   "metadata": {
    "papermill": {
     "duration": 0.114939,
     "end_time": "2022-05-30T12:26:35.776219",
     "exception": false,
     "start_time": "2022-05-30T12:26:35.661280",
     "status": "completed"
    },
    "tags": []
   },
   "source": [
    "### 5.2 Family size"
   ]
  },
  {
   "cell_type": "code",
   "execution_count": 42,
   "id": "776725c3",
   "metadata": {
    "execution": {
     "iopub.execute_input": "2022-05-30T12:26:36.003130Z",
     "iopub.status.busy": "2022-05-30T12:26:36.002831Z",
     "iopub.status.idle": "2022-05-30T12:26:36.008745Z",
     "shell.execute_reply": "2022-05-30T12:26:36.008077Z"
    },
    "papermill": {
     "duration": 0.12128,
     "end_time": "2022-05-30T12:26:36.010708",
     "exception": false,
     "start_time": "2022-05-30T12:26:35.889428",
     "status": "completed"
    },
    "tags": []
   },
   "outputs": [],
   "source": [
    "# create a family size descriptor form sibsp and parch\n",
    "# 패밀리사이즈 피처 만들기! 형제자매 + 부모님\n",
    "\n",
    "dataset[\"Fsize\"] = dataset[\"SibSp\"] + dataset[\"Parch\"] + 1"
   ]
  },
  {
   "cell_type": "code",
   "execution_count": 43,
   "id": "cae0df7b",
   "metadata": {
    "execution": {
     "iopub.execute_input": "2022-05-30T12:26:36.236739Z",
     "iopub.status.busy": "2022-05-30T12:26:36.236148Z",
     "iopub.status.idle": "2022-05-30T12:26:36.756230Z",
     "shell.execute_reply": "2022-05-30T12:26:36.755309Z"
    },
    "papermill": {
     "duration": 0.635562,
     "end_time": "2022-05-30T12:26:36.758468",
     "exception": false,
     "start_time": "2022-05-30T12:26:36.122906",
     "status": "completed"
    },
    "tags": []
   },
   "outputs": [
    {
     "data": {
      "image/png": "[encoded data removed]",
      "text/plain": [
       "<Figure size 360x360 with 1 Axes>"
      ]
     },
     "metadata": {},
     "output_type": "display_data"
    }
   ],
   "source": [
    "g = sns.factorplot(x=\"Fsize\", y=\"Survived\", data = dataset)\n",
    "g = g.set_ylabels(\"Survival Probablity\")"
   ]
  },
  {
   "cell_type": "code",
   "execution_count": 44,
   "id": "01568356",
   "metadata": {
    "execution": {
     "iopub.execute_input": "2022-05-30T12:26:36.990940Z",
     "iopub.status.busy": "2022-05-30T12:26:36.990645Z",
     "iopub.status.idle": "2022-05-30T12:26:37.003971Z",
     "shell.execute_reply": "2022-05-30T12:26:37.003045Z"
    },
    "papermill": {
     "duration": 0.132168,
     "end_time": "2022-05-30T12:26:37.006275",
     "exception": false,
     "start_time": "2022-05-30T12:26:36.874107",
     "status": "completed"
    },
    "tags": []
   },
   "outputs": [],
   "source": [
    "# create new feature of family size\n",
    "# 1,2, 3/4, 5이상으로 4가지로 나눔\n",
    "\n",
    "dataset['Single'] = dataset['Fsize'].map(lambda s: 1 if s == 1 else 0)\n",
    "dataset['SmallF'] = dataset['Fsize'].map(lambda s: 1 if s == 2 else 0)\n",
    "dataset['MedF'] = dataset['Fsize'].map(lambda s: 1 if 3 <= s <=4  else 0)\n",
    "dataset['LargeF'] = dataset['Fsize'].map(lambda s: 1 if s >= 5 else 0)"
   ]
  },
  {
   "cell_type": "code",
   "execution_count": 45,
   "id": "9ce449e1",
   "metadata": {
    "execution": {
     "iopub.execute_input": "2022-05-30T12:26:37.237421Z",
     "iopub.status.busy": "2022-05-30T12:26:37.237112Z",
     "iopub.status.idle": "2022-05-30T12:26:38.361145Z",
     "shell.execute_reply": "2022-05-30T12:26:38.360258Z"
    },
    "papermill": {
     "duration": 1.241082,
     "end_time": "2022-05-30T12:26:38.363345",
     "exception": false,
     "start_time": "2022-05-30T12:26:37.122263",
     "status": "completed"
    },
    "tags": []
   },
   "outputs": [
    {
     "data": {
      "image/png": "[encoded data removed]",
      "text/plain": [
       "<Figure size 360x360 with 1 Axes>"
      ]
     },
     "metadata": {},
     "output_type": "display_data"
    },
    {
     "data": {
      "image/png": "[encoded data removed]",
      "text/plain": [
       "<Figure size 360x360 with 1 Axes>"
      ]
     },
     "metadata": {},
     "output_type": "display_data"
    },
    {
     "data": {
      "image/png": "[encoded data removed]",
      "text/plain": [
       "<Figure size 360x360 with 1 Axes>"
      ]
     },
     "metadata": {},
     "output_type": "display_data"
    },
    {
     "data": {
      "image/png": "[encoded data removed]",
      "text/plain": [
       "<Figure size 360x360 with 1 Axes>"
      ]
     },
     "metadata": {},
     "output_type": "display_data"
    }
   ],
   "source": [
    "g = sns.factorplot(x=\"Single\",y=\"Survived\",data=dataset,kind=\"bar\")\n",
    "g = g.set_ylabels(\"Survival Probability\")\n",
    "g = sns.factorplot(x=\"SmallF\",y=\"Survived\",data=dataset,kind=\"bar\")\n",
    "g = g.set_ylabels(\"Survival Probability\")\n",
    "g = sns.factorplot(x=\"MedF\",y=\"Survived\",data=dataset,kind=\"bar\")\n",
    "g = g.set_ylabels(\"Survival Probability\")\n",
    "g = sns.factorplot(x=\"LargeF\",y=\"Survived\",data=dataset,kind=\"bar\")\n",
    "g = g.set_ylabels(\"Survival Probability\")"
   ]
  },
  {
   "cell_type": "markdown",
   "id": "5b807dab",
   "metadata": {
    "papermill": {
     "duration": 0.125898,
     "end_time": "2022-05-30T12:26:38.615436",
     "exception": false,
     "start_time": "2022-05-30T12:26:38.489538",
     "status": "completed"
    },
    "tags": []
   },
   "source": [
    "Factorplots of family size categories show that Small and Medium families have more chance to survive than single passenger and large families."
   ]
  },
  {
   "cell_type": "code",
   "execution_count": 46,
   "id": "e4eb8647",
   "metadata": {
    "execution": {
     "iopub.execute_input": "2022-05-30T12:26:38.875210Z",
     "iopub.status.busy": "2022-05-30T12:26:38.874694Z",
     "iopub.status.idle": "2022-05-30T12:26:38.888358Z",
     "shell.execute_reply": "2022-05-30T12:26:38.887412Z"
    },
    "papermill": {
     "duration": 0.144971,
     "end_time": "2022-05-30T12:26:38.890454",
     "exception": false,
     "start_time": "2022-05-30T12:26:38.745483",
     "status": "completed"
    },
    "tags": []
   },
   "outputs": [],
   "source": [
    "# Convert to indicator values Title and Embarked\n",
    "dataset = pd.get_dummies(dataset, columns = [\"Title\"])\n",
    "dataset = pd.get_dummies(dataset, columns = [\"Embarked\"], prefix=\"Em\")"
   ]
  },
  {
   "cell_type": "code",
   "execution_count": 47,
   "id": "abcd8cd6",
   "metadata": {
    "execution": {
     "iopub.execute_input": "2022-05-30T12:26:39.146390Z",
     "iopub.status.busy": "2022-05-30T12:26:39.144900Z",
     "iopub.status.idle": "2022-05-30T12:26:39.169253Z",
     "shell.execute_reply": "2022-05-30T12:26:39.168286Z"
    },
    "papermill": {
     "duration": 0.155227,
     "end_time": "2022-05-30T12:26:39.171520",
     "exception": false,
     "start_time": "2022-05-30T12:26:39.016293",
     "status": "completed"
    },
    "tags": []
   },
   "outputs": [
    {
     "data": {
      "text/html": [
       "<div>\n",
       "<style scoped>\n",
       "    .dataframe tbody tr th:only-of-type {\n",
       "        vertical-align: middle;\n",
       "    }\n",
       "\n",
       "    .dataframe tbody tr th {\n",
       "        vertical-align: top;\n",
       "    }\n",
       "\n",
       "    .dataframe thead th {\n",
       "        text-align: right;\n",
       "    }\n",
       "</style>\n",
       "<table border=\"1\" class=\"dataframe\">\n",
       "  <thead>\n",
       "    <tr style=\"text-align: right;\">\n",
       "      <th></th>\n",
       "      <th>PassengerId</th>\n",
       "      <th>Survived</th>\n",
       "      <th>Pclass</th>\n",
       "      <th>Sex</th>\n",
       "      <th>Age</th>\n",
       "      <th>SibSp</th>\n",
       "      <th>Parch</th>\n",
       "      <th>Ticket</th>\n",
       "      <th>Fare</th>\n",
       "      <th>Cabin</th>\n",
       "      <th>...</th>\n",
       "      <th>SmallF</th>\n",
       "      <th>MedF</th>\n",
       "      <th>LargeF</th>\n",
       "      <th>Title_0</th>\n",
       "      <th>Title_1</th>\n",
       "      <th>Title_2</th>\n",
       "      <th>Title_3</th>\n",
       "      <th>Em_C</th>\n",
       "      <th>Em_Q</th>\n",
       "      <th>Em_S</th>\n",
       "    </tr>\n",
       "  </thead>\n",
       "  <tbody>\n",
       "    <tr>\n",
       "      <th>0</th>\n",
       "      <td>1</td>\n",
       "      <td>0.0</td>\n",
       "      <td>3</td>\n",
       "      <td>0</td>\n",
       "      <td>22.0</td>\n",
       "      <td>1</td>\n",
       "      <td>0</td>\n",
       "      <td>A/5 21171</td>\n",
       "      <td>1.981001</td>\n",
       "      <td>NaN</td>\n",
       "      <td>...</td>\n",
       "      <td>1</td>\n",
       "      <td>0</td>\n",
       "      <td>0</td>\n",
       "      <td>0</td>\n",
       "      <td>0</td>\n",
       "      <td>1</td>\n",
       "      <td>0</td>\n",
       "      <td>0</td>\n",
       "      <td>0</td>\n",
       "      <td>1</td>\n",
       "    </tr>\n",
       "    <tr>\n",
       "      <th>1</th>\n",
       "      <td>2</td>\n",
       "      <td>1.0</td>\n",
       "      <td>1</td>\n",
       "      <td>1</td>\n",
       "      <td>38.0</td>\n",
       "      <td>1</td>\n",
       "      <td>0</td>\n",
       "      <td>PC 17599</td>\n",
       "      <td>4.266662</td>\n",
       "      <td>C85</td>\n",
       "      <td>...</td>\n",
       "      <td>1</td>\n",
       "      <td>0</td>\n",
       "      <td>0</td>\n",
       "      <td>0</td>\n",
       "      <td>1</td>\n",
       "      <td>0</td>\n",
       "      <td>0</td>\n",
       "      <td>1</td>\n",
       "      <td>0</td>\n",
       "      <td>0</td>\n",
       "    </tr>\n",
       "    <tr>\n",
       "      <th>2</th>\n",
       "      <td>3</td>\n",
       "      <td>1.0</td>\n",
       "      <td>3</td>\n",
       "      <td>1</td>\n",
       "      <td>26.0</td>\n",
       "      <td>0</td>\n",
       "      <td>0</td>\n",
       "      <td>STON/O2. 3101282</td>\n",
       "      <td>2.070022</td>\n",
       "      <td>NaN</td>\n",
       "      <td>...</td>\n",
       "      <td>0</td>\n",
       "      <td>0</td>\n",
       "      <td>0</td>\n",
       "      <td>0</td>\n",
       "      <td>1</td>\n",
       "      <td>0</td>\n",
       "      <td>0</td>\n",
       "      <td>0</td>\n",
       "      <td>0</td>\n",
       "      <td>1</td>\n",
       "    </tr>\n",
       "    <tr>\n",
       "      <th>3</th>\n",
       "      <td>4</td>\n",
       "      <td>1.0</td>\n",
       "      <td>1</td>\n",
       "      <td>1</td>\n",
       "      <td>35.0</td>\n",
       "      <td>1</td>\n",
       "      <td>0</td>\n",
       "      <td>113803</td>\n",
       "      <td>3.972177</td>\n",
       "      <td>C123</td>\n",
       "      <td>...</td>\n",
       "      <td>1</td>\n",
       "      <td>0</td>\n",
       "      <td>0</td>\n",
       "      <td>0</td>\n",
       "      <td>1</td>\n",
       "      <td>0</td>\n",
       "      <td>0</td>\n",
       "      <td>0</td>\n",
       "      <td>0</td>\n",
       "      <td>1</td>\n",
       "    </tr>\n",
       "    <tr>\n",
       "      <th>4</th>\n",
       "      <td>5</td>\n",
       "      <td>0.0</td>\n",
       "      <td>3</td>\n",
       "      <td>0</td>\n",
       "      <td>35.0</td>\n",
       "      <td>0</td>\n",
       "      <td>0</td>\n",
       "      <td>373450</td>\n",
       "      <td>2.085672</td>\n",
       "      <td>NaN</td>\n",
       "      <td>...</td>\n",
       "      <td>0</td>\n",
       "      <td>0</td>\n",
       "      <td>0</td>\n",
       "      <td>0</td>\n",
       "      <td>0</td>\n",
       "      <td>1</td>\n",
       "      <td>0</td>\n",
       "      <td>0</td>\n",
       "      <td>0</td>\n",
       "      <td>1</td>\n",
       "    </tr>\n",
       "  </tbody>\n",
       "</table>\n",
       "<p>5 rows × 22 columns</p>\n",
       "</div>"
      ],
      "text/plain": [
       "   PassengerId  Survived  Pclass  Sex   Age  SibSp  Parch            Ticket  \\\n",
       "0            1       0.0       3    0  22.0      1      0         A/5 21171   \n",
       "1            2       1.0       1    1  38.0      1      0          PC 17599   \n",
       "2            3       1.0       3    1  26.0      0      0  STON/O2. 3101282   \n",
       "3            4       1.0       1    1  35.0      1      0            113803   \n",
       "4            5       0.0       3    0  35.0      0      0            373450   \n",
       "\n",
       "       Fare Cabin  ...  SmallF  MedF  LargeF  Title_0  Title_1  Title_2  \\\n",
       "0  1.981001   NaN  ...       1     0       0        0        0        1   \n",
       "1  4.266662   C85  ...       1     0       0        0        1        0   \n",
       "2  2.070022   NaN  ...       0     0       0        0        1        0   \n",
       "3  3.972177  C123  ...       1     0       0        0        1        0   \n",
       "4  2.085672   NaN  ...       0     0       0        0        0        1   \n",
       "\n",
       "   Title_3  Em_C  Em_Q  Em_S  \n",
       "0        0     0     0     1  \n",
       "1        0     1     0     0  \n",
       "2        0     0     0     1  \n",
       "3        0     0     0     1  \n",
       "4        0     0     0     1  \n",
       "\n",
       "[5 rows x 22 columns]"
      ]
     },
     "execution_count": 47,
     "metadata": {},
     "output_type": "execute_result"
    }
   ],
   "source": [
    "dataset.head()"
   ]
  },
  {
   "cell_type": "markdown",
   "id": "6c238e12",
   "metadata": {
    "papermill": {
     "duration": 0.124138,
     "end_time": "2022-05-30T12:26:39.426834",
     "exception": false,
     "start_time": "2022-05-30T12:26:39.302696",
     "status": "completed"
    },
    "tags": []
   },
   "source": [
    "22 features!"
   ]
  },
  {
   "cell_type": "markdown",
   "id": "046a1393",
   "metadata": {
    "papermill": {
     "duration": 0.125765,
     "end_time": "2022-05-30T12:26:39.673612",
     "exception": false,
     "start_time": "2022-05-30T12:26:39.547847",
     "status": "completed"
    },
    "tags": []
   },
   "source": [
    "### 5.3 Cabin"
   ]
  },
  {
   "cell_type": "code",
   "execution_count": 48,
   "id": "bf2ad3c4",
   "metadata": {
    "execution": {
     "iopub.execute_input": "2022-05-30T12:26:39.928690Z",
     "iopub.status.busy": "2022-05-30T12:26:39.928439Z",
     "iopub.status.idle": "2022-05-30T12:26:39.936045Z",
     "shell.execute_reply": "2022-05-30T12:26:39.935024Z"
    },
    "papermill": {
     "duration": 0.137875,
     "end_time": "2022-05-30T12:26:39.938374",
     "exception": false,
     "start_time": "2022-05-30T12:26:39.800499",
     "status": "completed"
    },
    "tags": []
   },
   "outputs": [
    {
     "data": {
      "text/plain": [
       "0     NaN\n",
       "1     C85\n",
       "2     NaN\n",
       "3    C123\n",
       "4     NaN\n",
       "Name: Cabin, dtype: object"
      ]
     },
     "execution_count": 48,
     "metadata": {},
     "output_type": "execute_result"
    }
   ],
   "source": [
    "dataset[\"Cabin\"].head()"
   ]
  },
  {
   "cell_type": "code",
   "execution_count": 49,
   "id": "d2df6b0f",
   "metadata": {
    "execution": {
     "iopub.execute_input": "2022-05-30T12:26:40.206742Z",
     "iopub.status.busy": "2022-05-30T12:26:40.206098Z",
     "iopub.status.idle": "2022-05-30T12:26:40.214859Z",
     "shell.execute_reply": "2022-05-30T12:26:40.214022Z"
    },
    "papermill": {
     "duration": 0.141154,
     "end_time": "2022-05-30T12:26:40.216663",
     "exception": false,
     "start_time": "2022-05-30T12:26:40.075509",
     "status": "completed"
    },
    "tags": []
   },
   "outputs": [
    {
     "data": {
      "text/plain": [
       "count     292\n",
       "unique    186\n",
       "top        G6\n",
       "freq        5\n",
       "Name: Cabin, dtype: object"
      ]
     },
     "execution_count": 49,
     "metadata": {},
     "output_type": "execute_result"
    }
   ],
   "source": [
    "dataset[\"Cabin\"].describe()"
   ]
  },
  {
   "cell_type": "code",
   "execution_count": 50,
   "id": "b5f62ff3",
   "metadata": {
    "execution": {
     "iopub.execute_input": "2022-05-30T12:26:40.474028Z",
     "iopub.status.busy": "2022-05-30T12:26:40.473626Z",
     "iopub.status.idle": "2022-05-30T12:26:40.480088Z",
     "shell.execute_reply": "2022-05-30T12:26:40.479256Z"
    },
    "papermill": {
     "duration": 0.139473,
     "end_time": "2022-05-30T12:26:40.482028",
     "exception": false,
     "start_time": "2022-05-30T12:26:40.342555",
     "status": "completed"
    },
    "tags": []
   },
   "outputs": [
    {
     "data": {
      "text/plain": [
       "1007"
      ]
     },
     "execution_count": 50,
     "metadata": {},
     "output_type": "execute_result"
    }
   ],
   "source": [
    "dataset[\"Cabin\"].isnull().sum()"
   ]
  },
  {
   "cell_type": "markdown",
   "id": "7147dcdf",
   "metadata": {
    "papermill": {
     "duration": 0.12939,
     "end_time": "2022-05-30T12:26:40.738854",
     "exception": false,
     "start_time": "2022-05-30T12:26:40.609464",
     "status": "completed"
    },
    "tags": []
   },
   "source": [
    "The Cabin feature column contains 292 values and 1007 missing values.\n",
    "\n",
    "cabin이 없는 승객은 missing value로 뜨는 것 같음. 결측치를 x로 넣어주기"
   ]
  },
  {
   "cell_type": "code",
   "execution_count": 51,
   "id": "b22f4c30",
   "metadata": {
    "execution": {
     "iopub.execute_input": "2022-05-30T12:26:40.996116Z",
     "iopub.status.busy": "2022-05-30T12:26:40.995247Z",
     "iopub.status.idle": "2022-05-30T12:26:41.002527Z",
     "shell.execute_reply": "2022-05-30T12:26:41.001668Z"
    },
    "papermill": {
     "duration": 0.139628,
     "end_time": "2022-05-30T12:26:41.004810",
     "exception": false,
     "start_time": "2022-05-30T12:26:40.865182",
     "status": "completed"
    },
    "tags": []
   },
   "outputs": [],
   "source": [
    "# replace the cabin number by the type of cabin 'x' if not\n",
    "\n",
    "dataset[\"Cabin\"] = pd.Series([i[0] if not pd.isnull(i) else 'X' for i in dataset['Cabin']])"
   ]
  },
  {
   "cell_type": "code",
   "execution_count": 52,
   "id": "832cf686",
   "metadata": {
    "execution": {
     "iopub.execute_input": "2022-05-30T12:26:41.256136Z",
     "iopub.status.busy": "2022-05-30T12:26:41.255884Z",
     "iopub.status.idle": "2022-05-30T12:26:41.419919Z",
     "shell.execute_reply": "2022-05-30T12:26:41.419298Z"
    },
    "papermill": {
     "duration": 0.288576,
     "end_time": "2022-05-30T12:26:41.423524",
     "exception": false,
     "start_time": "2022-05-30T12:26:41.134948",
     "status": "completed"
    },
    "tags": []
   },
   "outputs": [
    {
     "data": {
      "image/png": "[encoded data removed]",
      "text/plain": [
       "<Figure size 432x288 with 1 Axes>"
      ]
     },
     "metadata": {},
     "output_type": "display_data"
    }
   ],
   "source": [
    "g = sns.countplot(dataset[\"Cabin\"], order=['A','B','C','D','E','F','G','T','X'])"
   ]
  },
  {
   "cell_type": "code",
   "execution_count": 53,
   "id": "1e5ccb29",
   "metadata": {
    "execution": {
     "iopub.execute_input": "2022-05-30T12:26:41.673651Z",
     "iopub.status.busy": "2022-05-30T12:26:41.672859Z",
     "iopub.status.idle": "2022-05-30T12:26:42.288377Z",
     "shell.execute_reply": "2022-05-30T12:26:42.287487Z"
    },
    "papermill": {
     "duration": 0.740058,
     "end_time": "2022-05-30T12:26:42.290509",
     "exception": false,
     "start_time": "2022-05-30T12:26:41.550451",
     "status": "completed"
    },
    "tags": []
   },
   "outputs": [
    {
     "data": {
      "image/png": "[encoded data removed]",
      "text/plain": [
       "<Figure size 360x360 with 1 Axes>"
      ]
     },
     "metadata": {},
     "output_type": "display_data"
    }
   ],
   "source": [
    "g = sns.factorplot(y=\"Survived\", x=\"Cabin\", data=dataset, kind=\"bar\", order=['A','B','C','D','E','F','G','T','X'])\n",
    "g = g.set_ylabels(\"Survival Probability\")"
   ]
  },
  {
   "cell_type": "markdown",
   "id": "62ffe305",
   "metadata": {
    "papermill": {
     "duration": 0.122644,
     "end_time": "2022-05-30T12:26:42.534487",
     "exception": false,
     "start_time": "2022-05-30T12:26:42.411843",
     "status": "completed"
    },
    "tags": []
   },
   "source": [
    "cabin을 가진 승객이 적어서 생존률 표준편차가 넘 크고 등급별 구분이 쉽지 않음\n",
    "\n",
    "그래도 객실이 없는 승객보다는 생존률이 높은 것을 확인 가능함."
   ]
  },
  {
   "cell_type": "code",
   "execution_count": 54,
   "id": "d34bde2a",
   "metadata": {
    "execution": {
     "iopub.execute_input": "2022-05-30T12:26:42.777550Z",
     "iopub.status.busy": "2022-05-30T12:26:42.777255Z",
     "iopub.status.idle": "2022-05-30T12:26:42.785513Z",
     "shell.execute_reply": "2022-05-30T12:26:42.784728Z"
    },
    "papermill": {
     "duration": 0.132774,
     "end_time": "2022-05-30T12:26:42.787365",
     "exception": false,
     "start_time": "2022-05-30T12:26:42.654591",
     "status": "completed"
    },
    "tags": []
   },
   "outputs": [],
   "source": [
    "dataset = pd.get_dummies(dataset, columns = [\"Cabin\"],prefix=\"Cabin\")"
   ]
  },
  {
   "cell_type": "markdown",
   "id": "2e05efed",
   "metadata": {
    "papermill": {
     "duration": 0.120502,
     "end_time": "2022-05-30T12:26:43.053130",
     "exception": false,
     "start_time": "2022-05-30T12:26:42.932628",
     "status": "completed"
    },
    "tags": []
   },
   "source": [
    "### 5.4 Ticket"
   ]
  },
  {
   "cell_type": "code",
   "execution_count": 55,
   "id": "062fbd37",
   "metadata": {
    "execution": {
     "iopub.execute_input": "2022-05-30T12:26:43.296049Z",
     "iopub.status.busy": "2022-05-30T12:26:43.295635Z",
     "iopub.status.idle": "2022-05-30T12:26:43.301968Z",
     "shell.execute_reply": "2022-05-30T12:26:43.301109Z"
    },
    "papermill": {
     "duration": 0.130265,
     "end_time": "2022-05-30T12:26:43.303993",
     "exception": false,
     "start_time": "2022-05-30T12:26:43.173728",
     "status": "completed"
    },
    "tags": []
   },
   "outputs": [
    {
     "data": {
      "text/plain": [
       "0           A/5 21171\n",
       "1            PC 17599\n",
       "2    STON/O2. 3101282\n",
       "3              113803\n",
       "4              373450\n",
       "Name: Ticket, dtype: object"
      ]
     },
     "execution_count": 55,
     "metadata": {},
     "output_type": "execute_result"
    }
   ],
   "source": [
    "dataset[\"Ticket\"].head()"
   ]
  },
  {
   "cell_type": "code",
   "execution_count": 56,
   "id": "5b9dd101",
   "metadata": {
    "execution": {
     "iopub.execute_input": "2022-05-30T12:26:43.551371Z",
     "iopub.status.busy": "2022-05-30T12:26:43.550683Z",
     "iopub.status.idle": "2022-05-30T12:26:43.562709Z",
     "shell.execute_reply": "2022-05-30T12:26:43.561799Z"
    },
    "papermill": {
     "duration": 0.136778,
     "end_time": "2022-05-30T12:26:43.564950",
     "exception": false,
     "start_time": "2022-05-30T12:26:43.428172",
     "status": "completed"
    },
    "tags": []
   },
   "outputs": [
    {
     "data": {
      "text/plain": [
       "0        A5\n",
       "1        PC\n",
       "2    STONO2\n",
       "3         X\n",
       "4         X\n",
       "Name: Ticket, dtype: object"
      ]
     },
     "execution_count": 56,
     "metadata": {},
     "output_type": "execute_result"
    }
   ],
   "source": [
    "# Treat ticket by extracting the ticket prefix. When there is no prefix it returns x.\n",
    "\n",
    "Ticket = []\n",
    "for i in list(dataset.Ticket):\n",
    "    if not i.isdigit() :\n",
    "        Ticket.append(i.replace(\".\",\"\").replace(\"/\",\"\").strip().split(' ')[0]) #Take prefix\n",
    "    else:\n",
    "        Ticket.append(\"X\")\n",
    "        \n",
    "dataset[\"Ticket\"] = Ticket\n",
    "dataset[\"Ticket\"].head()"
   ]
  },
  {
   "cell_type": "code",
   "execution_count": 57,
   "id": "0def570d",
   "metadata": {
    "execution": {
     "iopub.execute_input": "2022-05-30T12:26:43.811801Z",
     "iopub.status.busy": "2022-05-30T12:26:43.811538Z",
     "iopub.status.idle": "2022-05-30T12:26:43.820779Z",
     "shell.execute_reply": "2022-05-30T12:26:43.820081Z"
    },
    "papermill": {
     "duration": 0.135581,
     "end_time": "2022-05-30T12:26:43.822787",
     "exception": false,
     "start_time": "2022-05-30T12:26:43.687206",
     "status": "completed"
    },
    "tags": []
   },
   "outputs": [],
   "source": [
    "dataset = pd.get_dummies(dataset, columns = [\"Ticket\"], prefix=\"T\")"
   ]
  },
  {
   "cell_type": "code",
   "execution_count": 58,
   "id": "137378f3",
   "metadata": {
    "execution": {
     "iopub.execute_input": "2022-05-30T12:26:44.068024Z",
     "iopub.status.busy": "2022-05-30T12:26:44.067756Z",
     "iopub.status.idle": "2022-05-30T12:26:44.078406Z",
     "shell.execute_reply": "2022-05-30T12:26:44.077496Z"
    },
    "papermill": {
     "duration": 0.135689,
     "end_time": "2022-05-30T12:26:44.080624",
     "exception": false,
     "start_time": "2022-05-30T12:26:43.944935",
     "status": "completed"
    },
    "tags": []
   },
   "outputs": [],
   "source": [
    "# Create categorical values for Pclass\n",
    "dataset[\"Pclass\"] = dataset[\"Pclass\"].astype(\"category\")\n",
    "dataset = pd.get_dummies(dataset, columns = [\"Pclass\"],prefix=\"Pc\")"
   ]
  },
  {
   "cell_type": "code",
   "execution_count": 59,
   "id": "d8b46902",
   "metadata": {
    "execution": {
     "iopub.execute_input": "2022-05-30T12:26:44.324489Z",
     "iopub.status.busy": "2022-05-30T12:26:44.324215Z",
     "iopub.status.idle": "2022-05-30T12:26:44.330318Z",
     "shell.execute_reply": "2022-05-30T12:26:44.329496Z"
    },
    "papermill": {
     "duration": 0.129926,
     "end_time": "2022-05-30T12:26:44.332239",
     "exception": false,
     "start_time": "2022-05-30T12:26:44.202313",
     "status": "completed"
    },
    "tags": []
   },
   "outputs": [],
   "source": [
    "# Drop useless variables \n",
    "dataset.drop(labels = [\"PassengerId\"], axis = 1, inplace = True)"
   ]
  },
  {
   "cell_type": "code",
   "execution_count": null,
   "id": "3da46298",
   "metadata": {
    "papermill": {
     "duration": 0.119933,
     "end_time": "2022-05-30T12:26:44.572498",
     "exception": false,
     "start_time": "2022-05-30T12:26:44.452565",
     "status": "completed"
    },
    "tags": []
   },
   "outputs": [],
   "source": []
  },
  {
   "cell_type": "markdown",
   "id": "ead82946",
   "metadata": {
    "papermill": {
     "duration": 0.122051,
     "end_time": "2022-05-30T12:26:44.815204",
     "exception": false,
     "start_time": "2022-05-30T12:26:44.693153",
     "status": "completed"
    },
    "tags": []
   },
   "source": [
    "## 6. Modeling"
   ]
  },
  {
   "cell_type": "code",
   "execution_count": 60,
   "id": "87ec4a27",
   "metadata": {
    "execution": {
     "iopub.execute_input": "2022-05-30T12:26:45.062382Z",
     "iopub.status.busy": "2022-05-30T12:26:45.062082Z",
     "iopub.status.idle": "2022-05-30T12:26:45.067888Z",
     "shell.execute_reply": "2022-05-30T12:26:45.066969Z"
    },
    "papermill": {
     "duration": 0.13251,
     "end_time": "2022-05-30T12:26:45.069810",
     "exception": false,
     "start_time": "2022-05-30T12:26:44.937300",
     "status": "completed"
    },
    "tags": []
   },
   "outputs": [],
   "source": [
    "# Separate train and test dataset\n",
    "\n",
    "train = dataset[:train_len]\n",
    "test = dataset[train_len:]\n",
    "test.drop(labels=[\"Survived\"],axis =1, inplace=True)"
   ]
  },
  {
   "cell_type": "code",
   "execution_count": 61,
   "id": "e2a49ac8",
   "metadata": {
    "execution": {
     "iopub.execute_input": "2022-05-30T12:26:45.318868Z",
     "iopub.status.busy": "2022-05-30T12:26:45.318602Z",
     "iopub.status.idle": "2022-05-30T12:26:45.326084Z",
     "shell.execute_reply": "2022-05-30T12:26:45.325240Z"
    },
    "papermill": {
     "duration": 0.13491,
     "end_time": "2022-05-30T12:26:45.328281",
     "exception": false,
     "start_time": "2022-05-30T12:26:45.193371",
     "status": "completed"
    },
    "tags": []
   },
   "outputs": [],
   "source": [
    "# Separate train feautres and label\n",
    "\n",
    "train[\"Survived\"] = train[\"Survived\"].astype(int)\n",
    "\n",
    "Y_train = train[\"Survived\"]\n",
    "\n",
    "X_train = train.drop(labels = [\"Survived\"],axis =1)"
   ]
  },
  {
   "cell_type": "markdown",
   "id": "48c634f6",
   "metadata": {
    "papermill": {
     "duration": 0.121405,
     "end_time": "2022-05-30T12:26:45.573063",
     "exception": false,
     "start_time": "2022-05-30T12:26:45.451658",
     "status": "completed"
    },
    "tags": []
   },
   "source": [
    "### 6.1 Simple modeling\n",
    "\n",
    "#### 6.1.1 Cross validate models"
   ]
  },
  {
   "cell_type": "code",
   "execution_count": 62,
   "id": "d2efda41",
   "metadata": {
    "execution": {
     "iopub.execute_input": "2022-05-30T12:26:45.818545Z",
     "iopub.status.busy": "2022-05-30T12:26:45.818280Z",
     "iopub.status.idle": "2022-05-30T12:26:45.821623Z",
     "shell.execute_reply": "2022-05-30T12:26:45.820997Z"
    },
    "papermill": {
     "duration": 0.12878,
     "end_time": "2022-05-30T12:26:45.823404",
     "exception": false,
     "start_time": "2022-05-30T12:26:45.694624",
     "status": "completed"
    },
    "tags": []
   },
   "outputs": [],
   "source": [
    "# Cross validate model with Kfold stratified cross val\n",
    "kfold = StratifiedKFold(n_splits=10)"
   ]
  },
  {
   "cell_type": "code",
   "execution_count": 63,
   "id": "7d14dbd9",
   "metadata": {
    "execution": {
     "iopub.execute_input": "2022-05-30T12:26:46.070980Z",
     "iopub.status.busy": "2022-05-30T12:26:46.070712Z",
     "iopub.status.idle": "2022-05-30T12:26:56.227481Z",
     "shell.execute_reply": "2022-05-30T12:26:56.226525Z"
    },
    "papermill": {
     "duration": 10.284326,
     "end_time": "2022-05-30T12:26:56.229848",
     "exception": false,
     "start_time": "2022-05-30T12:26:45.945522",
     "status": "completed"
    },
    "tags": []
   },
   "outputs": [
    {
     "data": {
      "image/png": "[encoded data removed]",
      "text/plain": [
       "<Figure size 432x288 with 1 Axes>"
      ]
     },
     "metadata": {},
     "output_type": "display_data"
    }
   ],
   "source": [
    "# Modeling step Test differents algorithms \n",
    "random_state = 2\n",
    "classifiers = []\n",
    "classifiers.append(SVC(random_state=random_state))\n",
    "classifiers.append(DecisionTreeClassifier(random_state=random_state))\n",
    "classifiers.append(AdaBoostClassifier(DecisionTreeClassifier(random_state=random_state),random_state=random_state,learning_rate=0.1))\n",
    "classifiers.append(RandomForestClassifier(random_state=random_state))\n",
    "classifiers.append(ExtraTreesClassifier(random_state=random_state))\n",
    "classifiers.append(GradientBoostingClassifier(random_state=random_state))\n",
    "classifiers.append(MLPClassifier(random_state=random_state))\n",
    "classifiers.append(KNeighborsClassifier())\n",
    "classifiers.append(LogisticRegression(random_state = random_state))\n",
    "classifiers.append(LinearDiscriminantAnalysis())\n",
    "\n",
    "cv_results = []\n",
    "for classifier in classifiers :\n",
    "    cv_results.append(cross_val_score(classifier, X_train, y = Y_train, scoring = \"accuracy\", cv = kfold, n_jobs=4))\n",
    "\n",
    "cv_means = []\n",
    "cv_std = []\n",
    "for cv_result in cv_results:\n",
    "    cv_means.append(cv_result.mean())\n",
    "    cv_std.append(cv_result.std())\n",
    "\n",
    "cv_res = pd.DataFrame({\"CrossValMeans\":cv_means,\"CrossValerrors\": cv_std,\"Algorithm\":[\"SVC\",\"DecisionTree\",\"AdaBoost\",\n",
    "\"RandomForest\",\"ExtraTrees\",\"GradientBoosting\",\"MultipleLayerPerceptron\",\"KNeighboors\",\"LogisticRegression\",\"LinearDiscriminantAnalysis\"]})\n",
    "\n",
    "g = sns.barplot(\"CrossValMeans\",\"Algorithm\",data = cv_res, palette=\"Set3\",orient = \"h\",**{'xerr':cv_std})\n",
    "g.set_xlabel(\"Mean Accuracy\")\n",
    "g = g.set_title(\"Cross validation scores\")\n",
    "\n"
   ]
  },
  {
   "cell_type": "markdown",
   "id": "cd3a34ad",
   "metadata": {
    "papermill": {
     "duration": 0.124517,
     "end_time": "2022-05-30T12:26:56.485464",
     "exception": false,
     "start_time": "2022-05-30T12:26:56.360947",
     "status": "completed"
    },
    "tags": []
   },
   "source": [
    "#### 6.1.2 Hyperparameter tunning for best models"
   ]
  },
  {
   "cell_type": "code",
   "execution_count": 64,
   "id": "808da03c",
   "metadata": {
    "execution": {
     "iopub.execute_input": "2022-05-30T12:26:56.736932Z",
     "iopub.status.busy": "2022-05-30T12:26:56.736598Z",
     "iopub.status.idle": "2022-05-30T12:27:03.455540Z",
     "shell.execute_reply": "2022-05-30T12:27:03.454665Z"
    },
    "papermill": {
     "duration": 6.846269,
     "end_time": "2022-05-30T12:27:03.457834",
     "exception": false,
     "start_time": "2022-05-30T12:26:56.611565",
     "status": "completed"
    },
    "tags": []
   },
   "outputs": [
    {
     "name": "stdout",
     "output_type": "stream",
     "text": [
      "Fitting 10 folds for each of 112 candidates, totalling 1120 fits\n"
     ]
    }
   ],
   "source": [
    "### META MODELING  WITH ADABOOST, RF, EXTRATREES and GRADIENTBOOSTIN\n",
    "\n",
    "# Adaboost\n",
    "\n",
    "DTC = DecisionTreeClassifier()\n",
    "\n",
    "adaDTC = AdaBoostClassifier(DTC, random_state=7)\n",
    "\n",
    "ada_param_grid = {\"base_estimator__criterion\" : [\"gini\", \"entropy\"],\n",
    "              \"base_estimator__splitter\" :   [\"best\", \"random\"],\n",
    "              \"algorithm\" : [\"SAMME\",\"SAMME.R\"],\n",
    "              \"n_estimators\" :[1,2],\n",
    "              \"learning_rate\":  [0.0001, 0.001, 0.01, 0.1, 0.2, 0.3,1.5]}\n",
    "\n",
    "gsadaDTC = GridSearchCV(adaDTC,param_grid = ada_param_grid, cv=kfold, scoring=\"accuracy\", n_jobs= 4, verbose = 1)\n",
    "\n",
    "gsadaDTC.fit(X_train,Y_train)\n",
    "\n",
    "ada_best = gsadaDTC.best_estimator_"
   ]
  },
  {
   "cell_type": "code",
   "execution_count": null,
   "id": "c46a006d",
   "metadata": {
    "papermill": {
     "duration": 0.123138,
     "end_time": "2022-05-30T12:27:03.704933",
     "exception": false,
     "start_time": "2022-05-30T12:27:03.581795",
     "status": "completed"
    },
    "tags": []
   },
   "outputs": [],
   "source": []
  }
 ],
 "metadata": {
  "kernelspec": {
   "display_name": "Python 3",
   "language": "python",
   "name": "python3"
  },
  "language_info": {
   "codemirror_mode": {
    "name": "ipython",
    "version": 3
   },
   "file_extension": ".py",
   "mimetype": "text/x-python",
   "name": "python",
   "nbconvert_exporter": "python",
   "pygments_lexer": "ipython3",
   "version": "3.7.12"
  },
  "papermill": {
   "default_parameters": {},
   "duration": 65.722678,
   "end_time": "2022-05-30T12:27:06.453054",
   "environment_variables": {},
   "exception": null,
   "input_path": "__notebook__.ipynb",
   "output_path": "__notebook__.ipynb",
   "parameters": {},
   "start_time": "2022-05-30T12:26:00.730376",
   "version": "2.3.4"
  }
 },
 "nbformat": 4,
 "nbformat_minor": 5
}
