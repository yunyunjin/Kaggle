{
 "cells": [
  {
   "cell_type": "markdown",
   "id": "a1f0a9b1",
   "metadata": {
    "papermill": {
     "duration": 0.006814,
     "end_time": "2022-05-19T14:14:32.835637",
     "exception": false,
     "start_time": "2022-05-19T14:14:32.828823",
     "status": "completed"
    },
    "tags": []
   },
   "source": [
    "# 1. Main\n",
    "\n",
    "* Feature analysis\n",
    "* Feature engineering\n",
    "* Modeling"
   ]
  },
  {
   "cell_type": "code",
   "execution_count": 1,
   "id": "49e17996",
   "metadata": {
    "_cell_guid": "b1076dfc-b9ad-4769-8c92-a6c4dae69d19",
    "_uuid": "8f2839f25d086af736a60e9eeb907d3b93b6e0e5",
    "execution": {
     "iopub.execute_input": "2022-05-19T14:14:32.851951Z",
     "iopub.status.busy": "2022-05-19T14:14:32.848722Z",
     "iopub.status.idle": "2022-05-19T14:14:34.215074Z",
     "shell.execute_reply": "2022-05-19T14:14:34.214237Z"
    },
    "papermill": {
     "duration": 1.375563,
     "end_time": "2022-05-19T14:14:34.217251",
     "exception": false,
     "start_time": "2022-05-19T14:14:32.841688",
     "status": "completed"
    },
    "tags": []
   },
   "outputs": [],
   "source": [
    "import pandas as pd\n",
    "import numpy as np\n",
    "import matplotlib.pyplot as plt\n",
    "import seaborn as sns\n",
    "%matplotlib inline\n",
    "\n",
    "from collections import Counter\n",
    "\n",
    "from sklearn.ensemble import RandomForestClassifier, AdaBoostClassifier, GradientBoostingClassifier, ExtraTreesClassifier, VotingClassifier\n",
    "from sklearn.discriminant_analysis import LinearDiscriminantAnalysis\n",
    "from sklearn.linear_model import LogisticRegression\n",
    "from sklearn.neighbors import KNeighborsClassifier\n",
    "from sklearn.tree import DecisionTreeClassifier\n",
    "from sklearn.neural_network import MLPClassifier\n",
    "from sklearn.svm import SVC\n",
    "from sklearn.model_selection import GridSearchCV, cross_val_score, StratifiedKFold, learning_curve\n",
    "\n",
    "sns.set(style='white', context='notebook', palette='deep')"
   ]
  },
  {
   "cell_type": "markdown",
   "id": "e102269a",
   "metadata": {
    "papermill": {
     "duration": 0.00614,
     "end_time": "2022-05-19T14:14:34.229873",
     "exception": false,
     "start_time": "2022-05-19T14:14:34.223733",
     "status": "completed"
    },
    "tags": []
   },
   "source": [
    "# 2. Load and check data"
   ]
  },
  {
   "cell_type": "code",
   "execution_count": 2,
   "id": "52d4505d",
   "metadata": {
    "execution": {
     "iopub.execute_input": "2022-05-19T14:14:34.243894Z",
     "iopub.status.busy": "2022-05-19T14:14:34.243595Z",
     "iopub.status.idle": "2022-05-19T14:14:34.286915Z",
     "shell.execute_reply": "2022-05-19T14:14:34.285927Z"
    },
    "papermill": {
     "duration": 0.052818,
     "end_time": "2022-05-19T14:14:34.288803",
     "exception": false,
     "start_time": "2022-05-19T14:14:34.235985",
     "status": "completed"
    },
    "tags": []
   },
   "outputs": [],
   "source": [
    "# Load\n",
    "\n",
    "train = pd.read_csv(\"../input/titanic/test.csv\")\n",
    "test = pd.read_csv(\"../input/titanic/train.csv\")\n",
    "IDtest = test['PassengerId']\n"
   ]
  },
  {
   "cell_type": "markdown",
   "id": "77b3e3e5",
   "metadata": {
    "papermill": {
     "duration": 0.006264,
     "end_time": "2022-05-19T14:14:34.302064",
     "exception": false,
     "start_time": "2022-05-19T14:14:34.295800",
     "status": "completed"
    },
    "tags": []
   },
   "source": [
    "## Outlier detection"
   ]
  },
  {
   "cell_type": "code",
   "execution_count": 3,
   "id": "f530f2c1",
   "metadata": {
    "execution": {
     "iopub.execute_input": "2022-05-19T14:14:34.315908Z",
     "iopub.status.busy": "2022-05-19T14:14:34.315300Z",
     "iopub.status.idle": "2022-05-19T14:14:34.323657Z",
     "shell.execute_reply": "2022-05-19T14:14:34.323130Z"
    },
    "papermill": {
     "duration": 0.01746,
     "end_time": "2022-05-19T14:14:34.325624",
     "exception": false,
     "start_time": "2022-05-19T14:14:34.308164",
     "status": "completed"
    },
    "tags": []
   },
   "outputs": [],
   "source": [
    "# Outlier detection\n",
    "\n",
    "def detect_outliers(df,n,features):\n",
    "    outlier_indices = []\n",
    "    \n",
    "    # iterate over feature(columns)\n",
    "    for col in features:\n",
    "        # 1st quartile (25%)\n",
    "        Q1 = np.percentile(df[col], 25)\n",
    "        # 3rd (75%)\n",
    "        Q3 = np.percentile(df[col], 75)\n",
    "        # Interquartile range(IQR)\n",
    "        IQR = Q3 - Q1\n",
    "        \n",
    "        # Outlier step\n",
    "        outlier_step = 1.5 * IQR\n",
    "        \n",
    "        # Determine a list of indices of outliers for feature col\n",
    "        outlier_list_col = df[(df[col] < Q1 - outlier_step) | (df[col] > Q3 + outlier_step )].index\n",
    "        \n",
    "        # append the found outlier indices for col to the list of outlier indices\n",
    "        outlier_indices.extend(outlier_list_col)\n",
    "        \n",
    "        # select observations containg more than 2 outliers\n",
    "        oultlier_indices = Counter(outlier_indices)\n",
    "        multiple_outliers = list( k for k, v in outlier_indices.items() if v > n)\n",
    "        \n",
    "        return multiple_outliers\n",
    "    \n",
    "    # detect ouliers from Age, SibSp, Parch and Fare\n",
    "    Outliers_to_drop = detect_outliers(train,2,[\"Age\", \"SibSp\", \"Parch\", \"Fare\"])\n",
    "    "
   ]
  },
  {
   "cell_type": "code",
   "execution_count": null,
   "id": "01e05305",
   "metadata": {
    "papermill": {
     "duration": 0.006216,
     "end_time": "2022-05-19T14:14:34.338454",
     "exception": false,
     "start_time": "2022-05-19T14:14:34.332238",
     "status": "completed"
    },
    "tags": []
   },
   "outputs": [],
   "source": []
  },
  {
   "cell_type": "code",
   "execution_count": null,
   "id": "cdd1de61",
   "metadata": {
    "papermill": {
     "duration": 0.006042,
     "end_time": "2022-05-19T14:14:34.350852",
     "exception": false,
     "start_time": "2022-05-19T14:14:34.344810",
     "status": "completed"
    },
    "tags": []
   },
   "outputs": [],
   "source": []
  }
 ],
 "metadata": {
  "kernelspec": {
   "display_name": "Python 3",
   "language": "python",
   "name": "python3"
  },
  "language_info": {
   "codemirror_mode": {
    "name": "ipython",
    "version": 3
   },
   "file_extension": ".py",
   "mimetype": "text/x-python",
   "name": "python",
   "nbconvert_exporter": "python",
   "pygments_lexer": "ipython3",
   "version": "3.7.12"
  },
  "papermill": {
   "default_parameters": {},
   "duration": 10.136102,
   "end_time": "2022-05-19T14:14:35.277383",
   "environment_variables": {},
   "exception": null,
   "input_path": "__notebook__.ipynb",
   "output_path": "__notebook__.ipynb",
   "parameters": {},
   "start_time": "2022-05-19T14:14:25.141281",
   "version": "2.3.4"
  }
 },
 "nbformat": 4,
 "nbformat_minor": 5
}
