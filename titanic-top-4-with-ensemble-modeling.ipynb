{
 "cells": [
  {
   "cell_type": "markdown",
   "id": "548f1afb",
   "metadata": {
    "papermill": {
     "duration": 0.089069,
     "end_time": "2022-06-01T14:38:24.876229",
     "exception": false,
     "start_time": "2022-06-01T14:38:24.787160",
     "status": "completed"
    },
    "tags": []
   },
   "source": [
    "## 1. Main\n",
    "\n",
    "* Feature analysis\n",
    "* Feature engineering\n",
    "* Modeling"
   ]
  },
  {
   "cell_type": "code",
   "execution_count": 1,
   "id": "7bb75979",
   "metadata": {
    "_cell_guid": "b1076dfc-b9ad-4769-8c92-a6c4dae69d19",
    "_uuid": "8f2839f25d086af736a60e9eeb907d3b93b6e0e5",
    "execution": {
     "iopub.execute_input": "2022-06-01T14:38:25.055535Z",
     "iopub.status.busy": "2022-06-01T14:38:25.054650Z",
     "iopub.status.idle": "2022-06-01T14:38:26.636377Z",
     "shell.execute_reply": "2022-06-01T14:38:26.635496Z"
    },
    "papermill": {
     "duration": 1.672747,
     "end_time": "2022-06-01T14:38:26.638886",
     "exception": false,
     "start_time": "2022-06-01T14:38:24.966139",
     "status": "completed"
    },
    "tags": []
   },
   "outputs": [],
   "source": [
    "import pandas as pd\n",
    "import numpy as np\n",
    "import matplotlib.pyplot as plt\n",
    "import seaborn as sns\n",
    "%matplotlib inline\n",
    "import warnings\n",
    "warnings.filterwarnings('ignore')\n",
    "\n",
    "from collections import Counter\n",
    "\n",
    "from sklearn.ensemble import RandomForestClassifier, AdaBoostClassifier, GradientBoostingClassifier, ExtraTreesClassifier, VotingClassifier\n",
    "from sklearn.discriminant_analysis import LinearDiscriminantAnalysis\n",
    "from sklearn.linear_model import LogisticRegression\n",
    "from sklearn.neighbors import KNeighborsClassifier\n",
    "from sklearn.tree import DecisionTreeClassifier\n",
    "from sklearn.neural_network import MLPClassifier\n",
    "from sklearn.svm import SVC\n",
    "from sklearn.model_selection import GridSearchCV, cross_val_score, StratifiedKFold, learning_curve\n",
    "\n",
    "sns.set(style='white', context='notebook', palette='deep')"
   ]
  },
  {
   "cell_type": "markdown",
   "id": "7037e260",
   "metadata": {
    "papermill": {
     "duration": 0.089466,
     "end_time": "2022-06-01T14:38:26.819182",
     "exception": false,
     "start_time": "2022-06-01T14:38:26.729716",
     "status": "completed"
    },
    "tags": []
   },
   "source": [
    "## 2. Load and check data"
   ]
  },
  {
   "cell_type": "markdown",
   "id": "0f905c97",
   "metadata": {
    "papermill": {
     "duration": 0.089615,
     "end_time": "2022-06-01T14:38:26.999101",
     "exception": false,
     "start_time": "2022-06-01T14:38:26.909486",
     "status": "completed"
    },
    "tags": []
   },
   "source": [
    "### 2.1 Load data"
   ]
  },
  {
   "cell_type": "code",
   "execution_count": 2,
   "id": "e1b92888",
   "metadata": {
    "execution": {
     "iopub.execute_input": "2022-06-01T14:38:27.178756Z",
     "iopub.status.busy": "2022-06-01T14:38:27.178428Z",
     "iopub.status.idle": "2022-06-01T14:38:27.219111Z",
     "shell.execute_reply": "2022-06-01T14:38:27.218459Z"
    },
    "papermill": {
     "duration": 0.133126,
     "end_time": "2022-06-01T14:38:27.221370",
     "exception": false,
     "start_time": "2022-06-01T14:38:27.088244",
     "status": "completed"
    },
    "tags": []
   },
   "outputs": [],
   "source": [
    "# Load\n",
    "\n",
    "train = pd.read_csv(\"../input/titanic/train.csv\")\n",
    "test = pd.read_csv(\"../input/titanic/test.csv\")\n",
    "IDtest = test['PassengerId']\n"
   ]
  },
  {
   "cell_type": "markdown",
   "id": "46617618",
   "metadata": {
    "papermill": {
     "duration": 0.087075,
     "end_time": "2022-06-01T14:38:27.397663",
     "exception": false,
     "start_time": "2022-06-01T14:38:27.310588",
     "status": "completed"
    },
    "tags": []
   },
   "source": [
    "### 2.2 Outlier detection"
   ]
  },
  {
   "cell_type": "code",
   "execution_count": 3,
   "id": "c553ab84",
   "metadata": {
    "execution": {
     "iopub.execute_input": "2022-06-01T14:38:27.575016Z",
     "iopub.status.busy": "2022-06-01T14:38:27.574239Z",
     "iopub.status.idle": "2022-06-01T14:38:27.592843Z",
     "shell.execute_reply": "2022-06-01T14:38:27.592200Z"
    },
    "papermill": {
     "duration": 0.109532,
     "end_time": "2022-06-01T14:38:27.595036",
     "exception": false,
     "start_time": "2022-06-01T14:38:27.485504",
     "status": "completed"
    },
    "tags": []
   },
   "outputs": [],
   "source": [
    "# Outlier detection \n",
    "\n",
    "def detect_outliers(df,n,features):\n",
    "    \"\"\"\n",
    "    Takes a dataframe df of features and returns a list of the indices\n",
    "    corresponding to the observations containing more than n outliers according\n",
    "    to the Tukey method.\n",
    "    \"\"\"\n",
    "    outlier_indices = []\n",
    "    \n",
    "    # iterate over features(columns)\n",
    "    for col in features:\n",
    "        # 1st quartile (25%)\n",
    "        Q1 = np.percentile(df[col], 25)\n",
    "        # 3rd quartile (75%)\n",
    "        Q3 = np.percentile(df[col],75)\n",
    "        # Interquartile range (IQR)\n",
    "        IQR = Q3 - Q1\n",
    "        \n",
    "        # outlier step\n",
    "        outlier_step = 1.5 * IQR\n",
    "        \n",
    "        # Determine a list of indices of outliers for feature col\n",
    "        outlier_list_col = df[(df[col] < Q1 - outlier_step) | (df[col] > Q3 + outlier_step )].index\n",
    "        \n",
    "        # append the found outlier indices for col to the list of outlier indices \n",
    "        outlier_indices.extend(outlier_list_col)\n",
    "        \n",
    "    # select observations containing more than 2 outliers\n",
    "    outlier_indices = Counter(outlier_indices)        \n",
    "    multiple_outliers = list( k for k, v in outlier_indices.items() if v > n )\n",
    "    \n",
    "    return multiple_outliers   \n",
    "\n",
    "# detect outliers from Age, SibSp , Parch and Fare\n",
    "Outliers_to_drop = detect_outliers(train,2,[\"Age\",\"SibSp\",\"Parch\",\"Fare\"])\n",
    "    \n",
    "    \n",
    "    "
   ]
  },
  {
   "cell_type": "code",
   "execution_count": 4,
   "id": "2e495594",
   "metadata": {
    "execution": {
     "iopub.execute_input": "2022-06-01T14:38:27.773969Z",
     "iopub.status.busy": "2022-06-01T14:38:27.773680Z",
     "iopub.status.idle": "2022-06-01T14:38:27.781837Z",
     "shell.execute_reply": "2022-06-01T14:38:27.781129Z"
    },
    "papermill": {
     "duration": 0.100828,
     "end_time": "2022-06-01T14:38:27.784815",
     "exception": false,
     "start_time": "2022-06-01T14:38:27.683987",
     "status": "completed"
    },
    "tags": []
   },
   "outputs": [
    {
     "data": {
      "text/plain": [
       "Index(['PassengerId', 'Survived', 'Pclass', 'Name', 'Sex', 'Age', 'SibSp',\n",
       "       'Parch', 'Ticket', 'Fare', 'Cabin', 'Embarked'],\n",
       "      dtype='object')"
      ]
     },
     "execution_count": 4,
     "metadata": {},
     "output_type": "execute_result"
    }
   ],
   "source": [
    "train.columns"
   ]
  },
  {
   "cell_type": "markdown",
   "id": "d93b10ef",
   "metadata": {
    "papermill": {
     "duration": 0.089751,
     "end_time": "2022-06-01T14:38:27.962755",
     "exception": false,
     "start_time": "2022-06-01T14:38:27.873004",
     "status": "completed"
    },
    "tags": []
   },
   "source": [
    "* 분포 값(IQR)의 첫 번째 사분위수와 세 번째 사분위수 사이에 포함된 사분위간 범위를 정의하는 outlier를 탐지하기 위해 Tukey 방법(Tukey JW., 1977)을 사용.\n",
    "* numerical value features 사용(Age, SibSp, Sarch and Fare)"
   ]
  },
  {
   "cell_type": "code",
   "execution_count": 5,
   "id": "e8413fd2",
   "metadata": {
    "execution": {
     "iopub.execute_input": "2022-06-01T14:38:28.145994Z",
     "iopub.status.busy": "2022-06-01T14:38:28.145706Z",
     "iopub.status.idle": "2022-06-01T14:38:28.167853Z",
     "shell.execute_reply": "2022-06-01T14:38:28.167069Z"
    },
    "papermill": {
     "duration": 0.115798,
     "end_time": "2022-06-01T14:38:28.170022",
     "exception": false,
     "start_time": "2022-06-01T14:38:28.054224",
     "status": "completed"
    },
    "tags": []
   },
   "outputs": [
    {
     "data": {
      "text/html": [
       "<div>\n",
       "<style scoped>\n",
       "    .dataframe tbody tr th:only-of-type {\n",
       "        vertical-align: middle;\n",
       "    }\n",
       "\n",
       "    .dataframe tbody tr th {\n",
       "        vertical-align: top;\n",
       "    }\n",
       "\n",
       "    .dataframe thead th {\n",
       "        text-align: right;\n",
       "    }\n",
       "</style>\n",
       "<table border=\"1\" class=\"dataframe\">\n",
       "  <thead>\n",
       "    <tr style=\"text-align: right;\">\n",
       "      <th></th>\n",
       "      <th>PassengerId</th>\n",
       "      <th>Survived</th>\n",
       "      <th>Pclass</th>\n",
       "      <th>Name</th>\n",
       "      <th>Sex</th>\n",
       "      <th>Age</th>\n",
       "      <th>SibSp</th>\n",
       "      <th>Parch</th>\n",
       "      <th>Ticket</th>\n",
       "      <th>Fare</th>\n",
       "      <th>Cabin</th>\n",
       "      <th>Embarked</th>\n",
       "    </tr>\n",
       "  </thead>\n",
       "  <tbody>\n",
       "    <tr>\n",
       "      <th>27</th>\n",
       "      <td>28</td>\n",
       "      <td>0</td>\n",
       "      <td>1</td>\n",
       "      <td>Fortune, Mr. Charles Alexander</td>\n",
       "      <td>male</td>\n",
       "      <td>19.0</td>\n",
       "      <td>3</td>\n",
       "      <td>2</td>\n",
       "      <td>19950</td>\n",
       "      <td>263.00</td>\n",
       "      <td>C23 C25 C27</td>\n",
       "      <td>S</td>\n",
       "    </tr>\n",
       "    <tr>\n",
       "      <th>88</th>\n",
       "      <td>89</td>\n",
       "      <td>1</td>\n",
       "      <td>1</td>\n",
       "      <td>Fortune, Miss. Mabel Helen</td>\n",
       "      <td>female</td>\n",
       "      <td>23.0</td>\n",
       "      <td>3</td>\n",
       "      <td>2</td>\n",
       "      <td>19950</td>\n",
       "      <td>263.00</td>\n",
       "      <td>C23 C25 C27</td>\n",
       "      <td>S</td>\n",
       "    </tr>\n",
       "    <tr>\n",
       "      <th>159</th>\n",
       "      <td>160</td>\n",
       "      <td>0</td>\n",
       "      <td>3</td>\n",
       "      <td>Sage, Master. Thomas Henry</td>\n",
       "      <td>male</td>\n",
       "      <td>NaN</td>\n",
       "      <td>8</td>\n",
       "      <td>2</td>\n",
       "      <td>CA. 2343</td>\n",
       "      <td>69.55</td>\n",
       "      <td>NaN</td>\n",
       "      <td>S</td>\n",
       "    </tr>\n",
       "    <tr>\n",
       "      <th>180</th>\n",
       "      <td>181</td>\n",
       "      <td>0</td>\n",
       "      <td>3</td>\n",
       "      <td>Sage, Miss. Constance Gladys</td>\n",
       "      <td>female</td>\n",
       "      <td>NaN</td>\n",
       "      <td>8</td>\n",
       "      <td>2</td>\n",
       "      <td>CA. 2343</td>\n",
       "      <td>69.55</td>\n",
       "      <td>NaN</td>\n",
       "      <td>S</td>\n",
       "    </tr>\n",
       "    <tr>\n",
       "      <th>201</th>\n",
       "      <td>202</td>\n",
       "      <td>0</td>\n",
       "      <td>3</td>\n",
       "      <td>Sage, Mr. Frederick</td>\n",
       "      <td>male</td>\n",
       "      <td>NaN</td>\n",
       "      <td>8</td>\n",
       "      <td>2</td>\n",
       "      <td>CA. 2343</td>\n",
       "      <td>69.55</td>\n",
       "      <td>NaN</td>\n",
       "      <td>S</td>\n",
       "    </tr>\n",
       "    <tr>\n",
       "      <th>324</th>\n",
       "      <td>325</td>\n",
       "      <td>0</td>\n",
       "      <td>3</td>\n",
       "      <td>Sage, Mr. George John Jr</td>\n",
       "      <td>male</td>\n",
       "      <td>NaN</td>\n",
       "      <td>8</td>\n",
       "      <td>2</td>\n",
       "      <td>CA. 2343</td>\n",
       "      <td>69.55</td>\n",
       "      <td>NaN</td>\n",
       "      <td>S</td>\n",
       "    </tr>\n",
       "    <tr>\n",
       "      <th>341</th>\n",
       "      <td>342</td>\n",
       "      <td>1</td>\n",
       "      <td>1</td>\n",
       "      <td>Fortune, Miss. Alice Elizabeth</td>\n",
       "      <td>female</td>\n",
       "      <td>24.0</td>\n",
       "      <td>3</td>\n",
       "      <td>2</td>\n",
       "      <td>19950</td>\n",
       "      <td>263.00</td>\n",
       "      <td>C23 C25 C27</td>\n",
       "      <td>S</td>\n",
       "    </tr>\n",
       "    <tr>\n",
       "      <th>792</th>\n",
       "      <td>793</td>\n",
       "      <td>0</td>\n",
       "      <td>3</td>\n",
       "      <td>Sage, Miss. Stella Anna</td>\n",
       "      <td>female</td>\n",
       "      <td>NaN</td>\n",
       "      <td>8</td>\n",
       "      <td>2</td>\n",
       "      <td>CA. 2343</td>\n",
       "      <td>69.55</td>\n",
       "      <td>NaN</td>\n",
       "      <td>S</td>\n",
       "    </tr>\n",
       "    <tr>\n",
       "      <th>846</th>\n",
       "      <td>847</td>\n",
       "      <td>0</td>\n",
       "      <td>3</td>\n",
       "      <td>Sage, Mr. Douglas Bullen</td>\n",
       "      <td>male</td>\n",
       "      <td>NaN</td>\n",
       "      <td>8</td>\n",
       "      <td>2</td>\n",
       "      <td>CA. 2343</td>\n",
       "      <td>69.55</td>\n",
       "      <td>NaN</td>\n",
       "      <td>S</td>\n",
       "    </tr>\n",
       "    <tr>\n",
       "      <th>863</th>\n",
       "      <td>864</td>\n",
       "      <td>0</td>\n",
       "      <td>3</td>\n",
       "      <td>Sage, Miss. Dorothy Edith \"Dolly\"</td>\n",
       "      <td>female</td>\n",
       "      <td>NaN</td>\n",
       "      <td>8</td>\n",
       "      <td>2</td>\n",
       "      <td>CA. 2343</td>\n",
       "      <td>69.55</td>\n",
       "      <td>NaN</td>\n",
       "      <td>S</td>\n",
       "    </tr>\n",
       "  </tbody>\n",
       "</table>\n",
       "</div>"
      ],
      "text/plain": [
       "     PassengerId  Survived  Pclass                               Name     Sex  \\\n",
       "27            28         0       1     Fortune, Mr. Charles Alexander    male   \n",
       "88            89         1       1         Fortune, Miss. Mabel Helen  female   \n",
       "159          160         0       3         Sage, Master. Thomas Henry    male   \n",
       "180          181         0       3       Sage, Miss. Constance Gladys  female   \n",
       "201          202         0       3                Sage, Mr. Frederick    male   \n",
       "324          325         0       3           Sage, Mr. George John Jr    male   \n",
       "341          342         1       1     Fortune, Miss. Alice Elizabeth  female   \n",
       "792          793         0       3            Sage, Miss. Stella Anna  female   \n",
       "846          847         0       3           Sage, Mr. Douglas Bullen    male   \n",
       "863          864         0       3  Sage, Miss. Dorothy Edith \"Dolly\"  female   \n",
       "\n",
       "      Age  SibSp  Parch    Ticket    Fare        Cabin Embarked  \n",
       "27   19.0      3      2     19950  263.00  C23 C25 C27        S  \n",
       "88   23.0      3      2     19950  263.00  C23 C25 C27        S  \n",
       "159   NaN      8      2  CA. 2343   69.55          NaN        S  \n",
       "180   NaN      8      2  CA. 2343   69.55          NaN        S  \n",
       "201   NaN      8      2  CA. 2343   69.55          NaN        S  \n",
       "324   NaN      8      2  CA. 2343   69.55          NaN        S  \n",
       "341  24.0      3      2     19950  263.00  C23 C25 C27        S  \n",
       "792   NaN      8      2  CA. 2343   69.55          NaN        S  \n",
       "846   NaN      8      2  CA. 2343   69.55          NaN        S  \n",
       "863   NaN      8      2  CA. 2343   69.55          NaN        S  "
      ]
     },
     "execution_count": 5,
     "metadata": {},
     "output_type": "execute_result"
    }
   ],
   "source": [
    "# Show outlier row\n",
    "train.loc[Outliers_to_drop]"
   ]
  },
  {
   "cell_type": "markdown",
   "id": "b6e9a9a9",
   "metadata": {
    "papermill": {
     "duration": 0.088752,
     "end_time": "2022-06-01T14:38:28.349014",
     "exception": false,
     "start_time": "2022-06-01T14:38:28.260262",
     "status": "completed"
    },
    "tags": []
   },
   "source": [
    "**10 outliers**\n",
    "* passenger 28, 89, 342 have an high Ticket Fare\n",
    "* othes have very high in SibSP.\n",
    "\n"
   ]
  },
  {
   "cell_type": "code",
   "execution_count": 6,
   "id": "a6c1823c",
   "metadata": {
    "execution": {
     "iopub.execute_input": "2022-06-01T14:38:28.530286Z",
     "iopub.status.busy": "2022-06-01T14:38:28.529479Z",
     "iopub.status.idle": "2022-06-01T14:38:28.534627Z",
     "shell.execute_reply": "2022-06-01T14:38:28.533918Z"
    },
    "papermill": {
     "duration": 0.097639,
     "end_time": "2022-06-01T14:38:28.536650",
     "exception": false,
     "start_time": "2022-06-01T14:38:28.439011",
     "status": "completed"
    },
    "tags": []
   },
   "outputs": [],
   "source": [
    "# Drop outliers\n",
    "train = train.drop(Outliers_to_drop, axis = 0).reset_index(drop=True)"
   ]
  },
  {
   "cell_type": "markdown",
   "id": "90cf2e34",
   "metadata": {
    "papermill": {
     "duration": 0.087885,
     "end_time": "2022-06-01T14:38:28.713865",
     "exception": false,
     "start_time": "2022-06-01T14:38:28.625980",
     "status": "completed"
    },
    "tags": []
   },
   "source": [
    "**reset_index**\n",
    "\n",
    "인덱스 초기화하고 재배열해주는 함수, 데이터 전처리 하다보면 인덱스 뒤죽박죽됨.\n",
    "\n",
    "* drop = True 기존 인덱스 버리고 재배열\n",
    "* inplace = True "
   ]
  },
  {
   "cell_type": "markdown",
   "id": "5d1a1fac",
   "metadata": {
    "papermill": {
     "duration": 0.087617,
     "end_time": "2022-06-01T14:38:28.890119",
     "exception": false,
     "start_time": "2022-06-01T14:38:28.802502",
     "status": "completed"
    },
    "tags": []
   },
   "source": [
    "### 2.3 joining train and test set"
   ]
  },
  {
   "cell_type": "code",
   "execution_count": 7,
   "id": "70aec6dd",
   "metadata": {
    "execution": {
     "iopub.execute_input": "2022-06-01T14:38:29.071240Z",
     "iopub.status.busy": "2022-06-01T14:38:29.070498Z",
     "iopub.status.idle": "2022-06-01T14:38:29.082844Z",
     "shell.execute_reply": "2022-06-01T14:38:29.082259Z"
    },
    "papermill": {
     "duration": 0.104647,
     "end_time": "2022-06-01T14:38:29.084842",
     "exception": false,
     "start_time": "2022-06-01T14:38:28.980195",
     "status": "completed"
    },
    "tags": []
   },
   "outputs": [],
   "source": [
    "# concatenating dataframes\n",
    "# 데이터프레임 합치기\n",
    "\n",
    "train_len = len(train)\n",
    "dataset = pd.concat(objs=[train, test], axis=0).reset_index(drop=True)"
   ]
  },
  {
   "cell_type": "markdown",
   "id": "7b55129f",
   "metadata": {
    "papermill": {
     "duration": 0.089297,
     "end_time": "2022-06-01T14:38:29.262029",
     "exception": false,
     "start_time": "2022-06-01T14:38:29.172732",
     "status": "completed"
    },
    "tags": []
   },
   "source": [
    "### 2.4 check for null and missing values"
   ]
  },
  {
   "cell_type": "code",
   "execution_count": 8,
   "id": "9e56eec5",
   "metadata": {
    "execution": {
     "iopub.execute_input": "2022-06-01T14:38:29.439720Z",
     "iopub.status.busy": "2022-06-01T14:38:29.439273Z",
     "iopub.status.idle": "2022-06-01T14:38:29.450191Z",
     "shell.execute_reply": "2022-06-01T14:38:29.449399Z"
    },
    "papermill": {
     "duration": 0.102127,
     "end_time": "2022-06-01T14:38:29.452176",
     "exception": false,
     "start_time": "2022-06-01T14:38:29.350049",
     "status": "completed"
    },
    "tags": []
   },
   "outputs": [
    {
     "data": {
      "text/plain": [
       "PassengerId       0\n",
       "Survived        418\n",
       "Pclass            0\n",
       "Name              0\n",
       "Sex               0\n",
       "Age             256\n",
       "SibSp             0\n",
       "Parch             0\n",
       "Ticket            0\n",
       "Fare              1\n",
       "Cabin          1007\n",
       "Embarked          2\n",
       "dtype: int64"
      ]
     },
     "execution_count": 8,
     "metadata": {},
     "output_type": "execute_result"
    }
   ],
   "source": [
    "# Fill empty and NaNs values with NaN\n",
    "dataset = dataset.fillna(np.nan)\n",
    "\n",
    "# Check for Null values\n",
    "dataset.isnull().sum()"
   ]
  },
  {
   "cell_type": "markdown",
   "id": "d5a1fc73",
   "metadata": {
    "papermill": {
     "duration": 0.088501,
     "end_time": "2022-06-01T14:38:29.628739",
     "exception": false,
     "start_time": "2022-06-01T14:38:29.540238",
     "status": "completed"
    },
    "tags": []
   },
   "source": [
    "결측치에서 Age와 Cabin이 중요한 피처임을 확인"
   ]
  },
  {
   "cell_type": "code",
   "execution_count": 9,
   "id": "e85ecaf2",
   "metadata": {
    "execution": {
     "iopub.execute_input": "2022-06-01T14:38:29.810741Z",
     "iopub.status.busy": "2022-06-01T14:38:29.810125Z",
     "iopub.status.idle": "2022-06-01T14:38:29.834914Z",
     "shell.execute_reply": "2022-06-01T14:38:29.833397Z"
    },
    "papermill": {
     "duration": 0.118922,
     "end_time": "2022-06-01T14:38:29.837204",
     "exception": false,
     "start_time": "2022-06-01T14:38:29.718282",
     "status": "completed"
    },
    "tags": []
   },
   "outputs": [
    {
     "name": "stdout",
     "output_type": "stream",
     "text": [
      "<class 'pandas.core.frame.DataFrame'>\n",
      "RangeIndex: 881 entries, 0 to 880\n",
      "Data columns (total 12 columns):\n",
      " #   Column       Non-Null Count  Dtype  \n",
      "---  ------       --------------  -----  \n",
      " 0   PassengerId  881 non-null    int64  \n",
      " 1   Survived     881 non-null    int64  \n",
      " 2   Pclass       881 non-null    int64  \n",
      " 3   Name         881 non-null    object \n",
      " 4   Sex          881 non-null    object \n",
      " 5   Age          711 non-null    float64\n",
      " 6   SibSp        881 non-null    int64  \n",
      " 7   Parch        881 non-null    int64  \n",
      " 8   Ticket       881 non-null    object \n",
      " 9   Fare         881 non-null    float64\n",
      " 10  Cabin        201 non-null    object \n",
      " 11  Embarked     879 non-null    object \n",
      "dtypes: float64(2), int64(5), object(5)\n",
      "memory usage: 82.7+ KB\n"
     ]
    },
    {
     "data": {
      "text/plain": [
       "PassengerId      0\n",
       "Survived         0\n",
       "Pclass           0\n",
       "Name             0\n",
       "Sex              0\n",
       "Age            170\n",
       "SibSp            0\n",
       "Parch            0\n",
       "Ticket           0\n",
       "Fare             0\n",
       "Cabin          680\n",
       "Embarked         2\n",
       "dtype: int64"
      ]
     },
     "execution_count": 9,
     "metadata": {},
     "output_type": "execute_result"
    }
   ],
   "source": [
    "# Infos\n",
    "train.info()\n",
    "train.isnull().sum()"
   ]
  },
  {
   "cell_type": "code",
   "execution_count": 10,
   "id": "b0d5e4bb",
   "metadata": {
    "execution": {
     "iopub.execute_input": "2022-06-01T14:38:30.023364Z",
     "iopub.status.busy": "2022-06-01T14:38:30.022820Z",
     "iopub.status.idle": "2022-06-01T14:38:30.037228Z",
     "shell.execute_reply": "2022-06-01T14:38:30.036619Z"
    },
    "papermill": {
     "duration": 0.110506,
     "end_time": "2022-06-01T14:38:30.039040",
     "exception": false,
     "start_time": "2022-06-01T14:38:29.928534",
     "status": "completed"
    },
    "tags": []
   },
   "outputs": [
    {
     "data": {
      "text/html": [
       "<div>\n",
       "<style scoped>\n",
       "    .dataframe tbody tr th:only-of-type {\n",
       "        vertical-align: middle;\n",
       "    }\n",
       "\n",
       "    .dataframe tbody tr th {\n",
       "        vertical-align: top;\n",
       "    }\n",
       "\n",
       "    .dataframe thead th {\n",
       "        text-align: right;\n",
       "    }\n",
       "</style>\n",
       "<table border=\"1\" class=\"dataframe\">\n",
       "  <thead>\n",
       "    <tr style=\"text-align: right;\">\n",
       "      <th></th>\n",
       "      <th>PassengerId</th>\n",
       "      <th>Survived</th>\n",
       "      <th>Pclass</th>\n",
       "      <th>Name</th>\n",
       "      <th>Sex</th>\n",
       "      <th>Age</th>\n",
       "      <th>SibSp</th>\n",
       "      <th>Parch</th>\n",
       "      <th>Ticket</th>\n",
       "      <th>Fare</th>\n",
       "      <th>Cabin</th>\n",
       "      <th>Embarked</th>\n",
       "    </tr>\n",
       "  </thead>\n",
       "  <tbody>\n",
       "    <tr>\n",
       "      <th>0</th>\n",
       "      <td>1</td>\n",
       "      <td>0</td>\n",
       "      <td>3</td>\n",
       "      <td>Braund, Mr. Owen Harris</td>\n",
       "      <td>male</td>\n",
       "      <td>22.0</td>\n",
       "      <td>1</td>\n",
       "      <td>0</td>\n",
       "      <td>A/5 21171</td>\n",
       "      <td>7.2500</td>\n",
       "      <td>NaN</td>\n",
       "      <td>S</td>\n",
       "    </tr>\n",
       "    <tr>\n",
       "      <th>1</th>\n",
       "      <td>2</td>\n",
       "      <td>1</td>\n",
       "      <td>1</td>\n",
       "      <td>Cumings, Mrs. John Bradley (Florence Briggs Th...</td>\n",
       "      <td>female</td>\n",
       "      <td>38.0</td>\n",
       "      <td>1</td>\n",
       "      <td>0</td>\n",
       "      <td>PC 17599</td>\n",
       "      <td>71.2833</td>\n",
       "      <td>C85</td>\n",
       "      <td>C</td>\n",
       "    </tr>\n",
       "    <tr>\n",
       "      <th>2</th>\n",
       "      <td>3</td>\n",
       "      <td>1</td>\n",
       "      <td>3</td>\n",
       "      <td>Heikkinen, Miss. Laina</td>\n",
       "      <td>female</td>\n",
       "      <td>26.0</td>\n",
       "      <td>0</td>\n",
       "      <td>0</td>\n",
       "      <td>STON/O2. 3101282</td>\n",
       "      <td>7.9250</td>\n",
       "      <td>NaN</td>\n",
       "      <td>S</td>\n",
       "    </tr>\n",
       "    <tr>\n",
       "      <th>3</th>\n",
       "      <td>4</td>\n",
       "      <td>1</td>\n",
       "      <td>1</td>\n",
       "      <td>Futrelle, Mrs. Jacques Heath (Lily May Peel)</td>\n",
       "      <td>female</td>\n",
       "      <td>35.0</td>\n",
       "      <td>1</td>\n",
       "      <td>0</td>\n",
       "      <td>113803</td>\n",
       "      <td>53.1000</td>\n",
       "      <td>C123</td>\n",
       "      <td>S</td>\n",
       "    </tr>\n",
       "    <tr>\n",
       "      <th>4</th>\n",
       "      <td>5</td>\n",
       "      <td>0</td>\n",
       "      <td>3</td>\n",
       "      <td>Allen, Mr. William Henry</td>\n",
       "      <td>male</td>\n",
       "      <td>35.0</td>\n",
       "      <td>0</td>\n",
       "      <td>0</td>\n",
       "      <td>373450</td>\n",
       "      <td>8.0500</td>\n",
       "      <td>NaN</td>\n",
       "      <td>S</td>\n",
       "    </tr>\n",
       "  </tbody>\n",
       "</table>\n",
       "</div>"
      ],
      "text/plain": [
       "   PassengerId  Survived  Pclass  \\\n",
       "0            1         0       3   \n",
       "1            2         1       1   \n",
       "2            3         1       3   \n",
       "3            4         1       1   \n",
       "4            5         0       3   \n",
       "\n",
       "                                                Name     Sex   Age  SibSp  \\\n",
       "0                            Braund, Mr. Owen Harris    male  22.0      1   \n",
       "1  Cumings, Mrs. John Bradley (Florence Briggs Th...  female  38.0      1   \n",
       "2                             Heikkinen, Miss. Laina  female  26.0      0   \n",
       "3       Futrelle, Mrs. Jacques Heath (Lily May Peel)  female  35.0      1   \n",
       "4                           Allen, Mr. William Henry    male  35.0      0   \n",
       "\n",
       "   Parch            Ticket     Fare Cabin Embarked  \n",
       "0      0         A/5 21171   7.2500   NaN        S  \n",
       "1      0          PC 17599  71.2833   C85        C  \n",
       "2      0  STON/O2. 3101282   7.9250   NaN        S  \n",
       "3      0            113803  53.1000  C123        S  \n",
       "4      0            373450   8.0500   NaN        S  "
      ]
     },
     "execution_count": 10,
     "metadata": {},
     "output_type": "execute_result"
    }
   ],
   "source": [
    "train.head()"
   ]
  },
  {
   "cell_type": "code",
   "execution_count": 11,
   "id": "5ce28788",
   "metadata": {
    "execution": {
     "iopub.execute_input": "2022-06-01T14:38:30.223480Z",
     "iopub.status.busy": "2022-06-01T14:38:30.223007Z",
     "iopub.status.idle": "2022-06-01T14:38:30.229420Z",
     "shell.execute_reply": "2022-06-01T14:38:30.228871Z"
    },
    "papermill": {
     "duration": 0.100277,
     "end_time": "2022-06-01T14:38:30.231093",
     "exception": false,
     "start_time": "2022-06-01T14:38:30.130816",
     "status": "completed"
    },
    "tags": []
   },
   "outputs": [
    {
     "data": {
      "text/plain": [
       "PassengerId      int64\n",
       "Survived         int64\n",
       "Pclass           int64\n",
       "Name            object\n",
       "Sex             object\n",
       "Age            float64\n",
       "SibSp            int64\n",
       "Parch            int64\n",
       "Ticket          object\n",
       "Fare           float64\n",
       "Cabin           object\n",
       "Embarked        object\n",
       "dtype: object"
      ]
     },
     "execution_count": 11,
     "metadata": {},
     "output_type": "execute_result"
    }
   ],
   "source": [
    "train.dtypes"
   ]
  },
  {
   "cell_type": "code",
   "execution_count": 12,
   "id": "19a0110f",
   "metadata": {
    "execution": {
     "iopub.execute_input": "2022-06-01T14:38:30.425631Z",
     "iopub.status.busy": "2022-06-01T14:38:30.424803Z",
     "iopub.status.idle": "2022-06-01T14:38:30.455968Z",
     "shell.execute_reply": "2022-06-01T14:38:30.455171Z"
    },
    "papermill": {
     "duration": 0.125532,
     "end_time": "2022-06-01T14:38:30.458113",
     "exception": false,
     "start_time": "2022-06-01T14:38:30.332581",
     "status": "completed"
    },
    "tags": []
   },
   "outputs": [
    {
     "data": {
      "text/html": [
       "<div>\n",
       "<style scoped>\n",
       "    .dataframe tbody tr th:only-of-type {\n",
       "        vertical-align: middle;\n",
       "    }\n",
       "\n",
       "    .dataframe tbody tr th {\n",
       "        vertical-align: top;\n",
       "    }\n",
       "\n",
       "    .dataframe thead th {\n",
       "        text-align: right;\n",
       "    }\n",
       "</style>\n",
       "<table border=\"1\" class=\"dataframe\">\n",
       "  <thead>\n",
       "    <tr style=\"text-align: right;\">\n",
       "      <th></th>\n",
       "      <th>PassengerId</th>\n",
       "      <th>Survived</th>\n",
       "      <th>Pclass</th>\n",
       "      <th>Age</th>\n",
       "      <th>SibSp</th>\n",
       "      <th>Parch</th>\n",
       "      <th>Fare</th>\n",
       "    </tr>\n",
       "  </thead>\n",
       "  <tbody>\n",
       "    <tr>\n",
       "      <th>count</th>\n",
       "      <td>881.000000</td>\n",
       "      <td>881.000000</td>\n",
       "      <td>881.000000</td>\n",
       "      <td>711.000000</td>\n",
       "      <td>881.000000</td>\n",
       "      <td>881.000000</td>\n",
       "      <td>881.000000</td>\n",
       "    </tr>\n",
       "    <tr>\n",
       "      <th>mean</th>\n",
       "      <td>446.713961</td>\n",
       "      <td>0.385925</td>\n",
       "      <td>2.307605</td>\n",
       "      <td>29.731603</td>\n",
       "      <td>0.455165</td>\n",
       "      <td>0.363224</td>\n",
       "      <td>31.121566</td>\n",
       "    </tr>\n",
       "    <tr>\n",
       "      <th>std</th>\n",
       "      <td>256.617021</td>\n",
       "      <td>0.487090</td>\n",
       "      <td>0.835055</td>\n",
       "      <td>14.547835</td>\n",
       "      <td>0.871571</td>\n",
       "      <td>0.791839</td>\n",
       "      <td>47.996249</td>\n",
       "    </tr>\n",
       "    <tr>\n",
       "      <th>min</th>\n",
       "      <td>1.000000</td>\n",
       "      <td>0.000000</td>\n",
       "      <td>1.000000</td>\n",
       "      <td>0.420000</td>\n",
       "      <td>0.000000</td>\n",
       "      <td>0.000000</td>\n",
       "      <td>0.000000</td>\n",
       "    </tr>\n",
       "    <tr>\n",
       "      <th>25%</th>\n",
       "      <td>226.000000</td>\n",
       "      <td>0.000000</td>\n",
       "      <td>2.000000</td>\n",
       "      <td>20.250000</td>\n",
       "      <td>0.000000</td>\n",
       "      <td>0.000000</td>\n",
       "      <td>7.895800</td>\n",
       "    </tr>\n",
       "    <tr>\n",
       "      <th>50%</th>\n",
       "      <td>448.000000</td>\n",
       "      <td>0.000000</td>\n",
       "      <td>3.000000</td>\n",
       "      <td>28.000000</td>\n",
       "      <td>0.000000</td>\n",
       "      <td>0.000000</td>\n",
       "      <td>14.454200</td>\n",
       "    </tr>\n",
       "    <tr>\n",
       "      <th>75%</th>\n",
       "      <td>668.000000</td>\n",
       "      <td>1.000000</td>\n",
       "      <td>3.000000</td>\n",
       "      <td>38.000000</td>\n",
       "      <td>1.000000</td>\n",
       "      <td>0.000000</td>\n",
       "      <td>30.500000</td>\n",
       "    </tr>\n",
       "    <tr>\n",
       "      <th>max</th>\n",
       "      <td>891.000000</td>\n",
       "      <td>1.000000</td>\n",
       "      <td>3.000000</td>\n",
       "      <td>80.000000</td>\n",
       "      <td>5.000000</td>\n",
       "      <td>6.000000</td>\n",
       "      <td>512.329200</td>\n",
       "    </tr>\n",
       "  </tbody>\n",
       "</table>\n",
       "</div>"
      ],
      "text/plain": [
       "       PassengerId    Survived      Pclass         Age       SibSp  \\\n",
       "count   881.000000  881.000000  881.000000  711.000000  881.000000   \n",
       "mean    446.713961    0.385925    2.307605   29.731603    0.455165   \n",
       "std     256.617021    0.487090    0.835055   14.547835    0.871571   \n",
       "min       1.000000    0.000000    1.000000    0.420000    0.000000   \n",
       "25%     226.000000    0.000000    2.000000   20.250000    0.000000   \n",
       "50%     448.000000    0.000000    3.000000   28.000000    0.000000   \n",
       "75%     668.000000    1.000000    3.000000   38.000000    1.000000   \n",
       "max     891.000000    1.000000    3.000000   80.000000    5.000000   \n",
       "\n",
       "            Parch        Fare  \n",
       "count  881.000000  881.000000  \n",
       "mean     0.363224   31.121566  \n",
       "std      0.791839   47.996249  \n",
       "min      0.000000    0.000000  \n",
       "25%      0.000000    7.895800  \n",
       "50%      0.000000   14.454200  \n",
       "75%      0.000000   30.500000  \n",
       "max      6.000000  512.329200  "
      ]
     },
     "execution_count": 12,
     "metadata": {},
     "output_type": "execute_result"
    }
   ],
   "source": [
    "## Summarize data\n",
    "# Summarie and statistics\n",
    "train.describe()"
   ]
  },
  {
   "cell_type": "markdown",
   "id": "69ba9e79",
   "metadata": {
    "papermill": {
     "duration": 0.092197,
     "end_time": "2022-06-01T14:38:30.641912",
     "exception": false,
     "start_time": "2022-06-01T14:38:30.549715",
     "status": "completed"
    },
    "tags": []
   },
   "source": [
    "## 3.Feature analysis\n",
    "\n",
    "\n",
    "### 3.1 Numerical values"
   ]
  },
  {
   "cell_type": "code",
   "execution_count": 13,
   "id": "8853f738",
   "metadata": {
    "execution": {
     "iopub.execute_input": "2022-06-01T14:38:30.826166Z",
     "iopub.status.busy": "2022-06-01T14:38:30.825872Z",
     "iopub.status.idle": "2022-06-01T14:38:31.170410Z",
     "shell.execute_reply": "2022-06-01T14:38:31.169399Z"
    },
    "papermill": {
     "duration": 0.439438,
     "end_time": "2022-06-01T14:38:31.172685",
     "exception": false,
     "start_time": "2022-06-01T14:38:30.733247",
     "status": "completed"
    },
    "tags": []
   },
   "outputs": [
    {
     "data": {
      "image/png": "[encoded data removed]",
      "text/plain": [
       "<Figure size 432x288 with 2 Axes>"
      ]
     },
     "metadata": {},
     "output_type": "display_data"
    }
   ],
   "source": [
    "# Correlation.matirx between numerical values (SibSp Parch Age and Fare values) and Survived\n",
    "\n",
    "g = sns.heatmap(train[[\"Survived\", \"SibSp\", \"Parch\", \"Age\", \"Fare\"]].corr(),annot=True, fmt = \".2f\", cmap = \"coolwarm\")"
   ]
  },
  {
   "cell_type": "markdown",
   "id": "362e39f4",
   "metadata": {
    "papermill": {
     "duration": 0.091961,
     "end_time": "2022-06-01T14:38:31.357941",
     "exception": false,
     "start_time": "2022-06-01T14:38:31.265980",
     "status": "completed"
    },
    "tags": []
   },
   "source": [
    "**SibSP**"
   ]
  },
  {
   "cell_type": "code",
   "execution_count": 14,
   "id": "e0492a8b",
   "metadata": {
    "execution": {
     "iopub.execute_input": "2022-06-01T14:38:31.545857Z",
     "iopub.status.busy": "2022-06-01T14:38:31.545419Z",
     "iopub.status.idle": "2022-06-01T14:38:32.070475Z",
     "shell.execute_reply": "2022-06-01T14:38:32.069571Z"
    },
    "papermill": {
     "duration": 0.622306,
     "end_time": "2022-06-01T14:38:32.072549",
     "exception": false,
     "start_time": "2022-06-01T14:38:31.450243",
     "status": "completed"
    },
    "tags": []
   },
   "outputs": [
    {
     "data": {
      "image/png": "[encoded data removed]",
      "text/plain": [
       "<Figure size 432x432 with 1 Axes>"
      ]
     },
     "metadata": {},
     "output_type": "display_data"
    }
   ],
   "source": [
    "# Explore SibSp feature vs Survived\n",
    "g = sns.factorplot(x=\"SibSp\", y=\"Survived\", data=train, kind='bar', size = 6, palette = \"muted\")\n",
    "g.despine(left=True)\n",
    "g = g.set_ylabels(\"survival probability\")"
   ]
  },
  {
   "cell_type": "markdown",
   "id": "5c9073fe",
   "metadata": {
    "papermill": {
     "duration": 0.094657,
     "end_time": "2022-06-01T14:38:32.262125",
     "exception": false,
     "start_time": "2022-06-01T14:38:32.167468",
     "status": "completed"
    },
    "tags": []
   },
   "source": [
    "passenges having a lot of siblings/spouses have less chance to survive.\n",
    "\n",
    "Single passengers(0 Sib) or with two other persons(1 of 2) have more chance to survive."
   ]
  },
  {
   "cell_type": "markdown",
   "id": "a233a620",
   "metadata": {
    "papermill": {
     "duration": 0.094333,
     "end_time": "2022-06-01T14:38:32.451642",
     "exception": false,
     "start_time": "2022-06-01T14:38:32.357309",
     "status": "completed"
    },
    "tags": []
   },
   "source": [
    "**Parch**"
   ]
  },
  {
   "cell_type": "code",
   "execution_count": 15,
   "id": "f352c9ce",
   "metadata": {
    "execution": {
     "iopub.execute_input": "2022-06-01T14:38:32.641872Z",
     "iopub.status.busy": "2022-06-01T14:38:32.641568Z",
     "iopub.status.idle": "2022-06-01T14:38:33.178400Z",
     "shell.execute_reply": "2022-06-01T14:38:33.177800Z"
    },
    "papermill": {
     "duration": 0.63431,
     "end_time": "2022-06-01T14:38:33.180341",
     "exception": false,
     "start_time": "2022-06-01T14:38:32.546031",
     "status": "completed"
    },
    "tags": []
   },
   "outputs": [
    {
     "data": {
      "image/png": "[encoded data removed]",
      "text/plain": [
       "<Figure size 432x432 with 1 Axes>"
      ]
     },
     "metadata": {},
     "output_type": "display_data"
    }
   ],
   "source": [
    "# Explore Parch feature vs Survived\n",
    "g = sns.factorplot(x=\"Parch\", y=\"Survived\", data=train, kind=\"bar\", size=6, palette = \"muted\")\n",
    "g.despine(left=True)\n",
    "g = g.set_ylabels(\"survival probability\")"
   ]
  },
  {
   "cell_type": "markdown",
   "id": "55c983a7",
   "metadata": {
    "papermill": {
     "duration": 0.106027,
     "end_time": "2022-06-01T14:38:33.400008",
     "exception": false,
     "start_time": "2022-06-01T14:38:33.293981",
     "status": "completed"
    },
    "tags": []
   },
   "source": [
    "Small families have more chance to survive, more than single (Parch 0), medium (Parch 3,4) and large families (Parch 5,6 ).\n",
    "\n",
    "\n",
    "Be carefull there is an important standard deviation in the survival of passengers with 3 parents/children"
   ]
  },
  {
   "cell_type": "markdown",
   "id": "974ef377",
   "metadata": {
    "papermill": {
     "duration": 0.104233,
     "end_time": "2022-06-01T14:38:33.608092",
     "exception": false,
     "start_time": "2022-06-01T14:38:33.503859",
     "status": "completed"
    },
    "tags": []
   },
   "source": [
    "**Age**"
   ]
  },
  {
   "cell_type": "code",
   "execution_count": 16,
   "id": "c496725c",
   "metadata": {
    "execution": {
     "iopub.execute_input": "2022-06-01T14:38:33.800407Z",
     "iopub.status.busy": "2022-06-01T14:38:33.799770Z",
     "iopub.status.idle": "2022-06-01T14:38:34.433357Z",
     "shell.execute_reply": "2022-06-01T14:38:34.432468Z"
    },
    "papermill": {
     "duration": 0.732605,
     "end_time": "2022-06-01T14:38:34.435700",
     "exception": false,
     "start_time": "2022-06-01T14:38:33.703095",
     "status": "completed"
    },
    "tags": []
   },
   "outputs": [
    {
     "data": {
      "image/png": "[encoded data removed]",
      "text/plain": [
       "<Figure size 432x216 with 2 Axes>"
      ]
     },
     "metadata": {},
     "output_type": "display_data"
    }
   ],
   "source": [
    "# Age vs Survived\n",
    "g = sns.FacetGrid(train, col='Survived')\n",
    "g = g.map(sns.distplot, \"Age\")"
   ]
  },
  {
   "cell_type": "code",
   "execution_count": 17,
   "id": "ff0a6377",
   "metadata": {
    "execution": {
     "iopub.execute_input": "2022-06-01T14:38:34.632004Z",
     "iopub.status.busy": "2022-06-01T14:38:34.631445Z",
     "iopub.status.idle": "2022-06-01T14:38:34.847514Z",
     "shell.execute_reply": "2022-06-01T14:38:34.846540Z"
    },
    "papermill": {
     "duration": 0.316938,
     "end_time": "2022-06-01T14:38:34.849967",
     "exception": false,
     "start_time": "2022-06-01T14:38:34.533029",
     "status": "completed"
    },
    "tags": []
   },
   "outputs": [
    {
     "data": {
      "image/png": "[encoded data removed]",
      "text/plain": [
       "<Figure size 432x288 with 1 Axes>"
      ]
     },
     "metadata": {},
     "output_type": "display_data"
    }
   ],
   "source": [
    "# Age distibution\n",
    "g = sns.kdeplot(train[\"Age\"][(train[\"Survived\"] == 0) & (train[\"Age\"].notnull())], color=\"Red\", shade = True)\n",
    "g = sns.kdeplot(train[\"Age\"][(train[\"Survived\"] == 1) & (train[\"Age\"].notnull())], ax= g, color=\"Blue\", shade= True)\n",
    "g.set_xlabel(\"Age\")\n",
    "g.set_ylabel(\"Frequency\")\n",
    "g = g.legend([\"Not Survived\", \"Survived\"])"
   ]
  },
  {
   "cell_type": "markdown",
   "id": "2cf5aa28",
   "metadata": {
    "papermill": {
     "duration": 0.116043,
     "end_time": "2022-06-01T14:38:35.064444",
     "exception": false,
     "start_time": "2022-06-01T14:38:34.948401",
     "status": "completed"
    },
    "tags": []
   },
   "source": [
    "can see a peak between 0 and 5"
   ]
  },
  {
   "cell_type": "markdown",
   "id": "591a5d57",
   "metadata": {
    "papermill": {
     "duration": 0.096841,
     "end_time": "2022-06-01T14:38:35.262605",
     "exception": false,
     "start_time": "2022-06-01T14:38:35.165764",
     "status": "completed"
    },
    "tags": []
   },
   "source": [
    "**Fare**"
   ]
  },
  {
   "cell_type": "code",
   "execution_count": 18,
   "id": "fc025e04",
   "metadata": {
    "execution": {
     "iopub.execute_input": "2022-06-01T14:38:35.459556Z",
     "iopub.status.busy": "2022-06-01T14:38:35.459234Z",
     "iopub.status.idle": "2022-06-01T14:38:35.466855Z",
     "shell.execute_reply": "2022-06-01T14:38:35.465982Z"
    },
    "papermill": {
     "duration": 0.108553,
     "end_time": "2022-06-01T14:38:35.468975",
     "exception": false,
     "start_time": "2022-06-01T14:38:35.360422",
     "status": "completed"
    },
    "tags": []
   },
   "outputs": [
    {
     "data": {
      "text/plain": [
       "1"
      ]
     },
     "execution_count": 18,
     "metadata": {},
     "output_type": "execute_result"
    }
   ],
   "source": [
    "dataset[\"Fare\"].isnull().sum()"
   ]
  },
  {
   "cell_type": "code",
   "execution_count": 19,
   "id": "8eb43015",
   "metadata": {
    "execution": {
     "iopub.execute_input": "2022-06-01T14:38:35.671847Z",
     "iopub.status.busy": "2022-06-01T14:38:35.671370Z",
     "iopub.status.idle": "2022-06-01T14:38:35.675991Z",
     "shell.execute_reply": "2022-06-01T14:38:35.675398Z"
    },
    "papermill": {
     "duration": 0.107256,
     "end_time": "2022-06-01T14:38:35.677865",
     "exception": false,
     "start_time": "2022-06-01T14:38:35.570609",
     "status": "completed"
    },
    "tags": []
   },
   "outputs": [],
   "source": [
    "# Fill Fare missing values with the median value\n",
    "dataset[\"Fare\"] = dataset[\"Fare\"].fillna(dataset[\"Fare\"].median())"
   ]
  },
  {
   "cell_type": "code",
   "execution_count": 20,
   "id": "d013fc43",
   "metadata": {
    "execution": {
     "iopub.execute_input": "2022-06-01T14:38:35.875152Z",
     "iopub.status.busy": "2022-06-01T14:38:35.874678Z",
     "iopub.status.idle": "2022-06-01T14:38:36.221438Z",
     "shell.execute_reply": "2022-06-01T14:38:36.220398Z"
    },
    "papermill": {
     "duration": 0.44774,
     "end_time": "2022-06-01T14:38:36.223813",
     "exception": false,
     "start_time": "2022-06-01T14:38:35.776073",
     "status": "completed"
    },
    "tags": []
   },
   "outputs": [
    {
     "data": {
      "image/png": "[encoded data removed]",
      "text/plain": [
       "<Figure size 432x288 with 1 Axes>"
      ]
     },
     "metadata": {},
     "output_type": "display_data"
    }
   ],
   "source": [
    "# Explore Fare distribution\n",
    "g = sns.distplot(dataset[\"Fare\"], color=\"m\", label=\"Skewness : %.2f\"%(dataset[\"Fare\"].skew()))\n",
    "g = g.legend(loc=\"best\")"
   ]
  },
  {
   "cell_type": "markdown",
   "id": "c8715f5c",
   "metadata": {
    "papermill": {
     "duration": 0.099323,
     "end_time": "2022-06-01T14:38:36.424526",
     "exception": false,
     "start_time": "2022-06-01T14:38:36.325203",
     "status": "completed"
    },
    "tags": []
   },
   "source": [
    "분포가 비대칭적임. This can lead to overweigth very high values in the model, even if it is scaled.\n",
    "\n",
    "better to transform it with the log function to reduce tis skew."
   ]
  },
  {
   "cell_type": "code",
   "execution_count": 21,
   "id": "1b87ec74",
   "metadata": {
    "execution": {
     "iopub.execute_input": "2022-06-01T14:38:36.624278Z",
     "iopub.status.busy": "2022-06-01T14:38:36.624001Z",
     "iopub.status.idle": "2022-06-01T14:38:36.631770Z",
     "shell.execute_reply": "2022-06-01T14:38:36.630927Z"
    },
    "papermill": {
     "duration": 0.109807,
     "end_time": "2022-06-01T14:38:36.633643",
     "exception": false,
     "start_time": "2022-06-01T14:38:36.523836",
     "status": "completed"
    },
    "tags": []
   },
   "outputs": [],
   "source": [
    "# Apply log to Fare to reduce skewness distribution\n",
    "dataset[\"Fare\"] = dataset[\"Fare\"].map(lambda i: np.log(i) if i > 0 else 0)"
   ]
  },
  {
   "cell_type": "code",
   "execution_count": 22,
   "id": "cbc63e47",
   "metadata": {
    "execution": {
     "iopub.execute_input": "2022-06-01T14:38:36.834464Z",
     "iopub.status.busy": "2022-06-01T14:38:36.833473Z",
     "iopub.status.idle": "2022-06-01T14:38:37.294682Z",
     "shell.execute_reply": "2022-06-01T14:38:37.293709Z"
    },
    "papermill": {
     "duration": 0.564253,
     "end_time": "2022-06-01T14:38:37.297041",
     "exception": false,
     "start_time": "2022-06-01T14:38:36.732788",
     "status": "completed"
    },
    "tags": []
   },
   "outputs": [
    {
     "data": {
      "image/png": "[encoded data removed]",
      "text/plain": [
       "<Figure size 432x288 with 1 Axes>"
      ]
     },
     "metadata": {},
     "output_type": "display_data"
    }
   ],
   "source": [
    "g = sns.distplot(dataset[\"Fare\"], color=\"b\", label=\"Skewness : %.2f\"%(dataset[\"Fare\"].skew()))\n",
    "g = g.legend(loc=\"best\")"
   ]
  },
  {
   "cell_type": "code",
   "execution_count": 23,
   "id": "6164f08c",
   "metadata": {
    "execution": {
     "iopub.execute_input": "2022-06-01T14:38:37.499743Z",
     "iopub.status.busy": "2022-06-01T14:38:37.499447Z",
     "iopub.status.idle": "2022-06-01T14:38:37.513807Z",
     "shell.execute_reply": "2022-06-01T14:38:37.513221Z"
    },
    "papermill": {
     "duration": 0.118109,
     "end_time": "2022-06-01T14:38:37.515614",
     "exception": false,
     "start_time": "2022-06-01T14:38:37.397505",
     "status": "completed"
    },
    "tags": []
   },
   "outputs": [
    {
     "data": {
      "text/html": [
       "<div>\n",
       "<style scoped>\n",
       "    .dataframe tbody tr th:only-of-type {\n",
       "        vertical-align: middle;\n",
       "    }\n",
       "\n",
       "    .dataframe tbody tr th {\n",
       "        vertical-align: top;\n",
       "    }\n",
       "\n",
       "    .dataframe thead th {\n",
       "        text-align: right;\n",
       "    }\n",
       "</style>\n",
       "<table border=\"1\" class=\"dataframe\">\n",
       "  <thead>\n",
       "    <tr style=\"text-align: right;\">\n",
       "      <th></th>\n",
       "      <th>Survived</th>\n",
       "    </tr>\n",
       "    <tr>\n",
       "      <th>Sex</th>\n",
       "      <th></th>\n",
       "    </tr>\n",
       "  </thead>\n",
       "  <tbody>\n",
       "    <tr>\n",
       "      <th>female</th>\n",
       "      <td>0.747573</td>\n",
       "    </tr>\n",
       "    <tr>\n",
       "      <th>male</th>\n",
       "      <td>0.190559</td>\n",
       "    </tr>\n",
       "  </tbody>\n",
       "</table>\n",
       "</div>"
      ],
      "text/plain": [
       "        Survived\n",
       "Sex             \n",
       "female  0.747573\n",
       "male    0.190559"
      ]
     },
     "execution_count": 23,
     "metadata": {},
     "output_type": "execute_result"
    }
   ],
   "source": [
    "train[[\"Sex\", \"Survived\"]].groupby('Sex').mean()"
   ]
  },
  {
   "cell_type": "markdown",
   "id": "c0f22014",
   "metadata": {
    "papermill": {
     "duration": 0.099598,
     "end_time": "2022-06-01T14:38:37.714970",
     "exception": false,
     "start_time": "2022-06-01T14:38:37.615372",
     "status": "completed"
    },
    "tags": []
   },
   "source": [
    "**Pclass**"
   ]
  },
  {
   "cell_type": "code",
   "execution_count": 24,
   "id": "3b06e6b7",
   "metadata": {
    "execution": {
     "iopub.execute_input": "2022-06-01T14:38:37.916204Z",
     "iopub.status.busy": "2022-06-01T14:38:37.915666Z",
     "iopub.status.idle": "2022-06-01T14:38:38.310231Z",
     "shell.execute_reply": "2022-06-01T14:38:38.309399Z"
    },
    "papermill": {
     "duration": 0.498282,
     "end_time": "2022-06-01T14:38:38.312460",
     "exception": false,
     "start_time": "2022-06-01T14:38:37.814178",
     "status": "completed"
    },
    "tags": []
   },
   "outputs": [
    {
     "data": {
      "image/png": "[encoded data removed]",
      "text/plain": [
       "<Figure size 432x432 with 1 Axes>"
      ]
     },
     "metadata": {},
     "output_type": "display_data"
    }
   ],
   "source": [
    "# Pclass vs Survived\n",
    "g = sns.factorplot(x=\"Pclass\", y=\"Survived\", data=train, kind=\"bar\", size = 6, palette = \"muted\")\n",
    "g.despine(left=True)\n",
    "g = g.set_ylabels(\"survival probablity\")"
   ]
  },
  {
   "cell_type": "code",
   "execution_count": 25,
   "id": "479ae187",
   "metadata": {
    "execution": {
     "iopub.execute_input": "2022-06-01T14:38:38.516581Z",
     "iopub.status.busy": "2022-06-01T14:38:38.515799Z",
     "iopub.status.idle": "2022-06-01T14:38:39.084956Z",
     "shell.execute_reply": "2022-06-01T14:38:39.083783Z"
    },
    "papermill": {
     "duration": 0.673277,
     "end_time": "2022-06-01T14:38:39.087192",
     "exception": false,
     "start_time": "2022-06-01T14:38:38.413915",
     "status": "completed"
    },
    "tags": []
   },
   "outputs": [
    {
     "data": {
      "image/png": "[encoded data removed]",
      "text/plain": [
       "<Figure size 509.975x432 with 1 Axes>"
      ]
     },
     "metadata": {},
     "output_type": "display_data"
    }
   ],
   "source": [
    "# Explore Pclass vs Survived by Sex\n",
    "g = sns.factorplot(x=\"Pclass\", y=\"Survived\", hue=\"Sex\", data=train, size=6, kind='bar', palette=\"muted\")\n",
    "g.despine(left=True)\n",
    "g = g.set_ylabels(\"survival probability\")"
   ]
  },
  {
   "cell_type": "markdown",
   "id": "9a8282c6",
   "metadata": {
    "papermill": {
     "duration": 0.104204,
     "end_time": "2022-06-01T14:38:39.296929",
     "exception": false,
     "start_time": "2022-06-01T14:38:39.192725",
     "status": "completed"
    },
    "tags": []
   },
   "source": [
    "**Embarked**"
   ]
  },
  {
   "cell_type": "code",
   "execution_count": 26,
   "id": "7c210d8c",
   "metadata": {
    "execution": {
     "iopub.execute_input": "2022-06-01T14:38:39.509300Z",
     "iopub.status.busy": "2022-06-01T14:38:39.509041Z",
     "iopub.status.idle": "2022-06-01T14:38:39.516334Z",
     "shell.execute_reply": "2022-06-01T14:38:39.515489Z"
    },
    "papermill": {
     "duration": 0.118523,
     "end_time": "2022-06-01T14:38:39.518413",
     "exception": false,
     "start_time": "2022-06-01T14:38:39.399890",
     "status": "completed"
    },
    "tags": []
   },
   "outputs": [
    {
     "data": {
      "text/plain": [
       "2"
      ]
     },
     "execution_count": 26,
     "metadata": {},
     "output_type": "execute_result"
    }
   ],
   "source": [
    "dataset[\"Embarked\"].isnull().sum()"
   ]
  },
  {
   "cell_type": "code",
   "execution_count": 27,
   "id": "2458794a",
   "metadata": {
    "execution": {
     "iopub.execute_input": "2022-06-01T14:38:39.725726Z",
     "iopub.status.busy": "2022-06-01T14:38:39.724914Z",
     "iopub.status.idle": "2022-06-01T14:38:39.730264Z",
     "shell.execute_reply": "2022-06-01T14:38:39.729604Z"
    },
    "papermill": {
     "duration": 0.111521,
     "end_time": "2022-06-01T14:38:39.732309",
     "exception": false,
     "start_time": "2022-06-01T14:38:39.620788",
     "status": "completed"
    },
    "tags": []
   },
   "outputs": [],
   "source": [
    "# Fill nan values of dataset set with 'S' most frequent value\n",
    "dataset[\"Embarked\"] = dataset[\"Embarked\"].fillna(\"S\")"
   ]
  },
  {
   "cell_type": "code",
   "execution_count": 28,
   "id": "d2815b9e",
   "metadata": {
    "execution": {
     "iopub.execute_input": "2022-06-01T14:38:39.939798Z",
     "iopub.status.busy": "2022-06-01T14:38:39.939210Z",
     "iopub.status.idle": "2022-06-01T14:38:40.258345Z",
     "shell.execute_reply": "2022-06-01T14:38:40.257388Z"
    },
    "papermill": {
     "duration": 0.424861,
     "end_time": "2022-06-01T14:38:40.260734",
     "exception": false,
     "start_time": "2022-06-01T14:38:39.835873",
     "status": "completed"
    },
    "tags": []
   },
   "outputs": [
    {
     "data": {
      "image/png": "[encoded data removed]",
      "text/plain": [
       "<Figure size 432x432 with 1 Axes>"
      ]
     },
     "metadata": {},
     "output_type": "display_data"
    }
   ],
   "source": [
    "# Explore Embarked vs Survived\n",
    "g = sns.factorplot(x=\"Embarked\", y=\"Survived\", data=train, size=6, kind=\"bar\", palette=\"muted\")\n",
    "g.despine(left=True)\n",
    "g = g.set_ylabels(\"survival probability\")"
   ]
  },
  {
   "cell_type": "markdown",
   "id": "e4032925",
   "metadata": {
    "papermill": {
     "duration": 0.103958,
     "end_time": "2022-06-01T14:38:40.468216",
     "exception": false,
     "start_time": "2022-06-01T14:38:40.364258",
     "status": "completed"
    },
    "tags": []
   },
   "source": [
    "passenger coming form Cherbourg(C) have more chance to survie than Queenstown(Q) and Southampton(S).\n",
    "\n",
    "hypothesis: proportion of first class passengers is higher for those who came from C > Q > S"
   ]
  },
  {
   "cell_type": "code",
   "execution_count": 29,
   "id": "22620830",
   "metadata": {
    "execution": {
     "iopub.execute_input": "2022-06-01T14:38:40.676452Z",
     "iopub.status.busy": "2022-06-01T14:38:40.675897Z",
     "iopub.status.idle": "2022-06-01T14:38:41.230069Z",
     "shell.execute_reply": "2022-06-01T14:38:41.229065Z"
    },
    "papermill": {
     "duration": 0.660886,
     "end_time": "2022-06-01T14:38:41.232436",
     "exception": false,
     "start_time": "2022-06-01T14:38:40.571550",
     "status": "completed"
    },
    "tags": []
   },
   "outputs": [
    {
     "data": {
      "image/png": "[encoded data removed]",
      "text/plain": [
       "<Figure size 1296x432 with 3 Axes>"
      ]
     },
     "metadata": {},
     "output_type": "display_data"
    }
   ],
   "source": [
    "# Explore Pclass vs Embarked\n",
    "g = sns.factorplot(\"Pclass\", col=\"Embarked\", data=train, size=6, kind=\"count\", palette=\"muted\")\n",
    "g.despine(left=True)\n",
    "g = g.set_ylabels(\"Count\")"
   ]
  },
  {
   "cell_type": "markdown",
   "id": "4c0ff8d5",
   "metadata": {
    "papermill": {
     "duration": 0.103874,
     "end_time": "2022-06-01T14:38:41.440024",
     "exception": false,
     "start_time": "2022-06-01T14:38:41.336150",
     "status": "completed"
    },
    "tags": []
   },
   "source": [
    "third class is the most frequent for passenger coming from Southhampton(S) and Q. C passengers are mostly in first class which have the highest survival rate."
   ]
  },
  {
   "cell_type": "markdown",
   "id": "6a39c3df",
   "metadata": {
    "papermill": {
     "duration": 0.105815,
     "end_time": "2022-06-01T14:38:41.651677",
     "exception": false,
     "start_time": "2022-06-01T14:38:41.545862",
     "status": "completed"
    },
    "tags": []
   },
   "source": [
    "## 4. Filling missing Values\n",
    "\n",
    "### 4.1 Age\n",
    "\n",
    "* Age column contains 256 missing values\n",
    "* 생존 가능성 더 높은 집단(어린이)이 있으니 age feature에 결측값 넣어서 사용하는 것이 바람직\n",
    "* 문제 해결을 위해 age와 상관관계가 있는 다른 feature들 확인\n",
    "\n",
    "\n"
   ]
  },
  {
   "cell_type": "code",
   "execution_count": 30,
   "id": "b6c5e7fd",
   "metadata": {
    "execution": {
     "iopub.execute_input": "2022-06-01T14:38:41.861134Z",
     "iopub.status.busy": "2022-06-01T14:38:41.860848Z",
     "iopub.status.idle": "2022-06-01T14:38:43.206809Z",
     "shell.execute_reply": "2022-06-01T14:38:43.205845Z"
    },
    "papermill": {
     "duration": 1.453325,
     "end_time": "2022-06-01T14:38:43.209095",
     "exception": false,
     "start_time": "2022-06-01T14:38:41.755770",
     "status": "completed"
    },
    "tags": []
   },
   "outputs": [
    {
     "data": {
      "image/png": "[encoded data removed]",
      "text/plain": [
       "<Figure size 360x360 with 1 Axes>"
      ]
     },
     "metadata": {},
     "output_type": "display_data"
    },
    {
     "data": {
      "image/png": "[encoded data removed]",
      "text/plain": [
       "<Figure size 406.6x360 with 1 Axes>"
      ]
     },
     "metadata": {},
     "output_type": "display_data"
    },
    {
     "data": {
      "image/png": "[encoded data removed]",
      "text/plain": [
       "<Figure size 360x360 with 1 Axes>"
      ]
     },
     "metadata": {},
     "output_type": "display_data"
    },
    {
     "data": {
      "image/png": "[encoded data removed]",
      "text/plain": [
       "<Figure size 360x360 with 1 Axes>"
      ]
     },
     "metadata": {},
     "output_type": "display_data"
    }
   ],
   "source": [
    "# Explore Age vs Sex, Parch, Pclass and SibSP\n",
    "g = sns.factorplot(y=\"Age\", x=\"Sex\", data=dataset, kind=\"box\")\n",
    "g = sns.factorplot(y=\"Age\", x=\"Sex\", hue=\"Pclass\", data=dataset, kind=\"box\")\n",
    "g = sns.factorplot(y=\"Age\", x=\"Parch\", data=dataset, kind=\"box\")\n",
    "g = sns.factorplot(y=\"Age\", x=\"SibSp\", data=dataset, kind=\"box\")"
   ]
  },
  {
   "cell_type": "markdown",
   "id": "40a60d4b",
   "metadata": {
    "papermill": {
     "duration": 0.10695,
     "end_time": "2022-06-01T14:38:43.426788",
     "exception": false,
     "start_time": "2022-06-01T14:38:43.319838",
     "status": "completed"
    },
    "tags": []
   },
   "source": [
    "age는 남성 여성 비슷\n",
    "\n",
    "But 일등석 > 이등석 > 삼등석\n",
    "\n",
    "승객이 부모, 자녀를 더 많이 가질수록 나이가 더 많고 형제/배우자를 더 많이 가질수록 나이가 더 젊음.."
   ]
  },
  {
   "cell_type": "code",
   "execution_count": 31,
   "id": "8c842893",
   "metadata": {
    "execution": {
     "iopub.execute_input": "2022-06-01T14:38:43.643330Z",
     "iopub.status.busy": "2022-06-01T14:38:43.642772Z",
     "iopub.status.idle": "2022-06-01T14:38:43.648094Z",
     "shell.execute_reply": "2022-06-01T14:38:43.647421Z"
    },
    "papermill": {
     "duration": 0.115954,
     "end_time": "2022-06-01T14:38:43.650179",
     "exception": false,
     "start_time": "2022-06-01T14:38:43.534225",
     "status": "completed"
    },
    "tags": []
   },
   "outputs": [],
   "source": [
    "# convert sex into categorical value 0 for male and 1 for female\n",
    "dataset[\"Sex\"] = dataset[\"Sex\"].map({\"male\":0, \"female\":1})"
   ]
  },
  {
   "cell_type": "code",
   "execution_count": 32,
   "id": "0b420adf",
   "metadata": {
    "execution": {
     "iopub.execute_input": "2022-06-01T14:38:43.870210Z",
     "iopub.status.busy": "2022-06-01T14:38:43.869675Z",
     "iopub.status.idle": "2022-06-01T14:38:44.138033Z",
     "shell.execute_reply": "2022-06-01T14:38:44.137025Z"
    },
    "papermill": {
     "duration": 0.381635,
     "end_time": "2022-06-01T14:38:44.140374",
     "exception": false,
     "start_time": "2022-06-01T14:38:43.758739",
     "status": "completed"
    },
    "tags": []
   },
   "outputs": [
    {
     "data": {
      "image/png": "[encoded data removed]",
      "text/plain": [
       "<Figure size 432x288 with 2 Axes>"
      ]
     },
     "metadata": {},
     "output_type": "display_data"
    }
   ],
   "source": [
    "g = sns.heatmap(dataset[[\"Age\", \"Sex\", \"SibSp\",\"Parch\",\"Pclass\"]].corr(),cmap=\"BrBG\", annot=True)"
   ]
  },
  {
   "cell_type": "markdown",
   "id": "6246640e",
   "metadata": {
    "papermill": {
     "duration": 0.110909,
     "end_time": "2022-06-01T14:38:44.361602",
     "exception": false,
     "start_time": "2022-06-01T14:38:44.250693",
     "status": "completed"
    },
    "tags": []
   },
   "source": [
    "age is negatively correalted with Pclass,Parch and SibSp.\n",
    "\n",
    "now, fill age with the median age of similar rows accroding to Pclass, Parch and SibSp!"
   ]
  },
  {
   "cell_type": "code",
   "execution_count": 33,
   "id": "9debbf63",
   "metadata": {
    "execution": {
     "iopub.execute_input": "2022-06-01T14:38:44.582815Z",
     "iopub.status.busy": "2022-06-01T14:38:44.582159Z",
     "iopub.status.idle": "2022-06-01T14:38:45.127954Z",
     "shell.execute_reply": "2022-06-01T14:38:45.126947Z"
    },
    "papermill": {
     "duration": 0.660045,
     "end_time": "2022-06-01T14:38:45.130714",
     "exception": false,
     "start_time": "2022-06-01T14:38:44.470669",
     "status": "completed"
    },
    "tags": []
   },
   "outputs": [],
   "source": [
    "# Filling missing value of Age\n",
    "# Fill age with the median age of similar rows according to Pclass, Parch and SibSp\n",
    "# Index of NaN age rows\n",
    "\n",
    "index_NaN_age = list(dataset[\"Age\"][dataset[\"Age\"].isnull()].index)\n",
    "\n",
    "for i in index_NaN_age :\n",
    "    age_med = dataset[\"Age\"].median()\n",
    "    age_pred = dataset[\"Age\"][((dataset['SibSp'] == dataset.iloc[i][\"SibSp\"]) & (dataset['Parch'] == dataset.iloc[i][\"Parch\"]) & (dataset['Pclass'] == dataset.iloc[i][\"Pclass\"]))].median()\n",
    "    if not np.isnan(age_pred) :\n",
    "        dataset['Age'].iloc[i] = age_pred\n",
    "    else :\n",
    "        dataset['Age'].iloc[i] = age_med"
   ]
  },
  {
   "cell_type": "code",
   "execution_count": 34,
   "id": "528134a0",
   "metadata": {
    "execution": {
     "iopub.execute_input": "2022-06-01T14:38:45.356667Z",
     "iopub.status.busy": "2022-06-01T14:38:45.356265Z",
     "iopub.status.idle": "2022-06-01T14:38:45.853044Z",
     "shell.execute_reply": "2022-06-01T14:38:45.852093Z"
    },
    "papermill": {
     "duration": 0.612879,
     "end_time": "2022-06-01T14:38:45.855345",
     "exception": false,
     "start_time": "2022-06-01T14:38:45.242466",
     "status": "completed"
    },
    "tags": []
   },
   "outputs": [
    {
     "data": {
      "image/png": "[encoded data removed]",
      "text/plain": [
       "<Figure size 360x360 with 1 Axes>"
      ]
     },
     "metadata": {},
     "output_type": "display_data"
    },
    {
     "data": {
      "image/png": "[encoded data removed]",
      "text/plain": [
       "<Figure size 360x360 with 1 Axes>"
      ]
     },
     "metadata": {},
     "output_type": "display_data"
    }
   ],
   "source": [
    "g = sns.factorplot(x=\"Survived\", y = \"Age\", data = train, kind=\"box\")\n",
    "g = sns.factorplot(x=\"Survived\", y = \"Age\", data = train, kind=\"violin\")"
   ]
  },
  {
   "cell_type": "markdown",
   "id": "e97ce920",
   "metadata": {
    "papermill": {
     "duration": 0.129742,
     "end_time": "2022-06-01T14:38:46.100683",
     "exception": false,
     "start_time": "2022-06-01T14:38:45.970941",
     "status": "completed"
    },
    "tags": []
   },
   "source": [
    "* no difrrerecne between median value of age in survival and not survived subpopulation.\n",
    "* But in violin plot of survived passengers, young passengers have higher survival rate."
   ]
  },
  {
   "cell_type": "markdown",
   "id": "20304451",
   "metadata": {
    "papermill": {
     "duration": 0.112016,
     "end_time": "2022-06-01T14:38:46.323500",
     "exception": false,
     "start_time": "2022-06-01T14:38:46.211484",
     "status": "completed"
    },
    "tags": []
   },
   "source": [
    "## 5. Feature engineering\n",
    "\n",
    "\n",
    "### 5.1 Name/Title"
   ]
  },
  {
   "cell_type": "code",
   "execution_count": 35,
   "id": "1723a31f",
   "metadata": {
    "execution": {
     "iopub.execute_input": "2022-06-01T14:38:46.551480Z",
     "iopub.status.busy": "2022-06-01T14:38:46.551069Z",
     "iopub.status.idle": "2022-06-01T14:38:46.558252Z",
     "shell.execute_reply": "2022-06-01T14:38:46.557553Z"
    },
    "papermill": {
     "duration": 0.121942,
     "end_time": "2022-06-01T14:38:46.560251",
     "exception": false,
     "start_time": "2022-06-01T14:38:46.438309",
     "status": "completed"
    },
    "tags": []
   },
   "outputs": [
    {
     "data": {
      "text/plain": [
       "0                              Braund, Mr. Owen Harris\n",
       "1    Cumings, Mrs. John Bradley (Florence Briggs Th...\n",
       "2                               Heikkinen, Miss. Laina\n",
       "3         Futrelle, Mrs. Jacques Heath (Lily May Peel)\n",
       "4                             Allen, Mr. William Henry\n",
       "Name: Name, dtype: object"
      ]
     },
     "execution_count": 35,
     "metadata": {},
     "output_type": "execute_result"
    }
   ],
   "source": [
    "dataset[\"Name\"].head()"
   ]
  },
  {
   "cell_type": "code",
   "execution_count": 36,
   "id": "ccd9943a",
   "metadata": {
    "execution": {
     "iopub.execute_input": "2022-06-01T14:38:46.787088Z",
     "iopub.status.busy": "2022-06-01T14:38:46.786196Z",
     "iopub.status.idle": "2022-06-01T14:38:46.796792Z",
     "shell.execute_reply": "2022-06-01T14:38:46.796205Z"
    },
    "papermill": {
     "duration": 0.126373,
     "end_time": "2022-06-01T14:38:46.798511",
     "exception": false,
     "start_time": "2022-06-01T14:38:46.672138",
     "status": "completed"
    },
    "tags": []
   },
   "outputs": [
    {
     "data": {
      "text/plain": [
       "0      Mr\n",
       "1     Mrs\n",
       "2    Miss\n",
       "3     Mrs\n",
       "4      Mr\n",
       "Name: Title, dtype: object"
      ]
     },
     "execution_count": 36,
     "metadata": {},
     "output_type": "execute_result"
    }
   ],
   "source": [
    "# Get Title from Name\n",
    "\n",
    "dataset_title = [i.split(\",\")[1].split(\".\")[0].strip() for i in dataset[\"Name\"]]\n",
    "dataset[\"Title\"] = pd.Series(dataset_title)\n",
    "dataset[\"Title\"].head()"
   ]
  },
  {
   "cell_type": "code",
   "execution_count": 37,
   "id": "81f923bd",
   "metadata": {
    "execution": {
     "iopub.execute_input": "2022-06-01T14:38:47.025008Z",
     "iopub.status.busy": "2022-06-01T14:38:47.024520Z",
     "iopub.status.idle": "2022-06-01T14:38:47.292601Z",
     "shell.execute_reply": "2022-06-01T14:38:47.291938Z"
    },
    "papermill": {
     "duration": 0.383617,
     "end_time": "2022-06-01T14:38:47.294793",
     "exception": false,
     "start_time": "2022-06-01T14:38:46.911176",
     "status": "completed"
    },
    "tags": []
   },
   "outputs": [
    {
     "data": {
      "image/png": "[encoded data removed]",
      "text/plain": [
       "<Figure size 432x288 with 1 Axes>"
      ]
     },
     "metadata": {},
     "output_type": "display_data"
    }
   ],
   "source": [
    "g = sns.countplot(x=\"Title\", data=dataset)\n",
    "g = plt.setp(g.get_xticklabels(), rotation=45)"
   ]
  },
  {
   "cell_type": "code",
   "execution_count": 38,
   "id": "cf213e12",
   "metadata": {
    "execution": {
     "iopub.execute_input": "2022-06-01T14:38:47.529893Z",
     "iopub.status.busy": "2022-06-01T14:38:47.529290Z",
     "iopub.status.idle": "2022-06-01T14:38:47.540344Z",
     "shell.execute_reply": "2022-06-01T14:38:47.539251Z"
    },
    "papermill": {
     "duration": 0.130516,
     "end_time": "2022-06-01T14:38:47.542778",
     "exception": false,
     "start_time": "2022-06-01T14:38:47.412262",
     "status": "completed"
    },
    "tags": []
   },
   "outputs": [],
   "source": [
    "# Convert to categorical values Title\n",
    "# categorical data를 0/1/2 등으로 encoding 해주는 map 함수\n",
    "# very rare한 애들은 Rare로 replace 해주고 3으로 encoding\n",
    "\n",
    "dataset[\"Title\"] = dataset[\"Title\"].replace(['Lady', 'the Countess','Countess','Capt', 'Col','Don', 'Dr', 'Major', 'Rev', 'Sir', 'Jonkheer', 'Dona'], 'Rare')\n",
    "dataset[\"Title\"] = dataset[\"Title\"].map({\"Master\":0, \"Miss\":1, \"Ms\" : 1 , \"Mme\":1, \"Mlle\":1, \"Mrs\":1, \"Mr\":2, \"Rare\":3})"
   ]
  },
  {
   "cell_type": "code",
   "execution_count": 39,
   "id": "e801bf01",
   "metadata": {
    "execution": {
     "iopub.execute_input": "2022-06-01T14:38:47.785279Z",
     "iopub.status.busy": "2022-06-01T14:38:47.784776Z",
     "iopub.status.idle": "2022-06-01T14:38:47.921595Z",
     "shell.execute_reply": "2022-06-01T14:38:47.920688Z"
    },
    "papermill": {
     "duration": 0.2655,
     "end_time": "2022-06-01T14:38:47.923869",
     "exception": false,
     "start_time": "2022-06-01T14:38:47.658369",
     "status": "completed"
    },
    "tags": []
   },
   "outputs": [
    {
     "data": {
      "image/png": "[encoded data removed]",
      "text/plain": [
       "<Figure size 432x288 with 1 Axes>"
      ]
     },
     "metadata": {},
     "output_type": "display_data"
    }
   ],
   "source": [
    "g = sns.countplot(dataset[\"Title\"])\n",
    "g = g.set_xticklabels([\"Master\", \"Miss/Ms/Mme/Mlle/Mrs\", \"Mr\", \"Rare\"])"
   ]
  },
  {
   "cell_type": "code",
   "execution_count": 40,
   "id": "53ab4d43",
   "metadata": {
    "execution": {
     "iopub.execute_input": "2022-06-01T14:38:48.165147Z",
     "iopub.status.busy": "2022-06-01T14:38:48.164305Z",
     "iopub.status.idle": "2022-06-01T14:38:48.709285Z",
     "shell.execute_reply": "2022-06-01T14:38:48.708404Z"
    },
    "papermill": {
     "duration": 0.670173,
     "end_time": "2022-06-01T14:38:48.711536",
     "exception": false,
     "start_time": "2022-06-01T14:38:48.041363",
     "status": "completed"
    },
    "tags": []
   },
   "outputs": [
    {
     "data": {
      "image/png": "[encoded data removed]",
      "text/plain": [
       "<Figure size 360x360 with 1 Axes>"
      ]
     },
     "metadata": {},
     "output_type": "display_data"
    }
   ],
   "source": [
    "g = sns.factorplot(x=\"Title\", y=\"Survived\", data=dataset, kind=\"bar\")\n",
    "g = g.set_xticklabels([\"Master\", \"Miss-Mrs\", \"Mr\",\"Rare\"])\n",
    "g = g.set_ylabels(\"survivial probabiliy\")"
   ]
  },
  {
   "cell_type": "code",
   "execution_count": 41,
   "id": "2fbfc485",
   "metadata": {
    "execution": {
     "iopub.execute_input": "2022-06-01T14:38:48.948347Z",
     "iopub.status.busy": "2022-06-01T14:38:48.947568Z",
     "iopub.status.idle": "2022-06-01T14:38:48.953490Z",
     "shell.execute_reply": "2022-06-01T14:38:48.952471Z"
    },
    "papermill": {
     "duration": 0.125714,
     "end_time": "2022-06-01T14:38:48.955497",
     "exception": false,
     "start_time": "2022-06-01T14:38:48.829783",
     "status": "completed"
    },
    "tags": []
   },
   "outputs": [],
   "source": [
    "# Drop Name variable\n",
    "dataset.drop(labels = [\"Name\"], axis = 1, inplace = True)"
   ]
  },
  {
   "cell_type": "markdown",
   "id": "e5283282",
   "metadata": {
    "papermill": {
     "duration": 0.114417,
     "end_time": "2022-06-01T14:38:49.185923",
     "exception": false,
     "start_time": "2022-06-01T14:38:49.071506",
     "status": "completed"
    },
    "tags": []
   },
   "source": [
    "### 5.2 Family size"
   ]
  },
  {
   "cell_type": "code",
   "execution_count": 42,
   "id": "28a648a5",
   "metadata": {
    "execution": {
     "iopub.execute_input": "2022-06-01T14:38:49.416279Z",
     "iopub.status.busy": "2022-06-01T14:38:49.415976Z",
     "iopub.status.idle": "2022-06-01T14:38:49.421213Z",
     "shell.execute_reply": "2022-06-01T14:38:49.420524Z"
    },
    "papermill": {
     "duration": 0.123191,
     "end_time": "2022-06-01T14:38:49.423222",
     "exception": false,
     "start_time": "2022-06-01T14:38:49.300031",
     "status": "completed"
    },
    "tags": []
   },
   "outputs": [],
   "source": [
    "# create a family size descriptor form sibsp and parch\n",
    "# 패밀리사이즈 피처 만들기! 형제자매 + 부모님\n",
    "\n",
    "dataset[\"Fsize\"] = dataset[\"SibSp\"] + dataset[\"Parch\"] + 1"
   ]
  },
  {
   "cell_type": "code",
   "execution_count": 43,
   "id": "c1a087cb",
   "metadata": {
    "execution": {
     "iopub.execute_input": "2022-06-01T14:38:49.657424Z",
     "iopub.status.busy": "2022-06-01T14:38:49.656937Z",
     "iopub.status.idle": "2022-06-01T14:38:50.242965Z",
     "shell.execute_reply": "2022-06-01T14:38:50.242110Z"
    },
    "papermill": {
     "duration": 0.705704,
     "end_time": "2022-06-01T14:38:50.245304",
     "exception": false,
     "start_time": "2022-06-01T14:38:49.539600",
     "status": "completed"
    },
    "tags": []
   },
   "outputs": [
    {
     "data": {
      "image/png": "[encoded data removed]",
      "text/plain": [
       "<Figure size 360x360 with 1 Axes>"
      ]
     },
     "metadata": {},
     "output_type": "display_data"
    }
   ],
   "source": [
    "g = sns.factorplot(x=\"Fsize\", y=\"Survived\", data = dataset)\n",
    "g = g.set_ylabels(\"Survival Probablity\")"
   ]
  },
  {
   "cell_type": "code",
   "execution_count": 44,
   "id": "b21ed6f3",
   "metadata": {
    "execution": {
     "iopub.execute_input": "2022-06-01T14:38:50.479912Z",
     "iopub.status.busy": "2022-06-01T14:38:50.479345Z",
     "iopub.status.idle": "2022-06-01T14:38:50.492017Z",
     "shell.execute_reply": "2022-06-01T14:38:50.491383Z"
    },
    "papermill": {
     "duration": 0.133486,
     "end_time": "2022-06-01T14:38:50.494139",
     "exception": false,
     "start_time": "2022-06-01T14:38:50.360653",
     "status": "completed"
    },
    "tags": []
   },
   "outputs": [],
   "source": [
    "# create new feature of family size\n",
    "# 1,2, 3/4, 5이상으로 4가지로 나눔\n",
    "\n",
    "dataset['Single'] = dataset['Fsize'].map(lambda s: 1 if s == 1 else 0)\n",
    "dataset['SmallF'] = dataset['Fsize'].map(lambda s: 1 if s == 2 else 0)\n",
    "dataset['MedF'] = dataset['Fsize'].map(lambda s: 1 if 3 <= s <=4  else 0)\n",
    "dataset['LargeF'] = dataset['Fsize'].map(lambda s: 1 if s >= 5 else 0)"
   ]
  },
  {
   "cell_type": "code",
   "execution_count": 45,
   "id": "e8157071",
   "metadata": {
    "execution": {
     "iopub.execute_input": "2022-06-01T14:38:50.726394Z",
     "iopub.status.busy": "2022-06-01T14:38:50.726112Z",
     "iopub.status.idle": "2022-06-01T14:38:52.100238Z",
     "shell.execute_reply": "2022-06-01T14:38:52.099238Z"
    },
    "papermill": {
     "duration": 1.492708,
     "end_time": "2022-06-01T14:38:52.102562",
     "exception": false,
     "start_time": "2022-06-01T14:38:50.609854",
     "status": "completed"
    },
    "tags": []
   },
   "outputs": [
    {
     "data": {
      "image/png": "[encoded data removed]",
      "text/plain": [
       "<Figure size 360x360 with 1 Axes>"
      ]
     },
     "metadata": {},
     "output_type": "display_data"
    },
    {
     "data": {
      "image/png": "[encoded data removed]",
      "text/plain": [
       "<Figure size 360x360 with 1 Axes>"
      ]
     },
     "metadata": {},
     "output_type": "display_data"
    },
    {
     "data": {
      "image/png": "[encoded data removed]",
      "text/plain": [
       "<Figure size 360x360 with 1 Axes>"
      ]
     },
     "metadata": {},
     "output_type": "display_data"
    },
    {
     "data": {
      "image/png": "[encoded data removed]",
      "text/plain": [
       "<Figure size 360x360 with 1 Axes>"
      ]
     },
     "metadata": {},
     "output_type": "display_data"
    }
   ],
   "source": [
    "g = sns.factorplot(x=\"Single\",y=\"Survived\",data=dataset,kind=\"bar\")\n",
    "g = g.set_ylabels(\"Survival Probability\")\n",
    "g = sns.factorplot(x=\"SmallF\",y=\"Survived\",data=dataset,kind=\"bar\")\n",
    "g = g.set_ylabels(\"Survival Probability\")\n",
    "g = sns.factorplot(x=\"MedF\",y=\"Survived\",data=dataset,kind=\"bar\")\n",
    "g = g.set_ylabels(\"Survival Probability\")\n",
    "g = sns.factorplot(x=\"LargeF\",y=\"Survived\",data=dataset,kind=\"bar\")\n",
    "g = g.set_ylabels(\"Survival Probability\")"
   ]
  },
  {
   "cell_type": "markdown",
   "id": "4fe304bd",
   "metadata": {
    "papermill": {
     "duration": 0.118796,
     "end_time": "2022-06-01T14:38:52.341878",
     "exception": false,
     "start_time": "2022-06-01T14:38:52.223082",
     "status": "completed"
    },
    "tags": []
   },
   "source": [
    "Factorplots of family size categories show that Small and Medium families have more chance to survive than single passenger and large families."
   ]
  },
  {
   "cell_type": "code",
   "execution_count": 46,
   "id": "1e2187f6",
   "metadata": {
    "execution": {
     "iopub.execute_input": "2022-06-01T14:38:52.585005Z",
     "iopub.status.busy": "2022-06-01T14:38:52.584600Z",
     "iopub.status.idle": "2022-06-01T14:38:52.597417Z",
     "shell.execute_reply": "2022-06-01T14:38:52.596657Z"
    },
    "papermill": {
     "duration": 0.136354,
     "end_time": "2022-06-01T14:38:52.599568",
     "exception": false,
     "start_time": "2022-06-01T14:38:52.463214",
     "status": "completed"
    },
    "tags": []
   },
   "outputs": [],
   "source": [
    "# Convert to indicator values Title and Embarked\n",
    "dataset = pd.get_dummies(dataset, columns = [\"Title\"])\n",
    "dataset = pd.get_dummies(dataset, columns = [\"Embarked\"], prefix=\"Em\")"
   ]
  },
  {
   "cell_type": "code",
   "execution_count": 47,
   "id": "0f84681e",
   "metadata": {
    "execution": {
     "iopub.execute_input": "2022-06-01T14:38:52.841331Z",
     "iopub.status.busy": "2022-06-01T14:38:52.841005Z",
     "iopub.status.idle": "2022-06-01T14:38:52.862021Z",
     "shell.execute_reply": "2022-06-01T14:38:52.860912Z"
    },
    "papermill": {
     "duration": 0.146008,
     "end_time": "2022-06-01T14:38:52.864111",
     "exception": false,
     "start_time": "2022-06-01T14:38:52.718103",
     "status": "completed"
    },
    "tags": []
   },
   "outputs": [
    {
     "data": {
      "text/html": [
       "<div>\n",
       "<style scoped>\n",
       "    .dataframe tbody tr th:only-of-type {\n",
       "        vertical-align: middle;\n",
       "    }\n",
       "\n",
       "    .dataframe tbody tr th {\n",
       "        vertical-align: top;\n",
       "    }\n",
       "\n",
       "    .dataframe thead th {\n",
       "        text-align: right;\n",
       "    }\n",
       "</style>\n",
       "<table border=\"1\" class=\"dataframe\">\n",
       "  <thead>\n",
       "    <tr style=\"text-align: right;\">\n",
       "      <th></th>\n",
       "      <th>PassengerId</th>\n",
       "      <th>Survived</th>\n",
       "      <th>Pclass</th>\n",
       "      <th>Sex</th>\n",
       "      <th>Age</th>\n",
       "      <th>SibSp</th>\n",
       "      <th>Parch</th>\n",
       "      <th>Ticket</th>\n",
       "      <th>Fare</th>\n",
       "      <th>Cabin</th>\n",
       "      <th>...</th>\n",
       "      <th>SmallF</th>\n",
       "      <th>MedF</th>\n",
       "      <th>LargeF</th>\n",
       "      <th>Title_0</th>\n",
       "      <th>Title_1</th>\n",
       "      <th>Title_2</th>\n",
       "      <th>Title_3</th>\n",
       "      <th>Em_C</th>\n",
       "      <th>Em_Q</th>\n",
       "      <th>Em_S</th>\n",
       "    </tr>\n",
       "  </thead>\n",
       "  <tbody>\n",
       "    <tr>\n",
       "      <th>0</th>\n",
       "      <td>1</td>\n",
       "      <td>0.0</td>\n",
       "      <td>3</td>\n",
       "      <td>0</td>\n",
       "      <td>22.0</td>\n",
       "      <td>1</td>\n",
       "      <td>0</td>\n",
       "      <td>A/5 21171</td>\n",
       "      <td>1.981001</td>\n",
       "      <td>NaN</td>\n",
       "      <td>...</td>\n",
       "      <td>1</td>\n",
       "      <td>0</td>\n",
       "      <td>0</td>\n",
       "      <td>0</td>\n",
       "      <td>0</td>\n",
       "      <td>1</td>\n",
       "      <td>0</td>\n",
       "      <td>0</td>\n",
       "      <td>0</td>\n",
       "      <td>1</td>\n",
       "    </tr>\n",
       "    <tr>\n",
       "      <th>1</th>\n",
       "      <td>2</td>\n",
       "      <td>1.0</td>\n",
       "      <td>1</td>\n",
       "      <td>1</td>\n",
       "      <td>38.0</td>\n",
       "      <td>1</td>\n",
       "      <td>0</td>\n",
       "      <td>PC 17599</td>\n",
       "      <td>4.266662</td>\n",
       "      <td>C85</td>\n",
       "      <td>...</td>\n",
       "      <td>1</td>\n",
       "      <td>0</td>\n",
       "      <td>0</td>\n",
       "      <td>0</td>\n",
       "      <td>1</td>\n",
       "      <td>0</td>\n",
       "      <td>0</td>\n",
       "      <td>1</td>\n",
       "      <td>0</td>\n",
       "      <td>0</td>\n",
       "    </tr>\n",
       "    <tr>\n",
       "      <th>2</th>\n",
       "      <td>3</td>\n",
       "      <td>1.0</td>\n",
       "      <td>3</td>\n",
       "      <td>1</td>\n",
       "      <td>26.0</td>\n",
       "      <td>0</td>\n",
       "      <td>0</td>\n",
       "      <td>STON/O2. 3101282</td>\n",
       "      <td>2.070022</td>\n",
       "      <td>NaN</td>\n",
       "      <td>...</td>\n",
       "      <td>0</td>\n",
       "      <td>0</td>\n",
       "      <td>0</td>\n",
       "      <td>0</td>\n",
       "      <td>1</td>\n",
       "      <td>0</td>\n",
       "      <td>0</td>\n",
       "      <td>0</td>\n",
       "      <td>0</td>\n",
       "      <td>1</td>\n",
       "    </tr>\n",
       "    <tr>\n",
       "      <th>3</th>\n",
       "      <td>4</td>\n",
       "      <td>1.0</td>\n",
       "      <td>1</td>\n",
       "      <td>1</td>\n",
       "      <td>35.0</td>\n",
       "      <td>1</td>\n",
       "      <td>0</td>\n",
       "      <td>113803</td>\n",
       "      <td>3.972177</td>\n",
       "      <td>C123</td>\n",
       "      <td>...</td>\n",
       "      <td>1</td>\n",
       "      <td>0</td>\n",
       "      <td>0</td>\n",
       "      <td>0</td>\n",
       "      <td>1</td>\n",
       "      <td>0</td>\n",
       "      <td>0</td>\n",
       "      <td>0</td>\n",
       "      <td>0</td>\n",
       "      <td>1</td>\n",
       "    </tr>\n",
       "    <tr>\n",
       "      <th>4</th>\n",
       "      <td>5</td>\n",
       "      <td>0.0</td>\n",
       "      <td>3</td>\n",
       "      <td>0</td>\n",
       "      <td>35.0</td>\n",
       "      <td>0</td>\n",
       "      <td>0</td>\n",
       "      <td>373450</td>\n",
       "      <td>2.085672</td>\n",
       "      <td>NaN</td>\n",
       "      <td>...</td>\n",
       "      <td>0</td>\n",
       "      <td>0</td>\n",
       "      <td>0</td>\n",
       "      <td>0</td>\n",
       "      <td>0</td>\n",
       "      <td>1</td>\n",
       "      <td>0</td>\n",
       "      <td>0</td>\n",
       "      <td>0</td>\n",
       "      <td>1</td>\n",
       "    </tr>\n",
       "  </tbody>\n",
       "</table>\n",
       "<p>5 rows × 22 columns</p>\n",
       "</div>"
      ],
      "text/plain": [
       "   PassengerId  Survived  Pclass  Sex   Age  SibSp  Parch            Ticket  \\\n",
       "0            1       0.0       3    0  22.0      1      0         A/5 21171   \n",
       "1            2       1.0       1    1  38.0      1      0          PC 17599   \n",
       "2            3       1.0       3    1  26.0      0      0  STON/O2. 3101282   \n",
       "3            4       1.0       1    1  35.0      1      0            113803   \n",
       "4            5       0.0       3    0  35.0      0      0            373450   \n",
       "\n",
       "       Fare Cabin  ...  SmallF  MedF  LargeF  Title_0  Title_1  Title_2  \\\n",
       "0  1.981001   NaN  ...       1     0       0        0        0        1   \n",
       "1  4.266662   C85  ...       1     0       0        0        1        0   \n",
       "2  2.070022   NaN  ...       0     0       0        0        1        0   \n",
       "3  3.972177  C123  ...       1     0       0        0        1        0   \n",
       "4  2.085672   NaN  ...       0     0       0        0        0        1   \n",
       "\n",
       "   Title_3  Em_C  Em_Q  Em_S  \n",
       "0        0     0     0     1  \n",
       "1        0     1     0     0  \n",
       "2        0     0     0     1  \n",
       "3        0     0     0     1  \n",
       "4        0     0     0     1  \n",
       "\n",
       "[5 rows x 22 columns]"
      ]
     },
     "execution_count": 47,
     "metadata": {},
     "output_type": "execute_result"
    }
   ],
   "source": [
    "dataset.head()"
   ]
  },
  {
   "cell_type": "markdown",
   "id": "0e4741d0",
   "metadata": {
    "papermill": {
     "duration": 0.122638,
     "end_time": "2022-06-01T14:38:53.109577",
     "exception": false,
     "start_time": "2022-06-01T14:38:52.986939",
     "status": "completed"
    },
    "tags": []
   },
   "source": [
    "22 features!"
   ]
  },
  {
   "cell_type": "markdown",
   "id": "508c17de",
   "metadata": {
    "papermill": {
     "duration": 0.119752,
     "end_time": "2022-06-01T14:38:53.349029",
     "exception": false,
     "start_time": "2022-06-01T14:38:53.229277",
     "status": "completed"
    },
    "tags": []
   },
   "source": [
    "### 5.3 Cabin"
   ]
  },
  {
   "cell_type": "code",
   "execution_count": 48,
   "id": "0ed279e0",
   "metadata": {
    "execution": {
     "iopub.execute_input": "2022-06-01T14:38:53.591988Z",
     "iopub.status.busy": "2022-06-01T14:38:53.591051Z",
     "iopub.status.idle": "2022-06-01T14:38:53.598157Z",
     "shell.execute_reply": "2022-06-01T14:38:53.597598Z"
    },
    "papermill": {
     "duration": 0.130058,
     "end_time": "2022-06-01T14:38:53.600040",
     "exception": false,
     "start_time": "2022-06-01T14:38:53.469982",
     "status": "completed"
    },
    "tags": []
   },
   "outputs": [
    {
     "data": {
      "text/plain": [
       "0     NaN\n",
       "1     C85\n",
       "2     NaN\n",
       "3    C123\n",
       "4     NaN\n",
       "Name: Cabin, dtype: object"
      ]
     },
     "execution_count": 48,
     "metadata": {},
     "output_type": "execute_result"
    }
   ],
   "source": [
    "dataset[\"Cabin\"].head()"
   ]
  },
  {
   "cell_type": "code",
   "execution_count": 49,
   "id": "76b359ca",
   "metadata": {
    "execution": {
     "iopub.execute_input": "2022-06-01T14:38:53.845209Z",
     "iopub.status.busy": "2022-06-01T14:38:53.844897Z",
     "iopub.status.idle": "2022-06-01T14:38:53.853424Z",
     "shell.execute_reply": "2022-06-01T14:38:53.852660Z"
    },
    "papermill": {
     "duration": 0.135625,
     "end_time": "2022-06-01T14:38:53.855280",
     "exception": false,
     "start_time": "2022-06-01T14:38:53.719655",
     "status": "completed"
    },
    "tags": []
   },
   "outputs": [
    {
     "data": {
      "text/plain": [
       "count     292\n",
       "unique    186\n",
       "top        G6\n",
       "freq        5\n",
       "Name: Cabin, dtype: object"
      ]
     },
     "execution_count": 49,
     "metadata": {},
     "output_type": "execute_result"
    }
   ],
   "source": [
    "dataset[\"Cabin\"].describe()"
   ]
  },
  {
   "cell_type": "code",
   "execution_count": 50,
   "id": "26afa96e",
   "metadata": {
    "execution": {
     "iopub.execute_input": "2022-06-01T14:38:54.108562Z",
     "iopub.status.busy": "2022-06-01T14:38:54.108017Z",
     "iopub.status.idle": "2022-06-01T14:38:54.114034Z",
     "shell.execute_reply": "2022-06-01T14:38:54.113421Z"
    },
    "papermill": {
     "duration": 0.13428,
     "end_time": "2022-06-01T14:38:54.115781",
     "exception": false,
     "start_time": "2022-06-01T14:38:53.981501",
     "status": "completed"
    },
    "tags": []
   },
   "outputs": [
    {
     "data": {
      "text/plain": [
       "1007"
      ]
     },
     "execution_count": 50,
     "metadata": {},
     "output_type": "execute_result"
    }
   ],
   "source": [
    "dataset[\"Cabin\"].isnull().sum()"
   ]
  },
  {
   "cell_type": "markdown",
   "id": "87127093",
   "metadata": {
    "papermill": {
     "duration": 0.122337,
     "end_time": "2022-06-01T14:38:54.358507",
     "exception": false,
     "start_time": "2022-06-01T14:38:54.236170",
     "status": "completed"
    },
    "tags": []
   },
   "source": [
    "The Cabin feature column contains 292 values and 1007 missing values.\n",
    "\n",
    "cabin이 없는 승객은 missing value로 뜨는 것 같음. 결측치를 x로 넣어주기"
   ]
  },
  {
   "cell_type": "code",
   "execution_count": 51,
   "id": "ceef5806",
   "metadata": {
    "execution": {
     "iopub.execute_input": "2022-06-01T14:38:54.605188Z",
     "iopub.status.busy": "2022-06-01T14:38:54.604726Z",
     "iopub.status.idle": "2022-06-01T14:38:54.611168Z",
     "shell.execute_reply": "2022-06-01T14:38:54.610365Z"
    },
    "papermill": {
     "duration": 0.131409,
     "end_time": "2022-06-01T14:38:54.613073",
     "exception": false,
     "start_time": "2022-06-01T14:38:54.481664",
     "status": "completed"
    },
    "tags": []
   },
   "outputs": [],
   "source": [
    "# replace the cabin number by the type of cabin 'x' if not\n",
    "\n",
    "dataset[\"Cabin\"] = pd.Series([i[0] if not pd.isnull(i) else 'X' for i in dataset['Cabin']])"
   ]
  },
  {
   "cell_type": "code",
   "execution_count": 52,
   "id": "9d798f04",
   "metadata": {
    "execution": {
     "iopub.execute_input": "2022-06-01T14:38:54.858671Z",
     "iopub.status.busy": "2022-06-01T14:38:54.858364Z",
     "iopub.status.idle": "2022-06-01T14:38:55.080630Z",
     "shell.execute_reply": "2022-06-01T14:38:55.079716Z"
    },
    "papermill": {
     "duration": 0.349178,
     "end_time": "2022-06-01T14:38:55.083034",
     "exception": false,
     "start_time": "2022-06-01T14:38:54.733856",
     "status": "completed"
    },
    "tags": []
   },
   "outputs": [
    {
     "data": {
      "image/png": "[encoded data removed]",
      "text/plain": [
       "<Figure size 432x288 with 1 Axes>"
      ]
     },
     "metadata": {},
     "output_type": "display_data"
    }
   ],
   "source": [
    "g = sns.countplot(dataset[\"Cabin\"], order=['A','B','C','D','E','F','G','T','X'])"
   ]
  },
  {
   "cell_type": "code",
   "execution_count": 53,
   "id": "6d7553a3",
   "metadata": {
    "execution": {
     "iopub.execute_input": "2022-06-01T14:38:55.327739Z",
     "iopub.status.busy": "2022-06-01T14:38:55.327154Z",
     "iopub.status.idle": "2022-06-01T14:38:55.923215Z",
     "shell.execute_reply": "2022-06-01T14:38:55.922415Z"
    },
    "papermill": {
     "duration": 0.721208,
     "end_time": "2022-06-01T14:38:55.925505",
     "exception": false,
     "start_time": "2022-06-01T14:38:55.204297",
     "status": "completed"
    },
    "tags": []
   },
   "outputs": [
    {
     "data": {
      "image/png": "[encoded data removed]",
      "text/plain": [
       "<Figure size 360x360 with 1 Axes>"
      ]
     },
     "metadata": {},
     "output_type": "display_data"
    }
   ],
   "source": [
    "g = sns.factorplot(y=\"Survived\", x=\"Cabin\", data=dataset, kind=\"bar\", order=['A','B','C','D','E','F','G','T','X'])\n",
    "g = g.set_ylabels(\"Survival Probability\")"
   ]
  },
  {
   "cell_type": "markdown",
   "id": "f23d46b4",
   "metadata": {
    "papermill": {
     "duration": 0.12142,
     "end_time": "2022-06-01T14:38:56.169953",
     "exception": false,
     "start_time": "2022-06-01T14:38:56.048533",
     "status": "completed"
    },
    "tags": []
   },
   "source": [
    "cabin을 가진 승객이 적어서 생존률 표준편차가 넘 크고 등급별 구분이 쉽지 않음\n",
    "\n",
    "그래도 객실이 없는 승객보다는 생존률이 높은 것을 확인 가능함."
   ]
  },
  {
   "cell_type": "code",
   "execution_count": 54,
   "id": "5c9e85a4",
   "metadata": {
    "execution": {
     "iopub.execute_input": "2022-06-01T14:38:56.415983Z",
     "iopub.status.busy": "2022-06-01T14:38:56.415434Z",
     "iopub.status.idle": "2022-06-01T14:38:56.423838Z",
     "shell.execute_reply": "2022-06-01T14:38:56.423150Z"
    },
    "papermill": {
     "duration": 0.13435,
     "end_time": "2022-06-01T14:38:56.425959",
     "exception": false,
     "start_time": "2022-06-01T14:38:56.291609",
     "status": "completed"
    },
    "tags": []
   },
   "outputs": [],
   "source": [
    "dataset = pd.get_dummies(dataset, columns = [\"Cabin\"],prefix=\"Cabin\")"
   ]
  },
  {
   "cell_type": "markdown",
   "id": "016db92a",
   "metadata": {
    "papermill": {
     "duration": 0.122853,
     "end_time": "2022-06-01T14:38:56.671824",
     "exception": false,
     "start_time": "2022-06-01T14:38:56.548971",
     "status": "completed"
    },
    "tags": []
   },
   "source": [
    "### 5.4 Ticket"
   ]
  },
  {
   "cell_type": "code",
   "execution_count": 55,
   "id": "b940fa18",
   "metadata": {
    "execution": {
     "iopub.execute_input": "2022-06-01T14:38:56.921276Z",
     "iopub.status.busy": "2022-06-01T14:38:56.920739Z",
     "iopub.status.idle": "2022-06-01T14:38:56.927989Z",
     "shell.execute_reply": "2022-06-01T14:38:56.927269Z"
    },
    "papermill": {
     "duration": 0.135342,
     "end_time": "2022-06-01T14:38:56.929880",
     "exception": false,
     "start_time": "2022-06-01T14:38:56.794538",
     "status": "completed"
    },
    "tags": []
   },
   "outputs": [
    {
     "data": {
      "text/plain": [
       "0           A/5 21171\n",
       "1            PC 17599\n",
       "2    STON/O2. 3101282\n",
       "3              113803\n",
       "4              373450\n",
       "Name: Ticket, dtype: object"
      ]
     },
     "execution_count": 55,
     "metadata": {},
     "output_type": "execute_result"
    }
   ],
   "source": [
    "dataset[\"Ticket\"].head()"
   ]
  },
  {
   "cell_type": "code",
   "execution_count": 56,
   "id": "21805203",
   "metadata": {
    "execution": {
     "iopub.execute_input": "2022-06-01T14:38:57.206686Z",
     "iopub.status.busy": "2022-06-01T14:38:57.206081Z",
     "iopub.status.idle": "2022-06-01T14:38:57.217218Z",
     "shell.execute_reply": "2022-06-01T14:38:57.216346Z"
    },
    "papermill": {
     "duration": 0.138351,
     "end_time": "2022-06-01T14:38:57.219225",
     "exception": false,
     "start_time": "2022-06-01T14:38:57.080874",
     "status": "completed"
    },
    "tags": []
   },
   "outputs": [
    {
     "data": {
      "text/plain": [
       "0        A5\n",
       "1        PC\n",
       "2    STONO2\n",
       "3         X\n",
       "4         X\n",
       "Name: Ticket, dtype: object"
      ]
     },
     "execution_count": 56,
     "metadata": {},
     "output_type": "execute_result"
    }
   ],
   "source": [
    "# Treat ticket by extracting the ticket prefix. When there is no prefix it returns x.\n",
    "\n",
    "Ticket = []\n",
    "for i in list(dataset.Ticket):\n",
    "    if not i.isdigit() :\n",
    "        Ticket.append(i.replace(\".\",\"\").replace(\"/\",\"\").strip().split(' ')[0]) #Take prefix\n",
    "    else:\n",
    "        Ticket.append(\"X\")\n",
    "        \n",
    "dataset[\"Ticket\"] = Ticket\n",
    "dataset[\"Ticket\"].head()"
   ]
  },
  {
   "cell_type": "code",
   "execution_count": 57,
   "id": "e0dc0470",
   "metadata": {
    "execution": {
     "iopub.execute_input": "2022-06-01T14:38:57.470120Z",
     "iopub.status.busy": "2022-06-01T14:38:57.469858Z",
     "iopub.status.idle": "2022-06-01T14:38:57.478960Z",
     "shell.execute_reply": "2022-06-01T14:38:57.478366Z"
    },
    "papermill": {
     "duration": 0.138256,
     "end_time": "2022-06-01T14:38:57.480981",
     "exception": false,
     "start_time": "2022-06-01T14:38:57.342725",
     "status": "completed"
    },
    "tags": []
   },
   "outputs": [],
   "source": [
    "dataset = pd.get_dummies(dataset, columns = [\"Ticket\"], prefix=\"T\")"
   ]
  },
  {
   "cell_type": "code",
   "execution_count": 58,
   "id": "bbc9bed1",
   "metadata": {
    "execution": {
     "iopub.execute_input": "2022-06-01T14:38:57.730841Z",
     "iopub.status.busy": "2022-06-01T14:38:57.730248Z",
     "iopub.status.idle": "2022-06-01T14:38:57.739918Z",
     "shell.execute_reply": "2022-06-01T14:38:57.739350Z"
    },
    "papermill": {
     "duration": 0.137385,
     "end_time": "2022-06-01T14:38:57.741999",
     "exception": false,
     "start_time": "2022-06-01T14:38:57.604614",
     "status": "completed"
    },
    "tags": []
   },
   "outputs": [],
   "source": [
    "# Create categorical values for Pclass\n",
    "dataset[\"Pclass\"] = dataset[\"Pclass\"].astype(\"category\")\n",
    "dataset = pd.get_dummies(dataset, columns = [\"Pclass\"],prefix=\"Pc\")"
   ]
  },
  {
   "cell_type": "code",
   "execution_count": 59,
   "id": "3f8952ae",
   "metadata": {
    "execution": {
     "iopub.execute_input": "2022-06-01T14:38:57.992951Z",
     "iopub.status.busy": "2022-06-01T14:38:57.992374Z",
     "iopub.status.idle": "2022-06-01T14:38:57.998490Z",
     "shell.execute_reply": "2022-06-01T14:38:57.997808Z"
    },
    "papermill": {
     "duration": 0.135059,
     "end_time": "2022-06-01T14:38:58.000545",
     "exception": false,
     "start_time": "2022-06-01T14:38:57.865486",
     "status": "completed"
    },
    "tags": []
   },
   "outputs": [],
   "source": [
    "# Drop useless variables \n",
    "dataset.drop(labels = [\"PassengerId\"], axis = 1, inplace = True)"
   ]
  },
  {
   "cell_type": "code",
   "execution_count": null,
   "id": "cdf680cb",
   "metadata": {
    "papermill": {
     "duration": 0.124402,
     "end_time": "2022-06-01T14:38:58.249815",
     "exception": false,
     "start_time": "2022-06-01T14:38:58.125413",
     "status": "completed"
    },
    "tags": []
   },
   "outputs": [],
   "source": []
  },
  {
   "cell_type": "markdown",
   "id": "1547f1bc",
   "metadata": {
    "papermill": {
     "duration": 0.125915,
     "end_time": "2022-06-01T14:38:58.499740",
     "exception": false,
     "start_time": "2022-06-01T14:38:58.373825",
     "status": "completed"
    },
    "tags": []
   },
   "source": [
    "## 6. Modeling"
   ]
  },
  {
   "cell_type": "code",
   "execution_count": 60,
   "id": "a3708720",
   "metadata": {
    "execution": {
     "iopub.execute_input": "2022-06-01T14:38:58.753011Z",
     "iopub.status.busy": "2022-06-01T14:38:58.752444Z",
     "iopub.status.idle": "2022-06-01T14:38:58.758896Z",
     "shell.execute_reply": "2022-06-01T14:38:58.758258Z"
    },
    "papermill": {
     "duration": 0.136658,
     "end_time": "2022-06-01T14:38:58.760890",
     "exception": false,
     "start_time": "2022-06-01T14:38:58.624232",
     "status": "completed"
    },
    "tags": []
   },
   "outputs": [],
   "source": [
    "# Separate train and test dataset\n",
    "\n",
    "train = dataset[:train_len]\n",
    "test = dataset[train_len:]\n",
    "test.drop(labels=[\"Survived\"],axis =1, inplace=True)"
   ]
  },
  {
   "cell_type": "code",
   "execution_count": 61,
   "id": "bf791c17",
   "metadata": {
    "execution": {
     "iopub.execute_input": "2022-06-01T14:38:59.012161Z",
     "iopub.status.busy": "2022-06-01T14:38:59.011677Z",
     "iopub.status.idle": "2022-06-01T14:38:59.018486Z",
     "shell.execute_reply": "2022-06-01T14:38:59.017860Z"
    },
    "papermill": {
     "duration": 0.135515,
     "end_time": "2022-06-01T14:38:59.020409",
     "exception": false,
     "start_time": "2022-06-01T14:38:58.884894",
     "status": "completed"
    },
    "tags": []
   },
   "outputs": [],
   "source": [
    "# Separate train feautres and label\n",
    "\n",
    "train[\"Survived\"] = train[\"Survived\"].astype(int)\n",
    "\n",
    "Y_train = train[\"Survived\"]\n",
    "\n",
    "X_train = train.drop(labels = [\"Survived\"],axis =1)"
   ]
  },
  {
   "cell_type": "markdown",
   "id": "bdc7911d",
   "metadata": {
    "papermill": {
     "duration": 0.123197,
     "end_time": "2022-06-01T14:38:59.266584",
     "exception": false,
     "start_time": "2022-06-01T14:38:59.143387",
     "status": "completed"
    },
    "tags": []
   },
   "source": [
    "### 6.1 Simple modeling\n",
    "\n",
    "#### 6.1.1 Cross validate models"
   ]
  },
  {
   "cell_type": "code",
   "execution_count": 62,
   "id": "9b79c811",
   "metadata": {
    "execution": {
     "iopub.execute_input": "2022-06-01T14:38:59.516569Z",
     "iopub.status.busy": "2022-06-01T14:38:59.516043Z",
     "iopub.status.idle": "2022-06-01T14:38:59.520188Z",
     "shell.execute_reply": "2022-06-01T14:38:59.519571Z"
    },
    "papermill": {
     "duration": 0.131891,
     "end_time": "2022-06-01T14:38:59.522147",
     "exception": false,
     "start_time": "2022-06-01T14:38:59.390256",
     "status": "completed"
    },
    "tags": []
   },
   "outputs": [],
   "source": [
    "# Cross validate model with Kfold stratified cross val\n",
    "kfold = StratifiedKFold(n_splits=10)"
   ]
  },
  {
   "cell_type": "code",
   "execution_count": 63,
   "id": "a4b754a6",
   "metadata": {
    "execution": {
     "iopub.execute_input": "2022-06-01T14:38:59.771171Z",
     "iopub.status.busy": "2022-06-01T14:38:59.770648Z",
     "iopub.status.idle": "2022-06-01T14:39:10.373091Z",
     "shell.execute_reply": "2022-06-01T14:39:10.372047Z"
    },
    "papermill": {
     "duration": 10.730009,
     "end_time": "2022-06-01T14:39:10.375574",
     "exception": false,
     "start_time": "2022-06-01T14:38:59.645565",
     "status": "completed"
    },
    "tags": []
   },
   "outputs": [
    {
     "data": {
      "image/png": "[encoded data removed]",
      "text/plain": [
       "<Figure size 432x288 with 1 Axes>"
      ]
     },
     "metadata": {},
     "output_type": "display_data"
    }
   ],
   "source": [
    "# Modeling step Test differents algorithms \n",
    "random_state = 2\n",
    "classifiers = []\n",
    "classifiers.append(SVC(random_state=random_state))\n",
    "classifiers.append(DecisionTreeClassifier(random_state=random_state))\n",
    "classifiers.append(AdaBoostClassifier(DecisionTreeClassifier(random_state=random_state),random_state=random_state,learning_rate=0.1))\n",
    "classifiers.append(RandomForestClassifier(random_state=random_state))\n",
    "classifiers.append(ExtraTreesClassifier(random_state=random_state))\n",
    "classifiers.append(GradientBoostingClassifier(random_state=random_state))\n",
    "classifiers.append(MLPClassifier(random_state=random_state))\n",
    "classifiers.append(KNeighborsClassifier())\n",
    "classifiers.append(LogisticRegression(random_state = random_state))\n",
    "classifiers.append(LinearDiscriminantAnalysis())\n",
    "\n",
    "cv_results = []\n",
    "for classifier in classifiers :\n",
    "    cv_results.append(cross_val_score(classifier, X_train, y = Y_train, scoring = \"accuracy\", cv = kfold, n_jobs=4))\n",
    "\n",
    "cv_means = []\n",
    "cv_std = []\n",
    "for cv_result in cv_results:\n",
    "    cv_means.append(cv_result.mean())\n",
    "    cv_std.append(cv_result.std())\n",
    "\n",
    "cv_res = pd.DataFrame({\"CrossValMeans\":cv_means,\"CrossValerrors\": cv_std,\"Algorithm\":[\"SVC\",\"DecisionTree\",\"AdaBoost\",\n",
    "\"RandomForest\",\"ExtraTrees\",\"GradientBoosting\",\"MultipleLayerPerceptron\",\"KNeighboors\",\"LogisticRegression\",\"LinearDiscriminantAnalysis\"]})\n",
    "\n",
    "g = sns.barplot(\"CrossValMeans\",\"Algorithm\",data = cv_res, palette=\"Set3\",orient = \"h\",**{'xerr':cv_std})\n",
    "g.set_xlabel(\"Mean Accuracy\")\n",
    "g = g.set_title(\"Cross validation scores\")\n",
    "\n"
   ]
  },
  {
   "cell_type": "markdown",
   "id": "3fc5bfc7",
   "metadata": {
    "papermill": {
     "duration": 0.126487,
     "end_time": "2022-06-01T14:39:10.633421",
     "exception": false,
     "start_time": "2022-06-01T14:39:10.506934",
     "status": "completed"
    },
    "tags": []
   },
   "source": [
    "#### 6.1.2 Hyperparameter tunning for best models"
   ]
  },
  {
   "cell_type": "code",
   "execution_count": 64,
   "id": "2509e06c",
   "metadata": {
    "execution": {
     "iopub.execute_input": "2022-06-01T14:39:10.890475Z",
     "iopub.status.busy": "2022-06-01T14:39:10.889962Z",
     "iopub.status.idle": "2022-06-01T14:39:17.503132Z",
     "shell.execute_reply": "2022-06-01T14:39:17.502485Z"
    },
    "papermill": {
     "duration": 6.744683,
     "end_time": "2022-06-01T14:39:17.505509",
     "exception": false,
     "start_time": "2022-06-01T14:39:10.760826",
     "status": "completed"
    },
    "tags": []
   },
   "outputs": [
    {
     "name": "stdout",
     "output_type": "stream",
     "text": [
      "Fitting 10 folds for each of 112 candidates, totalling 1120 fits\n"
     ]
    }
   ],
   "source": [
    "### META MODELING  WITH ADABOOST, RF, EXTRATREES and GRADIENTBOOSTIN\n",
    "\n",
    "# Adaboost\n",
    "\n",
    "DTC = DecisionTreeClassifier()\n",
    "\n",
    "adaDTC = AdaBoostClassifier(DTC, random_state=7)\n",
    "\n",
    "ada_param_grid = {\"base_estimator__criterion\" : [\"gini\", \"entropy\"],\n",
    "              \"base_estimator__splitter\" :   [\"best\", \"random\"],\n",
    "              \"algorithm\" : [\"SAMME\",\"SAMME.R\"],\n",
    "              \"n_estimators\" :[1,2],\n",
    "              \"learning_rate\":  [0.0001, 0.001, 0.01, 0.1, 0.2, 0.3,1.5]}\n",
    "\n",
    "gsadaDTC = GridSearchCV(adaDTC,param_grid = ada_param_grid, cv=kfold, scoring=\"accuracy\", n_jobs= 4, verbose = 1)\n",
    "\n",
    "gsadaDTC.fit(X_train,Y_train)\n",
    "\n",
    "ada_best = gsadaDTC.best_estimator_"
   ]
  },
  {
   "cell_type": "code",
   "execution_count": 65,
   "id": "c408e198",
   "metadata": {
    "execution": {
     "iopub.execute_input": "2022-06-01T14:39:17.759483Z",
     "iopub.status.busy": "2022-06-01T14:39:17.758507Z",
     "iopub.status.idle": "2022-06-01T14:39:17.765346Z",
     "shell.execute_reply": "2022-06-01T14:39:17.764401Z"
    },
    "papermill": {
     "duration": 0.135055,
     "end_time": "2022-06-01T14:39:17.767336",
     "exception": false,
     "start_time": "2022-06-01T14:39:17.632281",
     "status": "completed"
    },
    "tags": []
   },
   "outputs": [
    {
     "data": {
      "text/plain": [
       "0.8275536261491316"
      ]
     },
     "execution_count": 65,
     "metadata": {},
     "output_type": "execute_result"
    }
   ],
   "source": [
    "gsadaDTC.best_score_"
   ]
  },
  {
   "cell_type": "code",
   "execution_count": 66,
   "id": "8c2982a7",
   "metadata": {
    "execution": {
     "iopub.execute_input": "2022-06-01T14:39:18.023418Z",
     "iopub.status.busy": "2022-06-01T14:39:18.023139Z",
     "iopub.status.idle": "2022-06-01T14:40:28.737869Z",
     "shell.execute_reply": "2022-06-01T14:40:28.736511Z"
    },
    "papermill": {
     "duration": 70.971261,
     "end_time": "2022-06-01T14:40:28.865976",
     "exception": false,
     "start_time": "2022-06-01T14:39:17.894715",
     "status": "completed"
    },
    "tags": []
   },
   "outputs": [
    {
     "name": "stdout",
     "output_type": "stream",
     "text": [
      "Fitting 10 folds for each of 54 candidates, totalling 540 fits\n"
     ]
    },
    {
     "data": {
      "text/plain": [
       "0.8286133810010214"
      ]
     },
     "execution_count": 66,
     "metadata": {},
     "output_type": "execute_result"
    }
   ],
   "source": [
    "#ExtraTrees \n",
    "ExtC = ExtraTreesClassifier()\n",
    "\n",
    "\n",
    "## Search grid for optimal parameters\n",
    "ex_param_grid = {\"max_depth\": [None],\n",
    "              \"max_features\": [1, 3, 10],\n",
    "              \"min_samples_split\": [2, 3, 10],\n",
    "              \"min_samples_leaf\": [1, 3, 10],\n",
    "              \"bootstrap\": [False],\n",
    "              \"n_estimators\" :[100,300],\n",
    "              \"criterion\": [\"gini\"]}\n",
    "\n",
    "gsExtC = GridSearchCV(ExtC,param_grid = ex_param_grid,\\\n",
    "                      cv=kfold, scoring=\"accuracy\",n_jobs= 4, verbose =1)\n",
    "\n",
    "gsExtC.fit(X_train, Y_train)\n",
    "\n",
    "ExtC_best = gsExtC.best_estimator_\n",
    "\n",
    "# Best score\n",
    "gsExtC.best_score_\n",
    "\n",
    "# Best score\n",
    "gsExtC.best_score_\n"
   ]
  }
 ],
 "metadata": {
  "kernelspec": {
   "display_name": "Python 3",
   "language": "python",
   "name": "python3"
  },
  "language_info": {
   "codemirror_mode": {
    "name": "ipython",
    "version": 3
   },
   "file_extension": ".py",
   "mimetype": "text/x-python",
   "name": "python",
   "nbconvert_exporter": "python",
   "pygments_lexer": "ipython3",
   "version": "3.7.12"
  },
  "papermill": {
   "default_parameters": {},
   "duration": 137.265088,
   "end_time": "2022-06-01T14:40:31.611943",
   "environment_variables": {},
   "exception": null,
   "input_path": "__notebook__.ipynb",
   "output_path": "__notebook__.ipynb",
   "parameters": {},
   "start_time": "2022-06-01T14:38:14.346855",
   "version": "2.3.4"
  }
 },
 "nbformat": 4,
 "nbformat_minor": 5
}
