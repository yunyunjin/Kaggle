{
 "cells": [
  {
   "cell_type": "markdown",
   "id": "4c62d6b5",
   "metadata": {
    "papermill": {
     "duration": 0.08204,
     "end_time": "2022-05-24T14:58:07.119621",
     "exception": false,
     "start_time": "2022-05-24T14:58:07.037581",
     "status": "completed"
    },
    "tags": []
   },
   "source": [
    "## 1. Main\n",
    "\n",
    "* Feature analysis\n",
    "* Feature engineering\n",
    "* Modeling"
   ]
  },
  {
   "cell_type": "code",
   "execution_count": 1,
   "id": "95a96df5",
   "metadata": {
    "_cell_guid": "b1076dfc-b9ad-4769-8c92-a6c4dae69d19",
    "_uuid": "8f2839f25d086af736a60e9eeb907d3b93b6e0e5",
    "execution": {
     "iopub.execute_input": "2022-05-24T14:58:07.261320Z",
     "iopub.status.busy": "2022-05-24T14:58:07.260552Z",
     "iopub.status.idle": "2022-05-24T14:58:09.007515Z",
     "shell.execute_reply": "2022-05-24T14:58:09.006390Z"
    },
    "papermill": {
     "duration": 1.816758,
     "end_time": "2022-05-24T14:58:09.010482",
     "exception": false,
     "start_time": "2022-05-24T14:58:07.193724",
     "status": "completed"
    },
    "tags": []
   },
   "outputs": [],
   "source": [
    "import pandas as pd\n",
    "import numpy as np\n",
    "import matplotlib.pyplot as plt\n",
    "import seaborn as sns\n",
    "%matplotlib inline\n",
    "import warnings\n",
    "warnings.filterwarnings('ignore')\n",
    "\n",
    "from collections import Counter\n",
    "\n",
    "from sklearn.ensemble import RandomForestClassifier, AdaBoostClassifier, GradientBoostingClassifier, ExtraTreesClassifier, VotingClassifier\n",
    "from sklearn.discriminant_analysis import LinearDiscriminantAnalysis\n",
    "from sklearn.linear_model import LogisticRegression\n",
    "from sklearn.neighbors import KNeighborsClassifier\n",
    "from sklearn.tree import DecisionTreeClassifier\n",
    "from sklearn.neural_network import MLPClassifier\n",
    "from sklearn.svm import SVC\n",
    "from sklearn.model_selection import GridSearchCV, cross_val_score, StratifiedKFold, learning_curve\n",
    "\n",
    "sns.set(style='white', context='notebook', palette='deep')"
   ]
  },
  {
   "cell_type": "markdown",
   "id": "3ad2b132",
   "metadata": {
    "papermill": {
     "duration": 0.064183,
     "end_time": "2022-05-24T14:58:09.137704",
     "exception": false,
     "start_time": "2022-05-24T14:58:09.073521",
     "status": "completed"
    },
    "tags": []
   },
   "source": [
    "## 2. Load and check data"
   ]
  },
  {
   "cell_type": "markdown",
   "id": "6debcd6d",
   "metadata": {
    "papermill": {
     "duration": 0.063543,
     "end_time": "2022-05-24T14:58:09.264454",
     "exception": false,
     "start_time": "2022-05-24T14:58:09.200911",
     "status": "completed"
    },
    "tags": []
   },
   "source": [
    "### 2.1 Load data"
   ]
  },
  {
   "cell_type": "code",
   "execution_count": 2,
   "id": "592c24f0",
   "metadata": {
    "execution": {
     "iopub.execute_input": "2022-05-24T14:58:09.389598Z",
     "iopub.status.busy": "2022-05-24T14:58:09.389029Z",
     "iopub.status.idle": "2022-05-24T14:58:09.429793Z",
     "shell.execute_reply": "2022-05-24T14:58:09.428786Z"
    },
    "papermill": {
     "duration": 0.106585,
     "end_time": "2022-05-24T14:58:09.432597",
     "exception": false,
     "start_time": "2022-05-24T14:58:09.326012",
     "status": "completed"
    },
    "tags": []
   },
   "outputs": [],
   "source": [
    "# Load\n",
    "\n",
    "train = pd.read_csv(\"../input/titanic/train.csv\")\n",
    "test = pd.read_csv(\"../input/titanic/test.csv\")\n",
    "IDtest = test['PassengerId']\n"
   ]
  },
  {
   "cell_type": "markdown",
   "id": "b145fd4b",
   "metadata": {
    "papermill": {
     "duration": 0.058905,
     "end_time": "2022-05-24T14:58:09.550552",
     "exception": false,
     "start_time": "2022-05-24T14:58:09.491647",
     "status": "completed"
    },
    "tags": []
   },
   "source": [
    "### 2.2 Outlier detection"
   ]
  },
  {
   "cell_type": "code",
   "execution_count": 3,
   "id": "e3d1af86",
   "metadata": {
    "execution": {
     "iopub.execute_input": "2022-05-24T14:58:09.671479Z",
     "iopub.status.busy": "2022-05-24T14:58:09.671184Z",
     "iopub.status.idle": "2022-05-24T14:58:09.688971Z",
     "shell.execute_reply": "2022-05-24T14:58:09.687811Z"
    },
    "papermill": {
     "duration": 0.081972,
     "end_time": "2022-05-24T14:58:09.691202",
     "exception": false,
     "start_time": "2022-05-24T14:58:09.609230",
     "status": "completed"
    },
    "tags": []
   },
   "outputs": [],
   "source": [
    "# Outlier detection \n",
    "\n",
    "def detect_outliers(df,n,features):\n",
    "    \"\"\"\n",
    "    Takes a dataframe df of features and returns a list of the indices\n",
    "    corresponding to the observations containing more than n outliers according\n",
    "    to the Tukey method.\n",
    "    \"\"\"\n",
    "    outlier_indices = []\n",
    "    \n",
    "    # iterate over features(columns)\n",
    "    for col in features:\n",
    "        # 1st quartile (25%)\n",
    "        Q1 = np.percentile(df[col], 25)\n",
    "        # 3rd quartile (75%)\n",
    "        Q3 = np.percentile(df[col],75)\n",
    "        # Interquartile range (IQR)\n",
    "        IQR = Q3 - Q1\n",
    "        \n",
    "        # outlier step\n",
    "        outlier_step = 1.5 * IQR\n",
    "        \n",
    "        # Determine a list of indices of outliers for feature col\n",
    "        outlier_list_col = df[(df[col] < Q1 - outlier_step) | (df[col] > Q3 + outlier_step )].index\n",
    "        \n",
    "        # append the found outlier indices for col to the list of outlier indices \n",
    "        outlier_indices.extend(outlier_list_col)\n",
    "        \n",
    "    # select observations containing more than 2 outliers\n",
    "    outlier_indices = Counter(outlier_indices)        \n",
    "    multiple_outliers = list( k for k, v in outlier_indices.items() if v > n )\n",
    "    \n",
    "    return multiple_outliers   \n",
    "\n",
    "# detect outliers from Age, SibSp , Parch and Fare\n",
    "Outliers_to_drop = detect_outliers(train,2,[\"Age\",\"SibSp\",\"Parch\",\"Fare\"])\n",
    "    \n",
    "    \n",
    "    "
   ]
  },
  {
   "cell_type": "code",
   "execution_count": 4,
   "id": "b4aafbd5",
   "metadata": {
    "execution": {
     "iopub.execute_input": "2022-05-24T14:58:09.812137Z",
     "iopub.status.busy": "2022-05-24T14:58:09.811808Z",
     "iopub.status.idle": "2022-05-24T14:58:09.819540Z",
     "shell.execute_reply": "2022-05-24T14:58:09.818659Z"
    },
    "papermill": {
     "duration": 0.071243,
     "end_time": "2022-05-24T14:58:09.821557",
     "exception": false,
     "start_time": "2022-05-24T14:58:09.750314",
     "status": "completed"
    },
    "tags": []
   },
   "outputs": [
    {
     "data": {
      "text/plain": [
       "Index(['PassengerId', 'Survived', 'Pclass', 'Name', 'Sex', 'Age', 'SibSp',\n",
       "       'Parch', 'Ticket', 'Fare', 'Cabin', 'Embarked'],\n",
       "      dtype='object')"
      ]
     },
     "execution_count": 4,
     "metadata": {},
     "output_type": "execute_result"
    }
   ],
   "source": [
    "train.columns"
   ]
  },
  {
   "cell_type": "markdown",
   "id": "b4e14886",
   "metadata": {
    "papermill": {
     "duration": 0.065658,
     "end_time": "2022-05-24T14:58:09.950728",
     "exception": false,
     "start_time": "2022-05-24T14:58:09.885070",
     "status": "completed"
    },
    "tags": []
   },
   "source": [
    "* 분포 값(IQR)의 첫 번째 사분위수와 세 번째 사분위수 사이에 포함된 사분위간 범위를 정의하는 outlier를 탐지하기 위해 Tukey 방법(Tukey JW., 1977)을 사용.\n",
    "* numerical value features 사용(Age, SibSp, Sarch and Fare)"
   ]
  },
  {
   "cell_type": "code",
   "execution_count": 5,
   "id": "2430fc55",
   "metadata": {
    "execution": {
     "iopub.execute_input": "2022-05-24T14:58:10.086126Z",
     "iopub.status.busy": "2022-05-24T14:58:10.085553Z",
     "iopub.status.idle": "2022-05-24T14:58:10.110620Z",
     "shell.execute_reply": "2022-05-24T14:58:10.109928Z"
    },
    "papermill": {
     "duration": 0.092879,
     "end_time": "2022-05-24T14:58:10.112385",
     "exception": false,
     "start_time": "2022-05-24T14:58:10.019506",
     "status": "completed"
    },
    "tags": []
   },
   "outputs": [
    {
     "data": {
      "text/html": [
       "<div>\n",
       "<style scoped>\n",
       "    .dataframe tbody tr th:only-of-type {\n",
       "        vertical-align: middle;\n",
       "    }\n",
       "\n",
       "    .dataframe tbody tr th {\n",
       "        vertical-align: top;\n",
       "    }\n",
       "\n",
       "    .dataframe thead th {\n",
       "        text-align: right;\n",
       "    }\n",
       "</style>\n",
       "<table border=\"1\" class=\"dataframe\">\n",
       "  <thead>\n",
       "    <tr style=\"text-align: right;\">\n",
       "      <th></th>\n",
       "      <th>PassengerId</th>\n",
       "      <th>Survived</th>\n",
       "      <th>Pclass</th>\n",
       "      <th>Name</th>\n",
       "      <th>Sex</th>\n",
       "      <th>Age</th>\n",
       "      <th>SibSp</th>\n",
       "      <th>Parch</th>\n",
       "      <th>Ticket</th>\n",
       "      <th>Fare</th>\n",
       "      <th>Cabin</th>\n",
       "      <th>Embarked</th>\n",
       "    </tr>\n",
       "  </thead>\n",
       "  <tbody>\n",
       "    <tr>\n",
       "      <th>27</th>\n",
       "      <td>28</td>\n",
       "      <td>0</td>\n",
       "      <td>1</td>\n",
       "      <td>Fortune, Mr. Charles Alexander</td>\n",
       "      <td>male</td>\n",
       "      <td>19.0</td>\n",
       "      <td>3</td>\n",
       "      <td>2</td>\n",
       "      <td>19950</td>\n",
       "      <td>263.00</td>\n",
       "      <td>C23 C25 C27</td>\n",
       "      <td>S</td>\n",
       "    </tr>\n",
       "    <tr>\n",
       "      <th>88</th>\n",
       "      <td>89</td>\n",
       "      <td>1</td>\n",
       "      <td>1</td>\n",
       "      <td>Fortune, Miss. Mabel Helen</td>\n",
       "      <td>female</td>\n",
       "      <td>23.0</td>\n",
       "      <td>3</td>\n",
       "      <td>2</td>\n",
       "      <td>19950</td>\n",
       "      <td>263.00</td>\n",
       "      <td>C23 C25 C27</td>\n",
       "      <td>S</td>\n",
       "    </tr>\n",
       "    <tr>\n",
       "      <th>159</th>\n",
       "      <td>160</td>\n",
       "      <td>0</td>\n",
       "      <td>3</td>\n",
       "      <td>Sage, Master. Thomas Henry</td>\n",
       "      <td>male</td>\n",
       "      <td>NaN</td>\n",
       "      <td>8</td>\n",
       "      <td>2</td>\n",
       "      <td>CA. 2343</td>\n",
       "      <td>69.55</td>\n",
       "      <td>NaN</td>\n",
       "      <td>S</td>\n",
       "    </tr>\n",
       "    <tr>\n",
       "      <th>180</th>\n",
       "      <td>181</td>\n",
       "      <td>0</td>\n",
       "      <td>3</td>\n",
       "      <td>Sage, Miss. Constance Gladys</td>\n",
       "      <td>female</td>\n",
       "      <td>NaN</td>\n",
       "      <td>8</td>\n",
       "      <td>2</td>\n",
       "      <td>CA. 2343</td>\n",
       "      <td>69.55</td>\n",
       "      <td>NaN</td>\n",
       "      <td>S</td>\n",
       "    </tr>\n",
       "    <tr>\n",
       "      <th>201</th>\n",
       "      <td>202</td>\n",
       "      <td>0</td>\n",
       "      <td>3</td>\n",
       "      <td>Sage, Mr. Frederick</td>\n",
       "      <td>male</td>\n",
       "      <td>NaN</td>\n",
       "      <td>8</td>\n",
       "      <td>2</td>\n",
       "      <td>CA. 2343</td>\n",
       "      <td>69.55</td>\n",
       "      <td>NaN</td>\n",
       "      <td>S</td>\n",
       "    </tr>\n",
       "    <tr>\n",
       "      <th>324</th>\n",
       "      <td>325</td>\n",
       "      <td>0</td>\n",
       "      <td>3</td>\n",
       "      <td>Sage, Mr. George John Jr</td>\n",
       "      <td>male</td>\n",
       "      <td>NaN</td>\n",
       "      <td>8</td>\n",
       "      <td>2</td>\n",
       "      <td>CA. 2343</td>\n",
       "      <td>69.55</td>\n",
       "      <td>NaN</td>\n",
       "      <td>S</td>\n",
       "    </tr>\n",
       "    <tr>\n",
       "      <th>341</th>\n",
       "      <td>342</td>\n",
       "      <td>1</td>\n",
       "      <td>1</td>\n",
       "      <td>Fortune, Miss. Alice Elizabeth</td>\n",
       "      <td>female</td>\n",
       "      <td>24.0</td>\n",
       "      <td>3</td>\n",
       "      <td>2</td>\n",
       "      <td>19950</td>\n",
       "      <td>263.00</td>\n",
       "      <td>C23 C25 C27</td>\n",
       "      <td>S</td>\n",
       "    </tr>\n",
       "    <tr>\n",
       "      <th>792</th>\n",
       "      <td>793</td>\n",
       "      <td>0</td>\n",
       "      <td>3</td>\n",
       "      <td>Sage, Miss. Stella Anna</td>\n",
       "      <td>female</td>\n",
       "      <td>NaN</td>\n",
       "      <td>8</td>\n",
       "      <td>2</td>\n",
       "      <td>CA. 2343</td>\n",
       "      <td>69.55</td>\n",
       "      <td>NaN</td>\n",
       "      <td>S</td>\n",
       "    </tr>\n",
       "    <tr>\n",
       "      <th>846</th>\n",
       "      <td>847</td>\n",
       "      <td>0</td>\n",
       "      <td>3</td>\n",
       "      <td>Sage, Mr. Douglas Bullen</td>\n",
       "      <td>male</td>\n",
       "      <td>NaN</td>\n",
       "      <td>8</td>\n",
       "      <td>2</td>\n",
       "      <td>CA. 2343</td>\n",
       "      <td>69.55</td>\n",
       "      <td>NaN</td>\n",
       "      <td>S</td>\n",
       "    </tr>\n",
       "    <tr>\n",
       "      <th>863</th>\n",
       "      <td>864</td>\n",
       "      <td>0</td>\n",
       "      <td>3</td>\n",
       "      <td>Sage, Miss. Dorothy Edith \"Dolly\"</td>\n",
       "      <td>female</td>\n",
       "      <td>NaN</td>\n",
       "      <td>8</td>\n",
       "      <td>2</td>\n",
       "      <td>CA. 2343</td>\n",
       "      <td>69.55</td>\n",
       "      <td>NaN</td>\n",
       "      <td>S</td>\n",
       "    </tr>\n",
       "  </tbody>\n",
       "</table>\n",
       "</div>"
      ],
      "text/plain": [
       "     PassengerId  Survived  Pclass                               Name     Sex  \\\n",
       "27            28         0       1     Fortune, Mr. Charles Alexander    male   \n",
       "88            89         1       1         Fortune, Miss. Mabel Helen  female   \n",
       "159          160         0       3         Sage, Master. Thomas Henry    male   \n",
       "180          181         0       3       Sage, Miss. Constance Gladys  female   \n",
       "201          202         0       3                Sage, Mr. Frederick    male   \n",
       "324          325         0       3           Sage, Mr. George John Jr    male   \n",
       "341          342         1       1     Fortune, Miss. Alice Elizabeth  female   \n",
       "792          793         0       3            Sage, Miss. Stella Anna  female   \n",
       "846          847         0       3           Sage, Mr. Douglas Bullen    male   \n",
       "863          864         0       3  Sage, Miss. Dorothy Edith \"Dolly\"  female   \n",
       "\n",
       "      Age  SibSp  Parch    Ticket    Fare        Cabin Embarked  \n",
       "27   19.0      3      2     19950  263.00  C23 C25 C27        S  \n",
       "88   23.0      3      2     19950  263.00  C23 C25 C27        S  \n",
       "159   NaN      8      2  CA. 2343   69.55          NaN        S  \n",
       "180   NaN      8      2  CA. 2343   69.55          NaN        S  \n",
       "201   NaN      8      2  CA. 2343   69.55          NaN        S  \n",
       "324   NaN      8      2  CA. 2343   69.55          NaN        S  \n",
       "341  24.0      3      2     19950  263.00  C23 C25 C27        S  \n",
       "792   NaN      8      2  CA. 2343   69.55          NaN        S  \n",
       "846   NaN      8      2  CA. 2343   69.55          NaN        S  \n",
       "863   NaN      8      2  CA. 2343   69.55          NaN        S  "
      ]
     },
     "execution_count": 5,
     "metadata": {},
     "output_type": "execute_result"
    }
   ],
   "source": [
    "# Show outlier row\n",
    "train.loc[Outliers_to_drop]"
   ]
  },
  {
   "cell_type": "markdown",
   "id": "deec9a28",
   "metadata": {
    "papermill": {
     "duration": 0.066656,
     "end_time": "2022-05-24T14:58:10.244124",
     "exception": false,
     "start_time": "2022-05-24T14:58:10.177468",
     "status": "completed"
    },
    "tags": []
   },
   "source": [
    "**10 outliers**\n",
    "* passenger 28, 89, 342 have an high Ticket Fare\n",
    "* othes have very high in SibSP.\n",
    "\n"
   ]
  },
  {
   "cell_type": "code",
   "execution_count": 6,
   "id": "8371be8d",
   "metadata": {
    "execution": {
     "iopub.execute_input": "2022-05-24T14:58:10.374223Z",
     "iopub.status.busy": "2022-05-24T14:58:10.373487Z",
     "iopub.status.idle": "2022-05-24T14:58:10.378450Z",
     "shell.execute_reply": "2022-05-24T14:58:10.377814Z"
    },
    "papermill": {
     "duration": 0.071025,
     "end_time": "2022-05-24T14:58:10.380331",
     "exception": false,
     "start_time": "2022-05-24T14:58:10.309306",
     "status": "completed"
    },
    "tags": []
   },
   "outputs": [],
   "source": [
    "# Drop outliers\n",
    "train = train.drop(Outliers_to_drop, axis = 0).reset_index(drop=True)"
   ]
  },
  {
   "cell_type": "markdown",
   "id": "fc0762dc",
   "metadata": {
    "papermill": {
     "duration": 0.061587,
     "end_time": "2022-05-24T14:58:10.503585",
     "exception": false,
     "start_time": "2022-05-24T14:58:10.441998",
     "status": "completed"
    },
    "tags": []
   },
   "source": [
    "**reset_index**\n",
    "\n",
    "인덱스 초기화하고 재배열해주는 함수, 데이터 전처리 하다보면 인덱스 뒤죽박죽됨.\n",
    "\n",
    "* drop = True 기존 인덱스 버리고 재배열\n",
    "* inplace = True "
   ]
  },
  {
   "cell_type": "markdown",
   "id": "a92c4282",
   "metadata": {
    "papermill": {
     "duration": 0.062118,
     "end_time": "2022-05-24T14:58:10.626175",
     "exception": false,
     "start_time": "2022-05-24T14:58:10.564057",
     "status": "completed"
    },
    "tags": []
   },
   "source": [
    "### 2.3 joining train and test set"
   ]
  },
  {
   "cell_type": "code",
   "execution_count": 7,
   "id": "b6e36de5",
   "metadata": {
    "execution": {
     "iopub.execute_input": "2022-05-24T14:58:10.749303Z",
     "iopub.status.busy": "2022-05-24T14:58:10.748601Z",
     "iopub.status.idle": "2022-05-24T14:58:10.759903Z",
     "shell.execute_reply": "2022-05-24T14:58:10.759016Z"
    },
    "papermill": {
     "duration": 0.075401,
     "end_time": "2022-05-24T14:58:10.762087",
     "exception": false,
     "start_time": "2022-05-24T14:58:10.686686",
     "status": "completed"
    },
    "tags": []
   },
   "outputs": [],
   "source": [
    "# concatenating dataframes\n",
    "# 데이터프레임 합치기\n",
    "\n",
    "train_len = len(train)\n",
    "dataset = pd.concat(objs=[train, test], axis=0).reset_index(drop=True)"
   ]
  },
  {
   "cell_type": "markdown",
   "id": "3bf328f0",
   "metadata": {
    "papermill": {
     "duration": 0.060661,
     "end_time": "2022-05-24T14:58:10.888048",
     "exception": false,
     "start_time": "2022-05-24T14:58:10.827387",
     "status": "completed"
    },
    "tags": []
   },
   "source": [
    "### 2.4 check for null and missing values"
   ]
  },
  {
   "cell_type": "code",
   "execution_count": 8,
   "id": "4bbf5ead",
   "metadata": {
    "execution": {
     "iopub.execute_input": "2022-05-24T14:58:11.017649Z",
     "iopub.status.busy": "2022-05-24T14:58:11.017271Z",
     "iopub.status.idle": "2022-05-24T14:58:11.029529Z",
     "shell.execute_reply": "2022-05-24T14:58:11.028893Z"
    },
    "papermill": {
     "duration": 0.077647,
     "end_time": "2022-05-24T14:58:11.031668",
     "exception": false,
     "start_time": "2022-05-24T14:58:10.954021",
     "status": "completed"
    },
    "tags": []
   },
   "outputs": [
    {
     "data": {
      "text/plain": [
       "PassengerId       0\n",
       "Survived        418\n",
       "Pclass            0\n",
       "Name              0\n",
       "Sex               0\n",
       "Age             256\n",
       "SibSp             0\n",
       "Parch             0\n",
       "Ticket            0\n",
       "Fare              1\n",
       "Cabin          1007\n",
       "Embarked          2\n",
       "dtype: int64"
      ]
     },
     "execution_count": 8,
     "metadata": {},
     "output_type": "execute_result"
    }
   ],
   "source": [
    "# Fill empty and NaNs values with NaN\n",
    "dataset = dataset.fillna(np.nan)\n",
    "\n",
    "# Check for Null values\n",
    "dataset.isnull().sum()"
   ]
  },
  {
   "cell_type": "markdown",
   "id": "7100cfc2",
   "metadata": {
    "papermill": {
     "duration": 0.062995,
     "end_time": "2022-05-24T14:58:11.157321",
     "exception": false,
     "start_time": "2022-05-24T14:58:11.094326",
     "status": "completed"
    },
    "tags": []
   },
   "source": [
    "결측치에서 Age와 Cabin이 중요한 피처임을 확인"
   ]
  },
  {
   "cell_type": "code",
   "execution_count": 9,
   "id": "a5d9f2c3",
   "metadata": {
    "execution": {
     "iopub.execute_input": "2022-05-24T14:58:11.283180Z",
     "iopub.status.busy": "2022-05-24T14:58:11.282903Z",
     "iopub.status.idle": "2022-05-24T14:58:11.306282Z",
     "shell.execute_reply": "2022-05-24T14:58:11.304821Z"
    },
    "papermill": {
     "duration": 0.088518,
     "end_time": "2022-05-24T14:58:11.308458",
     "exception": false,
     "start_time": "2022-05-24T14:58:11.219940",
     "status": "completed"
    },
    "tags": []
   },
   "outputs": [
    {
     "name": "stdout",
     "output_type": "stream",
     "text": [
      "<class 'pandas.core.frame.DataFrame'>\n",
      "RangeIndex: 881 entries, 0 to 880\n",
      "Data columns (total 12 columns):\n",
      " #   Column       Non-Null Count  Dtype  \n",
      "---  ------       --------------  -----  \n",
      " 0   PassengerId  881 non-null    int64  \n",
      " 1   Survived     881 non-null    int64  \n",
      " 2   Pclass       881 non-null    int64  \n",
      " 3   Name         881 non-null    object \n",
      " 4   Sex          881 non-null    object \n",
      " 5   Age          711 non-null    float64\n",
      " 6   SibSp        881 non-null    int64  \n",
      " 7   Parch        881 non-null    int64  \n",
      " 8   Ticket       881 non-null    object \n",
      " 9   Fare         881 non-null    float64\n",
      " 10  Cabin        201 non-null    object \n",
      " 11  Embarked     879 non-null    object \n",
      "dtypes: float64(2), int64(5), object(5)\n",
      "memory usage: 82.7+ KB\n"
     ]
    },
    {
     "data": {
      "text/plain": [
       "PassengerId      0\n",
       "Survived         0\n",
       "Pclass           0\n",
       "Name             0\n",
       "Sex              0\n",
       "Age            170\n",
       "SibSp            0\n",
       "Parch            0\n",
       "Ticket           0\n",
       "Fare             0\n",
       "Cabin          680\n",
       "Embarked         2\n",
       "dtype: int64"
      ]
     },
     "execution_count": 9,
     "metadata": {},
     "output_type": "execute_result"
    }
   ],
   "source": [
    "# Infos\n",
    "train.info()\n",
    "train.isnull().sum()"
   ]
  },
  {
   "cell_type": "code",
   "execution_count": 10,
   "id": "62c47500",
   "metadata": {
    "execution": {
     "iopub.execute_input": "2022-05-24T14:58:11.437738Z",
     "iopub.status.busy": "2022-05-24T14:58:11.437265Z",
     "iopub.status.idle": "2022-05-24T14:58:11.451144Z",
     "shell.execute_reply": "2022-05-24T14:58:11.450226Z"
    },
    "papermill": {
     "duration": 0.08295,
     "end_time": "2022-05-24T14:58:11.453280",
     "exception": false,
     "start_time": "2022-05-24T14:58:11.370330",
     "status": "completed"
    },
    "tags": []
   },
   "outputs": [
    {
     "data": {
      "text/html": [
       "<div>\n",
       "<style scoped>\n",
       "    .dataframe tbody tr th:only-of-type {\n",
       "        vertical-align: middle;\n",
       "    }\n",
       "\n",
       "    .dataframe tbody tr th {\n",
       "        vertical-align: top;\n",
       "    }\n",
       "\n",
       "    .dataframe thead th {\n",
       "        text-align: right;\n",
       "    }\n",
       "</style>\n",
       "<table border=\"1\" class=\"dataframe\">\n",
       "  <thead>\n",
       "    <tr style=\"text-align: right;\">\n",
       "      <th></th>\n",
       "      <th>PassengerId</th>\n",
       "      <th>Survived</th>\n",
       "      <th>Pclass</th>\n",
       "      <th>Name</th>\n",
       "      <th>Sex</th>\n",
       "      <th>Age</th>\n",
       "      <th>SibSp</th>\n",
       "      <th>Parch</th>\n",
       "      <th>Ticket</th>\n",
       "      <th>Fare</th>\n",
       "      <th>Cabin</th>\n",
       "      <th>Embarked</th>\n",
       "    </tr>\n",
       "  </thead>\n",
       "  <tbody>\n",
       "    <tr>\n",
       "      <th>0</th>\n",
       "      <td>1</td>\n",
       "      <td>0</td>\n",
       "      <td>3</td>\n",
       "      <td>Braund, Mr. Owen Harris</td>\n",
       "      <td>male</td>\n",
       "      <td>22.0</td>\n",
       "      <td>1</td>\n",
       "      <td>0</td>\n",
       "      <td>A/5 21171</td>\n",
       "      <td>7.2500</td>\n",
       "      <td>NaN</td>\n",
       "      <td>S</td>\n",
       "    </tr>\n",
       "    <tr>\n",
       "      <th>1</th>\n",
       "      <td>2</td>\n",
       "      <td>1</td>\n",
       "      <td>1</td>\n",
       "      <td>Cumings, Mrs. John Bradley (Florence Briggs Th...</td>\n",
       "      <td>female</td>\n",
       "      <td>38.0</td>\n",
       "      <td>1</td>\n",
       "      <td>0</td>\n",
       "      <td>PC 17599</td>\n",
       "      <td>71.2833</td>\n",
       "      <td>C85</td>\n",
       "      <td>C</td>\n",
       "    </tr>\n",
       "    <tr>\n",
       "      <th>2</th>\n",
       "      <td>3</td>\n",
       "      <td>1</td>\n",
       "      <td>3</td>\n",
       "      <td>Heikkinen, Miss. Laina</td>\n",
       "      <td>female</td>\n",
       "      <td>26.0</td>\n",
       "      <td>0</td>\n",
       "      <td>0</td>\n",
       "      <td>STON/O2. 3101282</td>\n",
       "      <td>7.9250</td>\n",
       "      <td>NaN</td>\n",
       "      <td>S</td>\n",
       "    </tr>\n",
       "    <tr>\n",
       "      <th>3</th>\n",
       "      <td>4</td>\n",
       "      <td>1</td>\n",
       "      <td>1</td>\n",
       "      <td>Futrelle, Mrs. Jacques Heath (Lily May Peel)</td>\n",
       "      <td>female</td>\n",
       "      <td>35.0</td>\n",
       "      <td>1</td>\n",
       "      <td>0</td>\n",
       "      <td>113803</td>\n",
       "      <td>53.1000</td>\n",
       "      <td>C123</td>\n",
       "      <td>S</td>\n",
       "    </tr>\n",
       "    <tr>\n",
       "      <th>4</th>\n",
       "      <td>5</td>\n",
       "      <td>0</td>\n",
       "      <td>3</td>\n",
       "      <td>Allen, Mr. William Henry</td>\n",
       "      <td>male</td>\n",
       "      <td>35.0</td>\n",
       "      <td>0</td>\n",
       "      <td>0</td>\n",
       "      <td>373450</td>\n",
       "      <td>8.0500</td>\n",
       "      <td>NaN</td>\n",
       "      <td>S</td>\n",
       "    </tr>\n",
       "  </tbody>\n",
       "</table>\n",
       "</div>"
      ],
      "text/plain": [
       "   PassengerId  Survived  Pclass  \\\n",
       "0            1         0       3   \n",
       "1            2         1       1   \n",
       "2            3         1       3   \n",
       "3            4         1       1   \n",
       "4            5         0       3   \n",
       "\n",
       "                                                Name     Sex   Age  SibSp  \\\n",
       "0                            Braund, Mr. Owen Harris    male  22.0      1   \n",
       "1  Cumings, Mrs. John Bradley (Florence Briggs Th...  female  38.0      1   \n",
       "2                             Heikkinen, Miss. Laina  female  26.0      0   \n",
       "3       Futrelle, Mrs. Jacques Heath (Lily May Peel)  female  35.0      1   \n",
       "4                           Allen, Mr. William Henry    male  35.0      0   \n",
       "\n",
       "   Parch            Ticket     Fare Cabin Embarked  \n",
       "0      0         A/5 21171   7.2500   NaN        S  \n",
       "1      0          PC 17599  71.2833   C85        C  \n",
       "2      0  STON/O2. 3101282   7.9250   NaN        S  \n",
       "3      0            113803  53.1000  C123        S  \n",
       "4      0            373450   8.0500   NaN        S  "
      ]
     },
     "execution_count": 10,
     "metadata": {},
     "output_type": "execute_result"
    }
   ],
   "source": [
    "train.head()"
   ]
  },
  {
   "cell_type": "code",
   "execution_count": 11,
   "id": "3d5e6e00",
   "metadata": {
    "execution": {
     "iopub.execute_input": "2022-05-24T14:58:11.586490Z",
     "iopub.status.busy": "2022-05-24T14:58:11.586016Z",
     "iopub.status.idle": "2022-05-24T14:58:11.592729Z",
     "shell.execute_reply": "2022-05-24T14:58:11.591645Z"
    },
    "papermill": {
     "duration": 0.075895,
     "end_time": "2022-05-24T14:58:11.594933",
     "exception": false,
     "start_time": "2022-05-24T14:58:11.519038",
     "status": "completed"
    },
    "tags": []
   },
   "outputs": [
    {
     "data": {
      "text/plain": [
       "PassengerId      int64\n",
       "Survived         int64\n",
       "Pclass           int64\n",
       "Name            object\n",
       "Sex             object\n",
       "Age            float64\n",
       "SibSp            int64\n",
       "Parch            int64\n",
       "Ticket          object\n",
       "Fare           float64\n",
       "Cabin           object\n",
       "Embarked        object\n",
       "dtype: object"
      ]
     },
     "execution_count": 11,
     "metadata": {},
     "output_type": "execute_result"
    }
   ],
   "source": [
    "train.dtypes"
   ]
  },
  {
   "cell_type": "code",
   "execution_count": 12,
   "id": "fcc9fb33",
   "metadata": {
    "execution": {
     "iopub.execute_input": "2022-05-24T14:58:11.725932Z",
     "iopub.status.busy": "2022-05-24T14:58:11.725621Z",
     "iopub.status.idle": "2022-05-24T14:58:11.757810Z",
     "shell.execute_reply": "2022-05-24T14:58:11.756886Z"
    },
    "papermill": {
     "duration": 0.098465,
     "end_time": "2022-05-24T14:58:11.760081",
     "exception": false,
     "start_time": "2022-05-24T14:58:11.661616",
     "status": "completed"
    },
    "tags": []
   },
   "outputs": [
    {
     "data": {
      "text/html": [
       "<div>\n",
       "<style scoped>\n",
       "    .dataframe tbody tr th:only-of-type {\n",
       "        vertical-align: middle;\n",
       "    }\n",
       "\n",
       "    .dataframe tbody tr th {\n",
       "        vertical-align: top;\n",
       "    }\n",
       "\n",
       "    .dataframe thead th {\n",
       "        text-align: right;\n",
       "    }\n",
       "</style>\n",
       "<table border=\"1\" class=\"dataframe\">\n",
       "  <thead>\n",
       "    <tr style=\"text-align: right;\">\n",
       "      <th></th>\n",
       "      <th>PassengerId</th>\n",
       "      <th>Survived</th>\n",
       "      <th>Pclass</th>\n",
       "      <th>Age</th>\n",
       "      <th>SibSp</th>\n",
       "      <th>Parch</th>\n",
       "      <th>Fare</th>\n",
       "    </tr>\n",
       "  </thead>\n",
       "  <tbody>\n",
       "    <tr>\n",
       "      <th>count</th>\n",
       "      <td>881.000000</td>\n",
       "      <td>881.000000</td>\n",
       "      <td>881.000000</td>\n",
       "      <td>711.000000</td>\n",
       "      <td>881.000000</td>\n",
       "      <td>881.000000</td>\n",
       "      <td>881.000000</td>\n",
       "    </tr>\n",
       "    <tr>\n",
       "      <th>mean</th>\n",
       "      <td>446.713961</td>\n",
       "      <td>0.385925</td>\n",
       "      <td>2.307605</td>\n",
       "      <td>29.731603</td>\n",
       "      <td>0.455165</td>\n",
       "      <td>0.363224</td>\n",
       "      <td>31.121566</td>\n",
       "    </tr>\n",
       "    <tr>\n",
       "      <th>std</th>\n",
       "      <td>256.617021</td>\n",
       "      <td>0.487090</td>\n",
       "      <td>0.835055</td>\n",
       "      <td>14.547835</td>\n",
       "      <td>0.871571</td>\n",
       "      <td>0.791839</td>\n",
       "      <td>47.996249</td>\n",
       "    </tr>\n",
       "    <tr>\n",
       "      <th>min</th>\n",
       "      <td>1.000000</td>\n",
       "      <td>0.000000</td>\n",
       "      <td>1.000000</td>\n",
       "      <td>0.420000</td>\n",
       "      <td>0.000000</td>\n",
       "      <td>0.000000</td>\n",
       "      <td>0.000000</td>\n",
       "    </tr>\n",
       "    <tr>\n",
       "      <th>25%</th>\n",
       "      <td>226.000000</td>\n",
       "      <td>0.000000</td>\n",
       "      <td>2.000000</td>\n",
       "      <td>20.250000</td>\n",
       "      <td>0.000000</td>\n",
       "      <td>0.000000</td>\n",
       "      <td>7.895800</td>\n",
       "    </tr>\n",
       "    <tr>\n",
       "      <th>50%</th>\n",
       "      <td>448.000000</td>\n",
       "      <td>0.000000</td>\n",
       "      <td>3.000000</td>\n",
       "      <td>28.000000</td>\n",
       "      <td>0.000000</td>\n",
       "      <td>0.000000</td>\n",
       "      <td>14.454200</td>\n",
       "    </tr>\n",
       "    <tr>\n",
       "      <th>75%</th>\n",
       "      <td>668.000000</td>\n",
       "      <td>1.000000</td>\n",
       "      <td>3.000000</td>\n",
       "      <td>38.000000</td>\n",
       "      <td>1.000000</td>\n",
       "      <td>0.000000</td>\n",
       "      <td>30.500000</td>\n",
       "    </tr>\n",
       "    <tr>\n",
       "      <th>max</th>\n",
       "      <td>891.000000</td>\n",
       "      <td>1.000000</td>\n",
       "      <td>3.000000</td>\n",
       "      <td>80.000000</td>\n",
       "      <td>5.000000</td>\n",
       "      <td>6.000000</td>\n",
       "      <td>512.329200</td>\n",
       "    </tr>\n",
       "  </tbody>\n",
       "</table>\n",
       "</div>"
      ],
      "text/plain": [
       "       PassengerId    Survived      Pclass         Age       SibSp  \\\n",
       "count   881.000000  881.000000  881.000000  711.000000  881.000000   \n",
       "mean    446.713961    0.385925    2.307605   29.731603    0.455165   \n",
       "std     256.617021    0.487090    0.835055   14.547835    0.871571   \n",
       "min       1.000000    0.000000    1.000000    0.420000    0.000000   \n",
       "25%     226.000000    0.000000    2.000000   20.250000    0.000000   \n",
       "50%     448.000000    0.000000    3.000000   28.000000    0.000000   \n",
       "75%     668.000000    1.000000    3.000000   38.000000    1.000000   \n",
       "max     891.000000    1.000000    3.000000   80.000000    5.000000   \n",
       "\n",
       "            Parch        Fare  \n",
       "count  881.000000  881.000000  \n",
       "mean     0.363224   31.121566  \n",
       "std      0.791839   47.996249  \n",
       "min      0.000000    0.000000  \n",
       "25%      0.000000    7.895800  \n",
       "50%      0.000000   14.454200  \n",
       "75%      0.000000   30.500000  \n",
       "max      6.000000  512.329200  "
      ]
     },
     "execution_count": 12,
     "metadata": {},
     "output_type": "execute_result"
    }
   ],
   "source": [
    "## Summarize data\n",
    "# Summarie and statistics\n",
    "train.describe()"
   ]
  },
  {
   "cell_type": "markdown",
   "id": "3aeb5596",
   "metadata": {
    "papermill": {
     "duration": 0.064586,
     "end_time": "2022-05-24T14:58:11.891129",
     "exception": false,
     "start_time": "2022-05-24T14:58:11.826543",
     "status": "completed"
    },
    "tags": []
   },
   "source": [
    "## 3.Feature analysis\n",
    "\n",
    "\n",
    "### 3.1 Numerical values"
   ]
  },
  {
   "cell_type": "code",
   "execution_count": 13,
   "id": "d99020bd",
   "metadata": {
    "execution": {
     "iopub.execute_input": "2022-05-24T14:58:12.023121Z",
     "iopub.status.busy": "2022-05-24T14:58:12.022801Z",
     "iopub.status.idle": "2022-05-24T14:58:12.367667Z",
     "shell.execute_reply": "2022-05-24T14:58:12.366789Z"
    },
    "papermill": {
     "duration": 0.413553,
     "end_time": "2022-05-24T14:58:12.369670",
     "exception": false,
     "start_time": "2022-05-24T14:58:11.956117",
     "status": "completed"
    },
    "tags": []
   },
   "outputs": [
    {
     "data": {
      "image/png": "[encoded data removed]",
      "text/plain": [
       "<Figure size 432x288 with 2 Axes>"
      ]
     },
     "metadata": {},
     "output_type": "display_data"
    }
   ],
   "source": [
    "# Correlation.matirx between numerical values (SibSp Parch Age and Fare values) and Survived\n",
    "\n",
    "g = sns.heatmap(train[[\"Survived\", \"SibSp\", \"Parch\", \"Age\", \"Fare\"]].corr(),annot=True, fmt = \".2f\", cmap = \"coolwarm\")"
   ]
  },
  {
   "cell_type": "markdown",
   "id": "3037b58c",
   "metadata": {
    "papermill": {
     "duration": 0.064205,
     "end_time": "2022-05-24T14:58:12.497678",
     "exception": false,
     "start_time": "2022-05-24T14:58:12.433473",
     "status": "completed"
    },
    "tags": []
   },
   "source": [
    "**SibSP**"
   ]
  },
  {
   "cell_type": "code",
   "execution_count": 14,
   "id": "d01873b7",
   "metadata": {
    "execution": {
     "iopub.execute_input": "2022-05-24T14:58:12.631945Z",
     "iopub.status.busy": "2022-05-24T14:58:12.631562Z",
     "iopub.status.idle": "2022-05-24T14:58:13.090449Z",
     "shell.execute_reply": "2022-05-24T14:58:13.089500Z"
    },
    "papermill": {
     "duration": 0.529287,
     "end_time": "2022-05-24T14:58:13.092919",
     "exception": false,
     "start_time": "2022-05-24T14:58:12.563632",
     "status": "completed"
    },
    "tags": []
   },
   "outputs": [
    {
     "data": {
      "image/png": "[encoded data removed]",
      "text/plain": [
       "<Figure size 432x432 with 1 Axes>"
      ]
     },
     "metadata": {},
     "output_type": "display_data"
    }
   ],
   "source": [
    "# Explore SibSp feature vs Survived\n",
    "g = sns.factorplot(x=\"SibSp\", y=\"Survived\", data=train, kind='bar', size = 6, palette = \"muted\")\n",
    "g.despine(left=True)\n",
    "g = g.set_ylabels(\"survival probability\")"
   ]
  },
  {
   "cell_type": "markdown",
   "id": "ab18571a",
   "metadata": {
    "papermill": {
     "duration": 0.065372,
     "end_time": "2022-05-24T14:58:13.223443",
     "exception": false,
     "start_time": "2022-05-24T14:58:13.158071",
     "status": "completed"
    },
    "tags": []
   },
   "source": [
    "passenges having a lot of siblings/spouses have less chance to survive.\n",
    "\n",
    "Single passengers(0 Sib) or with two other persons(1 of 2) have more chance to survive."
   ]
  },
  {
   "cell_type": "markdown",
   "id": "ac6d686e",
   "metadata": {
    "papermill": {
     "duration": 0.064248,
     "end_time": "2022-05-24T14:58:13.353530",
     "exception": false,
     "start_time": "2022-05-24T14:58:13.289282",
     "status": "completed"
    },
    "tags": []
   },
   "source": [
    "**Parch**"
   ]
  },
  {
   "cell_type": "code",
   "execution_count": 15,
   "id": "5fdd742e",
   "metadata": {
    "execution": {
     "iopub.execute_input": "2022-05-24T14:58:13.486587Z",
     "iopub.status.busy": "2022-05-24T14:58:13.485638Z",
     "iopub.status.idle": "2022-05-24T14:58:13.934163Z",
     "shell.execute_reply": "2022-05-24T14:58:13.933240Z"
    },
    "papermill": {
     "duration": 0.517735,
     "end_time": "2022-05-24T14:58:13.936123",
     "exception": false,
     "start_time": "2022-05-24T14:58:13.418388",
     "status": "completed"
    },
    "tags": []
   },
   "outputs": [
    {
     "data": {
      "image/png": "[encoded data removed]",
      "text/plain": [
       "<Figure size 432x432 with 1 Axes>"
      ]
     },
     "metadata": {},
     "output_type": "display_data"
    }
   ],
   "source": [
    "# Explore Parch feature vs Survived\n",
    "g = sns.factorplot(x=\"Parch\", y=\"Survived\", data=train, kind=\"bar\", size=6, palette = \"muted\")\n",
    "g.despine(left=True)\n",
    "g = g.set_ylabels(\"survival probability\")"
   ]
  },
  {
   "cell_type": "markdown",
   "id": "51a7050a",
   "metadata": {
    "papermill": {
     "duration": 0.066902,
     "end_time": "2022-05-24T14:58:14.068416",
     "exception": false,
     "start_time": "2022-05-24T14:58:14.001514",
     "status": "completed"
    },
    "tags": []
   },
   "source": [
    "Small families have more chance to survive, more than single (Parch 0), medium (Parch 3,4) and large families (Parch 5,6 ).\n",
    "\n",
    "\n",
    "Be carefull there is an important standard deviation in the survival of passengers with 3 parents/children"
   ]
  },
  {
   "cell_type": "markdown",
   "id": "e35e0ed6",
   "metadata": {
    "papermill": {
     "duration": 0.066438,
     "end_time": "2022-05-24T14:58:14.202608",
     "exception": false,
     "start_time": "2022-05-24T14:58:14.136170",
     "status": "completed"
    },
    "tags": []
   },
   "source": [
    "**Age**"
   ]
  },
  {
   "cell_type": "code",
   "execution_count": 16,
   "id": "5f6d2cf7",
   "metadata": {
    "execution": {
     "iopub.execute_input": "2022-05-24T14:58:14.337637Z",
     "iopub.status.busy": "2022-05-24T14:58:14.337376Z",
     "iopub.status.idle": "2022-05-24T14:58:14.934003Z",
     "shell.execute_reply": "2022-05-24T14:58:14.932875Z"
    },
    "papermill": {
     "duration": 0.666674,
     "end_time": "2022-05-24T14:58:14.936187",
     "exception": false,
     "start_time": "2022-05-24T14:58:14.269513",
     "status": "completed"
    },
    "tags": []
   },
   "outputs": [
    {
     "data": {
      "image/png": "[encoded data removed]",
      "text/plain": [
       "<Figure size 432x216 with 2 Axes>"
      ]
     },
     "metadata": {},
     "output_type": "display_data"
    }
   ],
   "source": [
    "# Age vs Survived\n",
    "g = sns.FacetGrid(train, col='Survived')\n",
    "g = g.map(sns.distplot, \"Age\")"
   ]
  },
  {
   "cell_type": "code",
   "execution_count": 17,
   "id": "5df8f409",
   "metadata": {
    "execution": {
     "iopub.execute_input": "2022-05-24T14:58:15.076754Z",
     "iopub.status.busy": "2022-05-24T14:58:15.076070Z",
     "iopub.status.idle": "2022-05-24T14:58:15.333631Z",
     "shell.execute_reply": "2022-05-24T14:58:15.332661Z"
    },
    "papermill": {
     "duration": 0.330554,
     "end_time": "2022-05-24T14:58:15.335739",
     "exception": false,
     "start_time": "2022-05-24T14:58:15.005185",
     "status": "completed"
    },
    "tags": []
   },
   "outputs": [
    {
     "data": {
      "image/png": "[encoded data removed]",
      "text/plain": [
       "<Figure size 432x288 with 1 Axes>"
      ]
     },
     "metadata": {},
     "output_type": "display_data"
    }
   ],
   "source": [
    "# Age distibution\n",
    "g = sns.kdeplot(train[\"Age\"][(train[\"Survived\"] == 0) & (train[\"Age\"].notnull())], color=\"Red\", shade = True)\n",
    "g = sns.kdeplot(train[\"Age\"][(train[\"Survived\"] == 1) & (train[\"Age\"].notnull())], ax= g, color=\"Blue\", shade= True)\n",
    "g.set_xlabel(\"Age\")\n",
    "g.set_ylabel(\"Frequency\")\n",
    "g = g.legend([\"Not Survived\", \"Survived\"])"
   ]
  },
  {
   "cell_type": "markdown",
   "id": "2a465c2e",
   "metadata": {
    "papermill": {
     "duration": 0.069163,
     "end_time": "2022-05-24T14:58:15.474240",
     "exception": false,
     "start_time": "2022-05-24T14:58:15.405077",
     "status": "completed"
    },
    "tags": []
   },
   "source": [
    "can see a peak between 0 and 5"
   ]
  },
  {
   "cell_type": "markdown",
   "id": "5f84b9b8",
   "metadata": {
    "papermill": {
     "duration": 0.07086,
     "end_time": "2022-05-24T14:58:15.614578",
     "exception": false,
     "start_time": "2022-05-24T14:58:15.543718",
     "status": "completed"
    },
    "tags": []
   },
   "source": [
    "**Fare**"
   ]
  },
  {
   "cell_type": "code",
   "execution_count": 18,
   "id": "3aef3744",
   "metadata": {
    "execution": {
     "iopub.execute_input": "2022-05-24T14:58:15.750453Z",
     "iopub.status.busy": "2022-05-24T14:58:15.749900Z",
     "iopub.status.idle": "2022-05-24T14:58:15.756286Z",
     "shell.execute_reply": "2022-05-24T14:58:15.755363Z"
    },
    "papermill": {
     "duration": 0.076813,
     "end_time": "2022-05-24T14:58:15.758332",
     "exception": false,
     "start_time": "2022-05-24T14:58:15.681519",
     "status": "completed"
    },
    "tags": []
   },
   "outputs": [
    {
     "data": {
      "text/plain": [
       "1"
      ]
     },
     "execution_count": 18,
     "metadata": {},
     "output_type": "execute_result"
    }
   ],
   "source": [
    "dataset[\"Fare\"].isnull().sum()"
   ]
  },
  {
   "cell_type": "code",
   "execution_count": 19,
   "id": "af8c96e1",
   "metadata": {
    "execution": {
     "iopub.execute_input": "2022-05-24T14:58:15.896168Z",
     "iopub.status.busy": "2022-05-24T14:58:15.895876Z",
     "iopub.status.idle": "2022-05-24T14:58:15.902042Z",
     "shell.execute_reply": "2022-05-24T14:58:15.901119Z"
    },
    "papermill": {
     "duration": 0.078911,
     "end_time": "2022-05-24T14:58:15.904327",
     "exception": false,
     "start_time": "2022-05-24T14:58:15.825416",
     "status": "completed"
    },
    "tags": []
   },
   "outputs": [],
   "source": [
    "# Fill Fare missing values with the median value\n",
    "dataset[\"Fare\"] = dataset[\"Fare\"].fillna(dataset[\"Fare\"].median())"
   ]
  },
  {
   "cell_type": "code",
   "execution_count": 20,
   "id": "168712c1",
   "metadata": {
    "execution": {
     "iopub.execute_input": "2022-05-24T14:58:16.065490Z",
     "iopub.status.busy": "2022-05-24T14:58:16.064733Z",
     "iopub.status.idle": "2022-05-24T14:58:16.433572Z",
     "shell.execute_reply": "2022-05-24T14:58:16.432799Z"
    },
    "papermill": {
     "duration": 0.460227,
     "end_time": "2022-05-24T14:58:16.435741",
     "exception": false,
     "start_time": "2022-05-24T14:58:15.975514",
     "status": "completed"
    },
    "tags": []
   },
   "outputs": [
    {
     "data": {
      "image/png": "[encoded data removed]",
      "text/plain": [
       "<Figure size 432x288 with 1 Axes>"
      ]
     },
     "metadata": {},
     "output_type": "display_data"
    }
   ],
   "source": [
    "# Explore Fare distribution\n",
    "g = sns.distplot(dataset[\"Fare\"], color=\"m\", label=\"Skewness : %.2f\"%(dataset[\"Fare\"].skew()))\n",
    "g = g.legend(loc=\"best\")"
   ]
  },
  {
   "cell_type": "markdown",
   "id": "61931092",
   "metadata": {
    "papermill": {
     "duration": 0.068193,
     "end_time": "2022-05-24T14:58:16.574319",
     "exception": false,
     "start_time": "2022-05-24T14:58:16.506126",
     "status": "completed"
    },
    "tags": []
   },
   "source": [
    "분포가 비대칭적임. This can lead to overweigth very high values in the model, even if it is scaled.\n",
    "\n",
    "better to transform it with the log function to reduce tis skew."
   ]
  },
  {
   "cell_type": "code",
   "execution_count": 21,
   "id": "9aade88a",
   "metadata": {
    "execution": {
     "iopub.execute_input": "2022-05-24T14:58:16.714124Z",
     "iopub.status.busy": "2022-05-24T14:58:16.712906Z",
     "iopub.status.idle": "2022-05-24T14:58:16.721451Z",
     "shell.execute_reply": "2022-05-24T14:58:16.720275Z"
    },
    "papermill": {
     "duration": 0.080584,
     "end_time": "2022-05-24T14:58:16.723675",
     "exception": false,
     "start_time": "2022-05-24T14:58:16.643091",
     "status": "completed"
    },
    "tags": []
   },
   "outputs": [],
   "source": [
    "# Apply log to Fare to reduce skewness distribution\n",
    "dataset[\"Fare\"] = dataset[\"Fare\"].map(lambda i: np.log(i) if i > 0 else 0)"
   ]
  },
  {
   "cell_type": "code",
   "execution_count": 22,
   "id": "e6a4e7a7",
   "metadata": {
    "execution": {
     "iopub.execute_input": "2022-05-24T14:58:16.867100Z",
     "iopub.status.busy": "2022-05-24T14:58:16.866766Z",
     "iopub.status.idle": "2022-05-24T14:58:17.324640Z",
     "shell.execute_reply": "2022-05-24T14:58:17.323941Z"
    },
    "papermill": {
     "duration": 0.530991,
     "end_time": "2022-05-24T14:58:17.326624",
     "exception": false,
     "start_time": "2022-05-24T14:58:16.795633",
     "status": "completed"
    },
    "tags": []
   },
   "outputs": [
    {
     "data": {
      "image/png": "[encoded data removed]",
      "text/plain": [
       "<Figure size 432x288 with 1 Axes>"
      ]
     },
     "metadata": {},
     "output_type": "display_data"
    }
   ],
   "source": [
    "g = sns.distplot(dataset[\"Fare\"], color=\"b\", label=\"Skewness : %.2f\"%(dataset[\"Fare\"].skew()))\n",
    "g = g.legend(loc=\"best\")"
   ]
  },
  {
   "cell_type": "code",
   "execution_count": 23,
   "id": "a4a4f2e4",
   "metadata": {
    "execution": {
     "iopub.execute_input": "2022-05-24T14:58:17.470122Z",
     "iopub.status.busy": "2022-05-24T14:58:17.469792Z",
     "iopub.status.idle": "2022-05-24T14:58:17.483302Z",
     "shell.execute_reply": "2022-05-24T14:58:17.482352Z"
    },
    "papermill": {
     "duration": 0.087993,
     "end_time": "2022-05-24T14:58:17.485374",
     "exception": false,
     "start_time": "2022-05-24T14:58:17.397381",
     "status": "completed"
    },
    "tags": []
   },
   "outputs": [
    {
     "data": {
      "text/html": [
       "<div>\n",
       "<style scoped>\n",
       "    .dataframe tbody tr th:only-of-type {\n",
       "        vertical-align: middle;\n",
       "    }\n",
       "\n",
       "    .dataframe tbody tr th {\n",
       "        vertical-align: top;\n",
       "    }\n",
       "\n",
       "    .dataframe thead th {\n",
       "        text-align: right;\n",
       "    }\n",
       "</style>\n",
       "<table border=\"1\" class=\"dataframe\">\n",
       "  <thead>\n",
       "    <tr style=\"text-align: right;\">\n",
       "      <th></th>\n",
       "      <th>Survived</th>\n",
       "    </tr>\n",
       "    <tr>\n",
       "      <th>Sex</th>\n",
       "      <th></th>\n",
       "    </tr>\n",
       "  </thead>\n",
       "  <tbody>\n",
       "    <tr>\n",
       "      <th>female</th>\n",
       "      <td>0.747573</td>\n",
       "    </tr>\n",
       "    <tr>\n",
       "      <th>male</th>\n",
       "      <td>0.190559</td>\n",
       "    </tr>\n",
       "  </tbody>\n",
       "</table>\n",
       "</div>"
      ],
      "text/plain": [
       "        Survived\n",
       "Sex             \n",
       "female  0.747573\n",
       "male    0.190559"
      ]
     },
     "execution_count": 23,
     "metadata": {},
     "output_type": "execute_result"
    }
   ],
   "source": [
    "train[[\"Sex\", \"Survived\"]].groupby('Sex').mean()"
   ]
  },
  {
   "cell_type": "markdown",
   "id": "50e607a9",
   "metadata": {
    "papermill": {
     "duration": 0.069813,
     "end_time": "2022-05-24T14:58:17.625706",
     "exception": false,
     "start_time": "2022-05-24T14:58:17.555893",
     "status": "completed"
    },
    "tags": []
   },
   "source": [
    "**Pclass**"
   ]
  },
  {
   "cell_type": "code",
   "execution_count": 24,
   "id": "2613c533",
   "metadata": {
    "execution": {
     "iopub.execute_input": "2022-05-24T14:58:17.772079Z",
     "iopub.status.busy": "2022-05-24T14:58:17.771659Z",
     "iopub.status.idle": "2022-05-24T14:58:18.159211Z",
     "shell.execute_reply": "2022-05-24T14:58:18.157926Z"
    },
    "papermill": {
     "duration": 0.464684,
     "end_time": "2022-05-24T14:58:18.163385",
     "exception": false,
     "start_time": "2022-05-24T14:58:17.698701",
     "status": "completed"
    },
    "tags": []
   },
   "outputs": [
    {
     "data": {
      "image/png": "[encoded data removed]",
      "text/plain": [
       "<Figure size 432x432 with 1 Axes>"
      ]
     },
     "metadata": {},
     "output_type": "display_data"
    }
   ],
   "source": [
    "# Pclass vs Survived\n",
    "g = sns.factorplot(x=\"Pclass\", y=\"Survived\", data=train, kind=\"bar\", size = 6, palette = \"muted\")\n",
    "g.despine(left=True)\n",
    "g = g.set_ylabels(\"survival probablity\")"
   ]
  },
  {
   "cell_type": "code",
   "execution_count": 25,
   "id": "ebdd2e00",
   "metadata": {
    "execution": {
     "iopub.execute_input": "2022-05-24T14:58:18.306392Z",
     "iopub.status.busy": "2022-05-24T14:58:18.306097Z",
     "iopub.status.idle": "2022-05-24T14:58:18.797163Z",
     "shell.execute_reply": "2022-05-24T14:58:18.796003Z"
    },
    "papermill": {
     "duration": 0.565459,
     "end_time": "2022-05-24T14:58:18.799398",
     "exception": false,
     "start_time": "2022-05-24T14:58:18.233939",
     "status": "completed"
    },
    "tags": []
   },
   "outputs": [
    {
     "data": {
      "image/png": "[encoded data removed]",
      "text/plain": [
       "<Figure size 509.975x432 with 1 Axes>"
      ]
     },
     "metadata": {},
     "output_type": "display_data"
    }
   ],
   "source": [
    "# Explore Pclass vs Survived by Sex\n",
    "g = sns.factorplot(x=\"Pclass\", y=\"Survived\", hue=\"Sex\", data=train, size=6, kind='bar', palette=\"muted\")\n",
    "g.despine(left=True)\n",
    "g = g.set_ylabels(\"survival probability\")"
   ]
  },
  {
   "cell_type": "markdown",
   "id": "d5c0c79c",
   "metadata": {
    "papermill": {
     "duration": 0.073462,
     "end_time": "2022-05-24T14:58:18.945451",
     "exception": false,
     "start_time": "2022-05-24T14:58:18.871989",
     "status": "completed"
    },
    "tags": []
   },
   "source": [
    "**Embarked**"
   ]
  },
  {
   "cell_type": "code",
   "execution_count": 26,
   "id": "4d223c66",
   "metadata": {
    "execution": {
     "iopub.execute_input": "2022-05-24T14:58:19.098661Z",
     "iopub.status.busy": "2022-05-24T14:58:19.098373Z",
     "iopub.status.idle": "2022-05-24T14:58:19.106542Z",
     "shell.execute_reply": "2022-05-24T14:58:19.105564Z"
    },
    "papermill": {
     "duration": 0.089072,
     "end_time": "2022-05-24T14:58:19.108813",
     "exception": false,
     "start_time": "2022-05-24T14:58:19.019741",
     "status": "completed"
    },
    "tags": []
   },
   "outputs": [
    {
     "data": {
      "text/plain": [
       "2"
      ]
     },
     "execution_count": 26,
     "metadata": {},
     "output_type": "execute_result"
    }
   ],
   "source": [
    "dataset[\"Embarked\"].isnull().sum()"
   ]
  },
  {
   "cell_type": "code",
   "execution_count": 27,
   "id": "fe208346",
   "metadata": {
    "execution": {
     "iopub.execute_input": "2022-05-24T14:58:19.257670Z",
     "iopub.status.busy": "2022-05-24T14:58:19.257399Z",
     "iopub.status.idle": "2022-05-24T14:58:19.262333Z",
     "shell.execute_reply": "2022-05-24T14:58:19.261219Z"
    },
    "papermill": {
     "duration": 0.08001,
     "end_time": "2022-05-24T14:58:19.264229",
     "exception": false,
     "start_time": "2022-05-24T14:58:19.184219",
     "status": "completed"
    },
    "tags": []
   },
   "outputs": [],
   "source": [
    "# Fill nan values of dataset set with 'S' most frequent value\n",
    "dataset[\"Embarked\"] = dataset[\"Embarked\"].fillna(\"S\")"
   ]
  },
  {
   "cell_type": "code",
   "execution_count": 28,
   "id": "bfa38082",
   "metadata": {
    "execution": {
     "iopub.execute_input": "2022-05-24T14:58:19.413141Z",
     "iopub.status.busy": "2022-05-24T14:58:19.412859Z",
     "iopub.status.idle": "2022-05-24T14:58:19.785769Z",
     "shell.execute_reply": "2022-05-24T14:58:19.784776Z"
    },
    "papermill": {
     "duration": 0.450701,
     "end_time": "2022-05-24T14:58:19.787788",
     "exception": false,
     "start_time": "2022-05-24T14:58:19.337087",
     "status": "completed"
    },
    "tags": []
   },
   "outputs": [
    {
     "data": {
      "image/png": "[encoded data removed]",
      "text/plain": [
       "<Figure size 432x432 with 1 Axes>"
      ]
     },
     "metadata": {},
     "output_type": "display_data"
    }
   ],
   "source": [
    "# Explore Embarked vs Survived\n",
    "g = sns.factorplot(x=\"Embarked\", y=\"Survived\", data=train, size=6, kind=\"bar\", palette=\"muted\")\n",
    "g.despine(left=True)\n",
    "g = g.set_ylabels(\"survival probability\")"
   ]
  },
  {
   "cell_type": "markdown",
   "id": "ae836509",
   "metadata": {
    "papermill": {
     "duration": 0.076752,
     "end_time": "2022-05-24T14:58:19.939058",
     "exception": false,
     "start_time": "2022-05-24T14:58:19.862306",
     "status": "completed"
    },
    "tags": []
   },
   "source": [
    "passenger coming form Cherbourg(C) have more chance to survie than Queenstown(Q) and Southampton(S).\n",
    "\n",
    "hypothesis: proportion of first class passengers is higher for those who came from C > Q > S"
   ]
  },
  {
   "cell_type": "code",
   "execution_count": 29,
   "id": "c7dd3dfa",
   "metadata": {
    "execution": {
     "iopub.execute_input": "2022-05-24T14:58:20.087207Z",
     "iopub.status.busy": "2022-05-24T14:58:20.086757Z",
     "iopub.status.idle": "2022-05-24T14:58:20.663242Z",
     "shell.execute_reply": "2022-05-24T14:58:20.662417Z"
    },
    "papermill": {
     "duration": 0.653086,
     "end_time": "2022-05-24T14:58:20.665246",
     "exception": false,
     "start_time": "2022-05-24T14:58:20.012160",
     "status": "completed"
    },
    "tags": []
   },
   "outputs": [
    {
     "data": {
      "image/png": "[encoded data removed]",
      "text/plain": [
       "<Figure size 1296x432 with 3 Axes>"
      ]
     },
     "metadata": {},
     "output_type": "display_data"
    }
   ],
   "source": [
    "# Explore Pclass vs Embarked\n",
    "g = sns.factorplot(\"Pclass\", col=\"Embarked\", data=train, size=6, kind=\"count\", palette=\"muted\")\n",
    "g.despine(left=True)\n",
    "g = g.set_ylabels(\"Count\")"
   ]
  },
  {
   "cell_type": "markdown",
   "id": "2590872b",
   "metadata": {
    "papermill": {
     "duration": 0.075674,
     "end_time": "2022-05-24T14:58:20.814388",
     "exception": false,
     "start_time": "2022-05-24T14:58:20.738714",
     "status": "completed"
    },
    "tags": []
   },
   "source": [
    "third class is the most frequent for passenger coming from Southhampton(S) and Q. C passengers are mostly in first class which have the highest survival rate."
   ]
  },
  {
   "cell_type": "markdown",
   "id": "1b67db3d",
   "metadata": {
    "papermill": {
     "duration": 0.073607,
     "end_time": "2022-05-24T14:58:20.964026",
     "exception": false,
     "start_time": "2022-05-24T14:58:20.890419",
     "status": "completed"
    },
    "tags": []
   },
   "source": [
    "## 4. Filling missing Values\n",
    "\n",
    "### 4.1 Age\n",
    "\n",
    "* Age column contains 256 missing values\n",
    "* 생존 가능성 더 높은 집단(어린이)이 있으니 age feature에 결측값 넣어서 사용하는 것이 바람직\n",
    "* 문제 해결을 위해 age와 상관관계가 있는 다른 feature들 확인\n",
    "\n",
    "\n"
   ]
  },
  {
   "cell_type": "code",
   "execution_count": 30,
   "id": "328ec63f",
   "metadata": {
    "execution": {
     "iopub.execute_input": "2022-05-24T14:58:21.115100Z",
     "iopub.status.busy": "2022-05-24T14:58:21.114802Z",
     "iopub.status.idle": "2022-05-24T14:58:22.664029Z",
     "shell.execute_reply": "2022-05-24T14:58:22.662997Z"
    },
    "papermill": {
     "duration": 1.628529,
     "end_time": "2022-05-24T14:58:22.666308",
     "exception": false,
     "start_time": "2022-05-24T14:58:21.037779",
     "status": "completed"
    },
    "tags": []
   },
   "outputs": [
    {
     "data": {
      "image/png": "[encoded data removed]",
      "text/plain": [
       "<Figure size 360x360 with 1 Axes>"
      ]
     },
     "metadata": {},
     "output_type": "display_data"
    },
    {
     "data": {
      "image/png": "[encoded data removed]",
      "text/plain": [
       "<Figure size 406.6x360 with 1 Axes>"
      ]
     },
     "metadata": {},
     "output_type": "display_data"
    },
    {
     "data": {
      "image/png": "[encoded data removed]",
      "text/plain": [
       "<Figure size 360x360 with 1 Axes>"
      ]
     },
     "metadata": {},
     "output_type": "display_data"
    },
    {
     "data": {
      "image/png": "[encoded data removed]",
      "text/plain": [
       "<Figure size 360x360 with 1 Axes>"
      ]
     },
     "metadata": {},
     "output_type": "display_data"
    }
   ],
   "source": [
    "# Explore Age vs Sex, Parch, Pclass and SibSP\n",
    "g = sns.factorplot(y=\"Age\", x=\"Sex\", data=dataset, kind=\"box\")\n",
    "g = sns.factorplot(y=\"Age\", x=\"Sex\", hue=\"Pclass\", data=dataset, kind=\"box\")\n",
    "g = sns.factorplot(y=\"Age\", x=\"Parch\", data=dataset, kind=\"box\")\n",
    "g = sns.factorplot(y=\"Age\", x=\"SibSp\", data=dataset, kind=\"box\")"
   ]
  },
  {
   "cell_type": "markdown",
   "id": "93f30894",
   "metadata": {
    "papermill": {
     "duration": 0.080293,
     "end_time": "2022-05-24T14:58:22.827999",
     "exception": false,
     "start_time": "2022-05-24T14:58:22.747706",
     "status": "completed"
    },
    "tags": []
   },
   "source": [
    "age는 남성 여성 비슷\n",
    "\n",
    "But 일등석 > 이등석 > 삼등석\n",
    "\n",
    "승객이 부모, 자녀를 더 많이 가질수록 나이가 더 많고 형제/배우자를 더 많이 가질수록 나이가 더 젊음.."
   ]
  },
  {
   "cell_type": "code",
   "execution_count": 31,
   "id": "c350a669",
   "metadata": {
    "execution": {
     "iopub.execute_input": "2022-05-24T14:58:22.988935Z",
     "iopub.status.busy": "2022-05-24T14:58:22.988598Z",
     "iopub.status.idle": "2022-05-24T14:58:22.994660Z",
     "shell.execute_reply": "2022-05-24T14:58:22.993935Z"
    },
    "papermill": {
     "duration": 0.092241,
     "end_time": "2022-05-24T14:58:22.996895",
     "exception": false,
     "start_time": "2022-05-24T14:58:22.904654",
     "status": "completed"
    },
    "tags": []
   },
   "outputs": [],
   "source": [
    "# convert sex into categorical value 0 for male and 1 for female\n",
    "dataset[\"Sex\"] = dataset[\"Sex\"].map({\"male\":0, \"female\":1})"
   ]
  },
  {
   "cell_type": "code",
   "execution_count": 32,
   "id": "bbf28795",
   "metadata": {
    "execution": {
     "iopub.execute_input": "2022-05-24T14:58:23.159902Z",
     "iopub.status.busy": "2022-05-24T14:58:23.159154Z",
     "iopub.status.idle": "2022-05-24T14:58:23.468672Z",
     "shell.execute_reply": "2022-05-24T14:58:23.467671Z"
    },
    "papermill": {
     "duration": 0.39594,
     "end_time": "2022-05-24T14:58:23.471153",
     "exception": false,
     "start_time": "2022-05-24T14:58:23.075213",
     "status": "completed"
    },
    "tags": []
   },
   "outputs": [
    {
     "data": {
      "image/png": "[encoded data removed]",
      "text/plain": [
       "<Figure size 432x288 with 2 Axes>"
      ]
     },
     "metadata": {},
     "output_type": "display_data"
    }
   ],
   "source": [
    "g = sns.heatmap(dataset[[\"Age\", \"Sex\", \"SibSp\",\"Parch\",\"Pclass\"]].corr(),cmap=\"BrBG\", annot=True)"
   ]
  },
  {
   "cell_type": "markdown",
   "id": "aeed9930",
   "metadata": {
    "papermill": {
     "duration": 0.0781,
     "end_time": "2022-05-24T14:58:23.629956",
     "exception": false,
     "start_time": "2022-05-24T14:58:23.551856",
     "status": "completed"
    },
    "tags": []
   },
   "source": [
    "age is negatively correalted with Pclass,Parch and SibSp.\n",
    "\n",
    "now, fill age with the median age of similar rows accroding to Pclass, Parch and SibSp!"
   ]
  },
  {
   "cell_type": "code",
   "execution_count": 33,
   "id": "1376d601",
   "metadata": {
    "execution": {
     "iopub.execute_input": "2022-05-24T14:58:23.793926Z",
     "iopub.status.busy": "2022-05-24T14:58:23.793600Z",
     "iopub.status.idle": "2022-05-24T14:58:24.359607Z",
     "shell.execute_reply": "2022-05-24T14:58:24.358928Z"
    },
    "papermill": {
     "duration": 0.652104,
     "end_time": "2022-05-24T14:58:24.361805",
     "exception": false,
     "start_time": "2022-05-24T14:58:23.709701",
     "status": "completed"
    },
    "tags": []
   },
   "outputs": [],
   "source": [
    "# Filling missing value of Age\n",
    "# Fill age with the median age of similar rows according to Pclass, Parch and SibSp\n",
    "# Index of NaN age rows\n",
    "\n",
    "index_NaN_age = list(dataset[\"Age\"][dataset[\"Age\"].isnull()].index)\n",
    "\n",
    "for i in index_NaN_age :\n",
    "    age_med = dataset[\"Age\"].median()\n",
    "    age_pred = dataset[\"Age\"][((dataset['SibSp'] == dataset.iloc[i][\"SibSp\"]) & (dataset['Parch'] == dataset.iloc[i][\"Parch\"]) & (dataset['Pclass'] == dataset.iloc[i][\"Pclass\"]))].median()\n",
    "    if not np.isnan(age_pred) :\n",
    "        dataset['Age'].iloc[i] = age_pred\n",
    "    else :\n",
    "        dataset['Age'].iloc[i] = age_med"
   ]
  },
  {
   "cell_type": "code",
   "execution_count": 34,
   "id": "0fd4e3ab",
   "metadata": {
    "execution": {
     "iopub.execute_input": "2022-05-24T14:58:24.527152Z",
     "iopub.status.busy": "2022-05-24T14:58:24.526522Z",
     "iopub.status.idle": "2022-05-24T14:58:25.148750Z",
     "shell.execute_reply": "2022-05-24T14:58:25.147879Z"
    },
    "papermill": {
     "duration": 0.705357,
     "end_time": "2022-05-24T14:58:25.150673",
     "exception": false,
     "start_time": "2022-05-24T14:58:24.445316",
     "status": "completed"
    },
    "tags": []
   },
   "outputs": [
    {
     "data": {
      "image/png": "[encoded data removed]",
      "text/plain": [
       "<Figure size 360x360 with 1 Axes>"
      ]
     },
     "metadata": {},
     "output_type": "display_data"
    },
    {
     "data": {
      "image/png": "[encoded data removed]",
      "text/plain": [
       "<Figure size 360x360 with 1 Axes>"
      ]
     },
     "metadata": {},
     "output_type": "display_data"
    }
   ],
   "source": [
    "g = sns.factorplot(x=\"Survived\", y = \"Age\", data = train, kind=\"box\")\n",
    "g = sns.factorplot(x=\"Survived\", y = \"Age\", data = train, kind=\"violin\")"
   ]
  },
  {
   "cell_type": "markdown",
   "id": "a98daa2f",
   "metadata": {
    "papermill": {
     "duration": 0.082438,
     "end_time": "2022-05-24T14:58:25.317147",
     "exception": false,
     "start_time": "2022-05-24T14:58:25.234709",
     "status": "completed"
    },
    "tags": []
   },
   "source": [
    "* no difrrerecne between median value of age in survival and not survived subpopulation.\n",
    "* But in violin plot of survived passengers, young passengers have higher survival rate."
   ]
  },
  {
   "cell_type": "markdown",
   "id": "bd8f474b",
   "metadata": {
    "papermill": {
     "duration": 0.080699,
     "end_time": "2022-05-24T14:58:25.477714",
     "exception": false,
     "start_time": "2022-05-24T14:58:25.397015",
     "status": "completed"
    },
    "tags": []
   },
   "source": [
    "## 5. Feature engineering\n",
    "\n",
    "\n",
    "### 5.1 Name/Title"
   ]
  },
  {
   "cell_type": "code",
   "execution_count": 35,
   "id": "04e2e20e",
   "metadata": {
    "execution": {
     "iopub.execute_input": "2022-05-24T14:58:25.645030Z",
     "iopub.status.busy": "2022-05-24T14:58:25.644366Z",
     "iopub.status.idle": "2022-05-24T14:58:25.651303Z",
     "shell.execute_reply": "2022-05-24T14:58:25.650595Z"
    },
    "papermill": {
     "duration": 0.093576,
     "end_time": "2022-05-24T14:58:25.653129",
     "exception": false,
     "start_time": "2022-05-24T14:58:25.559553",
     "status": "completed"
    },
    "tags": []
   },
   "outputs": [
    {
     "data": {
      "text/plain": [
       "0                              Braund, Mr. Owen Harris\n",
       "1    Cumings, Mrs. John Bradley (Florence Briggs Th...\n",
       "2                               Heikkinen, Miss. Laina\n",
       "3         Futrelle, Mrs. Jacques Heath (Lily May Peel)\n",
       "4                             Allen, Mr. William Henry\n",
       "Name: Name, dtype: object"
      ]
     },
     "execution_count": 35,
     "metadata": {},
     "output_type": "execute_result"
    }
   ],
   "source": [
    "dataset[\"Name\"].head()"
   ]
  },
  {
   "cell_type": "code",
   "execution_count": 36,
   "id": "d8346118",
   "metadata": {
    "execution": {
     "iopub.execute_input": "2022-05-24T14:58:25.814264Z",
     "iopub.status.busy": "2022-05-24T14:58:25.813666Z",
     "iopub.status.idle": "2022-05-24T14:58:25.823132Z",
     "shell.execute_reply": "2022-05-24T14:58:25.822272Z"
    },
    "papermill": {
     "duration": 0.092227,
     "end_time": "2022-05-24T14:58:25.825140",
     "exception": false,
     "start_time": "2022-05-24T14:58:25.732913",
     "status": "completed"
    },
    "tags": []
   },
   "outputs": [
    {
     "data": {
      "text/plain": [
       "0      Mr\n",
       "1     Mrs\n",
       "2    Miss\n",
       "3     Mrs\n",
       "4      Mr\n",
       "Name: Title, dtype: object"
      ]
     },
     "execution_count": 36,
     "metadata": {},
     "output_type": "execute_result"
    }
   ],
   "source": [
    "# Get Title from Name\n",
    "\n",
    "dataset_title = [i.split(\",\")[1].split(\".\")[0].strip() for i in dataset[\"Name\"]]\n",
    "dataset[\"Title\"] = pd.Series(dataset_title)\n",
    "dataset[\"Title\"].head()"
   ]
  },
  {
   "cell_type": "code",
   "execution_count": 37,
   "id": "de972016",
   "metadata": {
    "execution": {
     "iopub.execute_input": "2022-05-24T14:58:25.991064Z",
     "iopub.status.busy": "2022-05-24T14:58:25.990553Z",
     "iopub.status.idle": "2022-05-24T14:58:26.291204Z",
     "shell.execute_reply": "2022-05-24T14:58:26.290097Z"
    },
    "papermill": {
     "duration": 0.385506,
     "end_time": "2022-05-24T14:58:26.293431",
     "exception": false,
     "start_time": "2022-05-24T14:58:25.907925",
     "status": "completed"
    },
    "tags": []
   },
   "outputs": [
    {
     "data": {
      "image/png": "[encoded data removed]",
      "text/plain": [
       "<Figure size 432x288 with 1 Axes>"
      ]
     },
     "metadata": {},
     "output_type": "display_data"
    }
   ],
   "source": [
    "g = sns.countplot(x=\"Title\", data=dataset)\n",
    "g = plt.setp(g.get_xticklabels(), rotation=45)"
   ]
  },
  {
   "cell_type": "code",
   "execution_count": 38,
   "id": "3d27e658",
   "metadata": {
    "execution": {
     "iopub.execute_input": "2022-05-24T14:58:26.462576Z",
     "iopub.status.busy": "2022-05-24T14:58:26.461397Z",
     "iopub.status.idle": "2022-05-24T14:58:26.473061Z",
     "shell.execute_reply": "2022-05-24T14:58:26.472064Z"
    },
    "papermill": {
     "duration": 0.098323,
     "end_time": "2022-05-24T14:58:26.475328",
     "exception": false,
     "start_time": "2022-05-24T14:58:26.377005",
     "status": "completed"
    },
    "tags": []
   },
   "outputs": [],
   "source": [
    "# Convert to categorical values Title\n",
    "# categorical data를 0/1/2 등으로 encoding 해주는 map 함수\n",
    "# very rare한 애들은 Rare로 replace 해주고 3으로 encoding\n",
    "\n",
    "dataset[\"Title\"] = dataset[\"Title\"].replace(['Lady', 'the Countess','Countess','Capt', 'Col','Don', 'Dr', 'Major', 'Rev', 'Sir', 'Jonkheer', 'Dona'], 'Rare')\n",
    "dataset[\"Title\"] = dataset[\"Title\"].map({\"Master\":0, \"Miss\":1, \"Ms\" : 1 , \"Mme\":1, \"Mlle\":1, \"Mrs\":1, \"Mr\":2, \"Rare\":3})"
   ]
  },
  {
   "cell_type": "code",
   "execution_count": 39,
   "id": "eef5b050",
   "metadata": {
    "execution": {
     "iopub.execute_input": "2022-05-24T14:58:26.647718Z",
     "iopub.status.busy": "2022-05-24T14:58:26.647442Z",
     "iopub.status.idle": "2022-05-24T14:58:26.853758Z",
     "shell.execute_reply": "2022-05-24T14:58:26.852637Z"
    },
    "papermill": {
     "duration": 0.290824,
     "end_time": "2022-05-24T14:58:26.856027",
     "exception": false,
     "start_time": "2022-05-24T14:58:26.565203",
     "status": "completed"
    },
    "tags": []
   },
   "outputs": [
    {
     "data": {
      "image/png": "[encoded data removed]",
      "text/plain": [
       "<Figure size 432x288 with 1 Axes>"
      ]
     },
     "metadata": {},
     "output_type": "display_data"
    }
   ],
   "source": [
    "g = sns.countplot(dataset[\"Title\"])\n",
    "g = g.set_xticklabels([\"Master\", \"Miss/Ms/Mme/Mlle/Mrs\", \"Mr\", \"Rare\"])"
   ]
  },
  {
   "cell_type": "code",
   "execution_count": 40,
   "id": "33e349ae",
   "metadata": {
    "execution": {
     "iopub.execute_input": "2022-05-24T14:58:27.028619Z",
     "iopub.status.busy": "2022-05-24T14:58:27.028006Z",
     "iopub.status.idle": "2022-05-24T14:58:27.613963Z",
     "shell.execute_reply": "2022-05-24T14:58:27.613006Z"
    },
    "papermill": {
     "duration": 0.677638,
     "end_time": "2022-05-24T14:58:27.616114",
     "exception": false,
     "start_time": "2022-05-24T14:58:26.938476",
     "status": "completed"
    },
    "tags": []
   },
   "outputs": [
    {
     "data": {
      "image/png": "[encoded data removed]",
      "text/plain": [
       "<Figure size 360x360 with 1 Axes>"
      ]
     },
     "metadata": {},
     "output_type": "display_data"
    }
   ],
   "source": [
    "g = sns.factorplot(x=\"Title\", y=\"Survived\", data=dataset, kind=\"bar\")\n",
    "g = g.set_xticklabels([\"Master\", \"Miss-Mrs\", \"Mr\",\"Rare\"])\n",
    "g = g.set_ylabels(\"survivial probabiliy\")"
   ]
  },
  {
   "cell_type": "code",
   "execution_count": 41,
   "id": "d0333110",
   "metadata": {
    "execution": {
     "iopub.execute_input": "2022-05-24T14:58:27.784687Z",
     "iopub.status.busy": "2022-05-24T14:58:27.783878Z",
     "iopub.status.idle": "2022-05-24T14:58:27.789583Z",
     "shell.execute_reply": "2022-05-24T14:58:27.788920Z"
    },
    "papermill": {
     "duration": 0.093019,
     "end_time": "2022-05-24T14:58:27.791767",
     "exception": false,
     "start_time": "2022-05-24T14:58:27.698748",
     "status": "completed"
    },
    "tags": []
   },
   "outputs": [],
   "source": [
    "# Drop Name variable\n",
    "dataset.drop(labels = [\"Name\"], axis = 1, inplace = True)"
   ]
  },
  {
   "cell_type": "markdown",
   "id": "bcfa9827",
   "metadata": {
    "papermill": {
     "duration": 0.090842,
     "end_time": "2022-05-24T14:58:27.968514",
     "exception": false,
     "start_time": "2022-05-24T14:58:27.877672",
     "status": "completed"
    },
    "tags": []
   },
   "source": [
    "### 5.2 Family size"
   ]
  },
  {
   "cell_type": "code",
   "execution_count": 42,
   "id": "28265807",
   "metadata": {
    "execution": {
     "iopub.execute_input": "2022-05-24T14:58:28.149235Z",
     "iopub.status.busy": "2022-05-24T14:58:28.148584Z",
     "iopub.status.idle": "2022-05-24T14:58:28.154618Z",
     "shell.execute_reply": "2022-05-24T14:58:28.153877Z"
    },
    "papermill": {
     "duration": 0.096434,
     "end_time": "2022-05-24T14:58:28.156804",
     "exception": false,
     "start_time": "2022-05-24T14:58:28.060370",
     "status": "completed"
    },
    "tags": []
   },
   "outputs": [],
   "source": [
    "# create a family size descriptor form sibsp and parch\n",
    "# 패밀리사이즈 피처 만들기! 형제자매 + 부모님\n",
    "\n",
    "dataset[\"Fsize\"] = dataset[\"SibSp\"] + dataset[\"Parch\"] + 1"
   ]
  },
  {
   "cell_type": "code",
   "execution_count": 43,
   "id": "b1ea83ea",
   "metadata": {
    "execution": {
     "iopub.execute_input": "2022-05-24T14:58:28.332035Z",
     "iopub.status.busy": "2022-05-24T14:58:28.331434Z",
     "iopub.status.idle": "2022-05-24T14:58:28.833699Z",
     "shell.execute_reply": "2022-05-24T14:58:28.832710Z"
    },
    "papermill": {
     "duration": 0.593021,
     "end_time": "2022-05-24T14:58:28.835923",
     "exception": false,
     "start_time": "2022-05-24T14:58:28.242902",
     "status": "completed"
    },
    "tags": []
   },
   "outputs": [
    {
     "data": {
      "image/png": "[encoded data removed]",
      "text/plain": [
       "<Figure size 360x360 with 1 Axes>"
      ]
     },
     "metadata": {},
     "output_type": "display_data"
    }
   ],
   "source": [
    "g = sns.factorplot(x=\"Fsize\", y=\"Survived\", data = dataset)\n",
    "g = g.set_ylabels(\"Survival Probablity\")"
   ]
  },
  {
   "cell_type": "code",
   "execution_count": 44,
   "id": "6ffc6dda",
   "metadata": {
    "execution": {
     "iopub.execute_input": "2022-05-24T14:58:29.018526Z",
     "iopub.status.busy": "2022-05-24T14:58:29.017216Z",
     "iopub.status.idle": "2022-05-24T14:58:29.028947Z",
     "shell.execute_reply": "2022-05-24T14:58:29.027724Z"
    },
    "papermill": {
     "duration": 0.107354,
     "end_time": "2022-05-24T14:58:29.031444",
     "exception": false,
     "start_time": "2022-05-24T14:58:28.924090",
     "status": "completed"
    },
    "tags": []
   },
   "outputs": [],
   "source": [
    "# create new feature of family size\n",
    "# 1,2, 3/4, 5이상으로 4가지로 나눔\n",
    "\n",
    "dataset['Single'] = dataset['Fsize'].map(lambda s: 1 if s == 1 else 0)\n",
    "dataset['SmallF'] = dataset['Fsize'].map(lambda s: 1 if s == 2 else 0)\n",
    "dataset['MedF'] = dataset['Fsize'].map(lambda s: 1 if 3 <= s <=4  else 0)\n",
    "dataset['LargeF'] = dataset['Fsize'].map(lambda s: 1 if s >= 5 else 0)"
   ]
  },
  {
   "cell_type": "code",
   "execution_count": 45,
   "id": "7d88c8de",
   "metadata": {
    "execution": {
     "iopub.execute_input": "2022-05-24T14:58:29.254024Z",
     "iopub.status.busy": "2022-05-24T14:58:29.253456Z",
     "iopub.status.idle": "2022-05-24T14:58:30.553583Z",
     "shell.execute_reply": "2022-05-24T14:58:30.552600Z"
    },
    "papermill": {
     "duration": 1.401397,
     "end_time": "2022-05-24T14:58:30.555754",
     "exception": false,
     "start_time": "2022-05-24T14:58:29.154357",
     "status": "completed"
    },
    "tags": []
   },
   "outputs": [
    {
     "data": {
      "image/png": "[encoded data removed]",
      "text/plain": [
       "<Figure size 360x360 with 1 Axes>"
      ]
     },
     "metadata": {},
     "output_type": "display_data"
    },
    {
     "data": {
      "image/png": "[encoded data removed]",
      "text/plain": [
       "<Figure size 360x360 with 1 Axes>"
      ]
     },
     "metadata": {},
     "output_type": "display_data"
    },
    {
     "data": {
      "image/png": "[encoded data removed]",
      "text/plain": [
       "<Figure size 360x360 with 1 Axes>"
      ]
     },
     "metadata": {},
     "output_type": "display_data"
    },
    {
     "data": {
      "image/png": "[encoded data removed]",
      "text/plain": [
       "<Figure size 360x360 with 1 Axes>"
      ]
     },
     "metadata": {},
     "output_type": "display_data"
    }
   ],
   "source": [
    "g = sns.factorplot(x=\"Single\",y=\"Survived\",data=dataset,kind=\"bar\")\n",
    "g = g.set_ylabels(\"Survival Probability\")\n",
    "g = sns.factorplot(x=\"SmallF\",y=\"Survived\",data=dataset,kind=\"bar\")\n",
    "g = g.set_ylabels(\"Survival Probability\")\n",
    "g = sns.factorplot(x=\"MedF\",y=\"Survived\",data=dataset,kind=\"bar\")\n",
    "g = g.set_ylabels(\"Survival Probability\")\n",
    "g = sns.factorplot(x=\"LargeF\",y=\"Survived\",data=dataset,kind=\"bar\")\n",
    "g = g.set_ylabels(\"Survival Probability\")"
   ]
  },
  {
   "cell_type": "markdown",
   "id": "97ffcc64",
   "metadata": {
    "papermill": {
     "duration": 0.087017,
     "end_time": "2022-05-24T14:58:30.735341",
     "exception": false,
     "start_time": "2022-05-24T14:58:30.648324",
     "status": "completed"
    },
    "tags": []
   },
   "source": [
    "Factorplots of family size categories show that Small and Medium families have more chance to survive than single passenger and large families."
   ]
  },
  {
   "cell_type": "code",
   "execution_count": 46,
   "id": "7ab76483",
   "metadata": {
    "execution": {
     "iopub.execute_input": "2022-05-24T14:58:30.912148Z",
     "iopub.status.busy": "2022-05-24T14:58:30.911827Z",
     "iopub.status.idle": "2022-05-24T14:58:30.925761Z",
     "shell.execute_reply": "2022-05-24T14:58:30.924667Z"
    },
    "papermill": {
     "duration": 0.105055,
     "end_time": "2022-05-24T14:58:30.928094",
     "exception": false,
     "start_time": "2022-05-24T14:58:30.823039",
     "status": "completed"
    },
    "tags": []
   },
   "outputs": [],
   "source": [
    "# Convert to indicator values Title and Embarked\n",
    "dataset = pd.get_dummies(dataset, columns = [\"Title\"])\n",
    "dataset = pd.get_dummies(dataset, columns = [\"Embarked\"], prefix=\"Em\")"
   ]
  },
  {
   "cell_type": "code",
   "execution_count": 47,
   "id": "aa0898a7",
   "metadata": {
    "execution": {
     "iopub.execute_input": "2022-05-24T14:58:31.117186Z",
     "iopub.status.busy": "2022-05-24T14:58:31.116884Z",
     "iopub.status.idle": "2022-05-24T14:58:31.141424Z",
     "shell.execute_reply": "2022-05-24T14:58:31.140164Z"
    },
    "papermill": {
     "duration": 0.122009,
     "end_time": "2022-05-24T14:58:31.143960",
     "exception": false,
     "start_time": "2022-05-24T14:58:31.021951",
     "status": "completed"
    },
    "tags": []
   },
   "outputs": [
    {
     "data": {
      "text/html": [
       "<div>\n",
       "<style scoped>\n",
       "    .dataframe tbody tr th:only-of-type {\n",
       "        vertical-align: middle;\n",
       "    }\n",
       "\n",
       "    .dataframe tbody tr th {\n",
       "        vertical-align: top;\n",
       "    }\n",
       "\n",
       "    .dataframe thead th {\n",
       "        text-align: right;\n",
       "    }\n",
       "</style>\n",
       "<table border=\"1\" class=\"dataframe\">\n",
       "  <thead>\n",
       "    <tr style=\"text-align: right;\">\n",
       "      <th></th>\n",
       "      <th>PassengerId</th>\n",
       "      <th>Survived</th>\n",
       "      <th>Pclass</th>\n",
       "      <th>Sex</th>\n",
       "      <th>Age</th>\n",
       "      <th>SibSp</th>\n",
       "      <th>Parch</th>\n",
       "      <th>Ticket</th>\n",
       "      <th>Fare</th>\n",
       "      <th>Cabin</th>\n",
       "      <th>...</th>\n",
       "      <th>SmallF</th>\n",
       "      <th>MedF</th>\n",
       "      <th>LargeF</th>\n",
       "      <th>Title_0</th>\n",
       "      <th>Title_1</th>\n",
       "      <th>Title_2</th>\n",
       "      <th>Title_3</th>\n",
       "      <th>Em_C</th>\n",
       "      <th>Em_Q</th>\n",
       "      <th>Em_S</th>\n",
       "    </tr>\n",
       "  </thead>\n",
       "  <tbody>\n",
       "    <tr>\n",
       "      <th>0</th>\n",
       "      <td>1</td>\n",
       "      <td>0.0</td>\n",
       "      <td>3</td>\n",
       "      <td>0</td>\n",
       "      <td>22.0</td>\n",
       "      <td>1</td>\n",
       "      <td>0</td>\n",
       "      <td>A/5 21171</td>\n",
       "      <td>1.981001</td>\n",
       "      <td>NaN</td>\n",
       "      <td>...</td>\n",
       "      <td>1</td>\n",
       "      <td>0</td>\n",
       "      <td>0</td>\n",
       "      <td>0</td>\n",
       "      <td>0</td>\n",
       "      <td>1</td>\n",
       "      <td>0</td>\n",
       "      <td>0</td>\n",
       "      <td>0</td>\n",
       "      <td>1</td>\n",
       "    </tr>\n",
       "    <tr>\n",
       "      <th>1</th>\n",
       "      <td>2</td>\n",
       "      <td>1.0</td>\n",
       "      <td>1</td>\n",
       "      <td>1</td>\n",
       "      <td>38.0</td>\n",
       "      <td>1</td>\n",
       "      <td>0</td>\n",
       "      <td>PC 17599</td>\n",
       "      <td>4.266662</td>\n",
       "      <td>C85</td>\n",
       "      <td>...</td>\n",
       "      <td>1</td>\n",
       "      <td>0</td>\n",
       "      <td>0</td>\n",
       "      <td>0</td>\n",
       "      <td>1</td>\n",
       "      <td>0</td>\n",
       "      <td>0</td>\n",
       "      <td>1</td>\n",
       "      <td>0</td>\n",
       "      <td>0</td>\n",
       "    </tr>\n",
       "    <tr>\n",
       "      <th>2</th>\n",
       "      <td>3</td>\n",
       "      <td>1.0</td>\n",
       "      <td>3</td>\n",
       "      <td>1</td>\n",
       "      <td>26.0</td>\n",
       "      <td>0</td>\n",
       "      <td>0</td>\n",
       "      <td>STON/O2. 3101282</td>\n",
       "      <td>2.070022</td>\n",
       "      <td>NaN</td>\n",
       "      <td>...</td>\n",
       "      <td>0</td>\n",
       "      <td>0</td>\n",
       "      <td>0</td>\n",
       "      <td>0</td>\n",
       "      <td>1</td>\n",
       "      <td>0</td>\n",
       "      <td>0</td>\n",
       "      <td>0</td>\n",
       "      <td>0</td>\n",
       "      <td>1</td>\n",
       "    </tr>\n",
       "    <tr>\n",
       "      <th>3</th>\n",
       "      <td>4</td>\n",
       "      <td>1.0</td>\n",
       "      <td>1</td>\n",
       "      <td>1</td>\n",
       "      <td>35.0</td>\n",
       "      <td>1</td>\n",
       "      <td>0</td>\n",
       "      <td>113803</td>\n",
       "      <td>3.972177</td>\n",
       "      <td>C123</td>\n",
       "      <td>...</td>\n",
       "      <td>1</td>\n",
       "      <td>0</td>\n",
       "      <td>0</td>\n",
       "      <td>0</td>\n",
       "      <td>1</td>\n",
       "      <td>0</td>\n",
       "      <td>0</td>\n",
       "      <td>0</td>\n",
       "      <td>0</td>\n",
       "      <td>1</td>\n",
       "    </tr>\n",
       "    <tr>\n",
       "      <th>4</th>\n",
       "      <td>5</td>\n",
       "      <td>0.0</td>\n",
       "      <td>3</td>\n",
       "      <td>0</td>\n",
       "      <td>35.0</td>\n",
       "      <td>0</td>\n",
       "      <td>0</td>\n",
       "      <td>373450</td>\n",
       "      <td>2.085672</td>\n",
       "      <td>NaN</td>\n",
       "      <td>...</td>\n",
       "      <td>0</td>\n",
       "      <td>0</td>\n",
       "      <td>0</td>\n",
       "      <td>0</td>\n",
       "      <td>0</td>\n",
       "      <td>1</td>\n",
       "      <td>0</td>\n",
       "      <td>0</td>\n",
       "      <td>0</td>\n",
       "      <td>1</td>\n",
       "    </tr>\n",
       "  </tbody>\n",
       "</table>\n",
       "<p>5 rows × 22 columns</p>\n",
       "</div>"
      ],
      "text/plain": [
       "   PassengerId  Survived  Pclass  Sex   Age  SibSp  Parch            Ticket  \\\n",
       "0            1       0.0       3    0  22.0      1      0         A/5 21171   \n",
       "1            2       1.0       1    1  38.0      1      0          PC 17599   \n",
       "2            3       1.0       3    1  26.0      0      0  STON/O2. 3101282   \n",
       "3            4       1.0       1    1  35.0      1      0            113803   \n",
       "4            5       0.0       3    0  35.0      0      0            373450   \n",
       "\n",
       "       Fare Cabin  ...  SmallF  MedF  LargeF  Title_0  Title_1  Title_2  \\\n",
       "0  1.981001   NaN  ...       1     0       0        0        0        1   \n",
       "1  4.266662   C85  ...       1     0       0        0        1        0   \n",
       "2  2.070022   NaN  ...       0     0       0        0        1        0   \n",
       "3  3.972177  C123  ...       1     0       0        0        1        0   \n",
       "4  2.085672   NaN  ...       0     0       0        0        0        1   \n",
       "\n",
       "   Title_3  Em_C  Em_Q  Em_S  \n",
       "0        0     0     0     1  \n",
       "1        0     1     0     0  \n",
       "2        0     0     0     1  \n",
       "3        0     0     0     1  \n",
       "4        0     0     0     1  \n",
       "\n",
       "[5 rows x 22 columns]"
      ]
     },
     "execution_count": 47,
     "metadata": {},
     "output_type": "execute_result"
    }
   ],
   "source": [
    "dataset.head()"
   ]
  },
  {
   "cell_type": "markdown",
   "id": "331b194d",
   "metadata": {
    "papermill": {
     "duration": 0.088046,
     "end_time": "2022-05-24T14:58:31.323704",
     "exception": false,
     "start_time": "2022-05-24T14:58:31.235658",
     "status": "completed"
    },
    "tags": []
   },
   "source": [
    "22 features!"
   ]
  },
  {
   "cell_type": "markdown",
   "id": "660be9ee",
   "metadata": {
    "papermill": {
     "duration": 0.087636,
     "end_time": "2022-05-24T14:58:31.498563",
     "exception": false,
     "start_time": "2022-05-24T14:58:31.410927",
     "status": "completed"
    },
    "tags": []
   },
   "source": [
    "### 5.3 Cabin"
   ]
  },
  {
   "cell_type": "code",
   "execution_count": 48,
   "id": "6be0ae05",
   "metadata": {
    "execution": {
     "iopub.execute_input": "2022-05-24T14:58:31.677160Z",
     "iopub.status.busy": "2022-05-24T14:58:31.676857Z",
     "iopub.status.idle": "2022-05-24T14:58:31.685203Z",
     "shell.execute_reply": "2022-05-24T14:58:31.684196Z"
    },
    "papermill": {
     "duration": 0.099171,
     "end_time": "2022-05-24T14:58:31.687179",
     "exception": false,
     "start_time": "2022-05-24T14:58:31.588008",
     "status": "completed"
    },
    "tags": []
   },
   "outputs": [
    {
     "data": {
      "text/plain": [
       "0     NaN\n",
       "1     C85\n",
       "2     NaN\n",
       "3    C123\n",
       "4     NaN\n",
       "Name: Cabin, dtype: object"
      ]
     },
     "execution_count": 48,
     "metadata": {},
     "output_type": "execute_result"
    }
   ],
   "source": [
    "dataset[\"Cabin\"].head()"
   ]
  },
  {
   "cell_type": "code",
   "execution_count": 49,
   "id": "a2c2ffe8",
   "metadata": {
    "execution": {
     "iopub.execute_input": "2022-05-24T14:58:31.866508Z",
     "iopub.status.busy": "2022-05-24T14:58:31.866217Z",
     "iopub.status.idle": "2022-05-24T14:58:31.874298Z",
     "shell.execute_reply": "2022-05-24T14:58:31.873666Z"
    },
    "papermill": {
     "duration": 0.099927,
     "end_time": "2022-05-24T14:58:31.876109",
     "exception": false,
     "start_time": "2022-05-24T14:58:31.776182",
     "status": "completed"
    },
    "tags": []
   },
   "outputs": [
    {
     "data": {
      "text/plain": [
       "count     292\n",
       "unique    186\n",
       "top        G6\n",
       "freq        5\n",
       "Name: Cabin, dtype: object"
      ]
     },
     "execution_count": 49,
     "metadata": {},
     "output_type": "execute_result"
    }
   ],
   "source": [
    "dataset[\"Cabin\"].describe()"
   ]
  },
  {
   "cell_type": "code",
   "execution_count": 50,
   "id": "a96f18f5",
   "metadata": {
    "execution": {
     "iopub.execute_input": "2022-05-24T14:58:32.061276Z",
     "iopub.status.busy": "2022-05-24T14:58:32.060699Z",
     "iopub.status.idle": "2022-05-24T14:58:32.067055Z",
     "shell.execute_reply": "2022-05-24T14:58:32.066262Z"
    },
    "papermill": {
     "duration": 0.104893,
     "end_time": "2022-05-24T14:58:32.068943",
     "exception": false,
     "start_time": "2022-05-24T14:58:31.964050",
     "status": "completed"
    },
    "tags": []
   },
   "outputs": [
    {
     "data": {
      "text/plain": [
       "1007"
      ]
     },
     "execution_count": 50,
     "metadata": {},
     "output_type": "execute_result"
    }
   ],
   "source": [
    "dataset[\"Cabin\"].isnull().sum()"
   ]
  },
  {
   "cell_type": "markdown",
   "id": "194f9be3",
   "metadata": {
    "papermill": {
     "duration": 0.090369,
     "end_time": "2022-05-24T14:58:32.251753",
     "exception": false,
     "start_time": "2022-05-24T14:58:32.161384",
     "status": "completed"
    },
    "tags": []
   },
   "source": [
    "The Cabin feature column contains 292 values and 1007 missing values.\n",
    "\n",
    "cabin이 없는 승객은 missing value로 뜨는 것 같음. 결측치를 x로 넣어주기"
   ]
  },
  {
   "cell_type": "code",
   "execution_count": 51,
   "id": "8e033209",
   "metadata": {
    "execution": {
     "iopub.execute_input": "2022-05-24T14:58:32.435436Z",
     "iopub.status.busy": "2022-05-24T14:58:32.434543Z",
     "iopub.status.idle": "2022-05-24T14:58:32.442465Z",
     "shell.execute_reply": "2022-05-24T14:58:32.441799Z"
    },
    "papermill": {
     "duration": 0.100778,
     "end_time": "2022-05-24T14:58:32.444474",
     "exception": false,
     "start_time": "2022-05-24T14:58:32.343696",
     "status": "completed"
    },
    "tags": []
   },
   "outputs": [],
   "source": [
    "# replace the cabin number by the type of cabin 'x' if not\n",
    "\n",
    "dataset[\"Cabin\"] = pd.Series([i[0] if not pd.isnull(i) else 'X' for i in dataset['Cabin']])"
   ]
  },
  {
   "cell_type": "code",
   "execution_count": 52,
   "id": "eddd3b2d",
   "metadata": {
    "execution": {
     "iopub.execute_input": "2022-05-24T14:58:32.627440Z",
     "iopub.status.busy": "2022-05-24T14:58:32.626761Z",
     "iopub.status.idle": "2022-05-24T14:58:32.844285Z",
     "shell.execute_reply": "2022-05-24T14:58:32.843100Z"
    },
    "papermill": {
     "duration": 0.311139,
     "end_time": "2022-05-24T14:58:32.846525",
     "exception": false,
     "start_time": "2022-05-24T14:58:32.535386",
     "status": "completed"
    },
    "tags": []
   },
   "outputs": [
    {
     "data": {
      "image/png": "[encoded data removed]",
      "text/plain": [
       "<Figure size 432x288 with 1 Axes>"
      ]
     },
     "metadata": {},
     "output_type": "display_data"
    }
   ],
   "source": [
    "g = sns.countplot(dataset[\"Cabin\"], order=['A','B','C','D','E','F','G','T','X'])"
   ]
  },
  {
   "cell_type": "code",
   "execution_count": 53,
   "id": "f076828e",
   "metadata": {
    "execution": {
     "iopub.execute_input": "2022-05-24T14:58:33.041958Z",
     "iopub.status.busy": "2022-05-24T14:58:33.041061Z",
     "iopub.status.idle": "2022-05-24T14:58:33.546194Z",
     "shell.execute_reply": "2022-05-24T14:58:33.545486Z"
    },
    "papermill": {
     "duration": 0.610324,
     "end_time": "2022-05-24T14:58:33.548286",
     "exception": false,
     "start_time": "2022-05-24T14:58:32.937962",
     "status": "completed"
    },
    "tags": []
   },
   "outputs": [
    {
     "data": {
      "image/png": "[encoded data removed]",
      "text/plain": [
       "<Figure size 360x360 with 1 Axes>"
      ]
     },
     "metadata": {},
     "output_type": "display_data"
    }
   ],
   "source": [
    "g = sns.factorplot(y=\"Survived\", x=\"Cabin\", data=dataset, kind=\"bar\", order=['A','B','C','D','E','F','G','T','X'])\n",
    "g = g.set_ylabels(\"Survival Probability\")"
   ]
  },
  {
   "cell_type": "markdown",
   "id": "3dc55069",
   "metadata": {
    "papermill": {
     "duration": 0.09118,
     "end_time": "2022-05-24T14:58:33.732608",
     "exception": false,
     "start_time": "2022-05-24T14:58:33.641428",
     "status": "completed"
    },
    "tags": []
   },
   "source": [
    "cabin을 가진 승객이 적어서 생존률 표준편차가 넘 크고 등급별 구분이 쉽지 않음\n",
    "\n",
    "그래도 객실이 없는 승객보다는 생존률이 높은 것을 확인 가능함."
   ]
  },
  {
   "cell_type": "code",
   "execution_count": 54,
   "id": "ee92ab3f",
   "metadata": {
    "execution": {
     "iopub.execute_input": "2022-05-24T14:58:33.916560Z",
     "iopub.status.busy": "2022-05-24T14:58:33.915983Z",
     "iopub.status.idle": "2022-05-24T14:58:33.924517Z",
     "shell.execute_reply": "2022-05-24T14:58:33.923782Z"
    },
    "papermill": {
     "duration": 0.104405,
     "end_time": "2022-05-24T14:58:33.927046",
     "exception": false,
     "start_time": "2022-05-24T14:58:33.822641",
     "status": "completed"
    },
    "tags": []
   },
   "outputs": [],
   "source": [
    "dataset = pd.get_dummies(dataset, columns = [\"Cabin\"],prefix=\"Cabin\")"
   ]
  },
  {
   "cell_type": "markdown",
   "id": "bab90c8d",
   "metadata": {
    "papermill": {
     "duration": 0.101809,
     "end_time": "2022-05-24T14:58:34.129711",
     "exception": false,
     "start_time": "2022-05-24T14:58:34.027902",
     "status": "completed"
    },
    "tags": []
   },
   "source": [
    "### 5.4 Ticket"
   ]
  },
  {
   "cell_type": "code",
   "execution_count": 55,
   "id": "b2bc5460",
   "metadata": {
    "execution": {
     "iopub.execute_input": "2022-05-24T14:58:34.325559Z",
     "iopub.status.busy": "2022-05-24T14:58:34.325001Z",
     "iopub.status.idle": "2022-05-24T14:58:34.332590Z",
     "shell.execute_reply": "2022-05-24T14:58:34.331575Z"
    },
    "papermill": {
     "duration": 0.107626,
     "end_time": "2022-05-24T14:58:34.334956",
     "exception": false,
     "start_time": "2022-05-24T14:58:34.227330",
     "status": "completed"
    },
    "tags": []
   },
   "outputs": [
    {
     "data": {
      "text/plain": [
       "0           A/5 21171\n",
       "1            PC 17599\n",
       "2    STON/O2. 3101282\n",
       "3              113803\n",
       "4              373450\n",
       "Name: Ticket, dtype: object"
      ]
     },
     "execution_count": 55,
     "metadata": {},
     "output_type": "execute_result"
    }
   ],
   "source": [
    "dataset[\"Ticket\"].head()"
   ]
  },
  {
   "cell_type": "code",
   "execution_count": 56,
   "id": "5f9ecf20",
   "metadata": {
    "execution": {
     "iopub.execute_input": "2022-05-24T14:58:34.523462Z",
     "iopub.status.busy": "2022-05-24T14:58:34.522925Z",
     "iopub.status.idle": "2022-05-24T14:58:34.531921Z",
     "shell.execute_reply": "2022-05-24T14:58:34.531212Z"
    },
    "papermill": {
     "duration": 0.105313,
     "end_time": "2022-05-24T14:58:34.533822",
     "exception": false,
     "start_time": "2022-05-24T14:58:34.428509",
     "status": "completed"
    },
    "tags": []
   },
   "outputs": [
    {
     "data": {
      "text/plain": [
       "0        A5\n",
       "1        PC\n",
       "2    STONO2\n",
       "3         X\n",
       "4         X\n",
       "Name: Ticket, dtype: object"
      ]
     },
     "execution_count": 56,
     "metadata": {},
     "output_type": "execute_result"
    }
   ],
   "source": [
    "# Treat ticket by extracting the ticket prefix. When there is no prefix it returns x.\n",
    "\n",
    "Ticket = []\n",
    "for i in list(dataset.Ticket):\n",
    "    if not i.isdigit() :\n",
    "        Ticket.append(i.replace(\".\",\"\").replace(\"/\",\"\").strip().split(' ')[0]) #Take prefix\n",
    "    else:\n",
    "        Ticket.append(\"X\")\n",
    "        \n",
    "dataset[\"Ticket\"] = Ticket\n",
    "dataset[\"Ticket\"].head()"
   ]
  },
  {
   "cell_type": "markdown",
   "id": "8b58fda5",
   "metadata": {
    "papermill": {
     "duration": 0.092313,
     "end_time": "2022-05-24T14:58:34.720023",
     "exception": false,
     "start_time": "2022-05-24T14:58:34.627710",
     "status": "completed"
    },
    "tags": []
   },
   "source": [
    "## 6. Modeling"
   ]
  },
  {
   "cell_type": "code",
   "execution_count": 57,
   "id": "5045c142",
   "metadata": {
    "execution": {
     "iopub.execute_input": "2022-05-24T14:58:35.040103Z",
     "iopub.status.busy": "2022-05-24T14:58:35.039348Z",
     "iopub.status.idle": "2022-05-24T14:58:35.050549Z",
     "shell.execute_reply": "2022-05-24T14:58:35.049179Z"
    },
    "papermill": {
     "duration": 0.170928,
     "end_time": "2022-05-24T14:58:35.055034",
     "exception": false,
     "start_time": "2022-05-24T14:58:34.884106",
     "status": "completed"
    },
    "tags": []
   },
   "outputs": [],
   "source": [
    "# Separate train and test dataset\n",
    "\n",
    "train = dataset[:train_len]\n",
    "test = dataset[train_len:]\n",
    "test.drop(labels=[\"Survived\"],axis =1, inplace=True)"
   ]
  },
  {
   "cell_type": "code",
   "execution_count": 58,
   "id": "479d173a",
   "metadata": {
    "execution": {
     "iopub.execute_input": "2022-05-24T14:58:35.423767Z",
     "iopub.status.busy": "2022-05-24T14:58:35.423250Z",
     "iopub.status.idle": "2022-05-24T14:58:35.436667Z",
     "shell.execute_reply": "2022-05-24T14:58:35.435403Z"
    },
    "papermill": {
     "duration": 0.218461,
     "end_time": "2022-05-24T14:58:35.441699",
     "exception": false,
     "start_time": "2022-05-24T14:58:35.223238",
     "status": "completed"
    },
    "tags": []
   },
   "outputs": [],
   "source": [
    "# Separate train feautres and label\n",
    "\n",
    "train[\"Survived\"] = train[\"Survived\"].astype(int)\n",
    "\n",
    "Y_train = train[\"Survived\"]\n",
    "\n",
    "X_train = train.drop(labels = [\"Survived\"],axis =1)"
   ]
  },
  {
   "cell_type": "markdown",
   "id": "8f5e4277",
   "metadata": {
    "papermill": {
     "duration": 0.206131,
     "end_time": "2022-05-24T14:58:35.868785",
     "exception": false,
     "start_time": "2022-05-24T14:58:35.662654",
     "status": "completed"
    },
    "tags": []
   },
   "source": [
    "### 6.1 Simple modeling\n",
    "\n",
    "#### 6.1.1 Cross validate models"
   ]
  },
  {
   "cell_type": "code",
   "execution_count": 59,
   "id": "eeed2ce6",
   "metadata": {
    "execution": {
     "iopub.execute_input": "2022-05-24T14:58:36.062999Z",
     "iopub.status.busy": "2022-05-24T14:58:36.062458Z",
     "iopub.status.idle": "2022-05-24T14:58:36.066819Z",
     "shell.execute_reply": "2022-05-24T14:58:36.065778Z"
    },
    "papermill": {
     "duration": 0.103522,
     "end_time": "2022-05-24T14:58:36.069154",
     "exception": false,
     "start_time": "2022-05-24T14:58:35.965632",
     "status": "completed"
    },
    "tags": []
   },
   "outputs": [],
   "source": [
    "# Kfold\n",
    "\n",
    "kfold = StratifiedKFold(n_splits=10)"
   ]
  },
  {
   "cell_type": "code",
   "execution_count": 60,
   "id": "bc432a86",
   "metadata": {
    "execution": {
     "iopub.execute_input": "2022-05-24T14:58:36.264810Z",
     "iopub.status.busy": "2022-05-24T14:58:36.264498Z",
     "iopub.status.idle": "2022-05-24T14:58:38.849880Z",
     "shell.execute_reply": "2022-05-24T14:58:38.848741Z"
    },
    "papermill": {
     "duration": 2.686404,
     "end_time": "2022-05-24T14:58:38.852213",
     "exception": false,
     "start_time": "2022-05-24T14:58:36.165809",
     "status": "completed"
    },
    "tags": []
   },
   "outputs": [
    {
     "data": {
      "image/png": "[encoded data removed]",
      "text/plain": [
       "<Figure size 432x288 with 1 Axes>"
      ]
     },
     "metadata": {},
     "output_type": "display_data"
    }
   ],
   "source": [
    "# Modeling step Test differents algorithms \n",
    "random_state = 2\n",
    "classifiers = []\n",
    "classifiers.append(SVC(random_state=random_state))\n",
    "classifiers.append(DecisionTreeClassifier(random_state=random_state))\n",
    "classifiers.append(AdaBoostClassifier(DecisionTreeClassifier(random_state=random_state),random_state=random_state,learning_rate=0.1))\n",
    "classifiers.append(RandomForestClassifier(random_state=random_state))\n",
    "classifiers.append(ExtraTreesClassifier(random_state=random_state))\n",
    "classifiers.append(GradientBoostingClassifier(random_state=random_state))\n",
    "classifiers.append(MLPClassifier(random_state=random_state))\n",
    "classifiers.append(KNeighborsClassifier())\n",
    "classifiers.append(LogisticRegression(random_state = random_state))\n",
    "classifiers.append(LinearDiscriminantAnalysis())\n",
    "\n",
    "cv_results = []\n",
    "for classifier in classifiers :\n",
    "    cv_results.append(cross_val_score(classifier, X_train, y = Y_train, scoring = \"accuracy\", cv = kfold, n_jobs=4))\n",
    "\n",
    "cv_means = []\n",
    "cv_std = []\n",
    "for cv_result in cv_results:\n",
    "    cv_means.append(cv_result.mean())\n",
    "    cv_std.append(cv_result.std())\n",
    "\n",
    "cv_res = pd.DataFrame({\"CrossValMeans\":cv_means,\"CrossValerrors\": cv_std,\"Algorithm\":[\"SVC\",\"DecisionTree\",\"AdaBoost\",\n",
    "\"RandomForest\",\"ExtraTrees\",\"GradientBoosting\",\"MultipleLayerPerceptron\",\"KNeighboors\",\"LogisticRegression\",\"LinearDiscriminantAnalysis\"]})\n",
    "\n",
    "g = sns.barplot(\"CrossValMeans\",\"Algorithm\",data = cv_res, palette=\"Set3\",orient = \"h\",**{'xerr':cv_std})\n",
    "g.set_xlabel(\"Mean Accuracy\")\n",
    "g = g.set_title(\"Cross validation scores\")\n",
    "\n"
   ]
  },
  {
   "cell_type": "code",
   "execution_count": null,
   "id": "69b654d1",
   "metadata": {
    "papermill": {
     "duration": 0.097686,
     "end_time": "2022-05-24T14:58:39.045748",
     "exception": false,
     "start_time": "2022-05-24T14:58:38.948062",
     "status": "completed"
    },
    "tags": []
   },
   "outputs": [],
   "source": []
  }
 ],
 "metadata": {
  "kernelspec": {
   "display_name": "Python 3",
   "language": "python",
   "name": "python3"
  },
  "language_info": {
   "codemirror_mode": {
    "name": "ipython",
    "version": 3
   },
   "file_extension": ".py",
   "mimetype": "text/x-python",
   "name": "python",
   "nbconvert_exporter": "python",
   "pygments_lexer": "ipython3",
   "version": "3.7.12"
  },
  "papermill": {
   "default_parameters": {},
   "duration": 44.600083,
   "end_time": "2022-05-24T14:58:41.768963",
   "environment_variables": {},
   "exception": null,
   "input_path": "__notebook__.ipynb",
   "output_path": "__notebook__.ipynb",
   "parameters": {},
   "start_time": "2022-05-24T14:57:57.168880",
   "version": "2.3.4"
  }
 },
 "nbformat": 4,
 "nbformat_minor": 5
}
