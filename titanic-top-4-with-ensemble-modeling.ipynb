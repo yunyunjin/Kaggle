{
 "cells": [
  {
   "cell_type": "markdown",
   "id": "3a7f22a6",
   "metadata": {
    "papermill": {
     "duration": 0.08162,
     "end_time": "2022-05-22T11:38:41.788184",
     "exception": false,
     "start_time": "2022-05-22T11:38:41.706564",
     "status": "completed"
    },
    "tags": []
   },
   "source": [
    "## 1. Main\n",
    "\n",
    "* Feature analysis\n",
    "* Feature engineering\n",
    "* Modeling"
   ]
  },
  {
   "cell_type": "code",
   "execution_count": 1,
   "id": "2d60f047",
   "metadata": {
    "_cell_guid": "b1076dfc-b9ad-4769-8c92-a6c4dae69d19",
    "_uuid": "8f2839f25d086af736a60e9eeb907d3b93b6e0e5",
    "execution": {
     "iopub.execute_input": "2022-05-22T11:38:41.953693Z",
     "iopub.status.busy": "2022-05-22T11:38:41.953059Z",
     "iopub.status.idle": "2022-05-22T11:38:43.408303Z",
     "shell.execute_reply": "2022-05-22T11:38:43.407430Z"
    },
    "papermill": {
     "duration": 1.541793,
     "end_time": "2022-05-22T11:38:43.410918",
     "exception": false,
     "start_time": "2022-05-22T11:38:41.869125",
     "status": "completed"
    },
    "tags": []
   },
   "outputs": [],
   "source": [
    "import pandas as pd\n",
    "import numpy as np\n",
    "import matplotlib.pyplot as plt\n",
    "import seaborn as sns\n",
    "%matplotlib inline\n",
    "import warnings\n",
    "warnings.filterwarnings('ignore')\n",
    "\n",
    "from collections import Counter\n",
    "\n",
    "from sklearn.ensemble import RandomForestClassifier, AdaBoostClassifier, GradientBoostingClassifier, ExtraTreesClassifier, VotingClassifier\n",
    "from sklearn.discriminant_analysis import LinearDiscriminantAnalysis\n",
    "from sklearn.linear_model import LogisticRegression\n",
    "from sklearn.neighbors import KNeighborsClassifier\n",
    "from sklearn.tree import DecisionTreeClassifier\n",
    "from sklearn.neural_network import MLPClassifier\n",
    "from sklearn.svm import SVC\n",
    "from sklearn.model_selection import GridSearchCV, cross_val_score, StratifiedKFold, learning_curve\n",
    "\n",
    "sns.set(style='white', context='notebook', palette='deep')"
   ]
  },
  {
   "cell_type": "markdown",
   "id": "cde666de",
   "metadata": {
    "papermill": {
     "duration": 0.08001,
     "end_time": "2022-05-22T11:38:43.571166",
     "exception": false,
     "start_time": "2022-05-22T11:38:43.491156",
     "status": "completed"
    },
    "tags": []
   },
   "source": [
    "## 2. Load and check data"
   ]
  },
  {
   "cell_type": "markdown",
   "id": "027bef1b",
   "metadata": {
    "papermill": {
     "duration": 0.080389,
     "end_time": "2022-05-22T11:38:43.732285",
     "exception": false,
     "start_time": "2022-05-22T11:38:43.651896",
     "status": "completed"
    },
    "tags": []
   },
   "source": [
    "### 2.1 Load data"
   ]
  },
  {
   "cell_type": "code",
   "execution_count": 2,
   "id": "ad8aba0d",
   "metadata": {
    "execution": {
     "iopub.execute_input": "2022-05-22T11:38:43.896117Z",
     "iopub.status.busy": "2022-05-22T11:38:43.895664Z",
     "iopub.status.idle": "2022-05-22T11:38:43.964360Z",
     "shell.execute_reply": "2022-05-22T11:38:43.963709Z"
    },
    "papermill": {
     "duration": 0.153901,
     "end_time": "2022-05-22T11:38:43.966506",
     "exception": false,
     "start_time": "2022-05-22T11:38:43.812605",
     "status": "completed"
    },
    "tags": []
   },
   "outputs": [],
   "source": [
    "# Load\n",
    "\n",
    "train = pd.read_csv(\"../input/titanic/train.csv\")\n",
    "test = pd.read_csv(\"../input/titanic/test.csv\")\n",
    "IDtest = test['PassengerId']\n"
   ]
  },
  {
   "cell_type": "markdown",
   "id": "414c536f",
   "metadata": {
    "papermill": {
     "duration": 0.081256,
     "end_time": "2022-05-22T11:38:44.128699",
     "exception": false,
     "start_time": "2022-05-22T11:38:44.047443",
     "status": "completed"
    },
    "tags": []
   },
   "source": [
    "### 2.2 Outlier detection"
   ]
  },
  {
   "cell_type": "code",
   "execution_count": 3,
   "id": "8cb3855f",
   "metadata": {
    "execution": {
     "iopub.execute_input": "2022-05-22T11:38:44.292449Z",
     "iopub.status.busy": "2022-05-22T11:38:44.292162Z",
     "iopub.status.idle": "2022-05-22T11:38:44.310025Z",
     "shell.execute_reply": "2022-05-22T11:38:44.309431Z"
    },
    "papermill": {
     "duration": 0.101938,
     "end_time": "2022-05-22T11:38:44.312175",
     "exception": false,
     "start_time": "2022-05-22T11:38:44.210237",
     "status": "completed"
    },
    "tags": []
   },
   "outputs": [],
   "source": [
    "# Outlier detection \n",
    "\n",
    "def detect_outliers(df,n,features):\n",
    "    \"\"\"\n",
    "    Takes a dataframe df of features and returns a list of the indices\n",
    "    corresponding to the observations containing more than n outliers according\n",
    "    to the Tukey method.\n",
    "    \"\"\"\n",
    "    outlier_indices = []\n",
    "    \n",
    "    # iterate over features(columns)\n",
    "    for col in features:\n",
    "        # 1st quartile (25%)\n",
    "        Q1 = np.percentile(df[col], 25)\n",
    "        # 3rd quartile (75%)\n",
    "        Q3 = np.percentile(df[col],75)\n",
    "        # Interquartile range (IQR)\n",
    "        IQR = Q3 - Q1\n",
    "        \n",
    "        # outlier step\n",
    "        outlier_step = 1.5 * IQR\n",
    "        \n",
    "        # Determine a list of indices of outliers for feature col\n",
    "        outlier_list_col = df[(df[col] < Q1 - outlier_step) | (df[col] > Q3 + outlier_step )].index\n",
    "        \n",
    "        # append the found outlier indices for col to the list of outlier indices \n",
    "        outlier_indices.extend(outlier_list_col)\n",
    "        \n",
    "    # select observations containing more than 2 outliers\n",
    "    outlier_indices = Counter(outlier_indices)        \n",
    "    multiple_outliers = list( k for k, v in outlier_indices.items() if v > n )\n",
    "    \n",
    "    return multiple_outliers   \n",
    "\n",
    "# detect outliers from Age, SibSp , Parch and Fare\n",
    "Outliers_to_drop = detect_outliers(train,2,[\"Age\",\"SibSp\",\"Parch\",\"Fare\"])\n",
    "    \n",
    "    \n",
    "    "
   ]
  },
  {
   "cell_type": "code",
   "execution_count": 4,
   "id": "88032c7f",
   "metadata": {
    "execution": {
     "iopub.execute_input": "2022-05-22T11:38:44.474640Z",
     "iopub.status.busy": "2022-05-22T11:38:44.474118Z",
     "iopub.status.idle": "2022-05-22T11:38:44.481540Z",
     "shell.execute_reply": "2022-05-22T11:38:44.480928Z"
    },
    "papermill": {
     "duration": 0.090915,
     "end_time": "2022-05-22T11:38:44.483525",
     "exception": false,
     "start_time": "2022-05-22T11:38:44.392610",
     "status": "completed"
    },
    "tags": []
   },
   "outputs": [
    {
     "data": {
      "text/plain": [
       "Index(['PassengerId', 'Survived', 'Pclass', 'Name', 'Sex', 'Age', 'SibSp',\n",
       "       'Parch', 'Ticket', 'Fare', 'Cabin', 'Embarked'],\n",
       "      dtype='object')"
      ]
     },
     "execution_count": 4,
     "metadata": {},
     "output_type": "execute_result"
    }
   ],
   "source": [
    "train.columns"
   ]
  },
  {
   "cell_type": "markdown",
   "id": "4b6d1784",
   "metadata": {
    "papermill": {
     "duration": 0.080445,
     "end_time": "2022-05-22T11:38:44.645491",
     "exception": false,
     "start_time": "2022-05-22T11:38:44.565046",
     "status": "completed"
    },
    "tags": []
   },
   "source": [
    "* 분포 값(IQR)의 첫 번째 사분위수와 세 번째 사분위수 사이에 포함된 사분위간 범위를 정의하는 outlier를 탐지하기 위해 Tukey 방법(Tukey JW., 1977)을 사용.\n",
    "* numerical value features 사용(Age, SibSp, Sarch and Fare)"
   ]
  },
  {
   "cell_type": "code",
   "execution_count": 5,
   "id": "33fa74a7",
   "metadata": {
    "execution": {
     "iopub.execute_input": "2022-05-22T11:38:44.810139Z",
     "iopub.status.busy": "2022-05-22T11:38:44.809736Z",
     "iopub.status.idle": "2022-05-22T11:38:44.830988Z",
     "shell.execute_reply": "2022-05-22T11:38:44.830367Z"
    },
    "papermill": {
     "duration": 0.105858,
     "end_time": "2022-05-22T11:38:44.832885",
     "exception": false,
     "start_time": "2022-05-22T11:38:44.727027",
     "status": "completed"
    },
    "tags": []
   },
   "outputs": [
    {
     "data": {
      "text/html": [
       "<div>\n",
       "<style scoped>\n",
       "    .dataframe tbody tr th:only-of-type {\n",
       "        vertical-align: middle;\n",
       "    }\n",
       "\n",
       "    .dataframe tbody tr th {\n",
       "        vertical-align: top;\n",
       "    }\n",
       "\n",
       "    .dataframe thead th {\n",
       "        text-align: right;\n",
       "    }\n",
       "</style>\n",
       "<table border=\"1\" class=\"dataframe\">\n",
       "  <thead>\n",
       "    <tr style=\"text-align: right;\">\n",
       "      <th></th>\n",
       "      <th>PassengerId</th>\n",
       "      <th>Survived</th>\n",
       "      <th>Pclass</th>\n",
       "      <th>Name</th>\n",
       "      <th>Sex</th>\n",
       "      <th>Age</th>\n",
       "      <th>SibSp</th>\n",
       "      <th>Parch</th>\n",
       "      <th>Ticket</th>\n",
       "      <th>Fare</th>\n",
       "      <th>Cabin</th>\n",
       "      <th>Embarked</th>\n",
       "    </tr>\n",
       "  </thead>\n",
       "  <tbody>\n",
       "    <tr>\n",
       "      <th>27</th>\n",
       "      <td>28</td>\n",
       "      <td>0</td>\n",
       "      <td>1</td>\n",
       "      <td>Fortune, Mr. Charles Alexander</td>\n",
       "      <td>male</td>\n",
       "      <td>19.0</td>\n",
       "      <td>3</td>\n",
       "      <td>2</td>\n",
       "      <td>19950</td>\n",
       "      <td>263.00</td>\n",
       "      <td>C23 C25 C27</td>\n",
       "      <td>S</td>\n",
       "    </tr>\n",
       "    <tr>\n",
       "      <th>88</th>\n",
       "      <td>89</td>\n",
       "      <td>1</td>\n",
       "      <td>1</td>\n",
       "      <td>Fortune, Miss. Mabel Helen</td>\n",
       "      <td>female</td>\n",
       "      <td>23.0</td>\n",
       "      <td>3</td>\n",
       "      <td>2</td>\n",
       "      <td>19950</td>\n",
       "      <td>263.00</td>\n",
       "      <td>C23 C25 C27</td>\n",
       "      <td>S</td>\n",
       "    </tr>\n",
       "    <tr>\n",
       "      <th>159</th>\n",
       "      <td>160</td>\n",
       "      <td>0</td>\n",
       "      <td>3</td>\n",
       "      <td>Sage, Master. Thomas Henry</td>\n",
       "      <td>male</td>\n",
       "      <td>NaN</td>\n",
       "      <td>8</td>\n",
       "      <td>2</td>\n",
       "      <td>CA. 2343</td>\n",
       "      <td>69.55</td>\n",
       "      <td>NaN</td>\n",
       "      <td>S</td>\n",
       "    </tr>\n",
       "    <tr>\n",
       "      <th>180</th>\n",
       "      <td>181</td>\n",
       "      <td>0</td>\n",
       "      <td>3</td>\n",
       "      <td>Sage, Miss. Constance Gladys</td>\n",
       "      <td>female</td>\n",
       "      <td>NaN</td>\n",
       "      <td>8</td>\n",
       "      <td>2</td>\n",
       "      <td>CA. 2343</td>\n",
       "      <td>69.55</td>\n",
       "      <td>NaN</td>\n",
       "      <td>S</td>\n",
       "    </tr>\n",
       "    <tr>\n",
       "      <th>201</th>\n",
       "      <td>202</td>\n",
       "      <td>0</td>\n",
       "      <td>3</td>\n",
       "      <td>Sage, Mr. Frederick</td>\n",
       "      <td>male</td>\n",
       "      <td>NaN</td>\n",
       "      <td>8</td>\n",
       "      <td>2</td>\n",
       "      <td>CA. 2343</td>\n",
       "      <td>69.55</td>\n",
       "      <td>NaN</td>\n",
       "      <td>S</td>\n",
       "    </tr>\n",
       "    <tr>\n",
       "      <th>324</th>\n",
       "      <td>325</td>\n",
       "      <td>0</td>\n",
       "      <td>3</td>\n",
       "      <td>Sage, Mr. George John Jr</td>\n",
       "      <td>male</td>\n",
       "      <td>NaN</td>\n",
       "      <td>8</td>\n",
       "      <td>2</td>\n",
       "      <td>CA. 2343</td>\n",
       "      <td>69.55</td>\n",
       "      <td>NaN</td>\n",
       "      <td>S</td>\n",
       "    </tr>\n",
       "    <tr>\n",
       "      <th>341</th>\n",
       "      <td>342</td>\n",
       "      <td>1</td>\n",
       "      <td>1</td>\n",
       "      <td>Fortune, Miss. Alice Elizabeth</td>\n",
       "      <td>female</td>\n",
       "      <td>24.0</td>\n",
       "      <td>3</td>\n",
       "      <td>2</td>\n",
       "      <td>19950</td>\n",
       "      <td>263.00</td>\n",
       "      <td>C23 C25 C27</td>\n",
       "      <td>S</td>\n",
       "    </tr>\n",
       "    <tr>\n",
       "      <th>792</th>\n",
       "      <td>793</td>\n",
       "      <td>0</td>\n",
       "      <td>3</td>\n",
       "      <td>Sage, Miss. Stella Anna</td>\n",
       "      <td>female</td>\n",
       "      <td>NaN</td>\n",
       "      <td>8</td>\n",
       "      <td>2</td>\n",
       "      <td>CA. 2343</td>\n",
       "      <td>69.55</td>\n",
       "      <td>NaN</td>\n",
       "      <td>S</td>\n",
       "    </tr>\n",
       "    <tr>\n",
       "      <th>846</th>\n",
       "      <td>847</td>\n",
       "      <td>0</td>\n",
       "      <td>3</td>\n",
       "      <td>Sage, Mr. Douglas Bullen</td>\n",
       "      <td>male</td>\n",
       "      <td>NaN</td>\n",
       "      <td>8</td>\n",
       "      <td>2</td>\n",
       "      <td>CA. 2343</td>\n",
       "      <td>69.55</td>\n",
       "      <td>NaN</td>\n",
       "      <td>S</td>\n",
       "    </tr>\n",
       "    <tr>\n",
       "      <th>863</th>\n",
       "      <td>864</td>\n",
       "      <td>0</td>\n",
       "      <td>3</td>\n",
       "      <td>Sage, Miss. Dorothy Edith \"Dolly\"</td>\n",
       "      <td>female</td>\n",
       "      <td>NaN</td>\n",
       "      <td>8</td>\n",
       "      <td>2</td>\n",
       "      <td>CA. 2343</td>\n",
       "      <td>69.55</td>\n",
       "      <td>NaN</td>\n",
       "      <td>S</td>\n",
       "    </tr>\n",
       "  </tbody>\n",
       "</table>\n",
       "</div>"
      ],
      "text/plain": [
       "     PassengerId  Survived  Pclass                               Name     Sex  \\\n",
       "27            28         0       1     Fortune, Mr. Charles Alexander    male   \n",
       "88            89         1       1         Fortune, Miss. Mabel Helen  female   \n",
       "159          160         0       3         Sage, Master. Thomas Henry    male   \n",
       "180          181         0       3       Sage, Miss. Constance Gladys  female   \n",
       "201          202         0       3                Sage, Mr. Frederick    male   \n",
       "324          325         0       3           Sage, Mr. George John Jr    male   \n",
       "341          342         1       1     Fortune, Miss. Alice Elizabeth  female   \n",
       "792          793         0       3            Sage, Miss. Stella Anna  female   \n",
       "846          847         0       3           Sage, Mr. Douglas Bullen    male   \n",
       "863          864         0       3  Sage, Miss. Dorothy Edith \"Dolly\"  female   \n",
       "\n",
       "      Age  SibSp  Parch    Ticket    Fare        Cabin Embarked  \n",
       "27   19.0      3      2     19950  263.00  C23 C25 C27        S  \n",
       "88   23.0      3      2     19950  263.00  C23 C25 C27        S  \n",
       "159   NaN      8      2  CA. 2343   69.55          NaN        S  \n",
       "180   NaN      8      2  CA. 2343   69.55          NaN        S  \n",
       "201   NaN      8      2  CA. 2343   69.55          NaN        S  \n",
       "324   NaN      8      2  CA. 2343   69.55          NaN        S  \n",
       "341  24.0      3      2     19950  263.00  C23 C25 C27        S  \n",
       "792   NaN      8      2  CA. 2343   69.55          NaN        S  \n",
       "846   NaN      8      2  CA. 2343   69.55          NaN        S  \n",
       "863   NaN      8      2  CA. 2343   69.55          NaN        S  "
      ]
     },
     "execution_count": 5,
     "metadata": {},
     "output_type": "execute_result"
    }
   ],
   "source": [
    "# Show outlier row\n",
    "train.loc[Outliers_to_drop]"
   ]
  },
  {
   "cell_type": "markdown",
   "id": "72e82422",
   "metadata": {
    "papermill": {
     "duration": 0.084552,
     "end_time": "2022-05-22T11:38:44.999491",
     "exception": false,
     "start_time": "2022-05-22T11:38:44.914939",
     "status": "completed"
    },
    "tags": []
   },
   "source": [
    "**10 outliers**\n",
    "* passenger 28, 89, 342 have an high Ticket Fare\n",
    "* othes have very high in SibSP.\n",
    "\n"
   ]
  },
  {
   "cell_type": "code",
   "execution_count": 6,
   "id": "c72f8c1a",
   "metadata": {
    "execution": {
     "iopub.execute_input": "2022-05-22T11:38:45.166092Z",
     "iopub.status.busy": "2022-05-22T11:38:45.165811Z",
     "iopub.status.idle": "2022-05-22T11:38:45.171230Z",
     "shell.execute_reply": "2022-05-22T11:38:45.170502Z"
    },
    "papermill": {
     "duration": 0.091416,
     "end_time": "2022-05-22T11:38:45.173111",
     "exception": false,
     "start_time": "2022-05-22T11:38:45.081695",
     "status": "completed"
    },
    "tags": []
   },
   "outputs": [],
   "source": [
    "# Drop outliers\n",
    "train = train.drop(Outliers_to_drop, axis = 0).reset_index(drop=True)"
   ]
  },
  {
   "cell_type": "markdown",
   "id": "42c03ba0",
   "metadata": {
    "papermill": {
     "duration": 0.081341,
     "end_time": "2022-05-22T11:38:45.336171",
     "exception": false,
     "start_time": "2022-05-22T11:38:45.254830",
     "status": "completed"
    },
    "tags": []
   },
   "source": [
    "**reset_index**\n",
    "\n",
    "인덱스 초기화하고 재배열해주는 함수, 데이터 전처리 하다보면 인덱스 뒤죽박죽됨.\n",
    "\n",
    "* drop = True 기존 인덱스 버리고 재배열\n",
    "* inplace = True "
   ]
  },
  {
   "cell_type": "markdown",
   "id": "0e388b0c",
   "metadata": {
    "papermill": {
     "duration": 0.08127,
     "end_time": "2022-05-22T11:38:45.498970",
     "exception": false,
     "start_time": "2022-05-22T11:38:45.417700",
     "status": "completed"
    },
    "tags": []
   },
   "source": [
    "### 2.3 joining train and test set"
   ]
  },
  {
   "cell_type": "code",
   "execution_count": 7,
   "id": "229e8c49",
   "metadata": {
    "execution": {
     "iopub.execute_input": "2022-05-22T11:38:45.663840Z",
     "iopub.status.busy": "2022-05-22T11:38:45.663083Z",
     "iopub.status.idle": "2022-05-22T11:38:45.673814Z",
     "shell.execute_reply": "2022-05-22T11:38:45.672915Z"
    },
    "papermill": {
     "duration": 0.096002,
     "end_time": "2022-05-22T11:38:45.676235",
     "exception": false,
     "start_time": "2022-05-22T11:38:45.580233",
     "status": "completed"
    },
    "tags": []
   },
   "outputs": [],
   "source": [
    "# concatenating dataframes\n",
    "# 데이터프레임 합치기\n",
    "\n",
    "train_len = len(train)\n",
    "dataset = pd.concat(objs=[train, test], axis=0).reset_index(drop=True)"
   ]
  },
  {
   "cell_type": "markdown",
   "id": "321c4acf",
   "metadata": {
    "papermill": {
     "duration": 0.081724,
     "end_time": "2022-05-22T11:38:45.840061",
     "exception": false,
     "start_time": "2022-05-22T11:38:45.758337",
     "status": "completed"
    },
    "tags": []
   },
   "source": [
    "### 2.4 check for null and missing values"
   ]
  },
  {
   "cell_type": "code",
   "execution_count": 8,
   "id": "fd1469ac",
   "metadata": {
    "execution": {
     "iopub.execute_input": "2022-05-22T11:38:46.009101Z",
     "iopub.status.busy": "2022-05-22T11:38:46.008799Z",
     "iopub.status.idle": "2022-05-22T11:38:46.019435Z",
     "shell.execute_reply": "2022-05-22T11:38:46.018812Z"
    },
    "papermill": {
     "duration": 0.097596,
     "end_time": "2022-05-22T11:38:46.021189",
     "exception": false,
     "start_time": "2022-05-22T11:38:45.923593",
     "status": "completed"
    },
    "tags": []
   },
   "outputs": [
    {
     "data": {
      "text/plain": [
       "PassengerId       0\n",
       "Survived        418\n",
       "Pclass            0\n",
       "Name              0\n",
       "Sex               0\n",
       "Age             256\n",
       "SibSp             0\n",
       "Parch             0\n",
       "Ticket            0\n",
       "Fare              1\n",
       "Cabin          1007\n",
       "Embarked          2\n",
       "dtype: int64"
      ]
     },
     "execution_count": 8,
     "metadata": {},
     "output_type": "execute_result"
    }
   ],
   "source": [
    "# Fill empty and NaNs values with NaN\n",
    "dataset = dataset.fillna(np.nan)\n",
    "\n",
    "# Check for Null values\n",
    "dataset.isnull().sum()"
   ]
  },
  {
   "cell_type": "markdown",
   "id": "4a940335",
   "metadata": {
    "papermill": {
     "duration": 0.083875,
     "end_time": "2022-05-22T11:38:46.187067",
     "exception": false,
     "start_time": "2022-05-22T11:38:46.103192",
     "status": "completed"
    },
    "tags": []
   },
   "source": [
    "결측치에서 Age와 Cabin이 중요한 피처임을 확인"
   ]
  },
  {
   "cell_type": "code",
   "execution_count": 9,
   "id": "6db11b76",
   "metadata": {
    "execution": {
     "iopub.execute_input": "2022-05-22T11:38:46.353549Z",
     "iopub.status.busy": "2022-05-22T11:38:46.353236Z",
     "iopub.status.idle": "2022-05-22T11:38:46.376198Z",
     "shell.execute_reply": "2022-05-22T11:38:46.375334Z"
    },
    "papermill": {
     "duration": 0.109236,
     "end_time": "2022-05-22T11:38:46.378777",
     "exception": false,
     "start_time": "2022-05-22T11:38:46.269541",
     "status": "completed"
    },
    "tags": []
   },
   "outputs": [
    {
     "name": "stdout",
     "output_type": "stream",
     "text": [
      "<class 'pandas.core.frame.DataFrame'>\n",
      "RangeIndex: 881 entries, 0 to 880\n",
      "Data columns (total 12 columns):\n",
      " #   Column       Non-Null Count  Dtype  \n",
      "---  ------       --------------  -----  \n",
      " 0   PassengerId  881 non-null    int64  \n",
      " 1   Survived     881 non-null    int64  \n",
      " 2   Pclass       881 non-null    int64  \n",
      " 3   Name         881 non-null    object \n",
      " 4   Sex          881 non-null    object \n",
      " 5   Age          711 non-null    float64\n",
      " 6   SibSp        881 non-null    int64  \n",
      " 7   Parch        881 non-null    int64  \n",
      " 8   Ticket       881 non-null    object \n",
      " 9   Fare         881 non-null    float64\n",
      " 10  Cabin        201 non-null    object \n",
      " 11  Embarked     879 non-null    object \n",
      "dtypes: float64(2), int64(5), object(5)\n",
      "memory usage: 82.7+ KB\n"
     ]
    },
    {
     "data": {
      "text/plain": [
       "PassengerId      0\n",
       "Survived         0\n",
       "Pclass           0\n",
       "Name             0\n",
       "Sex              0\n",
       "Age            170\n",
       "SibSp            0\n",
       "Parch            0\n",
       "Ticket           0\n",
       "Fare             0\n",
       "Cabin          680\n",
       "Embarked         2\n",
       "dtype: int64"
      ]
     },
     "execution_count": 9,
     "metadata": {},
     "output_type": "execute_result"
    }
   ],
   "source": [
    "# Infos\n",
    "train.info()\n",
    "train.isnull().sum()"
   ]
  },
  {
   "cell_type": "code",
   "execution_count": 10,
   "id": "1a8f12bc",
   "metadata": {
    "execution": {
     "iopub.execute_input": "2022-05-22T11:38:46.545941Z",
     "iopub.status.busy": "2022-05-22T11:38:46.545537Z",
     "iopub.status.idle": "2022-05-22T11:38:46.559310Z",
     "shell.execute_reply": "2022-05-22T11:38:46.558788Z"
    },
    "papermill": {
     "duration": 0.099782,
     "end_time": "2022-05-22T11:38:46.561037",
     "exception": false,
     "start_time": "2022-05-22T11:38:46.461255",
     "status": "completed"
    },
    "tags": []
   },
   "outputs": [
    {
     "data": {
      "text/html": [
       "<div>\n",
       "<style scoped>\n",
       "    .dataframe tbody tr th:only-of-type {\n",
       "        vertical-align: middle;\n",
       "    }\n",
       "\n",
       "    .dataframe tbody tr th {\n",
       "        vertical-align: top;\n",
       "    }\n",
       "\n",
       "    .dataframe thead th {\n",
       "        text-align: right;\n",
       "    }\n",
       "</style>\n",
       "<table border=\"1\" class=\"dataframe\">\n",
       "  <thead>\n",
       "    <tr style=\"text-align: right;\">\n",
       "      <th></th>\n",
       "      <th>PassengerId</th>\n",
       "      <th>Survived</th>\n",
       "      <th>Pclass</th>\n",
       "      <th>Name</th>\n",
       "      <th>Sex</th>\n",
       "      <th>Age</th>\n",
       "      <th>SibSp</th>\n",
       "      <th>Parch</th>\n",
       "      <th>Ticket</th>\n",
       "      <th>Fare</th>\n",
       "      <th>Cabin</th>\n",
       "      <th>Embarked</th>\n",
       "    </tr>\n",
       "  </thead>\n",
       "  <tbody>\n",
       "    <tr>\n",
       "      <th>0</th>\n",
       "      <td>1</td>\n",
       "      <td>0</td>\n",
       "      <td>3</td>\n",
       "      <td>Braund, Mr. Owen Harris</td>\n",
       "      <td>male</td>\n",
       "      <td>22.0</td>\n",
       "      <td>1</td>\n",
       "      <td>0</td>\n",
       "      <td>A/5 21171</td>\n",
       "      <td>7.2500</td>\n",
       "      <td>NaN</td>\n",
       "      <td>S</td>\n",
       "    </tr>\n",
       "    <tr>\n",
       "      <th>1</th>\n",
       "      <td>2</td>\n",
       "      <td>1</td>\n",
       "      <td>1</td>\n",
       "      <td>Cumings, Mrs. John Bradley (Florence Briggs Th...</td>\n",
       "      <td>female</td>\n",
       "      <td>38.0</td>\n",
       "      <td>1</td>\n",
       "      <td>0</td>\n",
       "      <td>PC 17599</td>\n",
       "      <td>71.2833</td>\n",
       "      <td>C85</td>\n",
       "      <td>C</td>\n",
       "    </tr>\n",
       "    <tr>\n",
       "      <th>2</th>\n",
       "      <td>3</td>\n",
       "      <td>1</td>\n",
       "      <td>3</td>\n",
       "      <td>Heikkinen, Miss. Laina</td>\n",
       "      <td>female</td>\n",
       "      <td>26.0</td>\n",
       "      <td>0</td>\n",
       "      <td>0</td>\n",
       "      <td>STON/O2. 3101282</td>\n",
       "      <td>7.9250</td>\n",
       "      <td>NaN</td>\n",
       "      <td>S</td>\n",
       "    </tr>\n",
       "    <tr>\n",
       "      <th>3</th>\n",
       "      <td>4</td>\n",
       "      <td>1</td>\n",
       "      <td>1</td>\n",
       "      <td>Futrelle, Mrs. Jacques Heath (Lily May Peel)</td>\n",
       "      <td>female</td>\n",
       "      <td>35.0</td>\n",
       "      <td>1</td>\n",
       "      <td>0</td>\n",
       "      <td>113803</td>\n",
       "      <td>53.1000</td>\n",
       "      <td>C123</td>\n",
       "      <td>S</td>\n",
       "    </tr>\n",
       "    <tr>\n",
       "      <th>4</th>\n",
       "      <td>5</td>\n",
       "      <td>0</td>\n",
       "      <td>3</td>\n",
       "      <td>Allen, Mr. William Henry</td>\n",
       "      <td>male</td>\n",
       "      <td>35.0</td>\n",
       "      <td>0</td>\n",
       "      <td>0</td>\n",
       "      <td>373450</td>\n",
       "      <td>8.0500</td>\n",
       "      <td>NaN</td>\n",
       "      <td>S</td>\n",
       "    </tr>\n",
       "  </tbody>\n",
       "</table>\n",
       "</div>"
      ],
      "text/plain": [
       "   PassengerId  Survived  Pclass  \\\n",
       "0            1         0       3   \n",
       "1            2         1       1   \n",
       "2            3         1       3   \n",
       "3            4         1       1   \n",
       "4            5         0       3   \n",
       "\n",
       "                                                Name     Sex   Age  SibSp  \\\n",
       "0                            Braund, Mr. Owen Harris    male  22.0      1   \n",
       "1  Cumings, Mrs. John Bradley (Florence Briggs Th...  female  38.0      1   \n",
       "2                             Heikkinen, Miss. Laina  female  26.0      0   \n",
       "3       Futrelle, Mrs. Jacques Heath (Lily May Peel)  female  35.0      1   \n",
       "4                           Allen, Mr. William Henry    male  35.0      0   \n",
       "\n",
       "   Parch            Ticket     Fare Cabin Embarked  \n",
       "0      0         A/5 21171   7.2500   NaN        S  \n",
       "1      0          PC 17599  71.2833   C85        C  \n",
       "2      0  STON/O2. 3101282   7.9250   NaN        S  \n",
       "3      0            113803  53.1000  C123        S  \n",
       "4      0            373450   8.0500   NaN        S  "
      ]
     },
     "execution_count": 10,
     "metadata": {},
     "output_type": "execute_result"
    }
   ],
   "source": [
    "train.head()"
   ]
  },
  {
   "cell_type": "code",
   "execution_count": 11,
   "id": "4f354a67",
   "metadata": {
    "execution": {
     "iopub.execute_input": "2022-05-22T11:38:46.730786Z",
     "iopub.status.busy": "2022-05-22T11:38:46.730405Z",
     "iopub.status.idle": "2022-05-22T11:38:46.735896Z",
     "shell.execute_reply": "2022-05-22T11:38:46.735405Z"
    },
    "papermill": {
     "duration": 0.092549,
     "end_time": "2022-05-22T11:38:46.737628",
     "exception": false,
     "start_time": "2022-05-22T11:38:46.645079",
     "status": "completed"
    },
    "tags": []
   },
   "outputs": [
    {
     "data": {
      "text/plain": [
       "PassengerId      int64\n",
       "Survived         int64\n",
       "Pclass           int64\n",
       "Name            object\n",
       "Sex             object\n",
       "Age            float64\n",
       "SibSp            int64\n",
       "Parch            int64\n",
       "Ticket          object\n",
       "Fare           float64\n",
       "Cabin           object\n",
       "Embarked        object\n",
       "dtype: object"
      ]
     },
     "execution_count": 11,
     "metadata": {},
     "output_type": "execute_result"
    }
   ],
   "source": [
    "train.dtypes"
   ]
  },
  {
   "cell_type": "code",
   "execution_count": 12,
   "id": "67acba91",
   "metadata": {
    "execution": {
     "iopub.execute_input": "2022-05-22T11:38:46.910127Z",
     "iopub.status.busy": "2022-05-22T11:38:46.909621Z",
     "iopub.status.idle": "2022-05-22T11:38:46.937931Z",
     "shell.execute_reply": "2022-05-22T11:38:46.937409Z"
    },
    "papermill": {
     "duration": 0.117032,
     "end_time": "2022-05-22T11:38:46.939689",
     "exception": false,
     "start_time": "2022-05-22T11:38:46.822657",
     "status": "completed"
    },
    "tags": []
   },
   "outputs": [
    {
     "data": {
      "text/html": [
       "<div>\n",
       "<style scoped>\n",
       "    .dataframe tbody tr th:only-of-type {\n",
       "        vertical-align: middle;\n",
       "    }\n",
       "\n",
       "    .dataframe tbody tr th {\n",
       "        vertical-align: top;\n",
       "    }\n",
       "\n",
       "    .dataframe thead th {\n",
       "        text-align: right;\n",
       "    }\n",
       "</style>\n",
       "<table border=\"1\" class=\"dataframe\">\n",
       "  <thead>\n",
       "    <tr style=\"text-align: right;\">\n",
       "      <th></th>\n",
       "      <th>PassengerId</th>\n",
       "      <th>Survived</th>\n",
       "      <th>Pclass</th>\n",
       "      <th>Age</th>\n",
       "      <th>SibSp</th>\n",
       "      <th>Parch</th>\n",
       "      <th>Fare</th>\n",
       "    </tr>\n",
       "  </thead>\n",
       "  <tbody>\n",
       "    <tr>\n",
       "      <th>count</th>\n",
       "      <td>881.000000</td>\n",
       "      <td>881.000000</td>\n",
       "      <td>881.000000</td>\n",
       "      <td>711.000000</td>\n",
       "      <td>881.000000</td>\n",
       "      <td>881.000000</td>\n",
       "      <td>881.000000</td>\n",
       "    </tr>\n",
       "    <tr>\n",
       "      <th>mean</th>\n",
       "      <td>446.713961</td>\n",
       "      <td>0.385925</td>\n",
       "      <td>2.307605</td>\n",
       "      <td>29.731603</td>\n",
       "      <td>0.455165</td>\n",
       "      <td>0.363224</td>\n",
       "      <td>31.121566</td>\n",
       "    </tr>\n",
       "    <tr>\n",
       "      <th>std</th>\n",
       "      <td>256.617021</td>\n",
       "      <td>0.487090</td>\n",
       "      <td>0.835055</td>\n",
       "      <td>14.547835</td>\n",
       "      <td>0.871571</td>\n",
       "      <td>0.791839</td>\n",
       "      <td>47.996249</td>\n",
       "    </tr>\n",
       "    <tr>\n",
       "      <th>min</th>\n",
       "      <td>1.000000</td>\n",
       "      <td>0.000000</td>\n",
       "      <td>1.000000</td>\n",
       "      <td>0.420000</td>\n",
       "      <td>0.000000</td>\n",
       "      <td>0.000000</td>\n",
       "      <td>0.000000</td>\n",
       "    </tr>\n",
       "    <tr>\n",
       "      <th>25%</th>\n",
       "      <td>226.000000</td>\n",
       "      <td>0.000000</td>\n",
       "      <td>2.000000</td>\n",
       "      <td>20.250000</td>\n",
       "      <td>0.000000</td>\n",
       "      <td>0.000000</td>\n",
       "      <td>7.895800</td>\n",
       "    </tr>\n",
       "    <tr>\n",
       "      <th>50%</th>\n",
       "      <td>448.000000</td>\n",
       "      <td>0.000000</td>\n",
       "      <td>3.000000</td>\n",
       "      <td>28.000000</td>\n",
       "      <td>0.000000</td>\n",
       "      <td>0.000000</td>\n",
       "      <td>14.454200</td>\n",
       "    </tr>\n",
       "    <tr>\n",
       "      <th>75%</th>\n",
       "      <td>668.000000</td>\n",
       "      <td>1.000000</td>\n",
       "      <td>3.000000</td>\n",
       "      <td>38.000000</td>\n",
       "      <td>1.000000</td>\n",
       "      <td>0.000000</td>\n",
       "      <td>30.500000</td>\n",
       "    </tr>\n",
       "    <tr>\n",
       "      <th>max</th>\n",
       "      <td>891.000000</td>\n",
       "      <td>1.000000</td>\n",
       "      <td>3.000000</td>\n",
       "      <td>80.000000</td>\n",
       "      <td>5.000000</td>\n",
       "      <td>6.000000</td>\n",
       "      <td>512.329200</td>\n",
       "    </tr>\n",
       "  </tbody>\n",
       "</table>\n",
       "</div>"
      ],
      "text/plain": [
       "       PassengerId    Survived      Pclass         Age       SibSp  \\\n",
       "count   881.000000  881.000000  881.000000  711.000000  881.000000   \n",
       "mean    446.713961    0.385925    2.307605   29.731603    0.455165   \n",
       "std     256.617021    0.487090    0.835055   14.547835    0.871571   \n",
       "min       1.000000    0.000000    1.000000    0.420000    0.000000   \n",
       "25%     226.000000    0.000000    2.000000   20.250000    0.000000   \n",
       "50%     448.000000    0.000000    3.000000   28.000000    0.000000   \n",
       "75%     668.000000    1.000000    3.000000   38.000000    1.000000   \n",
       "max     891.000000    1.000000    3.000000   80.000000    5.000000   \n",
       "\n",
       "            Parch        Fare  \n",
       "count  881.000000  881.000000  \n",
       "mean     0.363224   31.121566  \n",
       "std      0.791839   47.996249  \n",
       "min      0.000000    0.000000  \n",
       "25%      0.000000    7.895800  \n",
       "50%      0.000000   14.454200  \n",
       "75%      0.000000   30.500000  \n",
       "max      6.000000  512.329200  "
      ]
     },
     "execution_count": 12,
     "metadata": {},
     "output_type": "execute_result"
    }
   ],
   "source": [
    "## Summarize data\n",
    "# Summarie and statistics\n",
    "train.describe()"
   ]
  },
  {
   "cell_type": "markdown",
   "id": "35e1f402",
   "metadata": {
    "papermill": {
     "duration": 0.086393,
     "end_time": "2022-05-22T11:38:47.112040",
     "exception": false,
     "start_time": "2022-05-22T11:38:47.025647",
     "status": "completed"
    },
    "tags": []
   },
   "source": [
    "## 3.Feature analysis\n",
    "\n",
    "\n",
    "### 3.1 Numerical values"
   ]
  },
  {
   "cell_type": "code",
   "execution_count": 13,
   "id": "af171893",
   "metadata": {
    "execution": {
     "iopub.execute_input": "2022-05-22T11:38:47.284550Z",
     "iopub.status.busy": "2022-05-22T11:38:47.284167Z",
     "iopub.status.idle": "2022-05-22T11:38:47.624037Z",
     "shell.execute_reply": "2022-05-22T11:38:47.623224Z"
    },
    "papermill": {
     "duration": 0.428924,
     "end_time": "2022-05-22T11:38:47.626524",
     "exception": false,
     "start_time": "2022-05-22T11:38:47.197600",
     "status": "completed"
    },
    "tags": []
   },
   "outputs": [
    {
     "data": {
      "image/png": "[encoded data removed]",
      "text/plain": [
       "<Figure size 432x288 with 2 Axes>"
      ]
     },
     "metadata": {},
     "output_type": "display_data"
    }
   ],
   "source": [
    "# Correlation.matirx between numerical values (SibSp Parch Age and Fare values) and Survived\n",
    "\n",
    "g = sns.heatmap(train[[\"Survived\", \"SibSp\", \"Parch\", \"Age\", \"Fare\"]].corr(),annot=True, fmt = \".2f\", cmap = \"coolwarm\")"
   ]
  },
  {
   "cell_type": "markdown",
   "id": "17cc3c66",
   "metadata": {
    "papermill": {
     "duration": 0.08662,
     "end_time": "2022-05-22T11:38:47.799712",
     "exception": false,
     "start_time": "2022-05-22T11:38:47.713092",
     "status": "completed"
    },
    "tags": []
   },
   "source": [
    "**SibSP**"
   ]
  },
  {
   "cell_type": "code",
   "execution_count": 14,
   "id": "41a92eff",
   "metadata": {
    "execution": {
     "iopub.execute_input": "2022-05-22T11:38:47.973983Z",
     "iopub.status.busy": "2022-05-22T11:38:47.973709Z",
     "iopub.status.idle": "2022-05-22T11:38:48.478201Z",
     "shell.execute_reply": "2022-05-22T11:38:48.477408Z"
    },
    "papermill": {
     "duration": 0.595127,
     "end_time": "2022-05-22T11:38:48.480706",
     "exception": false,
     "start_time": "2022-05-22T11:38:47.885579",
     "status": "completed"
    },
    "tags": []
   },
   "outputs": [
    {
     "data": {
      "image/png": "[encoded data removed]",
      "text/plain": [
       "<Figure size 432x432 with 1 Axes>"
      ]
     },
     "metadata": {},
     "output_type": "display_data"
    }
   ],
   "source": [
    "# Explore SibSp feature vs Survived\n",
    "g = sns.factorplot(x=\"SibSp\", y=\"Survived\", data=train, kind='bar', size = 6, palette = \"muted\")\n",
    "g.despine(left=True)\n",
    "g = g.set_ylabels(\"survival probability\")"
   ]
  },
  {
   "cell_type": "markdown",
   "id": "13eb5662",
   "metadata": {
    "papermill": {
     "duration": 0.086403,
     "end_time": "2022-05-22T11:38:48.653842",
     "exception": false,
     "start_time": "2022-05-22T11:38:48.567439",
     "status": "completed"
    },
    "tags": []
   },
   "source": [
    "passenges having a lot of siblings/spouses have less chance to survive.\n",
    "\n",
    "Single passengers(0 Sib) or with two other persons(1 of 2) have more chance to survive."
   ]
  },
  {
   "cell_type": "markdown",
   "id": "ba7b33e7",
   "metadata": {
    "papermill": {
     "duration": 0.086624,
     "end_time": "2022-05-22T11:38:48.827195",
     "exception": false,
     "start_time": "2022-05-22T11:38:48.740571",
     "status": "completed"
    },
    "tags": []
   },
   "source": [
    "**Parch**"
   ]
  },
  {
   "cell_type": "code",
   "execution_count": 15,
   "id": "94fa2e5a",
   "metadata": {
    "execution": {
     "iopub.execute_input": "2022-05-22T11:38:49.003032Z",
     "iopub.status.busy": "2022-05-22T11:38:49.002769Z",
     "iopub.status.idle": "2022-05-22T11:38:49.518254Z",
     "shell.execute_reply": "2022-05-22T11:38:49.517449Z"
    },
    "papermill": {
     "duration": 0.606508,
     "end_time": "2022-05-22T11:38:49.520355",
     "exception": false,
     "start_time": "2022-05-22T11:38:48.913847",
     "status": "completed"
    },
    "tags": []
   },
   "outputs": [
    {
     "data": {
      "image/png": "[encoded data removed]",
      "text/plain": [
       "<Figure size 432x432 with 1 Axes>"
      ]
     },
     "metadata": {},
     "output_type": "display_data"
    }
   ],
   "source": [
    "# Explore Parch feature vs Survived\n",
    "g = sns.factorplot(x=\"Parch\", y=\"Survived\", data=train, kind=\"bar\", size=6, palette = \"muted\")\n",
    "g.despine(left=True)\n",
    "g = g.set_ylabels(\"survival probability\")"
   ]
  },
  {
   "cell_type": "markdown",
   "id": "06b48136",
   "metadata": {
    "papermill": {
     "duration": 0.087883,
     "end_time": "2022-05-22T11:38:49.698177",
     "exception": false,
     "start_time": "2022-05-22T11:38:49.610294",
     "status": "completed"
    },
    "tags": []
   },
   "source": [
    "Small families have more chance to survive, more than single (Parch 0), medium (Parch 3,4) and large families (Parch 5,6 ).\n",
    "\n",
    "\n",
    "Be carefull there is an important standard deviation in the survival of passengers with 3 parents/children"
   ]
  },
  {
   "cell_type": "markdown",
   "id": "5f76c4ee",
   "metadata": {
    "papermill": {
     "duration": 0.087757,
     "end_time": "2022-05-22T11:38:49.874522",
     "exception": false,
     "start_time": "2022-05-22T11:38:49.786765",
     "status": "completed"
    },
    "tags": []
   },
   "source": [
    "**Age**"
   ]
  },
  {
   "cell_type": "code",
   "execution_count": 16,
   "id": "e9695f36",
   "metadata": {
    "execution": {
     "iopub.execute_input": "2022-05-22T11:38:50.054985Z",
     "iopub.status.busy": "2022-05-22T11:38:50.054221Z",
     "iopub.status.idle": "2022-05-22T11:38:50.653190Z",
     "shell.execute_reply": "2022-05-22T11:38:50.652627Z"
    },
    "papermill": {
     "duration": 0.69177,
     "end_time": "2022-05-22T11:38:50.655207",
     "exception": false,
     "start_time": "2022-05-22T11:38:49.963437",
     "status": "completed"
    },
    "tags": []
   },
   "outputs": [
    {
     "data": {
      "image/png": "[encoded data removed]",
      "text/plain": [
       "<Figure size 432x216 with 2 Axes>"
      ]
     },
     "metadata": {},
     "output_type": "display_data"
    }
   ],
   "source": [
    "# Age vs Survived\n",
    "g = sns.FacetGrid(train, col='Survived')\n",
    "g = g.map(sns.distplot, \"Age\")"
   ]
  },
  {
   "cell_type": "code",
   "execution_count": 17,
   "id": "ba01e40e",
   "metadata": {
    "execution": {
     "iopub.execute_input": "2022-05-22T11:38:50.838021Z",
     "iopub.status.busy": "2022-05-22T11:38:50.837630Z",
     "iopub.status.idle": "2022-05-22T11:38:51.098900Z",
     "shell.execute_reply": "2022-05-22T11:38:51.098263Z"
    },
    "papermill": {
     "duration": 0.356019,
     "end_time": "2022-05-22T11:38:51.100958",
     "exception": false,
     "start_time": "2022-05-22T11:38:50.744939",
     "status": "completed"
    },
    "tags": []
   },
   "outputs": [
    {
     "data": {
      "image/png": "[encoded data removed]",
      "text/plain": [
       "<Figure size 432x288 with 1 Axes>"
      ]
     },
     "metadata": {},
     "output_type": "display_data"
    }
   ],
   "source": [
    "# Age distibution\n",
    "g = sns.kdeplot(train[\"Age\"][(train[\"Survived\"] == 0) & (train[\"Age\"].notnull())], color=\"Red\", shade = True)\n",
    "g = sns.kdeplot(train[\"Age\"][(train[\"Survived\"] == 1) & (train[\"Age\"].notnull())], ax= g, color=\"Blue\", shade= True)\n",
    "g.set_xlabel(\"Age\")\n",
    "g.set_ylabel(\"Frequency\")\n",
    "g = g.legend([\"Not Survived\", \"Survived\"])"
   ]
  },
  {
   "cell_type": "markdown",
   "id": "98ec50c4",
   "metadata": {
    "papermill": {
     "duration": 0.090232,
     "end_time": "2022-05-22T11:38:51.282280",
     "exception": false,
     "start_time": "2022-05-22T11:38:51.192048",
     "status": "completed"
    },
    "tags": []
   },
   "source": [
    "can see a peak between 0 and 5"
   ]
  },
  {
   "cell_type": "markdown",
   "id": "521feb61",
   "metadata": {
    "papermill": {
     "duration": 0.089703,
     "end_time": "2022-05-22T11:38:51.462703",
     "exception": false,
     "start_time": "2022-05-22T11:38:51.373000",
     "status": "completed"
    },
    "tags": []
   },
   "source": [
    "**Fare**"
   ]
  },
  {
   "cell_type": "code",
   "execution_count": 18,
   "id": "6df711f7",
   "metadata": {
    "execution": {
     "iopub.execute_input": "2022-05-22T11:38:51.645175Z",
     "iopub.status.busy": "2022-05-22T11:38:51.644772Z",
     "iopub.status.idle": "2022-05-22T11:38:51.649939Z",
     "shell.execute_reply": "2022-05-22T11:38:51.649422Z"
    },
    "papermill": {
     "duration": 0.098552,
     "end_time": "2022-05-22T11:38:51.651644",
     "exception": false,
     "start_time": "2022-05-22T11:38:51.553092",
     "status": "completed"
    },
    "tags": []
   },
   "outputs": [
    {
     "data": {
      "text/plain": [
       "1"
      ]
     },
     "execution_count": 18,
     "metadata": {},
     "output_type": "execute_result"
    }
   ],
   "source": [
    "dataset[\"Fare\"].isnull().sum()"
   ]
  },
  {
   "cell_type": "code",
   "execution_count": 19,
   "id": "7ab5660f",
   "metadata": {
    "execution": {
     "iopub.execute_input": "2022-05-22T11:38:51.833807Z",
     "iopub.status.busy": "2022-05-22T11:38:51.833413Z",
     "iopub.status.idle": "2022-05-22T11:38:51.838343Z",
     "shell.execute_reply": "2022-05-22T11:38:51.837531Z"
    },
    "papermill": {
     "duration": 0.098192,
     "end_time": "2022-05-22T11:38:51.840269",
     "exception": false,
     "start_time": "2022-05-22T11:38:51.742077",
     "status": "completed"
    },
    "tags": []
   },
   "outputs": [],
   "source": [
    "# Fill Fare missing values with the median value\n",
    "dataset[\"Fare\"] = dataset[\"Fare\"].fillna(dataset[\"Fare\"].median())"
   ]
  },
  {
   "cell_type": "code",
   "execution_count": 20,
   "id": "85d65a1c",
   "metadata": {
    "execution": {
     "iopub.execute_input": "2022-05-22T11:38:52.024394Z",
     "iopub.status.busy": "2022-05-22T11:38:52.023910Z",
     "iopub.status.idle": "2022-05-22T11:38:52.378726Z",
     "shell.execute_reply": "2022-05-22T11:38:52.377889Z"
    },
    "papermill": {
     "duration": 0.449826,
     "end_time": "2022-05-22T11:38:52.380755",
     "exception": false,
     "start_time": "2022-05-22T11:38:51.930929",
     "status": "completed"
    },
    "tags": []
   },
   "outputs": [
    {
     "data": {
      "image/png": "[encoded data removed]",
      "text/plain": [
       "<Figure size 432x288 with 1 Axes>"
      ]
     },
     "metadata": {},
     "output_type": "display_data"
    }
   ],
   "source": [
    "# Explore Fare distribution\n",
    "g = sns.distplot(dataset[\"Fare\"], color=\"m\", label=\"Skewness : %.2f\"%(dataset[\"Fare\"].skew()))\n",
    "g = g.legend(loc=\"best\")"
   ]
  },
  {
   "cell_type": "markdown",
   "id": "27850f69",
   "metadata": {
    "papermill": {
     "duration": 0.091876,
     "end_time": "2022-05-22T11:38:52.563935",
     "exception": false,
     "start_time": "2022-05-22T11:38:52.472059",
     "status": "completed"
    },
    "tags": []
   },
   "source": [
    "분포가 비대칭적임. This can lead to overweigth very high values in the model, even if it is scaled.\n",
    "\n",
    "better to transform it with the log function to reduce tis skew."
   ]
  },
  {
   "cell_type": "code",
   "execution_count": 21,
   "id": "b474aa4f",
   "metadata": {
    "execution": {
     "iopub.execute_input": "2022-05-22T11:38:52.750259Z",
     "iopub.status.busy": "2022-05-22T11:38:52.749777Z",
     "iopub.status.idle": "2022-05-22T11:38:52.756712Z",
     "shell.execute_reply": "2022-05-22T11:38:52.755963Z"
    },
    "papermill": {
     "duration": 0.101765,
     "end_time": "2022-05-22T11:38:52.758596",
     "exception": false,
     "start_time": "2022-05-22T11:38:52.656831",
     "status": "completed"
    },
    "tags": []
   },
   "outputs": [],
   "source": [
    "# Apply log to Fare to reduce skewness distribution\n",
    "dataset[\"Fare\"] = dataset[\"Fare\"].map(lambda i: np.log(i) if i > 0 else 0)"
   ]
  },
  {
   "cell_type": "code",
   "execution_count": 22,
   "id": "26076b09",
   "metadata": {
    "execution": {
     "iopub.execute_input": "2022-05-22T11:38:52.944800Z",
     "iopub.status.busy": "2022-05-22T11:38:52.944200Z",
     "iopub.status.idle": "2022-05-22T11:38:53.391557Z",
     "shell.execute_reply": "2022-05-22T11:38:53.390586Z"
    },
    "papermill": {
     "duration": 0.543932,
     "end_time": "2022-05-22T11:38:53.393736",
     "exception": false,
     "start_time": "2022-05-22T11:38:52.849804",
     "status": "completed"
    },
    "tags": []
   },
   "outputs": [
    {
     "data": {
      "image/png": "[encoded data removed]",
      "text/plain": [
       "<Figure size 432x288 with 1 Axes>"
      ]
     },
     "metadata": {},
     "output_type": "display_data"
    }
   ],
   "source": [
    "g = sns.distplot(dataset[\"Fare\"], color=\"b\", label=\"Skewness : %.2f\"%(dataset[\"Fare\"].skew()))\n",
    "g = g.legend(loc=\"best\")"
   ]
  },
  {
   "cell_type": "code",
   "execution_count": 23,
   "id": "8914d519",
   "metadata": {
    "execution": {
     "iopub.execute_input": "2022-05-22T11:38:53.581013Z",
     "iopub.status.busy": "2022-05-22T11:38:53.580178Z",
     "iopub.status.idle": "2022-05-22T11:38:53.593542Z",
     "shell.execute_reply": "2022-05-22T11:38:53.592734Z"
    },
    "papermill": {
     "duration": 0.109228,
     "end_time": "2022-05-22T11:38:53.595528",
     "exception": false,
     "start_time": "2022-05-22T11:38:53.486300",
     "status": "completed"
    },
    "tags": []
   },
   "outputs": [
    {
     "data": {
      "text/html": [
       "<div>\n",
       "<style scoped>\n",
       "    .dataframe tbody tr th:only-of-type {\n",
       "        vertical-align: middle;\n",
       "    }\n",
       "\n",
       "    .dataframe tbody tr th {\n",
       "        vertical-align: top;\n",
       "    }\n",
       "\n",
       "    .dataframe thead th {\n",
       "        text-align: right;\n",
       "    }\n",
       "</style>\n",
       "<table border=\"1\" class=\"dataframe\">\n",
       "  <thead>\n",
       "    <tr style=\"text-align: right;\">\n",
       "      <th></th>\n",
       "      <th>Survived</th>\n",
       "    </tr>\n",
       "    <tr>\n",
       "      <th>Sex</th>\n",
       "      <th></th>\n",
       "    </tr>\n",
       "  </thead>\n",
       "  <tbody>\n",
       "    <tr>\n",
       "      <th>female</th>\n",
       "      <td>0.747573</td>\n",
       "    </tr>\n",
       "    <tr>\n",
       "      <th>male</th>\n",
       "      <td>0.190559</td>\n",
       "    </tr>\n",
       "  </tbody>\n",
       "</table>\n",
       "</div>"
      ],
      "text/plain": [
       "        Survived\n",
       "Sex             \n",
       "female  0.747573\n",
       "male    0.190559"
      ]
     },
     "execution_count": 23,
     "metadata": {},
     "output_type": "execute_result"
    }
   ],
   "source": [
    "train[[\"Sex\", \"Survived\"]].groupby('Sex').mean()"
   ]
  },
  {
   "cell_type": "markdown",
   "id": "bc1994df",
   "metadata": {
    "papermill": {
     "duration": 0.13632,
     "end_time": "2022-05-22T11:38:53.828111",
     "exception": false,
     "start_time": "2022-05-22T11:38:53.691791",
     "status": "completed"
    },
    "tags": []
   },
   "source": [
    "**Pclass**"
   ]
  },
  {
   "cell_type": "code",
   "execution_count": 24,
   "id": "66a470b4",
   "metadata": {
    "execution": {
     "iopub.execute_input": "2022-05-22T11:38:54.063070Z",
     "iopub.status.busy": "2022-05-22T11:38:54.061511Z",
     "iopub.status.idle": "2022-05-22T11:38:54.459723Z",
     "shell.execute_reply": "2022-05-22T11:38:54.458906Z"
    },
    "papermill": {
     "duration": 0.53418,
     "end_time": "2022-05-22T11:38:54.461933",
     "exception": false,
     "start_time": "2022-05-22T11:38:53.927753",
     "status": "completed"
    },
    "tags": []
   },
   "outputs": [
    {
     "data": {
      "image/png": "[encoded data removed]",
      "text/plain": [
       "<Figure size 432x432 with 1 Axes>"
      ]
     },
     "metadata": {},
     "output_type": "display_data"
    }
   ],
   "source": [
    "# Pclass vs Survived\n",
    "g = sns.factorplot(x=\"Pclass\", y=\"Survived\", data=train, kind=\"bar\", size = 6, palette = \"muted\")\n",
    "g.despine(left=True)\n",
    "g = g.set_ylabels(\"survival probablity\")"
   ]
  },
  {
   "cell_type": "code",
   "execution_count": 25,
   "id": "4c95051d",
   "metadata": {
    "execution": {
     "iopub.execute_input": "2022-05-22T11:38:54.654215Z",
     "iopub.status.busy": "2022-05-22T11:38:54.653663Z",
     "iopub.status.idle": "2022-05-22T11:38:55.208070Z",
     "shell.execute_reply": "2022-05-22T11:38:55.207474Z"
    },
    "papermill": {
     "duration": 0.652161,
     "end_time": "2022-05-22T11:38:55.209992",
     "exception": false,
     "start_time": "2022-05-22T11:38:54.557831",
     "status": "completed"
    },
    "tags": []
   },
   "outputs": [
    {
     "data": {
      "image/png": "[encoded data removed]",
      "text/plain": [
       "<Figure size 509.975x432 with 1 Axes>"
      ]
     },
     "metadata": {},
     "output_type": "display_data"
    }
   ],
   "source": [
    "# Explore Pclass vs Survived by Sex\n",
    "g = sns.factorplot(x=\"Pclass\", y=\"Survived\", hue=\"Sex\", data=train, size=6, kind='bar', palette=\"muted\")\n",
    "g.despine(left=True)\n",
    "g = g.set_ylabels(\"survival probability\")"
   ]
  },
  {
   "cell_type": "markdown",
   "id": "337fd8a1",
   "metadata": {
    "papermill": {
     "duration": 0.094313,
     "end_time": "2022-05-22T11:38:55.398462",
     "exception": false,
     "start_time": "2022-05-22T11:38:55.304149",
     "status": "completed"
    },
    "tags": []
   },
   "source": [
    "**Embarked**"
   ]
  },
  {
   "cell_type": "code",
   "execution_count": 26,
   "id": "a5fe23db",
   "metadata": {
    "execution": {
     "iopub.execute_input": "2022-05-22T11:38:55.589656Z",
     "iopub.status.busy": "2022-05-22T11:38:55.589175Z",
     "iopub.status.idle": "2022-05-22T11:38:55.595830Z",
     "shell.execute_reply": "2022-05-22T11:38:55.595019Z"
    },
    "papermill": {
     "duration": 0.104288,
     "end_time": "2022-05-22T11:38:55.597590",
     "exception": false,
     "start_time": "2022-05-22T11:38:55.493302",
     "status": "completed"
    },
    "tags": []
   },
   "outputs": [
    {
     "data": {
      "text/plain": [
       "2"
      ]
     },
     "execution_count": 26,
     "metadata": {},
     "output_type": "execute_result"
    }
   ],
   "source": [
    "dataset[\"Embarked\"].isnull().sum()"
   ]
  },
  {
   "cell_type": "code",
   "execution_count": 27,
   "id": "fb882426",
   "metadata": {
    "execution": {
     "iopub.execute_input": "2022-05-22T11:38:55.789299Z",
     "iopub.status.busy": "2022-05-22T11:38:55.788827Z",
     "iopub.status.idle": "2022-05-22T11:38:55.792960Z",
     "shell.execute_reply": "2022-05-22T11:38:55.792424Z"
    },
    "papermill": {
     "duration": 0.102591,
     "end_time": "2022-05-22T11:38:55.794755",
     "exception": false,
     "start_time": "2022-05-22T11:38:55.692164",
     "status": "completed"
    },
    "tags": []
   },
   "outputs": [],
   "source": [
    "# Fill nan values of dataset set with 'S' most frequent value\n",
    "dataset[\"Embarked\"] = dataset[\"Embarked\"].fillna(\"S\")"
   ]
  },
  {
   "cell_type": "code",
   "execution_count": 28,
   "id": "1df962c3",
   "metadata": {
    "execution": {
     "iopub.execute_input": "2022-05-22T11:38:55.986693Z",
     "iopub.status.busy": "2022-05-22T11:38:55.986083Z",
     "iopub.status.idle": "2022-05-22T11:38:56.374331Z",
     "shell.execute_reply": "2022-05-22T11:38:56.373759Z"
    },
    "papermill": {
     "duration": 0.486407,
     "end_time": "2022-05-22T11:38:56.376079",
     "exception": false,
     "start_time": "2022-05-22T11:38:55.889672",
     "status": "completed"
    },
    "tags": []
   },
   "outputs": [
    {
     "data": {
      "image/png": "[encoded data removed]",
      "text/plain": [
       "<Figure size 432x432 with 1 Axes>"
      ]
     },
     "metadata": {},
     "output_type": "display_data"
    }
   ],
   "source": [
    "# Explore Embarked vs Survived\n",
    "g = sns.factorplot(x=\"Embarked\", y=\"Survived\", data=train, size=6, kind=\"bar\", palette=\"muted\")\n",
    "g.despine(left=True)\n",
    "g = g.set_ylabels(\"survival probability\")"
   ]
  },
  {
   "cell_type": "markdown",
   "id": "c98b66d8",
   "metadata": {
    "papermill": {
     "duration": 0.096384,
     "end_time": "2022-05-22T11:38:56.568500",
     "exception": false,
     "start_time": "2022-05-22T11:38:56.472116",
     "status": "completed"
    },
    "tags": []
   },
   "source": [
    "passenger coming form Cherbourg(C) have more chance to survie than Queenstown(Q) and Southampton(S).\n",
    "\n",
    "hypothesis: proportion of first class passengers is higher for those who came from C > Q > S"
   ]
  },
  {
   "cell_type": "code",
   "execution_count": 29,
   "id": "2cd3a3bc",
   "metadata": {
    "execution": {
     "iopub.execute_input": "2022-05-22T11:38:56.763220Z",
     "iopub.status.busy": "2022-05-22T11:38:56.762725Z",
     "iopub.status.idle": "2022-05-22T11:38:57.368320Z",
     "shell.execute_reply": "2022-05-22T11:38:57.367731Z"
    },
    "papermill": {
     "duration": 0.70575,
     "end_time": "2022-05-22T11:38:57.370102",
     "exception": false,
     "start_time": "2022-05-22T11:38:56.664352",
     "status": "completed"
    },
    "tags": []
   },
   "outputs": [
    {
     "data": {
      "image/png": "[encoded data removed]",
      "text/plain": [
       "<Figure size 1296x432 with 3 Axes>"
      ]
     },
     "metadata": {},
     "output_type": "display_data"
    }
   ],
   "source": [
    "# Explore Pclass vs Embarked\n",
    "g = sns.factorplot(\"Pclass\", col=\"Embarked\", data=train, size=6, kind=\"count\", palette=\"muted\")\n",
    "g.despine(left=True)\n",
    "g = g.set_ylabels(\"Count\")"
   ]
  },
  {
   "cell_type": "markdown",
   "id": "8d6a4c28",
   "metadata": {
    "papermill": {
     "duration": 0.097046,
     "end_time": "2022-05-22T11:38:57.564511",
     "exception": false,
     "start_time": "2022-05-22T11:38:57.467465",
     "status": "completed"
    },
    "tags": []
   },
   "source": [
    "third class is the most frequent for passenger coming from Southhampton(S) and Q. C passengers are mostly in first class which have the highest survival rate."
   ]
  },
  {
   "cell_type": "markdown",
   "id": "ae909660",
   "metadata": {
    "papermill": {
     "duration": 0.097407,
     "end_time": "2022-05-22T11:38:57.758516",
     "exception": false,
     "start_time": "2022-05-22T11:38:57.661109",
     "status": "completed"
    },
    "tags": []
   },
   "source": [
    "## 4. Filling missing Values\n",
    "\n",
    "### 4.1 Age\n",
    "\n",
    "* Age column contains 256 missing values\n",
    "* 생존 가능성 더 높은 집단(어린이)이 있으니 age feature에 결측값 넣어서 사용하는 것이 바람직\n",
    "* 문제 해결을 위해 age와 상관관계가 있는 다른 feature들 확인\n",
    "\n",
    "\n"
   ]
  },
  {
   "cell_type": "code",
   "execution_count": 30,
   "id": "4af08267",
   "metadata": {
    "execution": {
     "iopub.execute_input": "2022-05-22T11:38:57.955533Z",
     "iopub.status.busy": "2022-05-22T11:38:57.955184Z",
     "iopub.status.idle": "2022-05-22T11:38:59.570029Z",
     "shell.execute_reply": "2022-05-22T11:38:59.569196Z"
    },
    "papermill": {
     "duration": 1.717095,
     "end_time": "2022-05-22T11:38:59.572040",
     "exception": false,
     "start_time": "2022-05-22T11:38:57.854945",
     "status": "completed"
    },
    "tags": []
   },
   "outputs": [
    {
     "data": {
      "image/png": "[encoded data removed]",
      "text/plain": [
       "<Figure size 360x360 with 1 Axes>"
      ]
     },
     "metadata": {},
     "output_type": "display_data"
    },
    {
     "data": {
      "image/png": "[encoded data removed]",
      "text/plain": [
       "<Figure size 406.6x360 with 1 Axes>"
      ]
     },
     "metadata": {},
     "output_type": "display_data"
    },
    {
     "data": {
      "image/png": "[encoded data removed]",
      "text/plain": [
       "<Figure size 360x360 with 1 Axes>"
      ]
     },
     "metadata": {},
     "output_type": "display_data"
    },
    {
     "data": {
      "image/png": "[encoded data removed]",
      "text/plain": [
       "<Figure size 360x360 with 1 Axes>"
      ]
     },
     "metadata": {},
     "output_type": "display_data"
    }
   ],
   "source": [
    "# Explore Age vs Sex, Parch, Pclass and SibSP\n",
    "g = sns.factorplot(y=\"Age\", x=\"Sex\", data=dataset, kind=\"box\")\n",
    "g = sns.factorplot(y=\"Age\", x=\"Sex\", hue=\"Pclass\", data=dataset, kind=\"box\")\n",
    "g = sns.factorplot(y=\"Age\", x=\"Parch\", data=dataset, kind=\"box\")\n",
    "g = sns.factorplot(y=\"Age\", x=\"SibSp\", data=dataset, kind=\"box\")"
   ]
  },
  {
   "cell_type": "markdown",
   "id": "f5950d47",
   "metadata": {
    "papermill": {
     "duration": 0.101341,
     "end_time": "2022-05-22T11:38:59.775258",
     "exception": false,
     "start_time": "2022-05-22T11:38:59.673917",
     "status": "completed"
    },
    "tags": []
   },
   "source": [
    "age는 남성 여성 비슷\n",
    "\n",
    "But 일등석 > 이등석 > 삼등석\n",
    "\n",
    "승객이 부모, 자녀를 더 많이 가질수록 나이가 더 많고 형제/배우자를 더 많이 가질수록 나이가 더 젊음.."
   ]
  },
  {
   "cell_type": "code",
   "execution_count": 31,
   "id": "3845cbcc",
   "metadata": {
    "execution": {
     "iopub.execute_input": "2022-05-22T11:38:59.979988Z",
     "iopub.status.busy": "2022-05-22T11:38:59.979727Z",
     "iopub.status.idle": "2022-05-22T11:38:59.985434Z",
     "shell.execute_reply": "2022-05-22T11:38:59.984794Z"
    },
    "papermill": {
     "duration": 0.110942,
     "end_time": "2022-05-22T11:38:59.987242",
     "exception": false,
     "start_time": "2022-05-22T11:38:59.876300",
     "status": "completed"
    },
    "tags": []
   },
   "outputs": [],
   "source": [
    "# convert sex into categorical value 0 for male and 1 for female\n",
    "dataset[\"Sex\"] = dataset[\"Sex\"].map({\"male\":0, \"female\":1})"
   ]
  },
  {
   "cell_type": "code",
   "execution_count": 32,
   "id": "18ce7a53",
   "metadata": {
    "execution": {
     "iopub.execute_input": "2022-05-22T11:39:00.193279Z",
     "iopub.status.busy": "2022-05-22T11:39:00.192449Z",
     "iopub.status.idle": "2022-05-22T11:39:00.502487Z",
     "shell.execute_reply": "2022-05-22T11:39:00.501675Z"
    },
    "papermill": {
     "duration": 0.415326,
     "end_time": "2022-05-22T11:39:00.505009",
     "exception": false,
     "start_time": "2022-05-22T11:39:00.089683",
     "status": "completed"
    },
    "tags": []
   },
   "outputs": [
    {
     "data": {
      "image/png": "[encoded data removed]",
      "text/plain": [
       "<Figure size 432x288 with 2 Axes>"
      ]
     },
     "metadata": {},
     "output_type": "display_data"
    }
   ],
   "source": [
    "g = sns.heatmap(dataset[[\"Age\", \"Sex\", \"SibSp\",\"Parch\",\"Pclass\"]].corr(),cmap=\"BrBG\", annot=True)"
   ]
  },
  {
   "cell_type": "markdown",
   "id": "9fe4a560",
   "metadata": {
    "papermill": {
     "duration": 0.100886,
     "end_time": "2022-05-22T11:39:00.709246",
     "exception": false,
     "start_time": "2022-05-22T11:39:00.608360",
     "status": "completed"
    },
    "tags": []
   },
   "source": [
    "age is negatively correalted with Pclass,Parch and SibSp.\n",
    "\n",
    "now, fill age with the median age of similar rows accroding to Pclass, Parch and SibSp!"
   ]
  },
  {
   "cell_type": "code",
   "execution_count": 33,
   "id": "1f30ae34",
   "metadata": {
    "execution": {
     "iopub.execute_input": "2022-05-22T11:39:00.916138Z",
     "iopub.status.busy": "2022-05-22T11:39:00.915876Z",
     "iopub.status.idle": "2022-05-22T11:39:01.446573Z",
     "shell.execute_reply": "2022-05-22T11:39:01.445947Z"
    },
    "papermill": {
     "duration": 0.637792,
     "end_time": "2022-05-22T11:39:01.448761",
     "exception": false,
     "start_time": "2022-05-22T11:39:00.810969",
     "status": "completed"
    },
    "tags": []
   },
   "outputs": [],
   "source": [
    "# Filling missing value of Age\n",
    "# Fill age with the median age of similar rows according to Pclass, Parch and SibSp\n",
    "# Index of NaN age rows\n",
    "\n",
    "index_NaN_age = list(dataset[\"Age\"][dataset[\"Age\"].isnull()].index)\n",
    "\n",
    "for i in index_NaN_age :\n",
    "    age_med = dataset[\"Age\"].median()\n",
    "    age_pred = dataset[\"Age\"][((dataset['SibSp'] == dataset.iloc[i][\"SibSp\"]) & (dataset['Parch'] == dataset.iloc[i][\"Parch\"]) & (dataset['Pclass'] == dataset.iloc[i][\"Pclass\"]))].median()\n",
    "    if not np.isnan(age_pred) :\n",
    "        dataset['Age'].iloc[i] = age_pred\n",
    "    else :\n",
    "        dataset['Age'].iloc[i] = age_med"
   ]
  },
  {
   "cell_type": "code",
   "execution_count": 34,
   "id": "a0f850c2",
   "metadata": {
    "execution": {
     "iopub.execute_input": "2022-05-22T11:39:01.654464Z",
     "iopub.status.busy": "2022-05-22T11:39:01.653920Z",
     "iopub.status.idle": "2022-05-22T11:39:02.255025Z",
     "shell.execute_reply": "2022-05-22T11:39:02.254234Z"
    },
    "papermill": {
     "duration": 0.707027,
     "end_time": "2022-05-22T11:39:02.257317",
     "exception": false,
     "start_time": "2022-05-22T11:39:01.550290",
     "status": "completed"
    },
    "tags": []
   },
   "outputs": [
    {
     "data": {
      "image/png": "[encoded data removed]",
      "text/plain": [
       "<Figure size 360x360 with 1 Axes>"
      ]
     },
     "metadata": {},
     "output_type": "display_data"
    },
    {
     "data": {
      "image/png": "[encoded data removed]",
      "text/plain": [
       "<Figure size 360x360 with 1 Axes>"
      ]
     },
     "metadata": {},
     "output_type": "display_data"
    }
   ],
   "source": [
    "g = sns.factorplot(x=\"Survived\", y = \"Age\", data = train, kind=\"box\")\n",
    "g = sns.factorplot(x=\"Survived\", y = \"Age\", data = train, kind=\"violin\")"
   ]
  },
  {
   "cell_type": "markdown",
   "id": "1ab13a54",
   "metadata": {
    "papermill": {
     "duration": 0.103564,
     "end_time": "2022-05-22T11:39:02.464657",
     "exception": false,
     "start_time": "2022-05-22T11:39:02.361093",
     "status": "completed"
    },
    "tags": []
   },
   "source": [
    "* no difrrerecne between median value of age in survival and not survived subpopulation.\n",
    "* But in violin plot of survived passengers, young passengers have higher survival rate."
   ]
  },
  {
   "cell_type": "markdown",
   "id": "79493007",
   "metadata": {
    "papermill": {
     "duration": 0.10593,
     "end_time": "2022-05-22T11:39:02.674739",
     "exception": false,
     "start_time": "2022-05-22T11:39:02.568809",
     "status": "completed"
    },
    "tags": []
   },
   "source": [
    "## 5. Feature engineering\n",
    "\n",
    "\n",
    "### 5.1 Name/Title"
   ]
  },
  {
   "cell_type": "code",
   "execution_count": 35,
   "id": "2373f4d4",
   "metadata": {
    "execution": {
     "iopub.execute_input": "2022-05-22T11:39:02.886011Z",
     "iopub.status.busy": "2022-05-22T11:39:02.885739Z",
     "iopub.status.idle": "2022-05-22T11:39:02.892491Z",
     "shell.execute_reply": "2022-05-22T11:39:02.891940Z"
    },
    "papermill": {
     "duration": 0.114304,
     "end_time": "2022-05-22T11:39:02.894603",
     "exception": false,
     "start_time": "2022-05-22T11:39:02.780299",
     "status": "completed"
    },
    "tags": []
   },
   "outputs": [
    {
     "data": {
      "text/plain": [
       "0                              Braund, Mr. Owen Harris\n",
       "1    Cumings, Mrs. John Bradley (Florence Briggs Th...\n",
       "2                               Heikkinen, Miss. Laina\n",
       "3         Futrelle, Mrs. Jacques Heath (Lily May Peel)\n",
       "4                             Allen, Mr. William Henry\n",
       "Name: Name, dtype: object"
      ]
     },
     "execution_count": 35,
     "metadata": {},
     "output_type": "execute_result"
    }
   ],
   "source": [
    "dataset[\"Name\"].head()"
   ]
  },
  {
   "cell_type": "code",
   "execution_count": 36,
   "id": "c0bb46b3",
   "metadata": {
    "execution": {
     "iopub.execute_input": "2022-05-22T11:39:03.107361Z",
     "iopub.status.busy": "2022-05-22T11:39:03.106839Z",
     "iopub.status.idle": "2022-05-22T11:39:03.117200Z",
     "shell.execute_reply": "2022-05-22T11:39:03.116388Z"
    },
    "papermill": {
     "duration": 0.119638,
     "end_time": "2022-05-22T11:39:03.119334",
     "exception": false,
     "start_time": "2022-05-22T11:39:02.999696",
     "status": "completed"
    },
    "tags": []
   },
   "outputs": [
    {
     "data": {
      "text/plain": [
       "0      Mr\n",
       "1     Mrs\n",
       "2    Miss\n",
       "3     Mrs\n",
       "4      Mr\n",
       "Name: Title, dtype: object"
      ]
     },
     "execution_count": 36,
     "metadata": {},
     "output_type": "execute_result"
    }
   ],
   "source": [
    "# Get Title from Name\n",
    "\n",
    "dataset_title = [i.split(\",\")[1].split(\".\")[0].strip() for i in dataset[\"Name\"]]\n",
    "dataset[\"Title\"] = pd.Series(dataset_title)\n",
    "dataset[\"Title\"].head()"
   ]
  },
  {
   "cell_type": "code",
   "execution_count": 37,
   "id": "5cc79b01",
   "metadata": {
    "execution": {
     "iopub.execute_input": "2022-05-22T11:39:03.332803Z",
     "iopub.status.busy": "2022-05-22T11:39:03.332513Z",
     "iopub.status.idle": "2022-05-22T11:39:03.643036Z",
     "shell.execute_reply": "2022-05-22T11:39:03.642203Z"
    },
    "papermill": {
     "duration": 0.419568,
     "end_time": "2022-05-22T11:39:03.645018",
     "exception": false,
     "start_time": "2022-05-22T11:39:03.225450",
     "status": "completed"
    },
    "tags": []
   },
   "outputs": [
    {
     "data": {
      "image/png": "[encoded data removed]",
      "text/plain": [
       "<Figure size 432x288 with 1 Axes>"
      ]
     },
     "metadata": {},
     "output_type": "display_data"
    }
   ],
   "source": [
    "g = sns.countplot(x=\"Title\", data=dataset)\n",
    "g = plt.setp(g.get_xticklabels(), rotation=45)"
   ]
  },
  {
   "cell_type": "code",
   "execution_count": 38,
   "id": "d0c57fa4",
   "metadata": {
    "execution": {
     "iopub.execute_input": "2022-05-22T11:39:03.859679Z",
     "iopub.status.busy": "2022-05-22T11:39:03.859113Z",
     "iopub.status.idle": "2022-05-22T11:39:03.868363Z",
     "shell.execute_reply": "2022-05-22T11:39:03.867672Z"
    },
    "papermill": {
     "duration": 0.118941,
     "end_time": "2022-05-22T11:39:03.870488",
     "exception": false,
     "start_time": "2022-05-22T11:39:03.751547",
     "status": "completed"
    },
    "tags": []
   },
   "outputs": [],
   "source": [
    "# Convert to categorical values Title\n",
    "# categorical data를 0/1/2 등으로 encoding 해주는 map 함수\n",
    "# very rare한 애들은 Rare로 replace 해주고 3으로 encoding\n",
    "\n",
    "dataset[\"Title\"] = dataset[\"Title\"].replace(['Lady', 'the Countess','Countess','Capt', 'Col','Don', 'Dr', 'Major', 'Rev', 'Sir', 'Jonkheer', 'Dona'], 'Rare')\n",
    "dataset[\"Title\"] = dataset[\"Title\"].map({\"Master\":0, \"Miss\":1, \"Ms\" : 1 , \"Mme\":1, \"Mlle\":1, \"Mrs\":1, \"Mr\":2, \"Rare\":3})"
   ]
  },
  {
   "cell_type": "code",
   "execution_count": 39,
   "id": "0af3c9e9",
   "metadata": {
    "execution": {
     "iopub.execute_input": "2022-05-22T11:39:04.084983Z",
     "iopub.status.busy": "2022-05-22T11:39:04.084460Z",
     "iopub.status.idle": "2022-05-22T11:39:04.279029Z",
     "shell.execute_reply": "2022-05-22T11:39:04.278200Z"
    },
    "papermill": {
     "duration": 0.304055,
     "end_time": "2022-05-22T11:39:04.281232",
     "exception": false,
     "start_time": "2022-05-22T11:39:03.977177",
     "status": "completed"
    },
    "tags": []
   },
   "outputs": [
    {
     "data": {
      "image/png": "[encoded data removed]",
      "text/plain": [
       "<Figure size 432x288 with 1 Axes>"
      ]
     },
     "metadata": {},
     "output_type": "display_data"
    }
   ],
   "source": [
    "g = sns.countplot(dataset[\"Title\"])\n",
    "g = g.set_xticklabels([\"Master\", \"Miss/Ms/Mme/Mlle/Mrs\", \"Mr\", \"Rare\"])"
   ]
  },
  {
   "cell_type": "code",
   "execution_count": 40,
   "id": "3f9ef3d8",
   "metadata": {
    "execution": {
     "iopub.execute_input": "2022-05-22T11:39:04.496815Z",
     "iopub.status.busy": "2022-05-22T11:39:04.495990Z",
     "iopub.status.idle": "2022-05-22T11:39:05.107296Z",
     "shell.execute_reply": "2022-05-22T11:39:05.106290Z"
    },
    "papermill": {
     "duration": 0.721592,
     "end_time": "2022-05-22T11:39:05.109539",
     "exception": false,
     "start_time": "2022-05-22T11:39:04.387947",
     "status": "completed"
    },
    "tags": []
   },
   "outputs": [
    {
     "data": {
      "image/png": "[encoded data removed]",
      "text/plain": [
       "<Figure size 360x360 with 1 Axes>"
      ]
     },
     "metadata": {},
     "output_type": "display_data"
    }
   ],
   "source": [
    "g = sns.factorplot(x=\"Title\", y=\"Survived\", data=dataset, kind=\"bar\")\n",
    "g = g.set_xticklabels([\"Master\", \"Miss-Mrs\", \"Mr\",\"Rare\"])\n",
    "g = g.set_ylabels(\"survivial probabiliy\")"
   ]
  },
  {
   "cell_type": "code",
   "execution_count": 41,
   "id": "394ea611",
   "metadata": {
    "execution": {
     "iopub.execute_input": "2022-05-22T11:39:05.326597Z",
     "iopub.status.busy": "2022-05-22T11:39:05.326298Z",
     "iopub.status.idle": "2022-05-22T11:39:05.331844Z",
     "shell.execute_reply": "2022-05-22T11:39:05.331052Z"
    },
    "papermill": {
     "duration": 0.116557,
     "end_time": "2022-05-22T11:39:05.333725",
     "exception": false,
     "start_time": "2022-05-22T11:39:05.217168",
     "status": "completed"
    },
    "tags": []
   },
   "outputs": [],
   "source": [
    "# Drop Name variable\n",
    "dataset.drop(labels = [\"Name\"], axis = 1, inplace = True)"
   ]
  },
  {
   "cell_type": "markdown",
   "id": "0a88b634",
   "metadata": {
    "papermill": {
     "duration": 0.107244,
     "end_time": "2022-05-22T11:39:05.548593",
     "exception": false,
     "start_time": "2022-05-22T11:39:05.441349",
     "status": "completed"
    },
    "tags": []
   },
   "source": [
    "### 5.2 Family size"
   ]
  },
  {
   "cell_type": "code",
   "execution_count": 42,
   "id": "50704eb6",
   "metadata": {
    "execution": {
     "iopub.execute_input": "2022-05-22T11:39:05.765471Z",
     "iopub.status.busy": "2022-05-22T11:39:05.764969Z",
     "iopub.status.idle": "2022-05-22T11:39:05.769853Z",
     "shell.execute_reply": "2022-05-22T11:39:05.769295Z"
    },
    "papermill": {
     "duration": 0.115614,
     "end_time": "2022-05-22T11:39:05.771550",
     "exception": false,
     "start_time": "2022-05-22T11:39:05.655936",
     "status": "completed"
    },
    "tags": []
   },
   "outputs": [],
   "source": [
    "# create a family size descriptor form sibsp and parch\n",
    "# 패밀리사이즈 피처 만들기! 형제자매 + 부모님\n",
    "\n",
    "dataset[\"Fsize\"] = dataset[\"SibSp\"] + dataset[\"Parch\"] + 1"
   ]
  },
  {
   "cell_type": "code",
   "execution_count": 43,
   "id": "cc6b3f88",
   "metadata": {
    "execution": {
     "iopub.execute_input": "2022-05-22T11:39:05.988757Z",
     "iopub.status.busy": "2022-05-22T11:39:05.988215Z",
     "iopub.status.idle": "2022-05-22T11:39:06.617873Z",
     "shell.execute_reply": "2022-05-22T11:39:06.617060Z"
    },
    "papermill": {
     "duration": 0.741118,
     "end_time": "2022-05-22T11:39:06.620161",
     "exception": false,
     "start_time": "2022-05-22T11:39:05.879043",
     "status": "completed"
    },
    "tags": []
   },
   "outputs": [
    {
     "data": {
      "image/png": "[encoded data removed]",
      "text/plain": [
       "<Figure size 360x360 with 1 Axes>"
      ]
     },
     "metadata": {},
     "output_type": "display_data"
    }
   ],
   "source": [
    "g = sns.factorplot(x=\"Fsize\", y=\"Survived\", data = dataset)\n",
    "g = g.set_ylabels(\"Survival Probablity\")"
   ]
  },
  {
   "cell_type": "code",
   "execution_count": 44,
   "id": "c1f653db",
   "metadata": {
    "execution": {
     "iopub.execute_input": "2022-05-22T11:39:06.840185Z",
     "iopub.status.busy": "2022-05-22T11:39:06.839928Z",
     "iopub.status.idle": "2022-05-22T11:39:06.851386Z",
     "shell.execute_reply": "2022-05-22T11:39:06.850755Z"
    },
    "papermill": {
     "duration": 0.123971,
     "end_time": "2022-05-22T11:39:06.853276",
     "exception": false,
     "start_time": "2022-05-22T11:39:06.729305",
     "status": "completed"
    },
    "tags": []
   },
   "outputs": [],
   "source": [
    "# create new feature of family size\n",
    "# 1,2, 3/4, 5이상으로 4가지로 나눔\n",
    "\n",
    "dataset['Single'] = dataset['Fsize'].map(lambda s: 1 if s == 1 else 0)\n",
    "dataset['SmallF'] = dataset['Fsize'].map(lambda s: 1 if s == 2 else 0)\n",
    "dataset['MedF'] = dataset['Fsize'].map(lambda s: 1 if 3 <= s <=4  else 0)\n",
    "dataset['LargeF'] = dataset['Fsize'].map(lambda s: 1 if s >= 5 else 0)"
   ]
  },
  {
   "cell_type": "code",
   "execution_count": 45,
   "id": "1df2a3dd",
   "metadata": {
    "execution": {
     "iopub.execute_input": "2022-05-22T11:39:07.075885Z",
     "iopub.status.busy": "2022-05-22T11:39:07.075357Z",
     "iopub.status.idle": "2022-05-22T11:39:08.428257Z",
     "shell.execute_reply": "2022-05-22T11:39:08.427605Z"
    },
    "papermill": {
     "duration": 1.466257,
     "end_time": "2022-05-22T11:39:08.430303",
     "exception": false,
     "start_time": "2022-05-22T11:39:06.964046",
     "status": "completed"
    },
    "tags": []
   },
   "outputs": [
    {
     "data": {
      "image/png": "[encoded data removed]",
      "text/plain": [
       "<Figure size 360x360 with 1 Axes>"
      ]
     },
     "metadata": {},
     "output_type": "display_data"
    },
    {
     "data": {
      "image/png": "[encoded data removed]",
      "text/plain": [
       "<Figure size 360x360 with 1 Axes>"
      ]
     },
     "metadata": {},
     "output_type": "display_data"
    },
    {
     "data": {
      "image/png": "[encoded data removed]",
      "text/plain": [
       "<Figure size 360x360 with 1 Axes>"
      ]
     },
     "metadata": {},
     "output_type": "display_data"
    },
    {
     "data": {
      "image/png": "[encoded data removed]",
      "text/plain": [
       "<Figure size 360x360 with 1 Axes>"
      ]
     },
     "metadata": {},
     "output_type": "display_data"
    }
   ],
   "source": [
    "g = sns.factorplot(x=\"Single\",y=\"Survived\",data=dataset,kind=\"bar\")\n",
    "g = g.set_ylabels(\"Survival Probability\")\n",
    "g = sns.factorplot(x=\"SmallF\",y=\"Survived\",data=dataset,kind=\"bar\")\n",
    "g = g.set_ylabels(\"Survival Probability\")\n",
    "g = sns.factorplot(x=\"MedF\",y=\"Survived\",data=dataset,kind=\"bar\")\n",
    "g = g.set_ylabels(\"Survival Probability\")\n",
    "g = sns.factorplot(x=\"LargeF\",y=\"Survived\",data=dataset,kind=\"bar\")\n",
    "g = g.set_ylabels(\"Survival Probability\")"
   ]
  },
  {
   "cell_type": "markdown",
   "id": "50128fbf",
   "metadata": {
    "papermill": {
     "duration": 0.11241,
     "end_time": "2022-05-22T11:39:08.655828",
     "exception": false,
     "start_time": "2022-05-22T11:39:08.543418",
     "status": "completed"
    },
    "tags": []
   },
   "source": [
    "Factorplots of family size categories show that Small and Medium families have more chance to survive than single passenger and large families."
   ]
  },
  {
   "cell_type": "code",
   "execution_count": 46,
   "id": "5f8d876d",
   "metadata": {
    "execution": {
     "iopub.execute_input": "2022-05-22T11:39:08.882507Z",
     "iopub.status.busy": "2022-05-22T11:39:08.882076Z",
     "iopub.status.idle": "2022-05-22T11:39:08.895697Z",
     "shell.execute_reply": "2022-05-22T11:39:08.895017Z"
    },
    "papermill": {
     "duration": 0.129557,
     "end_time": "2022-05-22T11:39:08.897856",
     "exception": false,
     "start_time": "2022-05-22T11:39:08.768299",
     "status": "completed"
    },
    "tags": []
   },
   "outputs": [],
   "source": [
    "# Convert to indicator values Title and Embarked\n",
    "dataset = pd.get_dummies(dataset, columns = [\"Title\"])\n",
    "dataset = pd.get_dummies(dataset, columns = [\"Embarked\"], prefix=\"Em\")"
   ]
  },
  {
   "cell_type": "code",
   "execution_count": 47,
   "id": "bc9de32e",
   "metadata": {
    "execution": {
     "iopub.execute_input": "2022-05-22T11:39:09.130152Z",
     "iopub.status.busy": "2022-05-22T11:39:09.129566Z",
     "iopub.status.idle": "2022-05-22T11:39:09.149291Z",
     "shell.execute_reply": "2022-05-22T11:39:09.148739Z"
    },
    "papermill": {
     "duration": 0.138507,
     "end_time": "2022-05-22T11:39:09.151098",
     "exception": false,
     "start_time": "2022-05-22T11:39:09.012591",
     "status": "completed"
    },
    "tags": []
   },
   "outputs": [
    {
     "data": {
      "text/html": [
       "<div>\n",
       "<style scoped>\n",
       "    .dataframe tbody tr th:only-of-type {\n",
       "        vertical-align: middle;\n",
       "    }\n",
       "\n",
       "    .dataframe tbody tr th {\n",
       "        vertical-align: top;\n",
       "    }\n",
       "\n",
       "    .dataframe thead th {\n",
       "        text-align: right;\n",
       "    }\n",
       "</style>\n",
       "<table border=\"1\" class=\"dataframe\">\n",
       "  <thead>\n",
       "    <tr style=\"text-align: right;\">\n",
       "      <th></th>\n",
       "      <th>PassengerId</th>\n",
       "      <th>Survived</th>\n",
       "      <th>Pclass</th>\n",
       "      <th>Sex</th>\n",
       "      <th>Age</th>\n",
       "      <th>SibSp</th>\n",
       "      <th>Parch</th>\n",
       "      <th>Ticket</th>\n",
       "      <th>Fare</th>\n",
       "      <th>Cabin</th>\n",
       "      <th>...</th>\n",
       "      <th>SmallF</th>\n",
       "      <th>MedF</th>\n",
       "      <th>LargeF</th>\n",
       "      <th>Title_0</th>\n",
       "      <th>Title_1</th>\n",
       "      <th>Title_2</th>\n",
       "      <th>Title_3</th>\n",
       "      <th>Em_C</th>\n",
       "      <th>Em_Q</th>\n",
       "      <th>Em_S</th>\n",
       "    </tr>\n",
       "  </thead>\n",
       "  <tbody>\n",
       "    <tr>\n",
       "      <th>0</th>\n",
       "      <td>1</td>\n",
       "      <td>0.0</td>\n",
       "      <td>3</td>\n",
       "      <td>0</td>\n",
       "      <td>22.0</td>\n",
       "      <td>1</td>\n",
       "      <td>0</td>\n",
       "      <td>A/5 21171</td>\n",
       "      <td>1.981001</td>\n",
       "      <td>NaN</td>\n",
       "      <td>...</td>\n",
       "      <td>1</td>\n",
       "      <td>0</td>\n",
       "      <td>0</td>\n",
       "      <td>0</td>\n",
       "      <td>0</td>\n",
       "      <td>1</td>\n",
       "      <td>0</td>\n",
       "      <td>0</td>\n",
       "      <td>0</td>\n",
       "      <td>1</td>\n",
       "    </tr>\n",
       "    <tr>\n",
       "      <th>1</th>\n",
       "      <td>2</td>\n",
       "      <td>1.0</td>\n",
       "      <td>1</td>\n",
       "      <td>1</td>\n",
       "      <td>38.0</td>\n",
       "      <td>1</td>\n",
       "      <td>0</td>\n",
       "      <td>PC 17599</td>\n",
       "      <td>4.266662</td>\n",
       "      <td>C85</td>\n",
       "      <td>...</td>\n",
       "      <td>1</td>\n",
       "      <td>0</td>\n",
       "      <td>0</td>\n",
       "      <td>0</td>\n",
       "      <td>1</td>\n",
       "      <td>0</td>\n",
       "      <td>0</td>\n",
       "      <td>1</td>\n",
       "      <td>0</td>\n",
       "      <td>0</td>\n",
       "    </tr>\n",
       "    <tr>\n",
       "      <th>2</th>\n",
       "      <td>3</td>\n",
       "      <td>1.0</td>\n",
       "      <td>3</td>\n",
       "      <td>1</td>\n",
       "      <td>26.0</td>\n",
       "      <td>0</td>\n",
       "      <td>0</td>\n",
       "      <td>STON/O2. 3101282</td>\n",
       "      <td>2.070022</td>\n",
       "      <td>NaN</td>\n",
       "      <td>...</td>\n",
       "      <td>0</td>\n",
       "      <td>0</td>\n",
       "      <td>0</td>\n",
       "      <td>0</td>\n",
       "      <td>1</td>\n",
       "      <td>0</td>\n",
       "      <td>0</td>\n",
       "      <td>0</td>\n",
       "      <td>0</td>\n",
       "      <td>1</td>\n",
       "    </tr>\n",
       "    <tr>\n",
       "      <th>3</th>\n",
       "      <td>4</td>\n",
       "      <td>1.0</td>\n",
       "      <td>1</td>\n",
       "      <td>1</td>\n",
       "      <td>35.0</td>\n",
       "      <td>1</td>\n",
       "      <td>0</td>\n",
       "      <td>113803</td>\n",
       "      <td>3.972177</td>\n",
       "      <td>C123</td>\n",
       "      <td>...</td>\n",
       "      <td>1</td>\n",
       "      <td>0</td>\n",
       "      <td>0</td>\n",
       "      <td>0</td>\n",
       "      <td>1</td>\n",
       "      <td>0</td>\n",
       "      <td>0</td>\n",
       "      <td>0</td>\n",
       "      <td>0</td>\n",
       "      <td>1</td>\n",
       "    </tr>\n",
       "    <tr>\n",
       "      <th>4</th>\n",
       "      <td>5</td>\n",
       "      <td>0.0</td>\n",
       "      <td>3</td>\n",
       "      <td>0</td>\n",
       "      <td>35.0</td>\n",
       "      <td>0</td>\n",
       "      <td>0</td>\n",
       "      <td>373450</td>\n",
       "      <td>2.085672</td>\n",
       "      <td>NaN</td>\n",
       "      <td>...</td>\n",
       "      <td>0</td>\n",
       "      <td>0</td>\n",
       "      <td>0</td>\n",
       "      <td>0</td>\n",
       "      <td>0</td>\n",
       "      <td>1</td>\n",
       "      <td>0</td>\n",
       "      <td>0</td>\n",
       "      <td>0</td>\n",
       "      <td>1</td>\n",
       "    </tr>\n",
       "  </tbody>\n",
       "</table>\n",
       "<p>5 rows × 22 columns</p>\n",
       "</div>"
      ],
      "text/plain": [
       "   PassengerId  Survived  Pclass  Sex   Age  SibSp  Parch            Ticket  \\\n",
       "0            1       0.0       3    0  22.0      1      0         A/5 21171   \n",
       "1            2       1.0       1    1  38.0      1      0          PC 17599   \n",
       "2            3       1.0       3    1  26.0      0      0  STON/O2. 3101282   \n",
       "3            4       1.0       1    1  35.0      1      0            113803   \n",
       "4            5       0.0       3    0  35.0      0      0            373450   \n",
       "\n",
       "       Fare Cabin  ...  SmallF  MedF  LargeF  Title_0  Title_1  Title_2  \\\n",
       "0  1.981001   NaN  ...       1     0       0        0        0        1   \n",
       "1  4.266662   C85  ...       1     0       0        0        1        0   \n",
       "2  2.070022   NaN  ...       0     0       0        0        1        0   \n",
       "3  3.972177  C123  ...       1     0       0        0        1        0   \n",
       "4  2.085672   NaN  ...       0     0       0        0        0        1   \n",
       "\n",
       "   Title_3  Em_C  Em_Q  Em_S  \n",
       "0        0     0     0     1  \n",
       "1        0     1     0     0  \n",
       "2        0     0     0     1  \n",
       "3        0     0     0     1  \n",
       "4        0     0     0     1  \n",
       "\n",
       "[5 rows x 22 columns]"
      ]
     },
     "execution_count": 47,
     "metadata": {},
     "output_type": "execute_result"
    }
   ],
   "source": [
    "dataset.head()"
   ]
  },
  {
   "cell_type": "markdown",
   "id": "0fee76de",
   "metadata": {
    "papermill": {
     "duration": 0.114164,
     "end_time": "2022-05-22T11:39:09.381735",
     "exception": false,
     "start_time": "2022-05-22T11:39:09.267571",
     "status": "completed"
    },
    "tags": []
   },
   "source": [
    "22 features!"
   ]
  },
  {
   "cell_type": "markdown",
   "id": "af86bee1",
   "metadata": {
    "papermill": {
     "duration": 0.113194,
     "end_time": "2022-05-22T11:39:09.608013",
     "exception": false,
     "start_time": "2022-05-22T11:39:09.494819",
     "status": "completed"
    },
    "tags": []
   },
   "source": [
    "### 5.3 Cabin"
   ]
  },
  {
   "cell_type": "code",
   "execution_count": 48,
   "id": "5b193e0a",
   "metadata": {
    "execution": {
     "iopub.execute_input": "2022-05-22T11:39:09.835521Z",
     "iopub.status.busy": "2022-05-22T11:39:09.835049Z",
     "iopub.status.idle": "2022-05-22T11:39:09.840941Z",
     "shell.execute_reply": "2022-05-22T11:39:09.840419Z"
    },
    "papermill": {
     "duration": 0.121753,
     "end_time": "2022-05-22T11:39:09.842730",
     "exception": false,
     "start_time": "2022-05-22T11:39:09.720977",
     "status": "completed"
    },
    "tags": []
   },
   "outputs": [
    {
     "data": {
      "text/plain": [
       "0     NaN\n",
       "1     C85\n",
       "2     NaN\n",
       "3    C123\n",
       "4     NaN\n",
       "Name: Cabin, dtype: object"
      ]
     },
     "execution_count": 48,
     "metadata": {},
     "output_type": "execute_result"
    }
   ],
   "source": [
    "dataset[\"Cabin\"].head()"
   ]
  },
  {
   "cell_type": "code",
   "execution_count": 49,
   "id": "65274f10",
   "metadata": {
    "execution": {
     "iopub.execute_input": "2022-05-22T11:39:10.075293Z",
     "iopub.status.busy": "2022-05-22T11:39:10.074872Z",
     "iopub.status.idle": "2022-05-22T11:39:10.082044Z",
     "shell.execute_reply": "2022-05-22T11:39:10.081448Z"
    },
    "papermill": {
     "duration": 0.126065,
     "end_time": "2022-05-22T11:39:10.083910",
     "exception": false,
     "start_time": "2022-05-22T11:39:09.957845",
     "status": "completed"
    },
    "tags": []
   },
   "outputs": [
    {
     "data": {
      "text/plain": [
       "count     292\n",
       "unique    186\n",
       "top        G6\n",
       "freq        5\n",
       "Name: Cabin, dtype: object"
      ]
     },
     "execution_count": 49,
     "metadata": {},
     "output_type": "execute_result"
    }
   ],
   "source": [
    "dataset[\"Cabin\"].describe()"
   ]
  },
  {
   "cell_type": "code",
   "execution_count": 50,
   "id": "a7581bc8",
   "metadata": {
    "execution": {
     "iopub.execute_input": "2022-05-22T11:39:10.316328Z",
     "iopub.status.busy": "2022-05-22T11:39:10.315817Z",
     "iopub.status.idle": "2022-05-22T11:39:10.321238Z",
     "shell.execute_reply": "2022-05-22T11:39:10.320694Z"
    },
    "papermill": {
     "duration": 0.122588,
     "end_time": "2022-05-22T11:39:10.322933",
     "exception": false,
     "start_time": "2022-05-22T11:39:10.200345",
     "status": "completed"
    },
    "tags": []
   },
   "outputs": [
    {
     "data": {
      "text/plain": [
       "1007"
      ]
     },
     "execution_count": 50,
     "metadata": {},
     "output_type": "execute_result"
    }
   ],
   "source": [
    "dataset[\"Cabin\"].isnull().sum()"
   ]
  },
  {
   "cell_type": "markdown",
   "id": "cf78a7ed",
   "metadata": {
    "papermill": {
     "duration": 0.118347,
     "end_time": "2022-05-22T11:39:10.554532",
     "exception": false,
     "start_time": "2022-05-22T11:39:10.436185",
     "status": "completed"
    },
    "tags": []
   },
   "source": [
    "The Cabin feature column contains 292 values and 1007 missing values.\n",
    "\n",
    "cabin이 없는 승객은 missing value로 뜨는 것 같음. 결측치를 x로 넣어주기"
   ]
  },
  {
   "cell_type": "code",
   "execution_count": 51,
   "id": "8a5bff9b",
   "metadata": {
    "execution": {
     "iopub.execute_input": "2022-05-22T11:39:10.788905Z",
     "iopub.status.busy": "2022-05-22T11:39:10.788413Z",
     "iopub.status.idle": "2022-05-22T11:39:10.794181Z",
     "shell.execute_reply": "2022-05-22T11:39:10.793601Z"
    },
    "papermill": {
     "duration": 0.124824,
     "end_time": "2022-05-22T11:39:10.795985",
     "exception": false,
     "start_time": "2022-05-22T11:39:10.671161",
     "status": "completed"
    },
    "tags": []
   },
   "outputs": [],
   "source": [
    "# replace the cabin number by the type of cabin 'x' if not\n",
    "\n",
    "dataset[\"Cabin\"] = pd.Series([i[0] if not pd.isnull(i) else 'X' for i in dataset['Cabin']])"
   ]
  },
  {
   "cell_type": "code",
   "execution_count": 52,
   "id": "6b1f7773",
   "metadata": {
    "execution": {
     "iopub.execute_input": "2022-05-22T11:39:11.031762Z",
     "iopub.status.busy": "2022-05-22T11:39:11.031493Z",
     "iopub.status.idle": "2022-05-22T11:39:11.248590Z",
     "shell.execute_reply": "2022-05-22T11:39:11.247580Z"
    },
    "papermill": {
     "duration": 0.339135,
     "end_time": "2022-05-22T11:39:11.250703",
     "exception": false,
     "start_time": "2022-05-22T11:39:10.911568",
     "status": "completed"
    },
    "tags": []
   },
   "outputs": [
    {
     "data": {
      "image/png": "[encoded data removed]",
      "text/plain": [
       "<Figure size 432x288 with 1 Axes>"
      ]
     },
     "metadata": {},
     "output_type": "display_data"
    }
   ],
   "source": [
    "g = sns.countplot(dataset[\"Cabin\"], order=['A','B','C','D','E','F','G','T','X'])"
   ]
  },
  {
   "cell_type": "code",
   "execution_count": 53,
   "id": "ddc9a2c3",
   "metadata": {
    "execution": {
     "iopub.execute_input": "2022-05-22T11:39:11.483244Z",
     "iopub.status.busy": "2022-05-22T11:39:11.482707Z",
     "iopub.status.idle": "2022-05-22T11:39:12.068255Z",
     "shell.execute_reply": "2022-05-22T11:39:12.067436Z"
    },
    "papermill": {
     "duration": 0.704083,
     "end_time": "2022-05-22T11:39:12.070611",
     "exception": false,
     "start_time": "2022-05-22T11:39:11.366528",
     "status": "completed"
    },
    "tags": []
   },
   "outputs": [
    {
     "data": {
      "image/png": "[encoded data removed]",
      "text/plain": [
       "<Figure size 360x360 with 1 Axes>"
      ]
     },
     "metadata": {},
     "output_type": "display_data"
    }
   ],
   "source": [
    "g = sns.factorplot(y=\"Survived\", x=\"Cabin\", data=dataset, kind=\"bar\", order=['A','B','C','D','E','F','G','T','X'])\n",
    "g = g.set_ylabels(\"Survival Probability\")"
   ]
  },
  {
   "cell_type": "markdown",
   "id": "3b69eaec",
   "metadata": {
    "papermill": {
     "duration": 0.115397,
     "end_time": "2022-05-22T11:39:12.302810",
     "exception": false,
     "start_time": "2022-05-22T11:39:12.187413",
     "status": "completed"
    },
    "tags": []
   },
   "source": [
    "cabin을 가진 승객이 적어서 생존률 표준편차가 넘 크고 등급별 구분이 쉽지 않음\n",
    "\n",
    "그래도 객실이 없는 승객보다는 생존률이 높은 것을 확인 가능함."
   ]
  },
  {
   "cell_type": "code",
   "execution_count": 54,
   "id": "fd27777b",
   "metadata": {
    "execution": {
     "iopub.execute_input": "2022-05-22T11:39:12.535213Z",
     "iopub.status.busy": "2022-05-22T11:39:12.534674Z",
     "iopub.status.idle": "2022-05-22T11:39:12.543892Z",
     "shell.execute_reply": "2022-05-22T11:39:12.543267Z"
    },
    "papermill": {
     "duration": 0.127445,
     "end_time": "2022-05-22T11:39:12.545752",
     "exception": false,
     "start_time": "2022-05-22T11:39:12.418307",
     "status": "completed"
    },
    "tags": []
   },
   "outputs": [],
   "source": [
    "dataset = pd.get_dummies(dataset, columns = [\"Cabin\"],prefix=\"Cabin\")"
   ]
  },
  {
   "cell_type": "markdown",
   "id": "715d0f57",
   "metadata": {
    "papermill": {
     "duration": 0.116167,
     "end_time": "2022-05-22T11:39:12.778715",
     "exception": false,
     "start_time": "2022-05-22T11:39:12.662548",
     "status": "completed"
    },
    "tags": []
   },
   "source": [
    "### 5.4 Ticket"
   ]
  },
  {
   "cell_type": "code",
   "execution_count": 55,
   "id": "75bf439e",
   "metadata": {
    "execution": {
     "iopub.execute_input": "2022-05-22T11:39:13.012717Z",
     "iopub.status.busy": "2022-05-22T11:39:13.012272Z",
     "iopub.status.idle": "2022-05-22T11:39:13.019473Z",
     "shell.execute_reply": "2022-05-22T11:39:13.018620Z"
    },
    "papermill": {
     "duration": 0.126601,
     "end_time": "2022-05-22T11:39:13.021297",
     "exception": false,
     "start_time": "2022-05-22T11:39:12.894696",
     "status": "completed"
    },
    "tags": []
   },
   "outputs": [
    {
     "data": {
      "text/plain": [
       "0           A/5 21171\n",
       "1            PC 17599\n",
       "2    STON/O2. 3101282\n",
       "3              113803\n",
       "4              373450\n",
       "Name: Ticket, dtype: object"
      ]
     },
     "execution_count": 55,
     "metadata": {},
     "output_type": "execute_result"
    }
   ],
   "source": [
    "dataset[\"Ticket\"].head()"
   ]
  },
  {
   "cell_type": "code",
   "execution_count": 56,
   "id": "5feb2659",
   "metadata": {
    "execution": {
     "iopub.execute_input": "2022-05-22T11:39:13.259219Z",
     "iopub.status.busy": "2022-05-22T11:39:13.258813Z",
     "iopub.status.idle": "2022-05-22T11:39:13.269445Z",
     "shell.execute_reply": "2022-05-22T11:39:13.268629Z"
    },
    "papermill": {
     "duration": 0.132403,
     "end_time": "2022-05-22T11:39:13.271427",
     "exception": false,
     "start_time": "2022-05-22T11:39:13.139024",
     "status": "completed"
    },
    "tags": []
   },
   "outputs": [
    {
     "data": {
      "text/plain": [
       "0        A5\n",
       "1        PC\n",
       "2    STONO2\n",
       "3         X\n",
       "4         X\n",
       "Name: Ticket, dtype: object"
      ]
     },
     "execution_count": 56,
     "metadata": {},
     "output_type": "execute_result"
    }
   ],
   "source": [
    "# Treat ticket by extracting the ticket prefix. When there is no prefix it returns x.\n",
    "\n",
    "Ticket = []\n",
    "for i in list(dataset.Ticket):\n",
    "    if not i.isdigit() :\n",
    "        Ticket.append(i.replace(\".\",\"\").replace(\"/\",\"\").strip().split(' ')[0]) #Take prefix\n",
    "    else:\n",
    "        Ticket.append(\"X\")\n",
    "        \n",
    "dataset[\"Ticket\"] = Ticket\n",
    "dataset[\"Ticket\"].head()"
   ]
  },
  {
   "cell_type": "markdown",
   "id": "5e84596f",
   "metadata": {
    "papermill": {
     "duration": 0.115955,
     "end_time": "2022-05-22T11:39:13.504840",
     "exception": false,
     "start_time": "2022-05-22T11:39:13.388885",
     "status": "completed"
    },
    "tags": []
   },
   "source": [
    "## 6. Modeling"
   ]
  },
  {
   "cell_type": "code",
   "execution_count": 57,
   "id": "bc3c5f2c",
   "metadata": {
    "execution": {
     "iopub.execute_input": "2022-05-22T11:39:13.740162Z",
     "iopub.status.busy": "2022-05-22T11:39:13.739903Z",
     "iopub.status.idle": "2022-05-22T11:39:13.746463Z",
     "shell.execute_reply": "2022-05-22T11:39:13.745654Z"
    },
    "papermill": {
     "duration": 0.126338,
     "end_time": "2022-05-22T11:39:13.748420",
     "exception": false,
     "start_time": "2022-05-22T11:39:13.622082",
     "status": "completed"
    },
    "tags": []
   },
   "outputs": [],
   "source": [
    "# Separate train and test dataset\n",
    "\n",
    "train = dataset[:train_len]\n",
    "test = dataset[train_len:]\n",
    "test.drop(labels=[\"Survived\"],axis =1, inplace=True)"
   ]
  },
  {
   "cell_type": "code",
   "execution_count": 58,
   "id": "80f3dc8a",
   "metadata": {
    "execution": {
     "iopub.execute_input": "2022-05-22T11:39:13.984539Z",
     "iopub.status.busy": "2022-05-22T11:39:13.983557Z",
     "iopub.status.idle": "2022-05-22T11:39:13.990385Z",
     "shell.execute_reply": "2022-05-22T11:39:13.989777Z"
    },
    "papermill": {
     "duration": 0.127527,
     "end_time": "2022-05-22T11:39:13.992212",
     "exception": false,
     "start_time": "2022-05-22T11:39:13.864685",
     "status": "completed"
    },
    "tags": []
   },
   "outputs": [],
   "source": [
    "# Separate train feautres and label\n",
    "\n",
    "train[\"Survived\"] = train[\"Survived\"].astype(int)\n",
    "\n",
    "Y_train = train[\"Survived\"]\n",
    "\n",
    "X_train = train.drop(labels = [\"Survived\"],axis =1)"
   ]
  },
  {
   "cell_type": "markdown",
   "id": "c306ebae",
   "metadata": {
    "papermill": {
     "duration": 0.116712,
     "end_time": "2022-05-22T11:39:14.225569",
     "exception": false,
     "start_time": "2022-05-22T11:39:14.108857",
     "status": "completed"
    },
    "tags": []
   },
   "source": [
    "### 6.1 Simple modeling\n",
    "\n",
    "#### 6.1.1 Cross validate models"
   ]
  },
  {
   "cell_type": "code",
   "execution_count": 59,
   "id": "7a5d036f",
   "metadata": {
    "execution": {
     "iopub.execute_input": "2022-05-22T11:39:14.460037Z",
     "iopub.status.busy": "2022-05-22T11:39:14.459271Z",
     "iopub.status.idle": "2022-05-22T11:39:14.463077Z",
     "shell.execute_reply": "2022-05-22T11:39:14.462537Z"
    },
    "papermill": {
     "duration": 0.122809,
     "end_time": "2022-05-22T11:39:14.464795",
     "exception": false,
     "start_time": "2022-05-22T11:39:14.341986",
     "status": "completed"
    },
    "tags": []
   },
   "outputs": [],
   "source": [
    "# Kfold\n",
    "\n",
    "kfold = StratifiedKFold(n_splits=10)"
   ]
  },
  {
   "cell_type": "code",
   "execution_count": 60,
   "id": "c5bae637",
   "metadata": {
    "execution": {
     "iopub.execute_input": "2022-05-22T11:39:14.698813Z",
     "iopub.status.busy": "2022-05-22T11:39:14.698185Z",
     "iopub.status.idle": "2022-05-22T11:39:17.198464Z",
     "shell.execute_reply": "2022-05-22T11:39:17.197480Z"
    },
    "papermill": {
     "duration": 2.620039,
     "end_time": "2022-05-22T11:39:17.200928",
     "exception": false,
     "start_time": "2022-05-22T11:39:14.580889",
     "status": "completed"
    },
    "tags": []
   },
   "outputs": [
    {
     "data": {
      "image/png": "[encoded data removed]",
      "text/plain": [
       "<Figure size 432x288 with 1 Axes>"
      ]
     },
     "metadata": {},
     "output_type": "display_data"
    }
   ],
   "source": [
    "# Modeling step Test differents algorithms \n",
    "random_state = 2\n",
    "classifiers = []\n",
    "classifiers.append(SVC(random_state=random_state))\n",
    "classifiers.append(DecisionTreeClassifier(random_state=random_state))\n",
    "classifiers.append(AdaBoostClassifier(DecisionTreeClassifier(random_state=random_state),random_state=random_state,learning_rate=0.1))\n",
    "classifiers.append(RandomForestClassifier(random_state=random_state))\n",
    "classifiers.append(ExtraTreesClassifier(random_state=random_state))\n",
    "classifiers.append(GradientBoostingClassifier(random_state=random_state))\n",
    "classifiers.append(MLPClassifier(random_state=random_state))\n",
    "classifiers.append(KNeighborsClassifier())\n",
    "classifiers.append(LogisticRegression(random_state = random_state))\n",
    "classifiers.append(LinearDiscriminantAnalysis())\n",
    "\n",
    "cv_results = []\n",
    "for classifier in classifiers :\n",
    "    cv_results.append(cross_val_score(classifier, X_train, y = Y_train, scoring = \"accuracy\", cv = kfold, n_jobs=4))\n",
    "\n",
    "cv_means = []\n",
    "cv_std = []\n",
    "for cv_result in cv_results:\n",
    "    cv_means.append(cv_result.mean())\n",
    "    cv_std.append(cv_result.std())\n",
    "\n",
    "cv_res = pd.DataFrame({\"CrossValMeans\":cv_means,\"CrossValerrors\": cv_std,\"Algorithm\":[\"SVC\",\"DecisionTree\",\"AdaBoost\",\n",
    "\"RandomForest\",\"ExtraTrees\",\"GradientBoosting\",\"MultipleLayerPerceptron\",\"KNeighboors\",\"LogisticRegression\",\"LinearDiscriminantAnalysis\"]})\n",
    "\n",
    "g = sns.barplot(\"CrossValMeans\",\"Algorithm\",data = cv_res, palette=\"Set3\",orient = \"h\",**{'xerr':cv_std})\n",
    "g.set_xlabel(\"Mean Accuracy\")\n",
    "g = g.set_title(\"Cross validation scores\")\n",
    "\n"
   ]
  },
  {
   "cell_type": "code",
   "execution_count": null,
   "id": "a8a3edec",
   "metadata": {
    "papermill": {
     "duration": 0.117539,
     "end_time": "2022-05-22T11:39:17.439171",
     "exception": false,
     "start_time": "2022-05-22T11:39:17.321632",
     "status": "completed"
    },
    "tags": []
   },
   "outputs": [],
   "source": []
  }
 ],
 "metadata": {
  "kernelspec": {
   "display_name": "Python 3",
   "language": "python",
   "name": "python3"
  },
  "language_info": {
   "codemirror_mode": {
    "name": "ipython",
    "version": 3
   },
   "file_extension": ".py",
   "mimetype": "text/x-python",
   "name": "python",
   "nbconvert_exporter": "python",
   "pygments_lexer": "ipython3",
   "version": "3.7.12"
  },
  "papermill": {
   "default_parameters": {},
   "duration": 47.758246,
   "end_time": "2022-05-22T11:39:20.178115",
   "environment_variables": {},
   "exception": null,
   "input_path": "__notebook__.ipynb",
   "output_path": "__notebook__.ipynb",
   "parameters": {},
   "start_time": "2022-05-22T11:38:32.419869",
   "version": "2.3.4"
  }
 },
 "nbformat": 4,
 "nbformat_minor": 5
}
