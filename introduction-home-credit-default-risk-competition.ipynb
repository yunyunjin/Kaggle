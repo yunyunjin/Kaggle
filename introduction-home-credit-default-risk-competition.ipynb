{
 "cells": [
  {
   "cell_type": "code",
   "execution_count": 1,
   "id": "70680ae2",
   "metadata": {
    "_cell_guid": "b1076dfc-b9ad-4769-8c92-a6c4dae69d19",
    "_uuid": "8f2839f25d086af736a60e9eeb907d3b93b6e0e5",
    "execution": {
     "iopub.execute_input": "2022-06-26T14:53:40.852830Z",
     "iopub.status.busy": "2022-06-26T14:53:40.852333Z",
     "iopub.status.idle": "2022-06-26T14:53:42.233637Z",
     "shell.execute_reply": "2022-06-26T14:53:42.232773Z"
    },
    "papermill": {
     "duration": 1.388121,
     "end_time": "2022-06-26T14:53:42.236079",
     "exception": false,
     "start_time": "2022-06-26T14:53:40.847958",
     "status": "completed"
    },
    "tags": []
   },
   "outputs": [],
   "source": [
    "# numpy and pandas for data manipulation\n",
    "import numpy as np\n",
    "import pandas as pd \n",
    "\n",
    "# sklearn preprocessing for dealing with categorical variables\n",
    "from sklearn.preprocessing import LabelEncoder\n",
    "\n",
    "# File system manangement\n",
    "import os\n",
    "\n",
    "# Suppress warnings \n",
    "import warnings\n",
    "warnings.filterwarnings('ignore')\n",
    "\n",
    "# matplotlib and seaborn for plotting\n",
    "import matplotlib.pyplot as plt\n",
    "import seaborn as sns"
   ]
  },
  {
   "cell_type": "code",
   "execution_count": null,
   "id": "918b8ca3",
   "metadata": {
    "execution": {
     "iopub.execute_input": "2022-06-06T11:32:32.073923Z",
     "iopub.status.busy": "2022-06-06T11:32:32.073468Z",
     "iopub.status.idle": "2022-06-06T11:32:32.09062Z",
     "shell.execute_reply": "2022-06-06T11:32:32.089323Z",
     "shell.execute_reply.started": "2022-06-06T11:32:32.073886Z"
    },
    "papermill": {
     "duration": 0.001715,
     "end_time": "2022-06-26T14:53:42.240238",
     "exception": false,
     "start_time": "2022-06-26T14:53:42.238523",
     "status": "completed"
    },
    "tags": []
   },
   "outputs": [],
   "source": []
  },
  {
   "cell_type": "code",
   "execution_count": null,
   "id": "bcc829df",
   "metadata": {
    "papermill": {
     "duration": 0.001502,
     "end_time": "2022-06-26T14:53:42.243590",
     "exception": false,
     "start_time": "2022-06-26T14:53:42.242088",
     "status": "completed"
    },
    "tags": []
   },
   "outputs": [],
   "source": []
  }
 ],
 "metadata": {
  "kernelspec": {
   "display_name": "Python 3",
   "language": "python",
   "name": "python3"
  },
  "language_info": {
   "codemirror_mode": {
    "name": "ipython",
    "version": 3
   },
   "file_extension": ".py",
   "mimetype": "text/x-python",
   "name": "python",
   "nbconvert_exporter": "python",
   "pygments_lexer": "ipython3",
   "version": "3.7.12"
  },
  "papermill": {
   "default_parameters": {},
   "duration": 12.881542,
   "end_time": "2022-06-26T14:53:42.966217",
   "environment_variables": {},
   "exception": null,
   "input_path": "__notebook__.ipynb",
   "output_path": "__notebook__.ipynb",
   "parameters": {},
   "start_time": "2022-06-26T14:53:30.084675",
   "version": "2.3.4"
  }
 },
 "nbformat": 4,
 "nbformat_minor": 5
}
