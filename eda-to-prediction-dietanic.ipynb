{
 "cells": [
  {
   "cell_type": "markdown",
   "id": "df8960bf",
   "metadata": {
    "papermill": {
     "duration": 0.009411,
     "end_time": "2022-05-02T14:31:52.959332",
     "exception": false,
     "start_time": "2022-05-02T14:31:52.949921",
     "status": "completed"
    },
    "tags": []
   },
   "source": [
    "# Part1: Exploratory Data Analysis(EDA)"
   ]
  },
  {
   "cell_type": "code",
   "execution_count": 1,
   "id": "b0789759",
   "metadata": {
    "execution": {
     "iopub.execute_input": "2022-05-02T14:31:52.979303Z",
     "iopub.status.busy": "2022-05-02T14:31:52.978817Z",
     "iopub.status.idle": "2022-05-02T14:31:54.082473Z",
     "shell.execute_reply": "2022-05-02T14:31:54.081651Z"
    },
    "papermill": {
     "duration": 1.116227,
     "end_time": "2022-05-02T14:31:54.084885",
     "exception": false,
     "start_time": "2022-05-02T14:31:52.968658",
     "status": "completed"
    },
    "tags": []
   },
   "outputs": [],
   "source": [
    "import numpy as np \n",
    "import pandas as pd\n",
    "import matplotlib.pyplot as plt\n",
    "import seaborn as sns\n",
    "plt.style.use('fivethirtyeight')\n",
    "import warnings\n",
    "warnings.filterwarnings('ignore')\n",
    "%matplotlib inline"
   ]
  },
  {
   "cell_type": "code",
   "execution_count": 2,
   "id": "74f2bf1a",
   "metadata": {
    "execution": {
     "iopub.execute_input": "2022-05-02T14:31:54.103994Z",
     "iopub.status.busy": "2022-05-02T14:31:54.103725Z",
     "iopub.status.idle": "2022-05-02T14:31:54.129468Z",
     "shell.execute_reply": "2022-05-02T14:31:54.128494Z"
    },
    "papermill": {
     "duration": 0.03829,
     "end_time": "2022-05-02T14:31:54.131833",
     "exception": false,
     "start_time": "2022-05-02T14:31:54.093543",
     "status": "completed"
    },
    "tags": []
   },
   "outputs": [],
   "source": [
    "data=pd.read_csv('../input/titanic/train.csv')"
   ]
  },
  {
   "cell_type": "code",
   "execution_count": 3,
   "id": "c37ad741",
   "metadata": {
    "execution": {
     "iopub.execute_input": "2022-05-02T14:31:54.151698Z",
     "iopub.status.busy": "2022-05-02T14:31:54.150797Z",
     "iopub.status.idle": "2022-05-02T14:31:54.174251Z",
     "shell.execute_reply": "2022-05-02T14:31:54.173384Z"
    },
    "papermill": {
     "duration": 0.036099,
     "end_time": "2022-05-02T14:31:54.176945",
     "exception": false,
     "start_time": "2022-05-02T14:31:54.140846",
     "status": "completed"
    },
    "tags": []
   },
   "outputs": [
    {
     "data": {
      "text/html": [
       "<div>\n",
       "<style scoped>\n",
       "    .dataframe tbody tr th:only-of-type {\n",
       "        vertical-align: middle;\n",
       "    }\n",
       "\n",
       "    .dataframe tbody tr th {\n",
       "        vertical-align: top;\n",
       "    }\n",
       "\n",
       "    .dataframe thead th {\n",
       "        text-align: right;\n",
       "    }\n",
       "</style>\n",
       "<table border=\"1\" class=\"dataframe\">\n",
       "  <thead>\n",
       "    <tr style=\"text-align: right;\">\n",
       "      <th></th>\n",
       "      <th>PassengerId</th>\n",
       "      <th>Survived</th>\n",
       "      <th>Pclass</th>\n",
       "      <th>Name</th>\n",
       "      <th>Sex</th>\n",
       "      <th>Age</th>\n",
       "      <th>SibSp</th>\n",
       "      <th>Parch</th>\n",
       "      <th>Ticket</th>\n",
       "      <th>Fare</th>\n",
       "      <th>Cabin</th>\n",
       "      <th>Embarked</th>\n",
       "    </tr>\n",
       "  </thead>\n",
       "  <tbody>\n",
       "    <tr>\n",
       "      <th>0</th>\n",
       "      <td>1</td>\n",
       "      <td>0</td>\n",
       "      <td>3</td>\n",
       "      <td>Braund, Mr. Owen Harris</td>\n",
       "      <td>male</td>\n",
       "      <td>22.0</td>\n",
       "      <td>1</td>\n",
       "      <td>0</td>\n",
       "      <td>A/5 21171</td>\n",
       "      <td>7.2500</td>\n",
       "      <td>NaN</td>\n",
       "      <td>S</td>\n",
       "    </tr>\n",
       "    <tr>\n",
       "      <th>1</th>\n",
       "      <td>2</td>\n",
       "      <td>1</td>\n",
       "      <td>1</td>\n",
       "      <td>Cumings, Mrs. John Bradley (Florence Briggs Th...</td>\n",
       "      <td>female</td>\n",
       "      <td>38.0</td>\n",
       "      <td>1</td>\n",
       "      <td>0</td>\n",
       "      <td>PC 17599</td>\n",
       "      <td>71.2833</td>\n",
       "      <td>C85</td>\n",
       "      <td>C</td>\n",
       "    </tr>\n",
       "    <tr>\n",
       "      <th>2</th>\n",
       "      <td>3</td>\n",
       "      <td>1</td>\n",
       "      <td>3</td>\n",
       "      <td>Heikkinen, Miss. Laina</td>\n",
       "      <td>female</td>\n",
       "      <td>26.0</td>\n",
       "      <td>0</td>\n",
       "      <td>0</td>\n",
       "      <td>STON/O2. 3101282</td>\n",
       "      <td>7.9250</td>\n",
       "      <td>NaN</td>\n",
       "      <td>S</td>\n",
       "    </tr>\n",
       "    <tr>\n",
       "      <th>3</th>\n",
       "      <td>4</td>\n",
       "      <td>1</td>\n",
       "      <td>1</td>\n",
       "      <td>Futrelle, Mrs. Jacques Heath (Lily May Peel)</td>\n",
       "      <td>female</td>\n",
       "      <td>35.0</td>\n",
       "      <td>1</td>\n",
       "      <td>0</td>\n",
       "      <td>113803</td>\n",
       "      <td>53.1000</td>\n",
       "      <td>C123</td>\n",
       "      <td>S</td>\n",
       "    </tr>\n",
       "    <tr>\n",
       "      <th>4</th>\n",
       "      <td>5</td>\n",
       "      <td>0</td>\n",
       "      <td>3</td>\n",
       "      <td>Allen, Mr. William Henry</td>\n",
       "      <td>male</td>\n",
       "      <td>35.0</td>\n",
       "      <td>0</td>\n",
       "      <td>0</td>\n",
       "      <td>373450</td>\n",
       "      <td>8.0500</td>\n",
       "      <td>NaN</td>\n",
       "      <td>S</td>\n",
       "    </tr>\n",
       "  </tbody>\n",
       "</table>\n",
       "</div>"
      ],
      "text/plain": [
       "   PassengerId  Survived  Pclass  \\\n",
       "0            1         0       3   \n",
       "1            2         1       1   \n",
       "2            3         1       3   \n",
       "3            4         1       1   \n",
       "4            5         0       3   \n",
       "\n",
       "                                                Name     Sex   Age  SibSp  \\\n",
       "0                            Braund, Mr. Owen Harris    male  22.0      1   \n",
       "1  Cumings, Mrs. John Bradley (Florence Briggs Th...  female  38.0      1   \n",
       "2                             Heikkinen, Miss. Laina  female  26.0      0   \n",
       "3       Futrelle, Mrs. Jacques Heath (Lily May Peel)  female  35.0      1   \n",
       "4                           Allen, Mr. William Henry    male  35.0      0   \n",
       "\n",
       "   Parch            Ticket     Fare Cabin Embarked  \n",
       "0      0         A/5 21171   7.2500   NaN        S  \n",
       "1      0          PC 17599  71.2833   C85        C  \n",
       "2      0  STON/O2. 3101282   7.9250   NaN        S  \n",
       "3      0            113803  53.1000  C123        S  \n",
       "4      0            373450   8.0500   NaN        S  "
      ]
     },
     "execution_count": 3,
     "metadata": {},
     "output_type": "execute_result"
    }
   ],
   "source": [
    "data.head()"
   ]
  },
  {
   "cell_type": "code",
   "execution_count": 4,
   "id": "c9e57bec",
   "metadata": {
    "execution": {
     "iopub.execute_input": "2022-05-02T14:31:54.197480Z",
     "iopub.status.busy": "2022-05-02T14:31:54.197172Z",
     "iopub.status.idle": "2022-05-02T14:31:54.206493Z",
     "shell.execute_reply": "2022-05-02T14:31:54.205600Z"
    },
    "papermill": {
     "duration": 0.02173,
     "end_time": "2022-05-02T14:31:54.208363",
     "exception": false,
     "start_time": "2022-05-02T14:31:54.186633",
     "status": "completed"
    },
    "tags": []
   },
   "outputs": [
    {
     "data": {
      "text/plain": [
       "PassengerId      0\n",
       "Survived         0\n",
       "Pclass           0\n",
       "Name             0\n",
       "Sex              0\n",
       "Age            177\n",
       "SibSp            0\n",
       "Parch            0\n",
       "Ticket           0\n",
       "Fare             0\n",
       "Cabin          687\n",
       "Embarked         2\n",
       "dtype: int64"
      ]
     },
     "execution_count": 4,
     "metadata": {},
     "output_type": "execute_result"
    }
   ],
   "source": [
    "data.isnull().sum()"
   ]
  },
  {
   "cell_type": "markdown",
   "id": "5ed86113",
   "metadata": {
    "papermill": {
     "duration": 0.009318,
     "end_time": "2022-05-02T14:31:54.226951",
     "exception": false,
     "start_time": "2022-05-02T14:31:54.217633",
     "status": "completed"
    },
    "tags": []
   },
   "source": [
    "**null data** check! \n",
    "\n",
    "* age\n",
    "* cabin\n",
    "* Embarked"
   ]
  },
  {
   "cell_type": "code",
   "execution_count": 5,
   "id": "28db4693",
   "metadata": {
    "execution": {
     "iopub.execute_input": "2022-05-02T14:31:54.247720Z",
     "iopub.status.busy": "2022-05-02T14:31:54.247175Z",
     "iopub.status.idle": "2022-05-02T14:31:54.547746Z",
     "shell.execute_reply": "2022-05-02T14:31:54.546941Z"
    },
    "papermill": {
     "duration": 0.313414,
     "end_time": "2022-05-02T14:31:54.549847",
     "exception": false,
     "start_time": "2022-05-02T14:31:54.236433",
     "status": "completed"
    },
    "tags": []
   },
   "outputs": [
    {
     "data": {
      "image/png": "[encoded data removed]",
      "text/plain": [
       "<Figure size 1296x576 with 2 Axes>"
      ]
     },
     "metadata": {
      "needs_background": "light"
     },
     "output_type": "display_data"
    }
   ],
   "source": [
    "# How many Survived?\n",
    "\n",
    "f,ax=plt.subplots(1,2,figsize=(18,8))\n",
    "data['Survived'].value_counts().plot.pie(explode=[0,0.1],autopct='%1.1f%%',ax=ax[0],shadow=True)\n",
    "ax[0].set_title('Survived')\n",
    "ax[0].set_ylabel('')\n",
    "sns.countplot('Survived',data=data,ax=ax[1])\n",
    "ax[1].set_title('Survived')\n",
    "plt.show()"
   ]
  },
  {
   "cell_type": "code",
   "execution_count": 6,
   "id": "e9499fbd",
   "metadata": {
    "execution": {
     "iopub.execute_input": "2022-05-02T14:31:54.572671Z",
     "iopub.status.busy": "2022-05-02T14:31:54.572037Z",
     "iopub.status.idle": "2022-05-02T14:31:54.581787Z",
     "shell.execute_reply": "2022-05-02T14:31:54.580875Z"
    },
    "papermill": {
     "duration": 0.02328,
     "end_time": "2022-05-02T14:31:54.583604",
     "exception": false,
     "start_time": "2022-05-02T14:31:54.560324",
     "status": "completed"
    },
    "tags": []
   },
   "outputs": [
    {
     "data": {
      "text/plain": [
       "Sex     Survived\n",
       "female  0            81\n",
       "        1           233\n",
       "male    0           468\n",
       "        1           109\n",
       "Name: Survived, dtype: int64"
      ]
     },
     "execution_count": 6,
     "metadata": {},
     "output_type": "execute_result"
    }
   ],
   "source": [
    "data.groupby(['Sex', 'Survived'])['Survived'].count()"
   ]
  },
  {
   "cell_type": "code",
   "execution_count": 7,
   "id": "31f04f61",
   "metadata": {
    "execution": {
     "iopub.execute_input": "2022-05-02T14:31:54.607059Z",
     "iopub.status.busy": "2022-05-02T14:31:54.606733Z",
     "iopub.status.idle": "2022-05-02T14:31:54.918861Z",
     "shell.execute_reply": "2022-05-02T14:31:54.917970Z"
    },
    "papermill": {
     "duration": 0.326518,
     "end_time": "2022-05-02T14:31:54.920930",
     "exception": false,
     "start_time": "2022-05-02T14:31:54.594412",
     "status": "completed"
    },
    "tags": []
   },
   "outputs": [
    {
     "data": {
      "image/png": "[encoded data removed]",
      "text/plain": [
       "<Figure size 1296x576 with 2 Axes>"
      ]
     },
     "metadata": {
      "needs_background": "light"
     },
     "output_type": "display_data"
    }
   ],
   "source": [
    "f, ax=plt.subplots(1,2,figsize=(18,8))\n",
    "data[['Sex','Survived']].groupby(['Sex']).mean().plot.bar(ax=ax[0])\n",
    "ax[0].set_title('Survived vs Sex')\n",
    "sns.countplot('Sex', hue='Survived', data=data, ax=ax[1])\n",
    "ax[1].set_title('Sex:Survived vs Dead')\n",
    "plt.show()"
   ]
  },
  {
   "cell_type": "code",
   "execution_count": null,
   "id": "95055b3c",
   "metadata": {
    "papermill": {
     "duration": 0.011277,
     "end_time": "2022-05-02T14:31:54.944161",
     "exception": false,
     "start_time": "2022-05-02T14:31:54.932884",
     "status": "completed"
    },
    "tags": []
   },
   "outputs": [],
   "source": []
  },
  {
   "cell_type": "code",
   "execution_count": null,
   "id": "093a456c",
   "metadata": {
    "papermill": {
     "duration": 0.011551,
     "end_time": "2022-05-02T14:31:54.967306",
     "exception": false,
     "start_time": "2022-05-02T14:31:54.955755",
     "status": "completed"
    },
    "tags": []
   },
   "outputs": [],
   "source": []
  }
 ],
 "metadata": {
  "kernelspec": {
   "display_name": "Python 3",
   "language": "python",
   "name": "python3"
  },
  "language_info": {
   "codemirror_mode": {
    "name": "ipython",
    "version": 3
   },
   "file_extension": ".py",
   "mimetype": "text/x-python",
   "name": "python",
   "nbconvert_exporter": "python",
   "pygments_lexer": "ipython3",
   "version": "3.7.12"
  },
  "papermill": {
   "default_parameters": {},
   "duration": 11.687688,
   "end_time": "2022-05-02T14:31:55.699901",
   "environment_variables": {},
   "exception": null,
   "input_path": "__notebook__.ipynb",
   "output_path": "__notebook__.ipynb",
   "parameters": {},
   "start_time": "2022-05-02T14:31:44.012213",
   "version": "2.3.4"
  }
 },
 "nbformat": 4,
 "nbformat_minor": 5
}
