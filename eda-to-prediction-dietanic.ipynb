{
 "cells": [
  {
   "cell_type": "markdown",
   "id": "e4e1a6bf",
   "metadata": {
    "papermill": {
     "duration": 0.016366,
     "end_time": "2022-05-03T14:58:10.805436",
     "exception": false,
     "start_time": "2022-05-03T14:58:10.789070",
     "status": "completed"
    },
    "tags": []
   },
   "source": [
    "# Part1: Exploratory Data Analysis(EDA)"
   ]
  },
  {
   "cell_type": "code",
   "execution_count": 1,
   "id": "5cd1bd13",
   "metadata": {
    "execution": {
     "iopub.execute_input": "2022-05-03T14:58:10.838001Z",
     "iopub.status.busy": "2022-05-03T14:58:10.837392Z",
     "iopub.status.idle": "2022-05-03T14:58:11.980565Z",
     "shell.execute_reply": "2022-05-03T14:58:11.979805Z"
    },
    "papermill": {
     "duration": 1.162261,
     "end_time": "2022-05-03T14:58:11.983005",
     "exception": false,
     "start_time": "2022-05-03T14:58:10.820744",
     "status": "completed"
    },
    "tags": []
   },
   "outputs": [],
   "source": [
    "import numpy as np \n",
    "import pandas as pd\n",
    "import matplotlib.pyplot as plt\n",
    "import seaborn as sns\n",
    "plt.style.use('fivethirtyeight')\n",
    "import warnings\n",
    "warnings.filterwarnings('ignore')\n",
    "%matplotlib inline"
   ]
  },
  {
   "cell_type": "code",
   "execution_count": 2,
   "id": "3bb7b8c3",
   "metadata": {
    "execution": {
     "iopub.execute_input": "2022-05-03T14:58:12.015699Z",
     "iopub.status.busy": "2022-05-03T14:58:12.015446Z",
     "iopub.status.idle": "2022-05-03T14:58:12.033802Z",
     "shell.execute_reply": "2022-05-03T14:58:12.033071Z"
    },
    "papermill": {
     "duration": 0.037308,
     "end_time": "2022-05-03T14:58:12.035984",
     "exception": false,
     "start_time": "2022-05-03T14:58:11.998676",
     "status": "completed"
    },
    "tags": []
   },
   "outputs": [],
   "source": [
    "data=pd.read_csv('../input/titanic/train.csv')"
   ]
  },
  {
   "cell_type": "code",
   "execution_count": 3,
   "id": "72a9b39e",
   "metadata": {
    "execution": {
     "iopub.execute_input": "2022-05-03T14:58:12.067932Z",
     "iopub.status.busy": "2022-05-03T14:58:12.067661Z",
     "iopub.status.idle": "2022-05-03T14:58:12.090285Z",
     "shell.execute_reply": "2022-05-03T14:58:12.089384Z"
    },
    "papermill": {
     "duration": 0.041613,
     "end_time": "2022-05-03T14:58:12.092797",
     "exception": false,
     "start_time": "2022-05-03T14:58:12.051184",
     "status": "completed"
    },
    "tags": []
   },
   "outputs": [
    {
     "data": {
      "text/html": [
       "<div>\n",
       "<style scoped>\n",
       "    .dataframe tbody tr th:only-of-type {\n",
       "        vertical-align: middle;\n",
       "    }\n",
       "\n",
       "    .dataframe tbody tr th {\n",
       "        vertical-align: top;\n",
       "    }\n",
       "\n",
       "    .dataframe thead th {\n",
       "        text-align: right;\n",
       "    }\n",
       "</style>\n",
       "<table border=\"1\" class=\"dataframe\">\n",
       "  <thead>\n",
       "    <tr style=\"text-align: right;\">\n",
       "      <th></th>\n",
       "      <th>PassengerId</th>\n",
       "      <th>Survived</th>\n",
       "      <th>Pclass</th>\n",
       "      <th>Name</th>\n",
       "      <th>Sex</th>\n",
       "      <th>Age</th>\n",
       "      <th>SibSp</th>\n",
       "      <th>Parch</th>\n",
       "      <th>Ticket</th>\n",
       "      <th>Fare</th>\n",
       "      <th>Cabin</th>\n",
       "      <th>Embarked</th>\n",
       "    </tr>\n",
       "  </thead>\n",
       "  <tbody>\n",
       "    <tr>\n",
       "      <th>0</th>\n",
       "      <td>1</td>\n",
       "      <td>0</td>\n",
       "      <td>3</td>\n",
       "      <td>Braund, Mr. Owen Harris</td>\n",
       "      <td>male</td>\n",
       "      <td>22.0</td>\n",
       "      <td>1</td>\n",
       "      <td>0</td>\n",
       "      <td>A/5 21171</td>\n",
       "      <td>7.2500</td>\n",
       "      <td>NaN</td>\n",
       "      <td>S</td>\n",
       "    </tr>\n",
       "    <tr>\n",
       "      <th>1</th>\n",
       "      <td>2</td>\n",
       "      <td>1</td>\n",
       "      <td>1</td>\n",
       "      <td>Cumings, Mrs. John Bradley (Florence Briggs Th...</td>\n",
       "      <td>female</td>\n",
       "      <td>38.0</td>\n",
       "      <td>1</td>\n",
       "      <td>0</td>\n",
       "      <td>PC 17599</td>\n",
       "      <td>71.2833</td>\n",
       "      <td>C85</td>\n",
       "      <td>C</td>\n",
       "    </tr>\n",
       "    <tr>\n",
       "      <th>2</th>\n",
       "      <td>3</td>\n",
       "      <td>1</td>\n",
       "      <td>3</td>\n",
       "      <td>Heikkinen, Miss. Laina</td>\n",
       "      <td>female</td>\n",
       "      <td>26.0</td>\n",
       "      <td>0</td>\n",
       "      <td>0</td>\n",
       "      <td>STON/O2. 3101282</td>\n",
       "      <td>7.9250</td>\n",
       "      <td>NaN</td>\n",
       "      <td>S</td>\n",
       "    </tr>\n",
       "    <tr>\n",
       "      <th>3</th>\n",
       "      <td>4</td>\n",
       "      <td>1</td>\n",
       "      <td>1</td>\n",
       "      <td>Futrelle, Mrs. Jacques Heath (Lily May Peel)</td>\n",
       "      <td>female</td>\n",
       "      <td>35.0</td>\n",
       "      <td>1</td>\n",
       "      <td>0</td>\n",
       "      <td>113803</td>\n",
       "      <td>53.1000</td>\n",
       "      <td>C123</td>\n",
       "      <td>S</td>\n",
       "    </tr>\n",
       "    <tr>\n",
       "      <th>4</th>\n",
       "      <td>5</td>\n",
       "      <td>0</td>\n",
       "      <td>3</td>\n",
       "      <td>Allen, Mr. William Henry</td>\n",
       "      <td>male</td>\n",
       "      <td>35.0</td>\n",
       "      <td>0</td>\n",
       "      <td>0</td>\n",
       "      <td>373450</td>\n",
       "      <td>8.0500</td>\n",
       "      <td>NaN</td>\n",
       "      <td>S</td>\n",
       "    </tr>\n",
       "  </tbody>\n",
       "</table>\n",
       "</div>"
      ],
      "text/plain": [
       "   PassengerId  Survived  Pclass  \\\n",
       "0            1         0       3   \n",
       "1            2         1       1   \n",
       "2            3         1       3   \n",
       "3            4         1       1   \n",
       "4            5         0       3   \n",
       "\n",
       "                                                Name     Sex   Age  SibSp  \\\n",
       "0                            Braund, Mr. Owen Harris    male  22.0      1   \n",
       "1  Cumings, Mrs. John Bradley (Florence Briggs Th...  female  38.0      1   \n",
       "2                             Heikkinen, Miss. Laina  female  26.0      0   \n",
       "3       Futrelle, Mrs. Jacques Heath (Lily May Peel)  female  35.0      1   \n",
       "4                           Allen, Mr. William Henry    male  35.0      0   \n",
       "\n",
       "   Parch            Ticket     Fare Cabin Embarked  \n",
       "0      0         A/5 21171   7.2500   NaN        S  \n",
       "1      0          PC 17599  71.2833   C85        C  \n",
       "2      0  STON/O2. 3101282   7.9250   NaN        S  \n",
       "3      0            113803  53.1000  C123        S  \n",
       "4      0            373450   8.0500   NaN        S  "
      ]
     },
     "execution_count": 3,
     "metadata": {},
     "output_type": "execute_result"
    }
   ],
   "source": [
    "data.head()"
   ]
  },
  {
   "cell_type": "code",
   "execution_count": 4,
   "id": "a3109e9f",
   "metadata": {
    "execution": {
     "iopub.execute_input": "2022-05-03T14:58:12.126363Z",
     "iopub.status.busy": "2022-05-03T14:58:12.125895Z",
     "iopub.status.idle": "2022-05-03T14:58:12.134568Z",
     "shell.execute_reply": "2022-05-03T14:58:12.133736Z"
    },
    "papermill": {
     "duration": 0.027501,
     "end_time": "2022-05-03T14:58:12.136479",
     "exception": false,
     "start_time": "2022-05-03T14:58:12.108978",
     "status": "completed"
    },
    "tags": []
   },
   "outputs": [
    {
     "data": {
      "text/plain": [
       "PassengerId      0\n",
       "Survived         0\n",
       "Pclass           0\n",
       "Name             0\n",
       "Sex              0\n",
       "Age            177\n",
       "SibSp            0\n",
       "Parch            0\n",
       "Ticket           0\n",
       "Fare             0\n",
       "Cabin          687\n",
       "Embarked         2\n",
       "dtype: int64"
      ]
     },
     "execution_count": 4,
     "metadata": {},
     "output_type": "execute_result"
    }
   ],
   "source": [
    "data.isnull().sum()"
   ]
  },
  {
   "cell_type": "markdown",
   "id": "51485f8d",
   "metadata": {
    "papermill": {
     "duration": 0.015908,
     "end_time": "2022-05-03T14:58:12.168730",
     "exception": false,
     "start_time": "2022-05-03T14:58:12.152822",
     "status": "completed"
    },
    "tags": []
   },
   "source": [
    "**null data** check! \n",
    "\n",
    "* age\n",
    "* cabin\n",
    "* Embarked"
   ]
  },
  {
   "cell_type": "code",
   "execution_count": 5,
   "id": "25df3adf",
   "metadata": {
    "execution": {
     "iopub.execute_input": "2022-05-03T14:58:12.202819Z",
     "iopub.status.busy": "2022-05-03T14:58:12.202554Z",
     "iopub.status.idle": "2022-05-03T14:58:12.530854Z",
     "shell.execute_reply": "2022-05-03T14:58:12.529128Z"
    },
    "papermill": {
     "duration": 0.348217,
     "end_time": "2022-05-03T14:58:12.533277",
     "exception": false,
     "start_time": "2022-05-03T14:58:12.185060",
     "status": "completed"
    },
    "tags": []
   },
   "outputs": [
    {
     "data": {
      "image/png": "[encoded data removed]",
      "text/plain": [
       "<Figure size 1296x576 with 2 Axes>"
      ]
     },
     "metadata": {
      "needs_background": "light"
     },
     "output_type": "display_data"
    }
   ],
   "source": [
    "# How many Survived?\n",
    "\n",
    "f,ax=plt.subplots(1,2,figsize=(18,8))\n",
    "data['Survived'].value_counts().plot.pie(explode=[0,0.1],autopct='%1.1f%%',ax=ax[0],shadow=True)\n",
    "ax[0].set_title('Survived')\n",
    "ax[0].set_ylabel('')\n",
    "sns.countplot('Survived',data=data,ax=ax[1])\n",
    "ax[1].set_title('Survived')\n",
    "plt.show()"
   ]
  },
  {
   "cell_type": "code",
   "execution_count": 6,
   "id": "2e6cca38",
   "metadata": {
    "execution": {
     "iopub.execute_input": "2022-05-03T14:58:12.570513Z",
     "iopub.status.busy": "2022-05-03T14:58:12.570070Z",
     "iopub.status.idle": "2022-05-03T14:58:12.579141Z",
     "shell.execute_reply": "2022-05-03T14:58:12.578290Z"
    },
    "papermill": {
     "duration": 0.030286,
     "end_time": "2022-05-03T14:58:12.580960",
     "exception": false,
     "start_time": "2022-05-03T14:58:12.550674",
     "status": "completed"
    },
    "tags": []
   },
   "outputs": [
    {
     "data": {
      "text/plain": [
       "Sex     Survived\n",
       "female  0            81\n",
       "        1           233\n",
       "male    0           468\n",
       "        1           109\n",
       "Name: Survived, dtype: int64"
      ]
     },
     "execution_count": 6,
     "metadata": {},
     "output_type": "execute_result"
    }
   ],
   "source": [
    "data.groupby(['Sex', 'Survived'])['Survived'].count()"
   ]
  },
  {
   "cell_type": "code",
   "execution_count": 7,
   "id": "c607ee68",
   "metadata": {
    "execution": {
     "iopub.execute_input": "2022-05-03T14:58:12.618352Z",
     "iopub.status.busy": "2022-05-03T14:58:12.617832Z",
     "iopub.status.idle": "2022-05-03T14:58:12.937128Z",
     "shell.execute_reply": "2022-05-03T14:58:12.936380Z"
    },
    "papermill": {
     "duration": 0.341414,
     "end_time": "2022-05-03T14:58:12.940204",
     "exception": false,
     "start_time": "2022-05-03T14:58:12.598790",
     "status": "completed"
    },
    "tags": []
   },
   "outputs": [
    {
     "data": {
      "image/png": "[encoded data removed]",
      "text/plain": [
       "<Figure size 1296x576 with 2 Axes>"
      ]
     },
     "metadata": {
      "needs_background": "light"
     },
     "output_type": "display_data"
    }
   ],
   "source": [
    "f, ax=plt.subplots(1,2,figsize=(18,8))\n",
    "data[['Sex','Survived']].groupby(['Sex']).mean().plot.bar(ax=ax[0])\n",
    "ax[0].set_title('Survived vs Sex')\n",
    "sns.countplot('Sex', hue='Survived', data=data, ax=ax[1])\n",
    "ax[1].set_title('Sex:Survived vs Dead')\n",
    "plt.show()"
   ]
  },
  {
   "cell_type": "code",
   "execution_count": 8,
   "id": "6c823e7a",
   "metadata": {
    "execution": {
     "iopub.execute_input": "2022-05-03T14:58:12.980096Z",
     "iopub.status.busy": "2022-05-03T14:58:12.979587Z",
     "iopub.status.idle": "2022-05-03T14:58:13.091381Z",
     "shell.execute_reply": "2022-05-03T14:58:13.090567Z"
    },
    "papermill": {
     "duration": 0.134044,
     "end_time": "2022-05-03T14:58:13.093299",
     "exception": false,
     "start_time": "2022-05-03T14:58:12.959255",
     "status": "completed"
    },
    "tags": []
   },
   "outputs": [
    {
     "data": {
      "text/html": [
       "<style type=\"text/css\">\n",
       "#T_f04c6_row0_col0, #T_f04c6_row1_col1, #T_f04c6_row1_col2 {\n",
       "  background-color: #ffff66;\n",
       "  color: #000000;\n",
       "}\n",
       "#T_f04c6_row0_col1 {\n",
       "  background-color: #cee666;\n",
       "  color: #000000;\n",
       "}\n",
       "#T_f04c6_row0_col2 {\n",
       "  background-color: #f4fa66;\n",
       "  color: #000000;\n",
       "}\n",
       "#T_f04c6_row1_col0 {\n",
       "  background-color: #f6fa66;\n",
       "  color: #000000;\n",
       "}\n",
       "#T_f04c6_row2_col0 {\n",
       "  background-color: #60b066;\n",
       "  color: #f1f1f1;\n",
       "}\n",
       "#T_f04c6_row2_col1 {\n",
       "  background-color: #dfef66;\n",
       "  color: #000000;\n",
       "}\n",
       "#T_f04c6_row2_col2 {\n",
       "  background-color: #90c866;\n",
       "  color: #000000;\n",
       "}\n",
       "#T_f04c6_row3_col0, #T_f04c6_row3_col1, #T_f04c6_row3_col2 {\n",
       "  background-color: #008066;\n",
       "  color: #f1f1f1;\n",
       "}\n",
       "</style>\n",
       "<table id=\"T_f04c6_\">\n",
       "  <thead>\n",
       "    <tr>\n",
       "      <th class=\"index_name level0\" >Survived</th>\n",
       "      <th class=\"col_heading level0 col0\" >0</th>\n",
       "      <th class=\"col_heading level0 col1\" >1</th>\n",
       "      <th class=\"col_heading level0 col2\" >All</th>\n",
       "    </tr>\n",
       "    <tr>\n",
       "      <th class=\"index_name level0\" >Pclass</th>\n",
       "      <th class=\"blank col0\" >&nbsp;</th>\n",
       "      <th class=\"blank col1\" >&nbsp;</th>\n",
       "      <th class=\"blank col2\" >&nbsp;</th>\n",
       "    </tr>\n",
       "  </thead>\n",
       "  <tbody>\n",
       "    <tr>\n",
       "      <th id=\"T_f04c6_level0_row0\" class=\"row_heading level0 row0\" >1</th>\n",
       "      <td id=\"T_f04c6_row0_col0\" class=\"data row0 col0\" >80</td>\n",
       "      <td id=\"T_f04c6_row0_col1\" class=\"data row0 col1\" >136</td>\n",
       "      <td id=\"T_f04c6_row0_col2\" class=\"data row0 col2\" >216</td>\n",
       "    </tr>\n",
       "    <tr>\n",
       "      <th id=\"T_f04c6_level0_row1\" class=\"row_heading level0 row1\" >2</th>\n",
       "      <td id=\"T_f04c6_row1_col0\" class=\"data row1 col0\" >97</td>\n",
       "      <td id=\"T_f04c6_row1_col1\" class=\"data row1 col1\" >87</td>\n",
       "      <td id=\"T_f04c6_row1_col2\" class=\"data row1 col2\" >184</td>\n",
       "    </tr>\n",
       "    <tr>\n",
       "      <th id=\"T_f04c6_level0_row2\" class=\"row_heading level0 row2\" >3</th>\n",
       "      <td id=\"T_f04c6_row2_col0\" class=\"data row2 col0\" >372</td>\n",
       "      <td id=\"T_f04c6_row2_col1\" class=\"data row2 col1\" >119</td>\n",
       "      <td id=\"T_f04c6_row2_col2\" class=\"data row2 col2\" >491</td>\n",
       "    </tr>\n",
       "    <tr>\n",
       "      <th id=\"T_f04c6_level0_row3\" class=\"row_heading level0 row3\" >All</th>\n",
       "      <td id=\"T_f04c6_row3_col0\" class=\"data row3 col0\" >549</td>\n",
       "      <td id=\"T_f04c6_row3_col1\" class=\"data row3 col1\" >342</td>\n",
       "      <td id=\"T_f04c6_row3_col2\" class=\"data row3 col2\" >891</td>\n",
       "    </tr>\n",
       "  </tbody>\n",
       "</table>\n"
      ],
      "text/plain": [
       "<pandas.io.formats.style.Styler at 0x7f3d9228c650>"
      ]
     },
     "execution_count": 8,
     "metadata": {},
     "output_type": "execute_result"
    }
   ],
   "source": [
    "pd.crosstab(data.Pclass,data.Survived,margins=True).style.background_gradient(cmap='summer_r')"
   ]
  },
  {
   "cell_type": "code",
   "execution_count": 9,
   "id": "223590c8",
   "metadata": {
    "execution": {
     "iopub.execute_input": "2022-05-03T14:58:13.134159Z",
     "iopub.status.busy": "2022-05-03T14:58:13.133387Z",
     "iopub.status.idle": "2022-05-03T14:58:13.444395Z",
     "shell.execute_reply": "2022-05-03T14:58:13.443553Z"
    },
    "papermill": {
     "duration": 0.333608,
     "end_time": "2022-05-03T14:58:13.446444",
     "exception": false,
     "start_time": "2022-05-03T14:58:13.112836",
     "status": "completed"
    },
    "tags": []
   },
   "outputs": [
    {
     "data": {
      "image/png": "[encoded data removed]",
      "text/plain": [
       "<Figure size 1296x576 with 2 Axes>"
      ]
     },
     "metadata": {
      "needs_background": "light"
     },
     "output_type": "display_data"
    }
   ],
   "source": [
    "f,ax=plt.subplots(1,2,figsize=(18,8))\n",
    "data['Pclass'].value_counts().plot.bar(color=['#CD7F32', '#FFDF00', '#D3D3D3'],ax=ax[0])\n",
    "ax[0].set_title('Number Of Passengers By Pclass')\n",
    "ax[0].set_ylabel('Count')\n",
    "sns.countplot('Pclass', hue='Survived', data=data,ax=ax[1])\n",
    "ax[1].set_title('Pclass:Survived vs Dead')\n",
    "plt.show()"
   ]
  },
  {
   "cell_type": "code",
   "execution_count": 10,
   "id": "8869e5f1",
   "metadata": {
    "execution": {
     "iopub.execute_input": "2022-05-03T14:58:13.489882Z",
     "iopub.status.busy": "2022-05-03T14:58:13.489307Z",
     "iopub.status.idle": "2022-05-03T14:58:13.537924Z",
     "shell.execute_reply": "2022-05-03T14:58:13.537104Z"
    },
    "papermill": {
     "duration": 0.072828,
     "end_time": "2022-05-03T14:58:13.540046",
     "exception": false,
     "start_time": "2022-05-03T14:58:13.467218",
     "status": "completed"
    },
    "tags": []
   },
   "outputs": [
    {
     "data": {
      "text/html": [
       "<style type=\"text/css\">\n",
       "#T_6885a_row0_col0, #T_6885a_row0_col1, #T_6885a_row0_col3, #T_6885a_row3_col2 {\n",
       "  background-color: #ffff66;\n",
       "  color: #000000;\n",
       "}\n",
       "#T_6885a_row0_col2, #T_6885a_row1_col2 {\n",
       "  background-color: #f1f866;\n",
       "  color: #000000;\n",
       "}\n",
       "#T_6885a_row1_col0 {\n",
       "  background-color: #96cb66;\n",
       "  color: #000000;\n",
       "}\n",
       "#T_6885a_row1_col1 {\n",
       "  background-color: #a3d166;\n",
       "  color: #000000;\n",
       "}\n",
       "#T_6885a_row1_col3 {\n",
       "  background-color: #cfe766;\n",
       "  color: #000000;\n",
       "}\n",
       "#T_6885a_row2_col0 {\n",
       "  background-color: #a7d366;\n",
       "  color: #000000;\n",
       "}\n",
       "#T_6885a_row2_col1, #T_6885a_row2_col3 {\n",
       "  background-color: #85c266;\n",
       "  color: #000000;\n",
       "}\n",
       "#T_6885a_row2_col2 {\n",
       "  background-color: #6eb666;\n",
       "  color: #f1f1f1;\n",
       "}\n",
       "#T_6885a_row3_col0 {\n",
       "  background-color: #cde666;\n",
       "  color: #000000;\n",
       "}\n",
       "#T_6885a_row3_col1 {\n",
       "  background-color: #f0f866;\n",
       "  color: #000000;\n",
       "}\n",
       "#T_6885a_row3_col3 {\n",
       "  background-color: #f7fb66;\n",
       "  color: #000000;\n",
       "}\n",
       "#T_6885a_row4_col0, #T_6885a_row4_col1, #T_6885a_row4_col2, #T_6885a_row4_col3 {\n",
       "  background-color: #008066;\n",
       "  color: #f1f1f1;\n",
       "}\n",
       "</style>\n",
       "<table id=\"T_6885a_\">\n",
       "  <thead>\n",
       "    <tr>\n",
       "      <th class=\"blank\" >&nbsp;</th>\n",
       "      <th class=\"index_name level0\" >Pclass</th>\n",
       "      <th class=\"col_heading level0 col0\" >1</th>\n",
       "      <th class=\"col_heading level0 col1\" >2</th>\n",
       "      <th class=\"col_heading level0 col2\" >3</th>\n",
       "      <th class=\"col_heading level0 col3\" >All</th>\n",
       "    </tr>\n",
       "    <tr>\n",
       "      <th class=\"index_name level0\" >Sex</th>\n",
       "      <th class=\"index_name level1\" >Survived</th>\n",
       "      <th class=\"blank col0\" >&nbsp;</th>\n",
       "      <th class=\"blank col1\" >&nbsp;</th>\n",
       "      <th class=\"blank col2\" >&nbsp;</th>\n",
       "      <th class=\"blank col3\" >&nbsp;</th>\n",
       "    </tr>\n",
       "  </thead>\n",
       "  <tbody>\n",
       "    <tr>\n",
       "      <th id=\"T_6885a_level0_row0\" class=\"row_heading level0 row0\" rowspan=\"2\">female</th>\n",
       "      <th id=\"T_6885a_level1_row0\" class=\"row_heading level1 row0\" >0</th>\n",
       "      <td id=\"T_6885a_row0_col0\" class=\"data row0 col0\" >3</td>\n",
       "      <td id=\"T_6885a_row0_col1\" class=\"data row0 col1\" >6</td>\n",
       "      <td id=\"T_6885a_row0_col2\" class=\"data row0 col2\" >72</td>\n",
       "      <td id=\"T_6885a_row0_col3\" class=\"data row0 col3\" >81</td>\n",
       "    </tr>\n",
       "    <tr>\n",
       "      <th id=\"T_6885a_level1_row1\" class=\"row_heading level1 row1\" >1</th>\n",
       "      <td id=\"T_6885a_row1_col0\" class=\"data row1 col0\" >91</td>\n",
       "      <td id=\"T_6885a_row1_col1\" class=\"data row1 col1\" >70</td>\n",
       "      <td id=\"T_6885a_row1_col2\" class=\"data row1 col2\" >72</td>\n",
       "      <td id=\"T_6885a_row1_col3\" class=\"data row1 col3\" >233</td>\n",
       "    </tr>\n",
       "    <tr>\n",
       "      <th id=\"T_6885a_level0_row2\" class=\"row_heading level0 row2\" rowspan=\"2\">male</th>\n",
       "      <th id=\"T_6885a_level1_row2\" class=\"row_heading level1 row2\" >0</th>\n",
       "      <td id=\"T_6885a_row2_col0\" class=\"data row2 col0\" >77</td>\n",
       "      <td id=\"T_6885a_row2_col1\" class=\"data row2 col1\" >91</td>\n",
       "      <td id=\"T_6885a_row2_col2\" class=\"data row2 col2\" >300</td>\n",
       "      <td id=\"T_6885a_row2_col3\" class=\"data row2 col3\" >468</td>\n",
       "    </tr>\n",
       "    <tr>\n",
       "      <th id=\"T_6885a_level1_row3\" class=\"row_heading level1 row3\" >1</th>\n",
       "      <td id=\"T_6885a_row3_col0\" class=\"data row3 col0\" >45</td>\n",
       "      <td id=\"T_6885a_row3_col1\" class=\"data row3 col1\" >17</td>\n",
       "      <td id=\"T_6885a_row3_col2\" class=\"data row3 col2\" >47</td>\n",
       "      <td id=\"T_6885a_row3_col3\" class=\"data row3 col3\" >109</td>\n",
       "    </tr>\n",
       "    <tr>\n",
       "      <th id=\"T_6885a_level0_row4\" class=\"row_heading level0 row4\" >All</th>\n",
       "      <th id=\"T_6885a_level1_row4\" class=\"row_heading level1 row4\" ></th>\n",
       "      <td id=\"T_6885a_row4_col0\" class=\"data row4 col0\" >216</td>\n",
       "      <td id=\"T_6885a_row4_col1\" class=\"data row4 col1\" >184</td>\n",
       "      <td id=\"T_6885a_row4_col2\" class=\"data row4 col2\" >491</td>\n",
       "      <td id=\"T_6885a_row4_col3\" class=\"data row4 col3\" >891</td>\n",
       "    </tr>\n",
       "  </tbody>\n",
       "</table>\n"
      ],
      "text/plain": [
       "<pandas.io.formats.style.Styler at 0x7f3d94412f50>"
      ]
     },
     "execution_count": 10,
     "metadata": {},
     "output_type": "execute_result"
    }
   ],
   "source": [
    "pd.crosstab([data.Sex,data.Survived],data.Pclass,margins=True).style.background_gradient(cmap='summer_r')"
   ]
  },
  {
   "cell_type": "code",
   "execution_count": 11,
   "id": "5cd750a8",
   "metadata": {
    "execution": {
     "iopub.execute_input": "2022-05-03T14:58:13.585221Z",
     "iopub.status.busy": "2022-05-03T14:58:13.584673Z",
     "iopub.status.idle": "2022-05-03T14:58:14.130126Z",
     "shell.execute_reply": "2022-05-03T14:58:14.129264Z"
    },
    "papermill": {
     "duration": 0.571038,
     "end_time": "2022-05-03T14:58:14.132410",
     "exception": false,
     "start_time": "2022-05-03T14:58:13.561372",
     "status": "completed"
    },
    "tags": []
   },
   "outputs": [
    {
     "data": {
      "image/png": "[encoded data removed]",
      "text/plain": [
       "<Figure size 430.5x360 with 1 Axes>"
      ]
     },
     "metadata": {
      "needs_background": "light"
     },
     "output_type": "display_data"
    }
   ],
   "source": [
    "sns.factorplot('Pclass','Survived', hue='Sex', data=data)\n",
    "plt.show()"
   ]
  },
  {
   "cell_type": "code",
   "execution_count": 12,
   "id": "778c4bca",
   "metadata": {
    "execution": {
     "iopub.execute_input": "2022-05-03T14:58:14.180996Z",
     "iopub.status.busy": "2022-05-03T14:58:14.180595Z",
     "iopub.status.idle": "2022-05-03T14:58:14.185982Z",
     "shell.execute_reply": "2022-05-03T14:58:14.185023Z"
    },
    "papermill": {
     "duration": 0.031347,
     "end_time": "2022-05-03T14:58:14.188054",
     "exception": false,
     "start_time": "2022-05-03T14:58:14.156707",
     "status": "completed"
    },
    "tags": []
   },
   "outputs": [
    {
     "name": "stdout",
     "output_type": "stream",
     "text": [
      "Old: 80.0 Years\n"
     ]
    }
   ],
   "source": [
    "print('Old:', data['Age'].max(),'Years')"
   ]
  },
  {
   "cell_type": "code",
   "execution_count": null,
   "id": "d48f780f",
   "metadata": {
    "papermill": {
     "duration": 0.022018,
     "end_time": "2022-05-03T14:58:14.234004",
     "exception": false,
     "start_time": "2022-05-03T14:58:14.211986",
     "status": "completed"
    },
    "tags": []
   },
   "outputs": [],
   "source": []
  }
 ],
 "metadata": {
  "kernelspec": {
   "display_name": "Python 3",
   "language": "python",
   "name": "python3"
  },
  "language_info": {
   "codemirror_mode": {
    "name": "ipython",
    "version": 3
   },
   "file_extension": ".py",
   "mimetype": "text/x-python",
   "name": "python",
   "nbconvert_exporter": "python",
   "pygments_lexer": "ipython3",
   "version": "3.7.12"
  },
  "papermill": {
   "default_parameters": {},
   "duration": 14.022864,
   "end_time": "2022-05-03T14:58:14.977396",
   "environment_variables": {},
   "exception": null,
   "input_path": "__notebook__.ipynb",
   "output_path": "__notebook__.ipynb",
   "parameters": {},
   "start_time": "2022-05-03T14:58:00.954532",
   "version": "2.3.4"
  }
 },
 "nbformat": 4,
 "nbformat_minor": 5
}
