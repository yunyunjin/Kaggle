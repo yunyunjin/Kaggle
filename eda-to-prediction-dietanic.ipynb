{
 "cells": [
  {
   "cell_type": "markdown",
   "id": "9676f66d",
   "metadata": {
    "papermill": {
     "duration": 0.01258,
     "end_time": "2022-05-03T14:56:14.622470",
     "exception": false,
     "start_time": "2022-05-03T14:56:14.609890",
     "status": "completed"
    },
    "tags": []
   },
   "source": [
    "# Part1: Exploratory Data Analysis(EDA)"
   ]
  },
  {
   "cell_type": "code",
   "execution_count": 1,
   "id": "823bfdb9",
   "metadata": {
    "execution": {
     "iopub.execute_input": "2022-05-03T14:56:14.646677Z",
     "iopub.status.busy": "2022-05-03T14:56:14.646026Z",
     "iopub.status.idle": "2022-05-03T14:56:15.727079Z",
     "shell.execute_reply": "2022-05-03T14:56:15.726247Z"
    },
    "papermill": {
     "duration": 1.096187,
     "end_time": "2022-05-03T14:56:15.729470",
     "exception": false,
     "start_time": "2022-05-03T14:56:14.633283",
     "status": "completed"
    },
    "tags": []
   },
   "outputs": [],
   "source": [
    "import numpy as np \n",
    "import pandas as pd\n",
    "import matplotlib.pyplot as plt\n",
    "import seaborn as sns\n",
    "plt.style.use('fivethirtyeight')\n",
    "import warnings\n",
    "warnings.filterwarnings('ignore')\n",
    "%matplotlib inline"
   ]
  },
  {
   "cell_type": "code",
   "execution_count": 2,
   "id": "487c7193",
   "metadata": {
    "execution": {
     "iopub.execute_input": "2022-05-03T14:56:15.752863Z",
     "iopub.status.busy": "2022-05-03T14:56:15.752581Z",
     "iopub.status.idle": "2022-05-03T14:56:15.773080Z",
     "shell.execute_reply": "2022-05-03T14:56:15.772156Z"
    },
    "papermill": {
     "duration": 0.034697,
     "end_time": "2022-05-03T14:56:15.775305",
     "exception": false,
     "start_time": "2022-05-03T14:56:15.740608",
     "status": "completed"
    },
    "tags": []
   },
   "outputs": [],
   "source": [
    "data=pd.read_csv('../input/titanic/train.csv')"
   ]
  },
  {
   "cell_type": "code",
   "execution_count": 3,
   "id": "8d6fa991",
   "metadata": {
    "execution": {
     "iopub.execute_input": "2022-05-03T14:56:15.798670Z",
     "iopub.status.busy": "2022-05-03T14:56:15.798390Z",
     "iopub.status.idle": "2022-05-03T14:56:15.820241Z",
     "shell.execute_reply": "2022-05-03T14:56:15.819370Z"
    },
    "papermill": {
     "duration": 0.036478,
     "end_time": "2022-05-03T14:56:15.822668",
     "exception": false,
     "start_time": "2022-05-03T14:56:15.786190",
     "status": "completed"
    },
    "tags": []
   },
   "outputs": [
    {
     "data": {
      "text/html": [
       "<div>\n",
       "<style scoped>\n",
       "    .dataframe tbody tr th:only-of-type {\n",
       "        vertical-align: middle;\n",
       "    }\n",
       "\n",
       "    .dataframe tbody tr th {\n",
       "        vertical-align: top;\n",
       "    }\n",
       "\n",
       "    .dataframe thead th {\n",
       "        text-align: right;\n",
       "    }\n",
       "</style>\n",
       "<table border=\"1\" class=\"dataframe\">\n",
       "  <thead>\n",
       "    <tr style=\"text-align: right;\">\n",
       "      <th></th>\n",
       "      <th>PassengerId</th>\n",
       "      <th>Survived</th>\n",
       "      <th>Pclass</th>\n",
       "      <th>Name</th>\n",
       "      <th>Sex</th>\n",
       "      <th>Age</th>\n",
       "      <th>SibSp</th>\n",
       "      <th>Parch</th>\n",
       "      <th>Ticket</th>\n",
       "      <th>Fare</th>\n",
       "      <th>Cabin</th>\n",
       "      <th>Embarked</th>\n",
       "    </tr>\n",
       "  </thead>\n",
       "  <tbody>\n",
       "    <tr>\n",
       "      <th>0</th>\n",
       "      <td>1</td>\n",
       "      <td>0</td>\n",
       "      <td>3</td>\n",
       "      <td>Braund, Mr. Owen Harris</td>\n",
       "      <td>male</td>\n",
       "      <td>22.0</td>\n",
       "      <td>1</td>\n",
       "      <td>0</td>\n",
       "      <td>A/5 21171</td>\n",
       "      <td>7.2500</td>\n",
       "      <td>NaN</td>\n",
       "      <td>S</td>\n",
       "    </tr>\n",
       "    <tr>\n",
       "      <th>1</th>\n",
       "      <td>2</td>\n",
       "      <td>1</td>\n",
       "      <td>1</td>\n",
       "      <td>Cumings, Mrs. John Bradley (Florence Briggs Th...</td>\n",
       "      <td>female</td>\n",
       "      <td>38.0</td>\n",
       "      <td>1</td>\n",
       "      <td>0</td>\n",
       "      <td>PC 17599</td>\n",
       "      <td>71.2833</td>\n",
       "      <td>C85</td>\n",
       "      <td>C</td>\n",
       "    </tr>\n",
       "    <tr>\n",
       "      <th>2</th>\n",
       "      <td>3</td>\n",
       "      <td>1</td>\n",
       "      <td>3</td>\n",
       "      <td>Heikkinen, Miss. Laina</td>\n",
       "      <td>female</td>\n",
       "      <td>26.0</td>\n",
       "      <td>0</td>\n",
       "      <td>0</td>\n",
       "      <td>STON/O2. 3101282</td>\n",
       "      <td>7.9250</td>\n",
       "      <td>NaN</td>\n",
       "      <td>S</td>\n",
       "    </tr>\n",
       "    <tr>\n",
       "      <th>3</th>\n",
       "      <td>4</td>\n",
       "      <td>1</td>\n",
       "      <td>1</td>\n",
       "      <td>Futrelle, Mrs. Jacques Heath (Lily May Peel)</td>\n",
       "      <td>female</td>\n",
       "      <td>35.0</td>\n",
       "      <td>1</td>\n",
       "      <td>0</td>\n",
       "      <td>113803</td>\n",
       "      <td>53.1000</td>\n",
       "      <td>C123</td>\n",
       "      <td>S</td>\n",
       "    </tr>\n",
       "    <tr>\n",
       "      <th>4</th>\n",
       "      <td>5</td>\n",
       "      <td>0</td>\n",
       "      <td>3</td>\n",
       "      <td>Allen, Mr. William Henry</td>\n",
       "      <td>male</td>\n",
       "      <td>35.0</td>\n",
       "      <td>0</td>\n",
       "      <td>0</td>\n",
       "      <td>373450</td>\n",
       "      <td>8.0500</td>\n",
       "      <td>NaN</td>\n",
       "      <td>S</td>\n",
       "    </tr>\n",
       "  </tbody>\n",
       "</table>\n",
       "</div>"
      ],
      "text/plain": [
       "   PassengerId  Survived  Pclass  \\\n",
       "0            1         0       3   \n",
       "1            2         1       1   \n",
       "2            3         1       3   \n",
       "3            4         1       1   \n",
       "4            5         0       3   \n",
       "\n",
       "                                                Name     Sex   Age  SibSp  \\\n",
       "0                            Braund, Mr. Owen Harris    male  22.0      1   \n",
       "1  Cumings, Mrs. John Bradley (Florence Briggs Th...  female  38.0      1   \n",
       "2                             Heikkinen, Miss. Laina  female  26.0      0   \n",
       "3       Futrelle, Mrs. Jacques Heath (Lily May Peel)  female  35.0      1   \n",
       "4                           Allen, Mr. William Henry    male  35.0      0   \n",
       "\n",
       "   Parch            Ticket     Fare Cabin Embarked  \n",
       "0      0         A/5 21171   7.2500   NaN        S  \n",
       "1      0          PC 17599  71.2833   C85        C  \n",
       "2      0  STON/O2. 3101282   7.9250   NaN        S  \n",
       "3      0            113803  53.1000  C123        S  \n",
       "4      0            373450   8.0500   NaN        S  "
      ]
     },
     "execution_count": 3,
     "metadata": {},
     "output_type": "execute_result"
    }
   ],
   "source": [
    "data.head()"
   ]
  },
  {
   "cell_type": "code",
   "execution_count": 4,
   "id": "7a8afcf4",
   "metadata": {
    "execution": {
     "iopub.execute_input": "2022-05-03T14:56:15.847483Z",
     "iopub.status.busy": "2022-05-03T14:56:15.847078Z",
     "iopub.status.idle": "2022-05-03T14:56:15.855199Z",
     "shell.execute_reply": "2022-05-03T14:56:15.854364Z"
    },
    "papermill": {
     "duration": 0.022644,
     "end_time": "2022-05-03T14:56:15.857015",
     "exception": false,
     "start_time": "2022-05-03T14:56:15.834371",
     "status": "completed"
    },
    "tags": []
   },
   "outputs": [
    {
     "data": {
      "text/plain": [
       "PassengerId      0\n",
       "Survived         0\n",
       "Pclass           0\n",
       "Name             0\n",
       "Sex              0\n",
       "Age            177\n",
       "SibSp            0\n",
       "Parch            0\n",
       "Ticket           0\n",
       "Fare             0\n",
       "Cabin          687\n",
       "Embarked         2\n",
       "dtype: int64"
      ]
     },
     "execution_count": 4,
     "metadata": {},
     "output_type": "execute_result"
    }
   ],
   "source": [
    "data.isnull().sum()"
   ]
  },
  {
   "cell_type": "markdown",
   "id": "a963b044",
   "metadata": {
    "papermill": {
     "duration": 0.011274,
     "end_time": "2022-05-03T14:56:15.879643",
     "exception": false,
     "start_time": "2022-05-03T14:56:15.868369",
     "status": "completed"
    },
    "tags": []
   },
   "source": [
    "**null data** check! \n",
    "\n",
    "* age\n",
    "* cabin\n",
    "* Embarked"
   ]
  },
  {
   "cell_type": "code",
   "execution_count": 5,
   "id": "6bd96256",
   "metadata": {
    "execution": {
     "iopub.execute_input": "2022-05-03T14:56:15.904692Z",
     "iopub.status.busy": "2022-05-03T14:56:15.904296Z",
     "iopub.status.idle": "2022-05-03T14:56:16.212511Z",
     "shell.execute_reply": "2022-05-03T14:56:16.211871Z"
    },
    "papermill": {
     "duration": 0.323076,
     "end_time": "2022-05-03T14:56:16.214428",
     "exception": false,
     "start_time": "2022-05-03T14:56:15.891352",
     "status": "completed"
    },
    "tags": []
   },
   "outputs": [
    {
     "data": {
      "image/png": "[encoded data removed]",
      "text/plain": [
       "<Figure size 1296x576 with 2 Axes>"
      ]
     },
     "metadata": {
      "needs_background": "light"
     },
     "output_type": "display_data"
    }
   ],
   "source": [
    "# How many Survived?\n",
    "\n",
    "f,ax=plt.subplots(1,2,figsize=(18,8))\n",
    "data['Survived'].value_counts().plot.pie(explode=[0,0.1],autopct='%1.1f%%',ax=ax[0],shadow=True)\n",
    "ax[0].set_title('Survived')\n",
    "ax[0].set_ylabel('')\n",
    "sns.countplot('Survived',data=data,ax=ax[1])\n",
    "ax[1].set_title('Survived')\n",
    "plt.show()"
   ]
  },
  {
   "cell_type": "code",
   "execution_count": 6,
   "id": "b164e794",
   "metadata": {
    "execution": {
     "iopub.execute_input": "2022-05-03T14:56:16.242013Z",
     "iopub.status.busy": "2022-05-03T14:56:16.241563Z",
     "iopub.status.idle": "2022-05-03T14:56:16.249547Z",
     "shell.execute_reply": "2022-05-03T14:56:16.248920Z"
    },
    "papermill": {
     "duration": 0.024364,
     "end_time": "2022-05-03T14:56:16.251436",
     "exception": false,
     "start_time": "2022-05-03T14:56:16.227072",
     "status": "completed"
    },
    "tags": []
   },
   "outputs": [
    {
     "data": {
      "text/plain": [
       "Sex     Survived\n",
       "female  0            81\n",
       "        1           233\n",
       "male    0           468\n",
       "        1           109\n",
       "Name: Survived, dtype: int64"
      ]
     },
     "execution_count": 6,
     "metadata": {},
     "output_type": "execute_result"
    }
   ],
   "source": [
    "data.groupby(['Sex', 'Survived'])['Survived'].count()"
   ]
  },
  {
   "cell_type": "code",
   "execution_count": 7,
   "id": "2f641f9b",
   "metadata": {
    "execution": {
     "iopub.execute_input": "2022-05-03T14:56:16.279907Z",
     "iopub.status.busy": "2022-05-03T14:56:16.279582Z",
     "iopub.status.idle": "2022-05-03T14:56:16.594085Z",
     "shell.execute_reply": "2022-05-03T14:56:16.593160Z"
    },
    "papermill": {
     "duration": 0.331629,
     "end_time": "2022-05-03T14:56:16.596284",
     "exception": false,
     "start_time": "2022-05-03T14:56:16.264655",
     "status": "completed"
    },
    "tags": []
   },
   "outputs": [
    {
     "data": {
      "image/png": "[encoded data removed]",
      "text/plain": [
       "<Figure size 1296x576 with 2 Axes>"
      ]
     },
     "metadata": {
      "needs_background": "light"
     },
     "output_type": "display_data"
    }
   ],
   "source": [
    "f, ax=plt.subplots(1,2,figsize=(18,8))\n",
    "data[['Sex','Survived']].groupby(['Sex']).mean().plot.bar(ax=ax[0])\n",
    "ax[0].set_title('Survived vs Sex')\n",
    "sns.countplot('Sex', hue='Survived', data=data, ax=ax[1])\n",
    "ax[1].set_title('Sex:Survived vs Dead')\n",
    "plt.show()"
   ]
  },
  {
   "cell_type": "code",
   "execution_count": 8,
   "id": "ba39f1a6",
   "metadata": {
    "execution": {
     "iopub.execute_input": "2022-05-03T14:56:16.625873Z",
     "iopub.status.busy": "2022-05-03T14:56:16.625445Z",
     "iopub.status.idle": "2022-05-03T14:56:16.737570Z",
     "shell.execute_reply": "2022-05-03T14:56:16.736502Z"
    },
    "papermill": {
     "duration": 0.130686,
     "end_time": "2022-05-03T14:56:16.740709",
     "exception": false,
     "start_time": "2022-05-03T14:56:16.610023",
     "status": "completed"
    },
    "tags": []
   },
   "outputs": [
    {
     "data": {
      "text/html": [
       "<style type=\"text/css\">\n",
       "#T_1bd88_row0_col0, #T_1bd88_row1_col1, #T_1bd88_row1_col2 {\n",
       "  background-color: #ffff66;\n",
       "  color: #000000;\n",
       "}\n",
       "#T_1bd88_row0_col1 {\n",
       "  background-color: #cee666;\n",
       "  color: #000000;\n",
       "}\n",
       "#T_1bd88_row0_col2 {\n",
       "  background-color: #f4fa66;\n",
       "  color: #000000;\n",
       "}\n",
       "#T_1bd88_row1_col0 {\n",
       "  background-color: #f6fa66;\n",
       "  color: #000000;\n",
       "}\n",
       "#T_1bd88_row2_col0 {\n",
       "  background-color: #60b066;\n",
       "  color: #f1f1f1;\n",
       "}\n",
       "#T_1bd88_row2_col1 {\n",
       "  background-color: #dfef66;\n",
       "  color: #000000;\n",
       "}\n",
       "#T_1bd88_row2_col2 {\n",
       "  background-color: #90c866;\n",
       "  color: #000000;\n",
       "}\n",
       "#T_1bd88_row3_col0, #T_1bd88_row3_col1, #T_1bd88_row3_col2 {\n",
       "  background-color: #008066;\n",
       "  color: #f1f1f1;\n",
       "}\n",
       "</style>\n",
       "<table id=\"T_1bd88_\">\n",
       "  <thead>\n",
       "    <tr>\n",
       "      <th class=\"index_name level0\" >Survived</th>\n",
       "      <th class=\"col_heading level0 col0\" >0</th>\n",
       "      <th class=\"col_heading level0 col1\" >1</th>\n",
       "      <th class=\"col_heading level0 col2\" >All</th>\n",
       "    </tr>\n",
       "    <tr>\n",
       "      <th class=\"index_name level0\" >Pclass</th>\n",
       "      <th class=\"blank col0\" >&nbsp;</th>\n",
       "      <th class=\"blank col1\" >&nbsp;</th>\n",
       "      <th class=\"blank col2\" >&nbsp;</th>\n",
       "    </tr>\n",
       "  </thead>\n",
       "  <tbody>\n",
       "    <tr>\n",
       "      <th id=\"T_1bd88_level0_row0\" class=\"row_heading level0 row0\" >1</th>\n",
       "      <td id=\"T_1bd88_row0_col0\" class=\"data row0 col0\" >80</td>\n",
       "      <td id=\"T_1bd88_row0_col1\" class=\"data row0 col1\" >136</td>\n",
       "      <td id=\"T_1bd88_row0_col2\" class=\"data row0 col2\" >216</td>\n",
       "    </tr>\n",
       "    <tr>\n",
       "      <th id=\"T_1bd88_level0_row1\" class=\"row_heading level0 row1\" >2</th>\n",
       "      <td id=\"T_1bd88_row1_col0\" class=\"data row1 col0\" >97</td>\n",
       "      <td id=\"T_1bd88_row1_col1\" class=\"data row1 col1\" >87</td>\n",
       "      <td id=\"T_1bd88_row1_col2\" class=\"data row1 col2\" >184</td>\n",
       "    </tr>\n",
       "    <tr>\n",
       "      <th id=\"T_1bd88_level0_row2\" class=\"row_heading level0 row2\" >3</th>\n",
       "      <td id=\"T_1bd88_row2_col0\" class=\"data row2 col0\" >372</td>\n",
       "      <td id=\"T_1bd88_row2_col1\" class=\"data row2 col1\" >119</td>\n",
       "      <td id=\"T_1bd88_row2_col2\" class=\"data row2 col2\" >491</td>\n",
       "    </tr>\n",
       "    <tr>\n",
       "      <th id=\"T_1bd88_level0_row3\" class=\"row_heading level0 row3\" >All</th>\n",
       "      <td id=\"T_1bd88_row3_col0\" class=\"data row3 col0\" >549</td>\n",
       "      <td id=\"T_1bd88_row3_col1\" class=\"data row3 col1\" >342</td>\n",
       "      <td id=\"T_1bd88_row3_col2\" class=\"data row3 col2\" >891</td>\n",
       "    </tr>\n",
       "  </tbody>\n",
       "</table>\n"
      ],
      "text/plain": [
       "<pandas.io.formats.style.Styler at 0x7f0a5c6c2d50>"
      ]
     },
     "execution_count": 8,
     "metadata": {},
     "output_type": "execute_result"
    }
   ],
   "source": [
    "pd.crosstab(data.Pclass,data.Survived,margins=True).style.background_gradient(cmap='summer_r')"
   ]
  },
  {
   "cell_type": "code",
   "execution_count": 9,
   "id": "52c2d5c3",
   "metadata": {
    "execution": {
     "iopub.execute_input": "2022-05-03T14:56:16.773070Z",
     "iopub.status.busy": "2022-05-03T14:56:16.772628Z",
     "iopub.status.idle": "2022-05-03T14:56:17.124494Z",
     "shell.execute_reply": "2022-05-03T14:56:17.123867Z"
    },
    "papermill": {
     "duration": 0.370419,
     "end_time": "2022-05-03T14:56:17.127329",
     "exception": false,
     "start_time": "2022-05-03T14:56:16.756910",
     "status": "completed"
    },
    "tags": []
   },
   "outputs": [
    {
     "data": {
      "image/png": "[encoded data removed]",
      "text/plain": [
       "<Figure size 1296x576 with 2 Axes>"
      ]
     },
     "metadata": {
      "needs_background": "light"
     },
     "output_type": "display_data"
    }
   ],
   "source": [
    "f,ax=plt.subplots(1,2,figsize=(18,8))\n",
    "data['Pclass'].value_counts().plot.bar(color=['#CD7F32', '#FFDF00', '#D3D3D3'],ax=ax[0])\n",
    "ax[0].set_title('Number Of Passengers By Pclass')\n",
    "ax[0].set_ylabel('Count')\n",
    "sns.countplot('Pclass', hue='Survived', data=data,ax=ax[1])\n",
    "ax[1].set_title('Pclass:Survived vs Dead')\n",
    "plt.show()"
   ]
  },
  {
   "cell_type": "code",
   "execution_count": 10,
   "id": "ae628b6b",
   "metadata": {
    "execution": {
     "iopub.execute_input": "2022-05-03T14:56:17.168744Z",
     "iopub.status.busy": "2022-05-03T14:56:17.168504Z",
     "iopub.status.idle": "2022-05-03T14:56:17.221496Z",
     "shell.execute_reply": "2022-05-03T14:56:17.220645Z"
    },
    "papermill": {
     "duration": 0.07157,
     "end_time": "2022-05-03T14:56:17.223577",
     "exception": false,
     "start_time": "2022-05-03T14:56:17.152007",
     "status": "completed"
    },
    "tags": []
   },
   "outputs": [
    {
     "data": {
      "text/html": [
       "<style type=\"text/css\">\n",
       "#T_9485e_row0_col0, #T_9485e_row0_col1, #T_9485e_row0_col3, #T_9485e_row3_col2 {\n",
       "  background-color: #ffff66;\n",
       "  color: #000000;\n",
       "}\n",
       "#T_9485e_row0_col2, #T_9485e_row1_col2 {\n",
       "  background-color: #f1f866;\n",
       "  color: #000000;\n",
       "}\n",
       "#T_9485e_row1_col0 {\n",
       "  background-color: #96cb66;\n",
       "  color: #000000;\n",
       "}\n",
       "#T_9485e_row1_col1 {\n",
       "  background-color: #a3d166;\n",
       "  color: #000000;\n",
       "}\n",
       "#T_9485e_row1_col3 {\n",
       "  background-color: #cfe766;\n",
       "  color: #000000;\n",
       "}\n",
       "#T_9485e_row2_col0 {\n",
       "  background-color: #a7d366;\n",
       "  color: #000000;\n",
       "}\n",
       "#T_9485e_row2_col1, #T_9485e_row2_col3 {\n",
       "  background-color: #85c266;\n",
       "  color: #000000;\n",
       "}\n",
       "#T_9485e_row2_col2 {\n",
       "  background-color: #6eb666;\n",
       "  color: #f1f1f1;\n",
       "}\n",
       "#T_9485e_row3_col0 {\n",
       "  background-color: #cde666;\n",
       "  color: #000000;\n",
       "}\n",
       "#T_9485e_row3_col1 {\n",
       "  background-color: #f0f866;\n",
       "  color: #000000;\n",
       "}\n",
       "#T_9485e_row3_col3 {\n",
       "  background-color: #f7fb66;\n",
       "  color: #000000;\n",
       "}\n",
       "#T_9485e_row4_col0, #T_9485e_row4_col1, #T_9485e_row4_col2, #T_9485e_row4_col3 {\n",
       "  background-color: #008066;\n",
       "  color: #f1f1f1;\n",
       "}\n",
       "</style>\n",
       "<table id=\"T_9485e_\">\n",
       "  <thead>\n",
       "    <tr>\n",
       "      <th class=\"blank\" >&nbsp;</th>\n",
       "      <th class=\"index_name level0\" >Pclass</th>\n",
       "      <th class=\"col_heading level0 col0\" >1</th>\n",
       "      <th class=\"col_heading level0 col1\" >2</th>\n",
       "      <th class=\"col_heading level0 col2\" >3</th>\n",
       "      <th class=\"col_heading level0 col3\" >All</th>\n",
       "    </tr>\n",
       "    <tr>\n",
       "      <th class=\"index_name level0\" >Sex</th>\n",
       "      <th class=\"index_name level1\" >Survived</th>\n",
       "      <th class=\"blank col0\" >&nbsp;</th>\n",
       "      <th class=\"blank col1\" >&nbsp;</th>\n",
       "      <th class=\"blank col2\" >&nbsp;</th>\n",
       "      <th class=\"blank col3\" >&nbsp;</th>\n",
       "    </tr>\n",
       "  </thead>\n",
       "  <tbody>\n",
       "    <tr>\n",
       "      <th id=\"T_9485e_level0_row0\" class=\"row_heading level0 row0\" rowspan=\"2\">female</th>\n",
       "      <th id=\"T_9485e_level1_row0\" class=\"row_heading level1 row0\" >0</th>\n",
       "      <td id=\"T_9485e_row0_col0\" class=\"data row0 col0\" >3</td>\n",
       "      <td id=\"T_9485e_row0_col1\" class=\"data row0 col1\" >6</td>\n",
       "      <td id=\"T_9485e_row0_col2\" class=\"data row0 col2\" >72</td>\n",
       "      <td id=\"T_9485e_row0_col3\" class=\"data row0 col3\" >81</td>\n",
       "    </tr>\n",
       "    <tr>\n",
       "      <th id=\"T_9485e_level1_row1\" class=\"row_heading level1 row1\" >1</th>\n",
       "      <td id=\"T_9485e_row1_col0\" class=\"data row1 col0\" >91</td>\n",
       "      <td id=\"T_9485e_row1_col1\" class=\"data row1 col1\" >70</td>\n",
       "      <td id=\"T_9485e_row1_col2\" class=\"data row1 col2\" >72</td>\n",
       "      <td id=\"T_9485e_row1_col3\" class=\"data row1 col3\" >233</td>\n",
       "    </tr>\n",
       "    <tr>\n",
       "      <th id=\"T_9485e_level0_row2\" class=\"row_heading level0 row2\" rowspan=\"2\">male</th>\n",
       "      <th id=\"T_9485e_level1_row2\" class=\"row_heading level1 row2\" >0</th>\n",
       "      <td id=\"T_9485e_row2_col0\" class=\"data row2 col0\" >77</td>\n",
       "      <td id=\"T_9485e_row2_col1\" class=\"data row2 col1\" >91</td>\n",
       "      <td id=\"T_9485e_row2_col2\" class=\"data row2 col2\" >300</td>\n",
       "      <td id=\"T_9485e_row2_col3\" class=\"data row2 col3\" >468</td>\n",
       "    </tr>\n",
       "    <tr>\n",
       "      <th id=\"T_9485e_level1_row3\" class=\"row_heading level1 row3\" >1</th>\n",
       "      <td id=\"T_9485e_row3_col0\" class=\"data row3 col0\" >45</td>\n",
       "      <td id=\"T_9485e_row3_col1\" class=\"data row3 col1\" >17</td>\n",
       "      <td id=\"T_9485e_row3_col2\" class=\"data row3 col2\" >47</td>\n",
       "      <td id=\"T_9485e_row3_col3\" class=\"data row3 col3\" >109</td>\n",
       "    </tr>\n",
       "    <tr>\n",
       "      <th id=\"T_9485e_level0_row4\" class=\"row_heading level0 row4\" >All</th>\n",
       "      <th id=\"T_9485e_level1_row4\" class=\"row_heading level1 row4\" ></th>\n",
       "      <td id=\"T_9485e_row4_col0\" class=\"data row4 col0\" >216</td>\n",
       "      <td id=\"T_9485e_row4_col1\" class=\"data row4 col1\" >184</td>\n",
       "      <td id=\"T_9485e_row4_col2\" class=\"data row4 col2\" >491</td>\n",
       "      <td id=\"T_9485e_row4_col3\" class=\"data row4 col3\" >891</td>\n",
       "    </tr>\n",
       "  </tbody>\n",
       "</table>\n"
      ],
      "text/plain": [
       "<pandas.io.formats.style.Styler at 0x7f0a5c5783d0>"
      ]
     },
     "execution_count": 10,
     "metadata": {},
     "output_type": "execute_result"
    }
   ],
   "source": [
    "pd.crosstab([data.Sex,data.Survived],data.Pclass,margins=True).style.background_gradient(cmap='summer_r')"
   ]
  },
  {
   "cell_type": "code",
   "execution_count": 11,
   "id": "f03596d2",
   "metadata": {
    "execution": {
     "iopub.execute_input": "2022-05-03T14:56:17.257281Z",
     "iopub.status.busy": "2022-05-03T14:56:17.256841Z",
     "iopub.status.idle": "2022-05-03T14:56:17.762131Z",
     "shell.execute_reply": "2022-05-03T14:56:17.761016Z"
    },
    "papermill": {
     "duration": 0.52504,
     "end_time": "2022-05-03T14:56:17.764389",
     "exception": false,
     "start_time": "2022-05-03T14:56:17.239349",
     "status": "completed"
    },
    "tags": []
   },
   "outputs": [
    {
     "data": {
      "image/png": "[encoded data removed]",
      "text/plain": [
       "<Figure size 430.5x360 with 1 Axes>"
      ]
     },
     "metadata": {
      "needs_background": "light"
     },
     "output_type": "display_data"
    }
   ],
   "source": [
    "sns.factorplot('Pclass','Survived', hue='Sex', data=data)\n",
    "plt.show()"
   ]
  },
  {
   "cell_type": "code",
   "execution_count": null,
   "id": "4c29bda0",
   "metadata": {
    "papermill": {
     "duration": 0.0163,
     "end_time": "2022-05-03T14:56:17.798592",
     "exception": false,
     "start_time": "2022-05-03T14:56:17.782292",
     "status": "completed"
    },
    "tags": []
   },
   "outputs": [],
   "source": []
  }
 ],
 "metadata": {
  "kernelspec": {
   "display_name": "Python 3",
   "language": "python",
   "name": "python3"
  },
  "language_info": {
   "codemirror_mode": {
    "name": "ipython",
    "version": 3
   },
   "file_extension": ".py",
   "mimetype": "text/x-python",
   "name": "python",
   "nbconvert_exporter": "python",
   "pygments_lexer": "ipython3",
   "version": "3.7.12"
  },
  "papermill": {
   "default_parameters": {},
   "duration": 13.683698,
   "end_time": "2022-05-03T14:56:18.536368",
   "environment_variables": {},
   "exception": null,
   "input_path": "__notebook__.ipynb",
   "output_path": "__notebook__.ipynb",
   "parameters": {},
   "start_time": "2022-05-03T14:56:04.852670",
   "version": "2.3.4"
  }
 },
 "nbformat": 4,
 "nbformat_minor": 5
}
